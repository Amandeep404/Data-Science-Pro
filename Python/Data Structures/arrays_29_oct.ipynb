{
 "cells": [
  {
   "cell_type": "markdown",
   "id": "7299968f-4c2f-45f8-b0cc-2230afdbd8d2",
   "metadata": {},
   "source": [
    "1. Given an array, check if it contains any duplicates or not.\n",
    "arr = [1, 2, 4, 2, 5, 9]\n",
    "Output = True"
   ]
  },
  {
   "cell_type": "code",
   "execution_count": 14,
   "id": "25184de1-ce70-4c5e-9b75-da49cd369101",
   "metadata": {},
   "outputs": [
    {
     "data": {
      "text/plain": [
       "True"
      ]
     },
     "execution_count": 14,
     "metadata": {},
     "output_type": "execute_result"
    }
   ],
   "source": [
    "def has_duplicates(arr):\n",
    "    return any(arr.count(i) >1 for i in arr)\n",
    "\n",
    "arr = [1, 2, 4, 5,2, 9]\n",
    "has_duplicates(arr)"
   ]
  },
  {
   "cell_type": "markdown",
   "id": "44c12c9f-cc2a-4334-9472-839981bf95e7",
   "metadata": {},
   "source": [
    "2. Given an array and an integer k, rotate the array to the right by k steps.\n",
    "arr = [1, 2, 3, 4, 5, 6, 7] k = 3\n",
    "Output = [5, 6, 7, 1, 2, 3, 4]"
   ]
  },
  {
   "cell_type": "code",
   "execution_count": 29,
   "id": "ebdccf72-5902-4cd5-adc0-c296ea452f28",
   "metadata": {},
   "outputs": [
    {
     "data": {
      "text/plain": [
       "[4, 5, 6, 7, 1, 2, 3]"
      ]
     },
     "execution_count": 29,
     "metadata": {},
     "output_type": "execute_result"
    }
   ],
   "source": [
    "def rotate_arr_right(arr, k):\n",
    "    k = k%len(arr) # to ensure that array rotates when k exceeds length of array\n",
    "    return arr[k+1:] + arr[:k+1]\n",
    "\n",
    "arr = [1, 2, 3, 4, 5, 6, 7] \n",
    "rotate_arr_right(arr, 9)"
   ]
  },
  {
   "cell_type": "markdown",
   "id": "a4efef55-e584-49e5-91e4-8a3ce6d6bcd8",
   "metadata": {},
   "source": [
    "3. Reverse the given array in-place, means without using any extra data structure.\n",
    "arr = [2, 4, 5, 7, 9, 12]\n",
    "Output = [12, 9, 7, 5, 4, 2]"
   ]
  },
  {
   "cell_type": "code",
   "execution_count": 30,
   "id": "e1aa8842-584f-4515-a75d-97e48a9b97df",
   "metadata": {},
   "outputs": [
    {
     "data": {
      "text/plain": [
       "[12, 9, 7, 5, 4, 2]"
      ]
     },
     "execution_count": 30,
     "metadata": {},
     "output_type": "execute_result"
    }
   ],
   "source": [
    "arr = [2, 4, 5, 7, 9, 12]\n",
    "arr[::-1]"
   ]
  },
  {
   "cell_type": "code",
   "execution_count": 36,
   "id": "2ffa273b-1c3e-4435-889c-f97afd29a907",
   "metadata": {},
   "outputs": [
    {
     "data": {
      "text/plain": [
       "[12, 9, 7, 5, 4, 2]"
      ]
     },
     "execution_count": 36,
     "metadata": {},
     "output_type": "execute_result"
    }
   ],
   "source": [
    "# without using slicing\n",
    "arr = [2, 4, 5, 7, 9, 12]\n",
    "def reverse_arr(arr):\n",
    "    s = 0\n",
    "    e = len(arr)-1\n",
    "    while s<e:\n",
    "        arr[s], arr[e] = arr[e], arr[s]\n",
    "        s+=1\n",
    "        e-=1\n",
    "    return arr\n",
    "reverse_arr(arr)"
   ]
  },
  {
   "cell_type": "markdown",
   "id": "5f1f4678-0c88-46f9-a1ba-5ec24f6c453a",
   "metadata": {},
   "source": [
    "4. Given an array of integers, find the maximum element in an array\n",
    "arr = [10, 5, 20, 8, 15]\n",
    "Output = 20"
   ]
  },
  {
   "cell_type": "code",
   "execution_count": 37,
   "id": "b83de758-eed6-4a96-838f-b63d9f49910e",
   "metadata": {},
   "outputs": [
    {
     "data": {
      "text/plain": [
       "20"
      ]
     },
     "execution_count": 37,
     "metadata": {},
     "output_type": "execute_result"
    }
   ],
   "source": [
    "arr = [10, 5, 20, 8, 15] \n",
    "max(i for i in arr)"
   ]
  },
  {
   "cell_type": "code",
   "execution_count": 38,
   "id": "4606e40e-9200-453e-984f-53b724553f1d",
   "metadata": {},
   "outputs": [],
   "source": [
    "# 5. Given a sorted array, remove the duplicate element without using any extra data structure.\n",
    "arr = [1, 1, 2, 2, 2, 3, 3, 4, 4, 4, 5, 5]\n",
    "Output = [1, 2, 3, 4, 5]"
   ]
  },
  {
   "cell_type": "markdown",
   "id": "a83659cc-31aa-4015-ad4d-73b070920285",
   "metadata": {},
   "source": [
    "5. Given a sorted array, remove the duplicate element without using any extra data structure.\n",
    "arr = [1, 1, 2, 2, 2, 3, 3, 4, 4, 4, 5, 5]\n",
    "Output = [1, 2, 3, 4, 5]"
   ]
  },
  {
   "cell_type": "code",
   "execution_count": 50,
   "id": "9785087a-795f-45d3-9da8-7b4c15876f80",
   "metadata": {},
   "outputs": [
    {
     "data": {
      "text/plain": [
       "[1, 2, 3, 4, 5]"
      ]
     },
     "execution_count": 50,
     "metadata": {},
     "output_type": "execute_result"
    }
   ],
   "source": [
    "arr = [1, 1, 2, 2, 2, 3, 3, 4, 4, 4, 5, 5]\n",
    "\n",
    "def remove_duplicates(arr):\n",
    "    l = []\n",
    "    for i in arr[:]:\n",
    "        if i not in l:\n",
    "            l.append(i)\n",
    "    return l\n",
    "\n",
    "remove_duplicates(arr)"
   ]
  },
  {
   "cell_type": "code",
   "execution_count": null,
   "id": "f10f9c5a-4233-4694-9d85-99f263b4341c",
   "metadata": {},
   "outputs": [],
   "source": []
  },
  {
   "cell_type": "code",
   "execution_count": null,
   "id": "94d71185-a629-4afb-9518-1eddac35eb02",
   "metadata": {},
   "outputs": [],
   "source": []
  }
 ],
 "metadata": {
  "kernelspec": {
   "display_name": "Python 3 (ipykernel)",
   "language": "python",
   "name": "python3"
  },
  "language_info": {
   "codemirror_mode": {
    "name": "ipython",
    "version": 3
   },
   "file_extension": ".py",
   "mimetype": "text/x-python",
   "name": "python",
   "nbconvert_exporter": "python",
   "pygments_lexer": "ipython3",
   "version": "3.10.8"
  }
 },
 "nbformat": 4,
 "nbformat_minor": 5
}
