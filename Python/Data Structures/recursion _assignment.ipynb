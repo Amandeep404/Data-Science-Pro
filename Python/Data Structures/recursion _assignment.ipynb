{
 "cells": [
  {
   "cell_type": "markdown",
   "id": "c0553013-27b1-4aa4-9507-596d6098ef15",
   "metadata": {},
   "source": [
    "Q.1 Can you explain the logic and working of the Tower of Hanoi algorithm by writing a Java program?\n",
    "How does the recursion work, and how are the movements of disks between rods accomplished?"
   ]
  },
  {
   "cell_type": "code",
   "execution_count": 7,
   "id": "081b09a6-1631-4f97-9dfd-d3293114cd2b",
   "metadata": {},
   "outputs": [
    {
     "name": "stdout",
     "output_type": "stream",
     "text": [
      "Move disk 1 from rod A to rod C\n",
      "Move disk 2 from rod A to rod B\n",
      "Move disk 1 from rod C to rod B\n",
      "Move disk 2 from rod A to rod B\n",
      "Move disk 3 from rod A to rod C\n",
      "Move disk 1 from rod B to rod A\n",
      "Move disk 2 from rod B to rod C\n",
      "Move disk 1 from rod A to rod C\n",
      "Move disk 2 from rod B to rod C\n",
      "Move disk 3 from rod A to rod C\n"
     ]
    }
   ],
   "source": [
    "def TOH(numbers , start, aux, end):\n",
    "    if numbers==1:\n",
    "        print(f'Move disk 1 from rod {start} to rod {end}')\n",
    "        return\n",
    "    \n",
    "    TOH(numbers-1, start, end, aux)\n",
    "    print(f'Move disk {numbers} from rod {start} to rod {end}')\n",
    "    TOH(numbers-1 , aux, start, end)\n",
    "    print(f'Move disk {numbers} from rod {start} to rod {end}')\n",
    "    \n",
    "TOH(3, 'A','B','C')"
   ]
  },
  {
   "cell_type": "markdown",
   "id": "f6c53c95-0ec9-4fc6-8eed-0c5a37e836ff",
   "metadata": {},
   "source": [
    "Q.2 Given two strings word1 and word2, return the minimum number of operations required to convert word1\n",
    "to word2.\n",
    "\n",
    "```\n",
    "Example 1:\n",
    "Input: word1 = \"horse\", word2 = \"ros\"\n",
    "Output: 3\n",
    "Explanation:\n",
    "horse -> rorse (replace 'h' with 'r')\n",
    "rorse -> rose (remove 'r')\n",
    "rose -> ros (remove 'e')\n",
    "```"
   ]
  },
  {
   "cell_type": "code",
   "execution_count": 9,
   "id": "51c61192-89d5-4210-ba64-33b682078e7e",
   "metadata": {},
   "outputs": [
    {
     "name": "stdout",
     "output_type": "stream",
     "text": [
      "The minimum number of operations to convert 'intention' to 'execution' is: 5\n"
     ]
    }
   ],
   "source": [
    "def min_operations(word1, word2):\n",
    "    if not word1:\n",
    "        return len(word2)  # If word1 is empty, all characters in word2 need to be inserted\n",
    "\n",
    "    if not word2:\n",
    "        return len(word1)  # If word2 is empty, all characters in word1 need to be deleted\n",
    "\n",
    "    if word1[0] == word2[0]:\n",
    "        return min_operations(word1[1:], word2[1:])  # No operation needed, move to the next characters\n",
    "\n",
    "    # Perform one of the three operations (insert, delete, or replace) and recursively compute the minimum\n",
    "    insert_op = 1 + min_operations(word1, word2[1:])\n",
    "    delete_op = 1 + min_operations(word1[1:], word2)\n",
    "    replace_op = 1 + min_operations(word1[1:], word2[1:])\n",
    "\n",
    "    return min(insert_op, delete_op, replace_op)\n",
    "\n",
    "# Example usage\n",
    "word1 = \"intention\"\n",
    "word2 = \"execution\"\n",
    "result = min_operations(word1, word2)\n",
    "print(f\"The minimum number of operations to convert '{word1}' to '{word2}' is: {result}\")\n"
   ]
  },
  {
   "cell_type": "markdown",
   "id": "9e192dbd-3fe5-4b91-86f5-234233adea17",
   "metadata": {},
   "source": [
    "Q. 3 Print the max value of the array [ 13, 1, -3, 22, 5]."
   ]
  },
  {
   "cell_type": "code",
   "execution_count": 13,
   "id": "c8d4c72d-215e-4319-ab2e-82c51781847d",
   "metadata": {},
   "outputs": [
    {
     "data": {
      "text/plain": [
       "22"
      ]
     },
     "execution_count": 13,
     "metadata": {},
     "output_type": "execute_result"
    }
   ],
   "source": [
    "def print_max(arr,index=0):\n",
    "    if index==len(arr)-1:\n",
    "        return arr[index]\n",
    "    \n",
    "    max_res = print_max(arr, index+1)\n",
    "    if arr[index] > max_res:\n",
    "        return arr[index]\n",
    "    else:\n",
    "        return max_res\n",
    "    \n",
    "arr = [ 13, 1, -3, 22, 5]\n",
    "print_max(arr)\n",
    "    "
   ]
  },
  {
   "cell_type": "markdown",
   "id": "1dc3e39f-6d93-4113-8464-66bacaab4396",
   "metadata": {},
   "source": [
    "Q.4 Find the sum of the values of the array [92, 23, 15, -20, 10]."
   ]
  },
  {
   "cell_type": "code",
   "execution_count": 21,
   "id": "8e4f356a-b1ce-4d34-aac4-d830254f3650",
   "metadata": {},
   "outputs": [
    {
     "data": {
      "text/plain": [
       "120"
      ]
     },
     "execution_count": 21,
     "metadata": {},
     "output_type": "execute_result"
    }
   ],
   "source": [
    "def sum_of_arr(arr):\n",
    "    if not arr:\n",
    "        return 0\n",
    "    sum = arr[0] + sum_of_arr(arr[1:])\n",
    "    return sum\n",
    "\n",
    "arr = [92, 23, 15, -20, 10]\n",
    "sum_of_arr(arr)"
   ]
  },
  {
   "cell_type": "markdown",
   "id": "cf7a3a8c-1328-470c-9f71-c7c26cc34956",
   "metadata": {},
   "source": [
    "Q.5 Given a number n. Print if it is an armstrong number or not.An armstrong number is a number if the sum\n",
    "of every digit in that number raised to the power of total digits in that number is equal to the number.\n",
    "```\n",
    "Example : 153 = 1^3 + 5^3 + 3^3 = 1 + 125 + 27 = 153 hence 153 is an armstrong number. (Easy)\n",
    "Input1 : 153\n",
    "Output1 : Yes\n",
    "```"
   ]
  },
  {
   "cell_type": "code",
   "execution_count": 38,
   "id": "99be2418-1619-4fd8-a2be-94e74b2c221e",
   "metadata": {},
   "outputs": [
    {
     "name": "stdout",
     "output_type": "stream",
     "text": [
      "153 is an Armstrong number.\n"
     ]
    }
   ],
   "source": [
    "def count_digits(n):\n",
    "    if n == 0:\n",
    "        return 0\n",
    "    return 1 + count_digits(n // 10)\n",
    "\n",
    "def is_armstrong_recursive(n, total_digits):\n",
    "    if n == 0:\n",
    "        return 0\n",
    "    return (n % 10) ** total_digits + is_armstrong_recursive(n // 10, total_digits)\n",
    "\n",
    "def is_armstrong_number(n):\n",
    "    total_digits = count_digits(n)\n",
    "    return n == is_armstrong_recursive(n, total_digits)\n",
    "\n",
    "\n",
    "number = 153\n",
    "result = is_armstrong_number(number)\n",
    "\n",
    "if result:\n",
    "    print(f\"{number} is an Armstrong number.\")\n",
    "else:\n",
    "    print(f\"{number} is not an Armstrong number.\")\n"
   ]
  },
  {
   "cell_type": "code",
   "execution_count": 35,
   "id": "074b6c1c-f505-4f11-9ebc-1d975bb29711",
   "metadata": {},
   "outputs": [
    {
     "name": "stdout",
     "output_type": "stream",
     "text": [
      "False\n"
     ]
    }
   ],
   "source": []
  },
  {
   "cell_type": "code",
   "execution_count": null,
   "id": "eea6dbf2-c84a-4e06-8d3c-031e76ba74e2",
   "metadata": {},
   "outputs": [],
   "source": []
  }
 ],
 "metadata": {
  "kernelspec": {
   "display_name": "Python 3 (ipykernel)",
   "language": "python",
   "name": "python3"
  },
  "language_info": {
   "codemirror_mode": {
    "name": "ipython",
    "version": 3
   },
   "file_extension": ".py",
   "mimetype": "text/x-python",
   "name": "python",
   "nbconvert_exporter": "python",
   "pygments_lexer": "ipython3",
   "version": "3.10.8"
  }
 },
 "nbformat": 4,
 "nbformat_minor": 5
}
