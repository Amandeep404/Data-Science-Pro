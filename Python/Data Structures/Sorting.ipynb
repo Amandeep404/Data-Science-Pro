{
 "cells": [
  {
   "cell_type": "markdown",
   "id": "e53e2164-cab8-4794-b3ae-49061e7a54d8",
   "metadata": {},
   "source": [
    "Problem 1.Given an array of n numbers, give an algorithm which gives the element appearing maximum number of times?"
   ]
  },
  {
   "cell_type": "code",
   "execution_count": 11,
   "id": "cf512e0e-97c7-4758-b1cb-385c3b4e7f5a",
   "metadata": {},
   "outputs": [
    {
     "name": "stdout",
     "output_type": "stream",
     "text": [
      "The element 4 has been repeated 6 times\n"
     ]
    }
   ],
   "source": [
    "arr = [11,3,4,3,4,3,4,2,42,4,2,2,3,4,4,2,221,1,1]\n",
    "\n",
    "d = {}\n",
    "for i in arr:\n",
    "    d[i] = d.get(i, 0)+1\n",
    "    \n",
    "max_key = max(d, key=d.get)\n",
    "print(f'The element {max_key} has been repeated {d[max_key]} times')"
   ]
  },
  {
   "cell_type": "markdown",
   "id": "1acf980d-3d27-461f-a2fd-0b8b60e44afe",
   "metadata": {},
   "source": [
    "Problem 2 : We are given a list of n-1 integers and these integers are in the range of 1 to n . There are no\n",
    "duplicates in the list. One of the integers is missing in the list. Give an algorithm to find that element Ex:\n",
    "[1,2,4,6,3,7,8] 5 is the missing num."
   ]
  },
  {
   "cell_type": "code",
   "execution_count": 15,
   "id": "4b35c590-ef34-478d-b161-230576035a79",
   "metadata": {},
   "outputs": [
    {
     "data": {
      "text/plain": [
       "5"
      ]
     },
     "execution_count": 15,
     "metadata": {},
     "output_type": "execute_result"
    }
   ],
   "source": [
    "arr = [1,2,4,6,3,7,8] \n",
    "\n",
    "def find_missing_num(arr):\n",
    "    n = len(arr)+1\n",
    "    expected_sum = n*(n+1)//2\n",
    "    original_sum = sum(arr)\n",
    "    missing_number = expected_sum - original_sum\n",
    "    \n",
    "    return missing_number\n",
    "\n",
    "find_missing_num(arr)\n",
    "    "
   ]
  },
  {
   "cell_type": "markdown",
   "id": "4fcb37da-e78d-429a-bf7e-7600ee7ee6de",
   "metadata": {},
   "source": [
    "Problem 3 : Given an array of n positive numbers. All numbers occurs even number of times except 1 which\n",
    "occurs odd number of times. Find that number in O(n) time and O(1) space. Ex: [1,2,3,2,3,1,3]. 3 is repeats odd\n",
    "times."
   ]
  },
  {
   "cell_type": "code",
   "execution_count": 5,
   "id": "dbe89b5f-4273-403d-8866-837f01ab1b6d",
   "metadata": {},
   "outputs": [
    {
     "data": {
      "text/plain": [
       "2"
      ]
     },
     "execution_count": 5,
     "metadata": {},
     "output_type": "execute_result"
    }
   ],
   "source": [
    "arr = [1,2,3,2,1,3,2]\n",
    "\n",
    "ans = 0\n",
    "for i in arr:\n",
    "    ans^=i\n",
    "    \n",
    "ans"
   ]
  },
  {
   "cell_type": "markdown",
   "id": "28c3987f-2d4d-41ff-9853-243eb5d39a1f",
   "metadata": {},
   "source": [
    "Problem 4 : Given an array of n elements. Find two elements in the array such that their sum is equal to given\n",
    "element K."
   ]
  },
  {
   "cell_type": "code",
   "execution_count": 14,
   "id": "86c5a7a6-4c40-43fe-a786-77ad0ef46b38",
   "metadata": {},
   "outputs": [
    {
     "name": "stdout",
     "output_type": "stream",
     "text": [
      "7 5\n",
      "9 3\n",
      "8 4\n"
     ]
    }
   ],
   "source": [
    "arr = [2,4,5,2,3,4,7,9,8]\n",
    "target = 12\n",
    "\n",
    "d = {}\n",
    "def print_sum(arr, target):\n",
    "    for i in arr:\n",
    "        if i in d:\n",
    "            print(i, d[i])\n",
    "        d[target-i] = i\n",
    "print_sum(arr, target )"
   ]
  },
  {
   "cell_type": "markdown",
   "id": "23734967-3407-4704-aa54-4cf68be11bf3",
   "metadata": {},
   "source": [
    "Problem 5 : Given an array of both positive and negative numbers, find two numbers such that their sum is\n",
    "closest to 0. Ex: [ 1 ,60 ,-10, 70, -80,85]. Ans : -80,85."
   ]
  },
  {
   "cell_type": "code",
   "execution_count": 19,
   "id": "8d164e68-29da-438a-9e41-b7290ddd15c4",
   "metadata": {},
   "outputs": [
    {
     "name": "stdout",
     "output_type": "stream",
     "text": [
      "The two numbers whose sum are closest to 0 are: (85, -80)\n"
     ]
    }
   ],
   "source": [
    "def sort(arr):\n",
    "    for i in range(len(arr)-1, -1,-1):\n",
    "        is_sorted = True\n",
    "        for j in range(i):\n",
    "            is_sorted=False\n",
    "            if arr[j]>arr[j+1]:\n",
    "                arr[j+1] , arr[j] = arr[j], arr[j+1]  \n",
    "        if is_sorted:\n",
    "            break\n",
    "            \n",
    "    return arr\n",
    "\n",
    "arr= [ 1 ,60 ,-10, 70, -80,85]\n",
    "sorted_arr = sort(arr)\n",
    "\n",
    "ans = sorted_arr[len(sorted_arr)-1], sorted_arr[0]\n",
    "\n",
    "print(f'The two numbers whose sum are closest to 0 are: {ans}' )"
   ]
  },
  {
   "cell_type": "markdown",
   "id": "9e79c4ee-383b-439e-baa0-db6455d79771",
   "metadata": {},
   "source": [
    "Problem 6 : Given an array of n elements . Find three elements such that their sum is equal to the given\n",
    "number."
   ]
  },
  {
   "cell_type": "code",
   "execution_count": 21,
   "id": "6600e903-56e6-4689-8980-04b22ee9ae3b",
   "metadata": {},
   "outputs": [
    {
     "name": "stdout",
     "output_type": "stream",
     "text": [
      "(1, 3, 2)\n",
      "(2, 3, 1)\n",
      "(1, 4, 1)\n",
      "(4, 1, 1)\n",
      "(2, 3, 1)\n"
     ]
    }
   ],
   "source": [
    "arr = [2,3,42,1,4,1,3,42,45,3,35,2]\n",
    "target = 6\n",
    "\n",
    "for i in range(len(arr)-1,-1,-1):\n",
    "    for j in range(i):\n",
    "        current_sum = arr[j] + arr[j+1] + arr[i]\n",
    "        if current_sum==target:\n",
    "            print((arr[j], arr[j+1], arr[i]))\n",
    "            \n",
    "    \n",
    "        "
   ]
  },
  {
   "cell_type": "markdown",
   "id": "b69e9ce5-e341-40fa-ae8d-8ab14d9c43cb",
   "metadata": {},
   "source": [
    "Problem 7 : Given an array of n elements . Find three elements i, j, k in the array such that\n",
    "i * i + j * j = k*k."
   ]
  },
  {
   "cell_type": "code",
   "execution_count": 9,
   "id": "2691159a-3a8f-4385-ad4d-4bb2920037ed",
   "metadata": {},
   "outputs": [
    {
     "name": "stdout",
     "output_type": "stream",
     "text": [
      "(3, 4, 5)\n",
      "(3, 4, 5)\n",
      "(4, 3, 5)\n",
      "(4, 3, 5)\n"
     ]
    }
   ],
   "source": [
    "arr = [3,2,4,1,4,2,7,3,7,9,2,5,1,32]\n",
    "\n",
    "square_set = set(x**2 for x in arr)\n",
    "            \n",
    "for i in range(len(arr)):\n",
    "    for j in range(i+1,len(arr)):\n",
    "        target = arr[i]*arr[i] + arr[j]*arr[j]\n",
    "        \n",
    "        if target in square_set:\n",
    "            print((arr[i], arr[j], int(target**0.5)))\n"
   ]
  },
  {
   "cell_type": "markdown",
   "id": "99db55ae-393c-4c17-b729-2908c4f66368",
   "metadata": {},
   "source": [
    "Problem 8 : An element is a majority if it appears more than n/2 times. Give an algorithm takes an array of n\n",
    "element as argument and identifies a majority (if it exists)."
   ]
  },
  {
   "cell_type": "code",
   "execution_count": 26,
   "id": "056b1c42-7680-4f80-9855-ebfe9a153b6d",
   "metadata": {},
   "outputs": [
    {
     "data": {
      "text/plain": [
       "2"
      ]
     },
     "execution_count": 26,
     "metadata": {},
     "output_type": "execute_result"
    }
   ],
   "source": [
    "def majority_element(arr):\n",
    "    result, count = 0,0\n",
    "    \n",
    "    for num in arr:\n",
    "        if count == 0:\n",
    "            result = num\n",
    "            \n",
    "        count += 1 if result==num else -1\n",
    "    return result\n",
    "\n",
    "arr = [3,2,3,2,3,4,2,3,42,2,23,13,2,3,22,3,3,2,2,22]\n",
    "majority_element(arr)\n"
   ]
  },
  {
   "cell_type": "markdown",
   "id": "ec91e4b4-c180-4fc6-ad94-ad752dabb02e",
   "metadata": {},
   "source": [
    "Problem 9 : Given n × n matrix, and in each row all 1’s are followed by 0’s. Find the row with the maximum\n",
    "number of 0’s."
   ]
  },
  {
   "cell_type": "code",
   "execution_count": 45,
   "id": "e035cf87-1720-4040-b66f-44312346f339",
   "metadata": {},
   "outputs": [
    {
     "name": "stdout",
     "output_type": "stream",
     "text": [
      "Row with maximum number of 0's: 1\n"
     ]
    }
   ],
   "source": [
    "def find_max_zeros_row(matrix):\n",
    "    n = len(matrix)\n",
    "    max_zeros_row = -1\n",
    "    max_zeros_count = -1\n",
    "\n",
    "    for i in range(n):\n",
    "        left, right = 0, n - 1\n",
    "        zeros_count = -1\n",
    "\n",
    "        while left <= right:\n",
    "            mid = (left + right) // 2\n",
    "\n",
    "            if matrix[i][mid] == 0:\n",
    "                zeros_count = mid\n",
    "                right = mid - 1\n",
    "            else:\n",
    "                left = mid + 1\n",
    "\n",
    "        if zeros_count != -1 and (n - 1 - zeros_count) > max_zeros_count:\n",
    "            max_zeros_count = n - 1 - zeros_count\n",
    "            max_zeros_row = i\n",
    "\n",
    "    return max_zeros_row\n",
    "\n",
    "# Example usage:\n",
    "matrix = [\n",
    "    [1, 1, 1, 0, 0],\n",
    "    [1, 1, 0, 0, 0],\n",
    "    [1, 1, 1, 1, 0],\n",
    "    [1, 1, 0, 0, 0],\n",
    "    [1, 1, 1, 1, 1]\n",
    "]\n",
    "\n",
    "result = find_max_zeros_row(matrix)\n",
    "print(\"Row with maximum number of 0's:\", result)\n"
   ]
  },
  {
   "cell_type": "markdown",
   "id": "25099c9d-c6ce-4b10-aa52-f02330230d7c",
   "metadata": {},
   "source": [
    "Problem 10 : Sort an array of 0’s, 1’s and 2’s [or R’s, G’s and B’s]: Given an array A[] consisting of 0’s, 1’s and\n",
    "2’s, give an algorithm for sorting A[].The algorithm should put all 0’s first, then all 1’s and finally all 2’s at the\n",
    "end. Example Input = {0,1,1,0,1,2,1,2,0,0,0,1}, Output = {0,0,0,0,0,1,1,1,1,1,2,2}\n"
   ]
  },
  {
   "cell_type": "code",
   "execution_count": 46,
   "id": "8fd94f3b-d014-4ed1-b20e-eb5d6433a6a2",
   "metadata": {},
   "outputs": [
    {
     "data": {
      "text/plain": [
       "[0, 0, 0, 0, 0, 1, 1, 1, 1, 1, 2, 2]"
      ]
     },
     "execution_count": 46,
     "metadata": {},
     "output_type": "execute_result"
    }
   ],
   "source": [
    "arr = [0,1,1,0,1,2,1,2,0,0,0,1]\n",
    "\n",
    "def sort(arr):\n",
    "    for i in range(len(arr)-1,-1,-1):\n",
    "        for j in range(i):\n",
    "            if arr[j]>arr[j+1]:\n",
    "                arr[j], arr[j+1] = arr[j+1], arr[j]\n",
    "                \n",
    "    return arr\n",
    "\n",
    "sort(arr)"
   ]
  },
  {
   "cell_type": "code",
   "execution_count": null,
   "id": "6323b021-5b99-4eef-b9ba-c698e510b571",
   "metadata": {},
   "outputs": [],
   "source": []
  }
 ],
 "metadata": {
  "kernelspec": {
   "display_name": "Python 3 (ipykernel)",
   "language": "python",
   "name": "python3"
  },
  "language_info": {
   "codemirror_mode": {
    "name": "ipython",
    "version": 3
   },
   "file_extension": ".py",
   "mimetype": "text/x-python",
   "name": "python",
   "nbconvert_exporter": "python",
   "pygments_lexer": "ipython3",
   "version": "3.10.8"
  }
 },
 "nbformat": 4,
 "nbformat_minor": 5
}
