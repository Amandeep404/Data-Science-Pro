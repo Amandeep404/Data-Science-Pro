{
 "cells": [
  {
   "cell_type": "markdown",
   "id": "cc9ab6ab-cac5-4f7e-8219-e4ac7e69c0d5",
   "metadata": {},
   "source": [
    "# Solve the following problems on recursion"
   ]
  },
  {
   "cell_type": "markdown",
   "id": "444a7f5a-8d45-4194-95e1-e33167c5ff9c",
   "metadata": {},
   "source": [
    "Problem 1 :\n",
    "```\n",
    "def quicksort(arr):\n",
    "    if len(arr) <= 1:\n",
    "        return arr\n",
    "    pivot = arr[len(arr) // 2]\n",
    "    left = [x for x in arr if x < pivot]\n",
    "    middle = [x for x in arr if x == pivot]\n",
    "    right = [x for x in arr if x > pivot]\n",
    "    return quicksort(left) + middle + quicksort(right)\n",
    "```\n",
    "\n",
    "\n",
    "#### Answer: Time complexity - O(n^2)"
   ]
  },
  {
   "cell_type": "markdown",
   "id": "075795e4-48e1-4754-9724-aa6c97c835dc",
   "metadata": {},
   "source": [
    "Problem 2 :\n",
    "```\n",
    "def nested_loop_example(matrix):\n",
    "    rows, cols = len(matrix), len(matrix[0])\n",
    "    total = 0\n",
    "    for i in range(rows):\n",
    "        for j in range(cols):\n",
    "            total += matrix[i][j]\n",
    "    return total\n",
    "```\n",
    "\n",
    "### Answer: Time complexity - O(n^2)"
   ]
  },
  {
   "cell_type": "markdown",
   "id": "98e7fa27-589c-4688-bb3e-ebc71d026ac9",
   "metadata": {},
   "source": [
    "Problem 3 :\n",
    "```\n",
    "def example_function(arr):\n",
    "    result = 0\n",
    "    for element in arr:\n",
    "    result += element\n",
    "    return result\n",
    "```\n",
    "\n",
    "#### Answer: Time complexity - O(n)\n",
    "\n"
   ]
  },
  {
   "cell_type": "markdown",
   "id": "c5afd560-4936-45a2-8cf8-f502eebcb019",
   "metadata": {},
   "source": [
    "\n",
    "Problem 4 :\n",
    "```\n",
    "def longest_increasing_subsequence(nums):\n",
    "    n = len(nums)\n",
    "    lis = [1] * n\n",
    "    for i in range(1, n):\n",
    "        for j in range(0, i):\n",
    "            if nums[i] > nums[j] and lis[i] < lis[j] + 1:\n",
    "                lis[i] = lis[j] + 1\n",
    "    return max(lis)\n",
    "```\n",
    "    \n",
    "#### Answer: Time complexity - O(n^2)\n",
    "\n"
   ]
  },
  {
   "cell_type": "markdown",
   "id": "a5fe82e0-d611-41ed-a4d5-0dea00514d1c",
   "metadata": {},
   "source": [
    "\n",
    "Problem 5 :\n",
    "```\n",
    "def mysterious_function(arr):\n",
    "    n = len(arr)\n",
    "    result = 0\n",
    "    for i in range(n):\n",
    "        for j in range(i, n):\n",
    "            result += arr[i] * arr[j]\n",
    "    return result\n",
    "```\n",
    "\n",
    "#### Answer: Time complexity - O(n^2)"
   ]
  },
  {
   "cell_type": "markdown",
   "id": "34b702c2-d1ca-464d-9e67-8c981cd0319c",
   "metadata": {},
   "source": [
    "### Problem 6 : Sum of Digits\n",
    "Write a recursive function to calculate the sum of digits of a given positive integer.\n",
    "sum_of_digits(123) -> 6\n",
    "\n"
   ]
  },
  {
   "cell_type": "code",
   "execution_count": 1,
   "id": "2f4bcb60-18b0-4fe0-8a8e-b55dc1b7ccef",
   "metadata": {},
   "outputs": [
    {
     "data": {
      "text/plain": [
       "6"
      ]
     },
     "execution_count": 1,
     "metadata": {},
     "output_type": "execute_result"
    }
   ],
   "source": [
    "def sum_of_digits(n):\n",
    "    if n==0:\n",
    "        return n\n",
    "    \n",
    "    return n%10 + sum_of_digits(n//10)\n",
    "sum_of_digits(123)"
   ]
  },
  {
   "cell_type": "markdown",
   "id": "39709ae6-ac37-497b-84a0-4c081e2b8097",
   "metadata": {},
   "source": [
    "### Problem 7: Fibonacci Series\n",
    "Write a recursive function to generate the first n numbers of the Fibonacci series.\n",
    "fibonacci_series(6) -> [0, 1, 1, 2, 3, 5]"
   ]
  },
  {
   "cell_type": "code",
   "execution_count": 2,
   "id": "6c1e09e3-8040-4a7b-af90-7ddda8164606",
   "metadata": {},
   "outputs": [
    {
     "data": {
      "text/plain": [
       "[0, 1, 1, 2, 3, 5]"
      ]
     },
     "execution_count": 2,
     "metadata": {},
     "output_type": "execute_result"
    }
   ],
   "source": [
    "l  =[]\n",
    "def fibonacci_series(n,a ,b):\n",
    "    if n==0:\n",
    "        return \n",
    "    l.append(a)\n",
    "    fibonacci_series(n-1, b, a + b)\n",
    "    return l\n",
    "\n",
    "fibonacci_series(6, 0, 1)\n"
   ]
  },
  {
   "cell_type": "markdown",
   "id": "0573eb60-a693-4daf-902d-4c4bfe2ec7ad",
   "metadata": {},
   "source": [
    "### Problem 8 : Subset Sum\n",
    "Given a set of positive integers and a target sum, write a recursive function to determine if there exists a subset\n",
    "of the integers that adds up to the target sum.\n",
    "subset_sum([3, 34, 4, 12, 5, 2], 9) -> True"
   ]
  },
  {
   "cell_type": "code",
   "execution_count": 3,
   "id": "87bbd2cf-6344-4bea-a815-7566d41647bf",
   "metadata": {},
   "outputs": [
    {
     "data": {
      "text/plain": [
       "True"
      ]
     },
     "execution_count": 3,
     "metadata": {},
     "output_type": "execute_result"
    }
   ],
   "source": [
    "def subset_sum(arr, target):\n",
    "    if target==0:\n",
    "        return True\n",
    "    \n",
    "    if target in arr:\n",
    "        return True\n",
    "    \n",
    "    for i in range(len(arr)):\n",
    "        if arr[i] < target and subset_sum(arr[i:] , target - arr[i]):\n",
    "            return True\n",
    "    return False\n",
    "\n",
    "subset_sum([3, 34, 4, 12, 5, 2], 9)\n",
    "    "
   ]
  },
  {
   "cell_type": "markdown",
   "id": "a0c5abcd-8498-47f0-85a9-9eeac6860e20",
   "metadata": {},
   "source": [
    "# Problem 9: Word Break\n",
    "Given a non-empty string and a dictionary of words, write a recursive function to determine if the string can be\n",
    "segmented into a space-separated sequence of dictionary words.\n",
    "word_break( leetcode , [ leet , code ]) -> True"
   ]
  },
  {
   "cell_type": "code",
   "execution_count": 7,
   "id": "ce7ec5db-8c4e-4223-9b2a-fee6c475de11",
   "metadata": {},
   "outputs": [
    {
     "data": {
      "text/plain": [
       "1024"
      ]
     },
     "execution_count": 7,
     "metadata": {},
     "output_type": "execute_result"
    }
   ],
   "source": [
    "def myPow(x: float, n: int) -> float:\n",
    "        if n<0:\n",
    "            x = 1/x\n",
    "            n = -n\n",
    "              \n",
    "        if n==0:\n",
    "            return 1\n",
    "        if n==1:\n",
    "            return x\n",
    "        mid = n//2\n",
    "        result = myPow(x, mid)\n",
    "        final_result = result*result\n",
    "\n",
    "        return final_result*myPow(x,n%2)\n",
    "    \n",
    "myPow(-2, 10)"
   ]
  },
  {
   "cell_type": "markdown",
   "id": "2f416339-1392-409c-a5d2-42915764fcaa",
   "metadata": {},
   "source": [
    "## Problem 10 : N-Queens\n",
    "Implement a recursive function to solve the N Queens problem, where you have to place N queens on an N×N\n",
    "chessboard in such a way that no two queens threaten each other.\n",
    "n_queens(4)"
   ]
  },
  {
   "cell_type": "code",
   "execution_count": 15,
   "id": "612e408b-51ef-4145-a540-91969b620e7a",
   "metadata": {},
   "outputs": [
    {
     "name": "stdout",
     "output_type": "stream",
     "text": [
      "..Q .\n",
      "Q ...\n",
      "...Q \n",
      ".Q ..\n",
      "\n",
      ".Q ..\n",
      "...Q \n",
      "Q ...\n",
      "..Q .\n",
      "\n"
     ]
    }
   ],
   "source": [
    "def is_safe_to_place_queen(board, row, cols, n):\n",
    "    for i in range(cols):\n",
    "        if board[row][i] == 1:\n",
    "            return False\n",
    "        \n",
    "    for i,j in zip(range(row,-1,-1), range(cols,-1,-1)):\n",
    "        if board[i][j]==1:\n",
    "            return False\n",
    "        \n",
    "    for i,j in zip(range(row,n), range(cols,-1,-1)):\n",
    "        if board[i][j]==1:\n",
    "            return False\n",
    "        \n",
    "    return  True\n",
    "\n",
    "def NQ(board,n):\n",
    "    solutions = []\n",
    "    \n",
    "    def solveNQ(board, n, col=0):\n",
    "        \n",
    "        if col>=n:\n",
    "                solutions.append([row[:] for row in board])\n",
    "                return\n",
    "        \n",
    "        for row in range(n):\n",
    "            if is_safe_to_place_queen(board, row, col, n):\n",
    "                board[row][col] = 1\n",
    "                \n",
    "                solveNQ(board, n, col+1)\n",
    "                \n",
    "                board[row][col] = 0\n",
    "                \n",
    "    solveNQ(board, n)\n",
    "    \n",
    "    for solution in solutions:\n",
    "        print_board(solution,n)\n",
    "        print()\n",
    "        \n",
    "def print_board(board, n):\n",
    "    for i in range(n):\n",
    "        for j in range(n):\n",
    "            if board[i][j]==1:\n",
    "                print('Q',end=' ')\n",
    "            else:\n",
    "                print('.', end='')\n",
    "        print()\n",
    "\n",
    "n = 4\n",
    "board = [[0] * n for _ in range(n)]\n",
    "NQ(board, n)"
   ]
  },
  {
   "cell_type": "code",
   "execution_count": null,
   "id": "3c87b742-afbf-4d13-9b2f-366836d6e116",
   "metadata": {},
   "outputs": [],
   "source": []
  }
 ],
 "metadata": {
  "kernelspec": {
   "display_name": "Python 3 (ipykernel)",
   "language": "python",
   "name": "python3"
  },
  "language_info": {
   "codemirror_mode": {
    "name": "ipython",
    "version": 3
   },
   "file_extension": ".py",
   "mimetype": "text/x-python",
   "name": "python",
   "nbconvert_exporter": "python",
   "pygments_lexer": "ipython3",
   "version": "3.10.8"
  }
 },
 "nbformat": 4,
 "nbformat_minor": 5
}
