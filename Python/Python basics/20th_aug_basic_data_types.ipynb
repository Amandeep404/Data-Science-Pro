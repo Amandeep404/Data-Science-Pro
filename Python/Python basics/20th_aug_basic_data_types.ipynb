{
 "cells": [
  {
   "cell_type": "code",
   "execution_count": 1,
   "id": "0398eb28-401c-4eb9-b4f8-1463c62240c5",
   "metadata": {},
   "outputs": [
    {
     "name": "stdin",
     "output_type": "stream",
     "text": [
      "Enter String:  34354\n"
     ]
    },
    {
     "data": {
      "text/plain": [
       "'45343'"
      ]
     },
     "execution_count": 1,
     "metadata": {},
     "output_type": "execute_result"
    }
   ],
   "source": [
    "## 1. Write a program to reverse a string.\n",
    "x = input(\"Enter String: \")\n",
    "x[::-1]"
   ]
  },
  {
   "cell_type": "code",
   "execution_count": null,
   "id": "91562187-0a34-4182-b1a8-5caed9cc374d",
   "metadata": {},
   "outputs": [
    {
     "name": "stdin",
     "output_type": "stream",
     "text": [
      "Enter String:  2w2w2\n"
     ]
    },
    {
     "name": "stdout",
     "output_type": "stream",
     "text": [
      "Palindrome\n"
     ]
    }
   ],
   "source": [
    "#2. Check if a string is a palindrome.\n",
    "\n",
    "x = input(\"Enter String: \")\n",
    "if x[::-1]==x:\n",
    "    print(\"Palindrome\")\n",
    "else:\n",
    "    print(\"Not Palindrome\")"
   ]
  },
  {
   "cell_type": "code",
   "execution_count": null,
   "id": "2d7d4267-8c00-4e27-8a38-190ec11c4b25",
   "metadata": {},
   "outputs": [
    {
     "name": "stdin",
     "output_type": "stream",
     "text": [
      "Enter String:  cdcd\n"
     ]
    },
    {
     "data": {
      "text/plain": [
       "'CDCD'"
      ]
     },
     "execution_count": 3,
     "metadata": {},
     "output_type": "execute_result"
    }
   ],
   "source": [
    "#3. Convert a string to uppercase.\n",
    "x = input(\"Enter String: \")\n",
    "x.upper()"
   ]
  },
  {
   "cell_type": "code",
   "execution_count": null,
   "id": "b91fbffd-5470-4224-ba09-1b9ad892871f",
   "metadata": {},
   "outputs": [
    {
     "name": "stdin",
     "output_type": "stream",
     "text": [
      "Enter String:  ABSD\n"
     ]
    },
    {
     "data": {
      "text/plain": [
       "'absd'"
      ]
     },
     "execution_count": 4,
     "metadata": {},
     "output_type": "execute_result"
    }
   ],
   "source": [
    "# 4. Convert a string to lowercase.\n",
    "x = input(\"Enter String: \")\n",
    "x.lower()"
   ]
  },
  {
   "cell_type": "code",
   "execution_count": null,
   "id": "019e8776-1dd6-4aa9-9c4c-c5216a8a68b9",
   "metadata": {},
   "outputs": [
    {
     "name": "stdin",
     "output_type": "stream",
     "text": [
      "Enter String:  ewf fedeev e\n"
     ]
    },
    {
     "name": "stdout",
     "output_type": "stream",
     "text": [
      "Number of Vowels:  5\n"
     ]
    }
   ],
   "source": [
    "# 5. Count the number of vowels in a string.\n",
    "vowels = 'aeiou'\n",
    "x = input(\"Enter String: \")\n",
    "x = x.replace(\" \", \"\")\n",
    "count = sum(1 for i in x if i in vowels)\n",
    "print(\"Number of Vowels: \", count)"
   ]
  },
  {
   "cell_type": "code",
   "execution_count": null,
   "id": "b9d3aa06-ad84-41ca-a492-269858aebd72",
   "metadata": {},
   "outputs": [
    {
     "name": "stdin",
     "output_type": "stream",
     "text": [
      "Enter String:  qwdsaddfd\n"
     ]
    },
    {
     "name": "stdout",
     "output_type": "stream",
     "text": [
      "Number of Consonants:  8\n"
     ]
    }
   ],
   "source": [
    "# 6. Count the number of consonants in a string.\n",
    "\n",
    "vowels = 'aeiou'\n",
    "x = input(\"Enter String: \")\n",
    "x = x.replace(\" \", \"\")\n",
    "count = sum(1 for i in x if i.lower() not in vowels)\n",
    "print(\"Number of Consonants: \", count)"
   ]
  },
  {
   "cell_type": "code",
   "execution_count": null,
   "id": "ed8445dd-e841-4521-b96a-6565039419b7",
   "metadata": {},
   "outputs": [
    {
     "data": {
      "text/plain": [
       "'Thisismyname'"
      ]
     },
     "execution_count": 13,
     "metadata": {},
     "output_type": "execute_result"
    }
   ],
   "source": [
    "# 7. Remove all whitespaces from a string.\n",
    "x =\"This is my name\"\n",
    "x.replace(\" \", \"\")"
   ]
  },
  {
   "cell_type": "code",
   "execution_count": null,
   "id": "e88300fe-7cfe-4c4b-9af3-aa0c3d88de3c",
   "metadata": {},
   "outputs": [
    {
     "name": "stdout",
     "output_type": "stream",
     "text": [
      "12\n"
     ]
    }
   ],
   "source": [
    "# 8. Find the length of a string without using the `len()` function.\n",
    "x =\"This is my name\"\n",
    "x = x.replace(\" \", \"\")\n",
    "print(sum(1 for i in x))"
   ]
  },
  {
   "cell_type": "code",
   "execution_count": null,
   "id": "26ede947-da6a-4cb5-8e05-cc2c63a4b866",
   "metadata": {},
   "outputs": [
    {
     "name": "stdout",
     "output_type": "stream",
     "text": [
      "yes\n"
     ]
    }
   ],
   "source": [
    "# 9. Check if a string contains a specific word.\n",
    "\n",
    "x =\"This is my name\"\n",
    "if 'i' in x:\n",
    "    print('yes')\n"
   ]
  },
  {
   "cell_type": "code",
   "execution_count": null,
   "id": "5f6e025c-2608-4aab-87c1-625725e162c7",
   "metadata": {},
   "outputs": [
    {
     "data": {
      "text/plain": [
       "'hello is my name'"
      ]
     },
     "execution_count": 26,
     "metadata": {},
     "output_type": "execute_result"
    }
   ],
   "source": [
    "# 10. Replace a word in a string with another word.\n",
    "\n",
    "x =\"This is my name\"\n",
    "x.replace('This', 'hello')"
   ]
  },
  {
   "cell_type": "code",
   "execution_count": null,
   "id": "7c17491d-8490-4586-92f8-5fa9a6107abd",
   "metadata": {},
   "outputs": [
    {
     "data": {
      "text/plain": [
       "2"
      ]
     },
     "execution_count": 28,
     "metadata": {},
     "output_type": "execute_result"
    }
   ],
   "source": [
    "# 11. Count the occurrences of a word in a string.\n",
    "x =\"This is my name\"\n",
    "sum(1 for i in x if i=='m')"
   ]
  },
  {
   "cell_type": "code",
   "execution_count": null,
   "id": "7b1d9696-5377-49b0-8804-9440c03e34eb",
   "metadata": {},
   "outputs": [
    {
     "name": "stdout",
     "output_type": "stream",
     "text": [
      "found at index: 11\n"
     ]
    }
   ],
   "source": [
    "# 12. Find the first occurrence of a word in a string.\n",
    "x =\"This is my name. name is this\"\n",
    "index = x.find('name')\n",
    "if index!=-1:\n",
    "    print('found at index:', index)\n",
    "else:\n",
    "    print('not found')"
   ]
  },
  {
   "cell_type": "code",
   "execution_count": null,
   "id": "2791c2ed-b921-4513-8fb9-9e8b6ec02afe",
   "metadata": {},
   "outputs": [
    {
     "data": {
      "text/plain": [
       "17"
      ]
     },
     "execution_count": 36,
     "metadata": {},
     "output_type": "execute_result"
    }
   ],
   "source": [
    "#13. Find the last occurrence of a word in a string.\n",
    "\n",
    "x =\"This is my name. name is this\"\n",
    "x.rfind('name')\n"
   ]
  },
  {
   "cell_type": "code",
   "execution_count": null,
   "id": "fc1e7d40-7da4-4b88-8f92-3240a107b100",
   "metadata": {},
   "outputs": [
    {
     "data": {
      "text/plain": [
       "['This', 'is', 'my', 'name']"
      ]
     },
     "execution_count": 40,
     "metadata": {},
     "output_type": "execute_result"
    }
   ],
   "source": [
    "#14. Split a string into a list of words.\n",
    "x =\"This is my name\"\n",
    "x.split()"
   ]
  },
  {
   "cell_type": "code",
   "execution_count": null,
   "id": "dafd9a1d-53ee-45dc-8a9b-111e73026948",
   "metadata": {},
   "outputs": [
    {
     "data": {
      "text/plain": [
       "'This is my name'"
      ]
     },
     "execution_count": 45,
     "metadata": {},
     "output_type": "execute_result"
    }
   ],
   "source": [
    "#15. Join a list of words into a string.\n",
    "lx = ['This', 'is', 'my', 'name']\n",
    "' '.join(lx)"
   ]
  },
  {
   "cell_type": "code",
   "execution_count": null,
   "id": "744bd06f-2349-4984-be47-6211cfaa8979",
   "metadata": {},
   "outputs": [
    {
     "data": {
      "text/plain": [
       "'This_is_my_name'"
      ]
     },
     "execution_count": 46,
     "metadata": {},
     "output_type": "execute_result"
    }
   ],
   "source": [
    "#16. Convert a string where words are separated by spaces to one where words are separated by underscores.\n",
    "x =\"This is my name\"\n",
    "x.replace(' ' , '_')"
   ]
  },
  {
   "cell_type": "code",
   "execution_count": null,
   "id": "cbf22d75-9264-4b6e-b98b-5891774d7b54",
   "metadata": {},
   "outputs": [
    {
     "data": {
      "text/plain": [
       "True"
      ]
     },
     "execution_count": 48,
     "metadata": {},
     "output_type": "execute_result"
    }
   ],
   "source": [
    "#17. Check if a string starts with a specific word or phrase.\n",
    "x =\"This is my name\"\n",
    "x.startswith('T')"
   ]
  },
  {
   "cell_type": "code",
   "execution_count": null,
   "id": "f47835a4-11a0-4ef0-b24c-1d26373a50e1",
   "metadata": {},
   "outputs": [
    {
     "data": {
      "text/plain": [
       "True"
      ]
     },
     "execution_count": 50,
     "metadata": {},
     "output_type": "execute_result"
    }
   ],
   "source": [
    "# 18. Check if a string ends with a specific word or phrase.\n",
    "x =\"This is my name\"\n",
    "x.endswith('name')"
   ]
  },
  {
   "cell_type": "code",
   "execution_count": null,
   "id": "df9672cc-169f-418d-abe4-ad0ab222d3a1",
   "metadata": {},
   "outputs": [
    {
     "data": {
      "text/plain": [
       "'Hello World'"
      ]
     },
     "execution_count": 51,
     "metadata": {},
     "output_type": "execute_result"
    }
   ],
   "source": [
    "# 19. Convert a string to title case (e.g., \"hello world\" to \"Hello World\").\n",
    "x = 'hello world'\n",
    "x.title()"
   ]
  },
  {
   "cell_type": "code",
   "execution_count": null,
   "id": "89e4bbbe-5e2e-4c45-a589-03b44fe3db9f",
   "metadata": {},
   "outputs": [
    {
     "data": {
      "text/plain": [
       "'amazon'"
      ]
     },
     "execution_count": 55,
     "metadata": {},
     "output_type": "execute_result"
    }
   ],
   "source": [
    "# 20. Find the longest word in a string.\n",
    "x =\"amazon is my name\"\n",
    "max(x.split(), key=len)\n",
    "    "
   ]
  },
  {
   "cell_type": "code",
   "execution_count": null,
   "id": "d7263c66-615d-47f6-8517-bde8b99844ae",
   "metadata": {},
   "outputs": [
    {
     "data": {
      "text/plain": [
       "'is'"
      ]
     },
     "execution_count": 56,
     "metadata": {},
     "output_type": "execute_result"
    }
   ],
   "source": [
    "# 21. Find the shortest word in a string.\n",
    "min(x.split(), key=len)"
   ]
  },
  {
   "cell_type": "code",
   "execution_count": null,
   "id": "c3ce2e6a-e3f7-446c-9488-10e44eb04426",
   "metadata": {},
   "outputs": [
    {
     "data": {
      "text/plain": [
       "'name my is amazon'"
      ]
     },
     "execution_count": 59,
     "metadata": {},
     "output_type": "execute_result"
    }
   ],
   "source": [
    "# 22. Reverse the order of words in a string.\n",
    "x =\"amazon is my name\"\n",
    "' '.join(reversed(x.split()))"
   ]
  },
  {
   "cell_type": "code",
   "execution_count": null,
   "id": "2bb9676f-82d5-4fad-9ff1-d473468f47c7",
   "metadata": {},
   "outputs": [
    {
     "data": {
      "text/plain": [
       "False"
      ]
     },
     "execution_count": 60,
     "metadata": {},
     "output_type": "execute_result"
    }
   ],
   "source": [
    "# 23. Check if a string is alphanumeric.\n",
    "x.isalnum()\n"
   ]
  },
  {
   "cell_type": "code",
   "execution_count": null,
   "id": "934eb81f-e32a-4d5e-bb87-ba9dfc551d2c",
   "metadata": {},
   "outputs": [
    {
     "data": {
      "text/plain": [
       "'123456789'"
      ]
     },
     "execution_count": 66,
     "metadata": {},
     "output_type": "execute_result"
    }
   ],
   "source": [
    "#24. Extract all digits from a string.\n",
    "x = \"abc123def456gh789\"\n",
    "''.join(i for i in x if i.isnumeric())"
   ]
  },
  {
   "cell_type": "code",
   "execution_count": null,
   "id": "b2d86ed1-1066-494d-af16-2e8a1b9259b6",
   "metadata": {},
   "outputs": [
    {
     "data": {
      "text/plain": [
       "'abcdefgh'"
      ]
     },
     "execution_count": 65,
     "metadata": {},
     "output_type": "execute_result"
    }
   ],
   "source": [
    "#25. Extract all alphabets from a string.\n",
    "x = \"abc123def456gh789\"\n",
    "''.join(i for i in x if i.isalpha())"
   ]
  },
  {
   "cell_type": "code",
   "execution_count": null,
   "id": "b2e30caf-b581-4e69-bb97-4ed19a9f6b72",
   "metadata": {},
   "outputs": [
    {
     "data": {
      "text/plain": [
       "8"
      ]
     },
     "execution_count": 67,
     "metadata": {},
     "output_type": "execute_result"
    }
   ],
   "source": [
    "#26. Count the number of uppercase letters in a string.\n",
    "x = 'AhsdGFHswqsdFHDwD'\n",
    "sum(1 for i in x if i.isupper())"
   ]
  },
  {
   "cell_type": "code",
   "execution_count": null,
   "id": "181d4126-9d6f-4406-b025-eb64b6eda7bf",
   "metadata": {},
   "outputs": [
    {
     "data": {
      "text/plain": [
       "9"
      ]
     },
     "execution_count": 68,
     "metadata": {},
     "output_type": "execute_result"
    }
   ],
   "source": [
    "#27. Count the number of lowercase letters in a string.\n",
    "x = 'AhsdGFHswqsdFHDwD'\n",
    "sum(1 for i in x if i.islower())"
   ]
  },
  {
   "cell_type": "code",
   "execution_count": null,
   "id": "981fd05d-ab67-434a-9c28-82d8057f8bc1",
   "metadata": {},
   "outputs": [
    {
     "data": {
      "text/plain": [
       "'AMAZON IS MY NAME AND ALSO aHSDgfhSWQSDfhdWd'"
      ]
     },
     "execution_count": 74,
     "metadata": {},
     "output_type": "execute_result"
    }
   ],
   "source": [
    "#28. Swap the case of each character in a string.\n",
    "x =\"amazon is my name and also AhsdGFHswqsdFHDwD\"\n",
    "\n",
    "x.swapcase()"
   ]
  },
  {
   "cell_type": "code",
   "execution_count": null,
   "id": "cb83d6f3-f2df-4ec4-8427-fcdff306688b",
   "metadata": {},
   "outputs": [
    {
     "data": {
      "text/plain": [
       "'amazon is my and also AhsdGFHswqsdFHDwD'"
      ]
     },
     "execution_count": 80,
     "metadata": {},
     "output_type": "execute_result"
    }
   ],
   "source": [
    "# 29. Remove a specific word from a string.\n",
    "x =\"amazon is my name and also AhsdGFHswqsdFHDwD\"\n",
    "' '.join(i for i in x.split() if i!='name')"
   ]
  },
  {
   "cell_type": "code",
   "execution_count": null,
   "id": "e622e25c-04a8-41b1-9d30-da9736cd43f8",
   "metadata": {},
   "outputs": [
    {
     "name": "stdout",
     "output_type": "stream",
     "text": [
      "Valid mail\n"
     ]
    }
   ],
   "source": [
    "#30. Check if a string is a valid email address.\n",
    "import re\n",
    "x = 'pw@gmail.com'\n",
    "\n",
    "pattern = r'[\\w\\.-]+@[\\w\\.-]+\\.\\w'\n",
    "\n",
    "if re.match(pattern, x):\n",
    "    print('Valid mail')\n",
    "else:\n",
    "    print('not a valid mail')"
   ]
  },
  {
   "cell_type": "code",
   "execution_count": null,
   "id": "6321cc25-6160-4404-8709-f275cbd81ebd",
   "metadata": {},
   "outputs": [
    {
     "name": "stdout",
     "output_type": "stream",
     "text": [
      "pw\n"
     ]
    }
   ],
   "source": [
    "# 31. Extract the username from an email address string.\n",
    "\n",
    "x = 'pw@gmail.com'\n",
    "\n",
    "pattern = r'([\\w\\.-]+)@[\\w\\.-]+\\.\\w'\n",
    "match =  re.match(pattern, x)\n",
    "\n",
    "if match:\n",
    "    print(x.split('@')[0])\n",
    "else:\n",
    "    print('not a valid mail')"
   ]
  },
  {
   "cell_type": "code",
   "execution_count": null,
   "id": "a6208874-246d-4350-a548-e3e412298e50",
   "metadata": {},
   "outputs": [
    {
     "name": "stdout",
     "output_type": "stream",
     "text": [
      "com\n"
     ]
    }
   ],
   "source": [
    "#32. Extract the domain name from an email address string.\n",
    "x = 'pw.cse@gmail.com'\n",
    "\n",
    "pattern = r'[\\w\\.-]+@([\\w\\.-]+)\\.\\w'\n",
    "match =  re.match(pattern, x)\n",
    "\n",
    "if match:\n",
    "    print(x.split('.')[2])\n",
    "else:\n",
    "    print('not a valid mail')"
   ]
  },
  {
   "cell_type": "code",
   "execution_count": null,
   "id": "64446c46-1dff-4282-b44e-e41fb119dd8d",
   "metadata": {},
   "outputs": [
    {
     "data": {
      "text/plain": [
       "'Hello my name is xyz'"
      ]
     },
     "execution_count": 58,
     "metadata": {},
     "output_type": "execute_result"
    }
   ],
   "source": [
    "# 33. Replace multiple spaces in a string with a single space.\n",
    "x = \"Hello    my name is    xyz\"\n",
    "' '.join(x.split())"
   ]
  },
  {
   "cell_type": "code",
   "execution_count": null,
   "id": "a57861bb-0ac9-4284-b486-81203daf8397",
   "metadata": {},
   "outputs": [
    {
     "name": "stdout",
     "output_type": "stream",
     "text": [
      "valid url\n"
     ]
    }
   ],
   "source": [
    " # 34. Check if a string is a valid URL.\n",
    "from urllib.parse import urlparse\n",
    "url = 'https://www.example.com'\n",
    "parse_url = urlparse(url)\n",
    "result = all([parse_url.scheme, parse_url.netloc])\n",
    "if result:\n",
    "    print('valid url')\n",
    "else:\n",
    "    print('invalid url')"
   ]
  },
  {
   "cell_type": "code",
   "execution_count": null,
   "id": "2c68c1f9-0192-4186-a904-237d96fea1a8",
   "metadata": {},
   "outputs": [
    {
     "name": "stdout",
     "output_type": "stream",
     "text": [
      "https\n",
      "http\n",
      "ftp\n"
     ]
    }
   ],
   "source": [
    "# 35. Extract the protocol (http or https) from a URL string.\n",
    "url1 = 'https://www.example.com'\n",
    "url2 = \"http://google.com\"\n",
    "url3 = \"ftp://ftp.example.com\"\n",
    "\n",
    "print(urlparse(url1).scheme)\n",
    "print( urlparse(url2).scheme)\n",
    "print(urlparse(url3).scheme)\n"
   ]
  },
  {
   "cell_type": "code",
   "execution_count": null,
   "id": "f65e9385-132c-4cb2-a018-763762c2eeba",
   "metadata": {},
   "outputs": [
    {
     "name": "stdout",
     "output_type": "stream",
     "text": [
      "Character: a Frequency: 5\n",
      "Character: m Frequency: 3\n",
      "Character: z Frequency: 1\n",
      "Character: o Frequency: 2\n",
      "Character: n Frequency: 3\n",
      "Character: i Frequency: 1\n",
      "Character: s Frequency: 2\n",
      "Character: y Frequency: 1\n",
      "Character: e Frequency: 1\n",
      "Character: d Frequency: 1\n",
      "Character: l Frequency: 1\n"
     ]
    }
   ],
   "source": [
    "#36. Find the frequency of each character in a string.\n",
    "frequncy = {}\n",
    "x = 'amazon is my name and also'\n",
    "x = ''.join(x.split(' '))\n",
    "for i in x:\n",
    "    if i in frequncy:\n",
    "        frequncy[i]+=1\n",
    "    else:\n",
    "        frequncy[i]=1\n",
    "for i, j in frequncy.items():\n",
    "    print('Character:', i , 'Frequency:', j)"
   ]
  },
  {
   "cell_type": "code",
   "execution_count": null,
   "id": "9ef9cc66-b6ec-4858-9c27-f244fade33c6",
   "metadata": {},
   "outputs": [
    {
     "name": "stdout",
     "output_type": "stream",
     "text": [
      "Hello there Hows the josh\n"
     ]
    }
   ],
   "source": [
    "# 37. Remove all punctuation from a string.\n",
    "import string\n",
    "x = \"Hello, there! How's the josh?\"\n",
    "translator = str.maketrans(\"\", \"\", string.punctuation)\n",
    "print(x.translate(translator))\n"
   ]
  },
  {
   "cell_type": "code",
   "execution_count": null,
   "id": "85c0d43f-5fa5-4cc8-80c1-1114fc1e1f11",
   "metadata": {},
   "outputs": [
    {
     "name": "stdout",
     "output_type": "stream",
     "text": [
      "False\n",
      "True\n"
     ]
    }
   ],
   "source": [
    "# 38. Check if a string contains only digits.\n",
    "x = \"pwskills123\"\n",
    "y = '233432423'\n",
    "print(x.isdigit())\n",
    "print(y.isdigit())\n"
   ]
  },
  {
   "cell_type": "code",
   "execution_count": null,
   "id": "8fe84614-7acc-420c-85be-2645c6b26d6e",
   "metadata": {},
   "outputs": [
    {
     "name": "stdout",
     "output_type": "stream",
     "text": [
      "False\n"
     ]
    }
   ],
   "source": [
    "# 39. Check if a string contains only alphabets.\n",
    "x = \"pwskills123\"\n",
    "print(x.isalpha())"
   ]
  },
  {
   "cell_type": "code",
   "execution_count": null,
   "id": "87b39293-6f3a-4f32-8b25-bb6f1062b9a4",
   "metadata": {},
   "outputs": [
    {
     "data": {
      "text/plain": [
       "['p', 'w', 's', 'k', 'i', 'l', 'l', 's', '1', '2', '3']"
      ]
     },
     "execution_count": 4,
     "metadata": {},
     "output_type": "execute_result"
    }
   ],
   "source": [
    "# 40. Convert a string to a list of characters.\n",
    "x = \"pwskills123\"\n",
    "list(x)"
   ]
  },
  {
   "cell_type": "code",
   "execution_count": null,
   "id": "ba6f96c0-0c8f-49df-ade8-f2393cebffb6",
   "metadata": {},
   "outputs": [
    {
     "name": "stdout",
     "output_type": "stream",
     "text": [
      "YES, listen and silent are anagrams\n"
     ]
    }
   ],
   "source": [
    "# 41. Check if two strings are anagrams.\n",
    "string1 = \"listen\"\n",
    "string2 = \"silent\"\n",
    "\n",
    "if sorted(string1.lower()) == sorted(string2.lower()):\n",
    "    print(f\"YES, {string1} and {string2} are anagrams\")\n",
    "else :\n",
    "    print(f\"NO, {string1} and {string2} are not anagrams\")"
   ]
  },
  {
   "cell_type": "code",
   "execution_count": null,
   "id": "5b59027c-7d44-4847-92fc-06f277844bab",
   "metadata": {},
   "outputs": [
    {
     "name": "stdout",
     "output_type": "stream",
     "text": [
      "Encoded text: ehoor, zruog!\n"
     ]
    }
   ],
   "source": [
    "#42. Encode a string using a Caesar cipher.\n",
    "text = 'Hello, world!'\n",
    "shift = 3\n",
    "encoded_text = \"\"\n",
    "\n",
    "for i in text:\n",
    "    if i.isalpha():\n",
    "        encoded_char = chr((ord(i) + shift - ord('a'))%26 + ord('a') )\n",
    "    else:\n",
    "        encoded_char = i\n",
    "    encoded_text+=encoded_char\n",
    "print(\"Encoded text:\", encoded_text)"
   ]
  },
  {
   "cell_type": "code",
   "execution_count": null,
   "id": "5bb04e2e-1fe9-4001-b84e-61c5ba67cf28",
   "metadata": {},
   "outputs": [
    {
     "name": "stdout",
     "output_type": "stream",
     "text": [
      "decoded text: hello, world!\n"
     ]
    }
   ],
   "source": [
    "# 43. Decode a Caesar cipher encoded string.\n",
    "text = 'khoor, zruog!'\n",
    "shift = 3\n",
    "decoded_text = \"\"\n",
    "\n",
    "for i in text:\n",
    "    if i.isalpha():\n",
    "        decoded_char = chr((ord(i) - shift - ord('a')) % 26 + ord('a'))\n",
    "    else:\n",
    "        decoded_char = i\n",
    "    decoded_text += decoded_char\n",
    "\n",
    "print(\"decoded text:\", decoded_text)"
   ]
  },
  {
   "cell_type": "code",
   "execution_count": null,
   "id": "f7ab7104-0aa5-4de2-81b8-5d23adc0d9c6",
   "metadata": {},
   "outputs": [
    {
     "name": "stdout",
     "output_type": "stream",
     "text": [
      "The most frequent word is : e\n"
     ]
    }
   ],
   "source": [
    "#44. Find the most frequent word in a string.\n",
    "x = \"Hello, there! How's the josh?\"\n",
    "d = {}\n",
    "for i in x:\n",
    "    if i in d:\n",
    "        d[i]+=1\n",
    "    else:\n",
    "        d[i]=1\n",
    "        \n",
    "print(\"The most frequent word is :\", max(d, key=d.get))\n",
    "\n"
   ]
  },
  {
   "cell_type": "code",
   "execution_count": null,
   "id": "6a8922c1-bc52-435f-8ca3-3939203b0ac3",
   "metadata": {},
   "outputs": [
    {
     "data": {
      "text/plain": [
       "{'Hello,', \"How's\", 'josh?', 'the', 'there!'}"
      ]
     },
     "execution_count": 9,
     "metadata": {},
     "output_type": "execute_result"
    }
   ],
   "source": [
    "#45. Find all unique words in a string.\n",
    "x = \"Hello, there! How's the josh?\"\n",
    "set(x.split())\n",
    "\n"
   ]
  },
  {
   "cell_type": "code",
   "execution_count": null,
   "id": "df4359c4-3de0-40fb-9217-ed5f7bab25ea",
   "metadata": {},
   "outputs": [
    {
     "name": "stdout",
     "output_type": "stream",
     "text": [
      "'syllable' has 3 syllables.\n"
     ]
    }
   ],
   "source": [
    "# 46. Count the number of syllables in a string.\n",
    "\n",
    "import re\n",
    "def count_syllables(word):\n",
    "    vowel_groups = re.findall(r'[aeiouy]+', word, re.IGNORECASE)\n",
    "    return len(vowel_groups)\n",
    "\n",
    "word = \"syllable\"\n",
    "\n",
    "syllables = count_syllables(word)\n",
    "\n",
    "print(f\"'{word}' has {syllables} syllables.\")\n"
   ]
  },
  {
   "cell_type": "code",
   "execution_count": null,
   "id": "c010f73c-0272-4b8c-8084-beb94af98c20",
   "metadata": {},
   "outputs": [
    {
     "name": "stdout",
     "output_type": "stream",
     "text": [
      "String contains special character\n"
     ]
    }
   ],
   "source": [
    "# 47. Check if a string contains any special characters.\n",
    "pattern = re.compile(r'[^A-Za-z0-9\\s]')\n",
    "x= \"Hello, @world!\"\n",
    "if pattern.search(x):\n",
    "    print('String contains special character')\n",
    "else:\n",
    "    print('String does not contains special character')"
   ]
  },
  {
   "cell_type": "code",
   "execution_count": null,
   "id": "5c86e90d-0ae4-41e7-afd8-a8185c2a101d",
   "metadata": {},
   "outputs": [
    {
     "name": "stdout",
     "output_type": "stream",
     "text": [
      "This is an sentence for test.\n"
     ]
    }
   ],
   "source": [
    "# 48. Remove the nth word from a string.\n",
    "x = \"This is an example sentence for test.\"\n",
    "x = x.split()\n",
    "def remove_word_at(n):\n",
    "    if n>=0 and n<=len(x):\n",
    "        x.pop(n-1)\n",
    "        return ' '.join(x)\n",
    "    else:\n",
    "        return \"index not found\"\n",
    "    \n",
    "result = remove_word_at(4)\n",
    "print(result)"
   ]
  },
  {
   "cell_type": "code",
   "execution_count": null,
   "id": "b1b22099-dd9b-422a-81b1-c3bd87a27a61",
   "metadata": {},
   "outputs": [
    {
     "name": "stdout",
     "output_type": "stream",
     "text": [
      "This is example an sentence for test.\n"
     ]
    }
   ],
   "source": [
    "#49. Insert a word at the nth position in a string.\n",
    "x = \"This is an sentence for test.\"\n",
    "x_list = x.split()\n",
    "def insert_word_at(word, n):\n",
    "    if n>=0 and n<=len(x_list):\n",
    "        x_list.insert(n-1, word)\n",
    "        return ' '.join(x_list)\n",
    "    else:\n",
    "        return \"index out of range\"\n",
    "    \n",
    "result = insert_word_at(\"example\", 3)\n",
    "print(result)\n"
   ]
  },
  {
   "cell_type": "code",
   "execution_count": null,
   "id": "5f35331d-bc98-4ee2-ba3c-4c1ba682ed11",
   "metadata": {},
   "outputs": [
    {
     "name": "stdout",
     "output_type": "stream",
     "text": [
      "['Name,', 'Age,', 'Country']\n",
      "['John,', '25,', 'USA']\n",
      "['Alice,', '30,', 'Canada']\n",
      "['Bob,', '22,', 'UK']\n"
     ]
    }
   ],
   "source": [
    "# 50. Convert a CSV string to a list of lists.\n",
    "csv_data = \"Name, Age, Country\\nJohn, 25, USA\\nAlice, 30, Canada\\nBob, 22, UK\"\n",
    "\n",
    "x = csv_data.split('\\n')\n",
    "for i in x:\n",
    "    print(i.split())"
   ]
  },
  {
   "cell_type": "markdown",
   "id": "aa99f0cb-6f84-4a11-9d51-e1d545aec80a",
   "metadata": {},
   "source": [
    "# List Based Practice Problem :"
   ]
  },
  {
   "cell_type": "code",
   "execution_count": null,
   "id": "8a672d53-2b2c-43ae-871e-359a0640271d",
   "metadata": {},
   "outputs": [
    {
     "data": {
      "text/plain": [
       "[1, 2, 3, 4, 5, 6, 7, 8, 9, 10]"
      ]
     },
     "execution_count": 50,
     "metadata": {},
     "output_type": "execute_result"
    }
   ],
   "source": [
    "#1. Create a list with integers from 1 to 10.\n",
    "[i for i in range(1,11)]"
   ]
  },
  {
   "cell_type": "code",
   "execution_count": null,
   "id": "5d58befd-9801-4abd-a6a4-4ffcd3b757ff",
   "metadata": {},
   "outputs": [
    {
     "data": {
      "text/plain": [
       "10"
      ]
     },
     "execution_count": 64,
     "metadata": {},
     "output_type": "execute_result"
    }
   ],
   "source": [
    "# 2. Find the length of a list without using the `len()` function.\n",
    "l = [1, 2, 3, 4, 5, 6, 7, 8, 9, 10]\n",
    "sum(1 for i in l)"
   ]
  },
  {
   "cell_type": "code",
   "execution_count": null,
   "id": "2d624d2e-85e7-4a2b-93e9-7efb74eae7e7",
   "metadata": {},
   "outputs": [
    {
     "data": {
      "text/plain": [
       "[1, 2, 3, 4, 5, 6, 7, 8, 9, 10, 11]"
      ]
     },
     "execution_count": 65,
     "metadata": {},
     "output_type": "execute_result"
    }
   ],
   "source": [
    "# 3. Append an element to the end of a list.\n",
    "l = [1, 2, 3, 4, 5, 6, 7, 8, 9, 10]\n",
    "l.append(11)\n",
    "l"
   ]
  },
  {
   "cell_type": "code",
   "execution_count": null,
   "id": "e573b789-3497-4394-8f25-16d59bcad594",
   "metadata": {},
   "outputs": [
    {
     "data": {
      "text/plain": [
       "[1, 2, 'inserted', 3, 4, 5, 6, 7, 8, 9, 10, 11]"
      ]
     },
     "execution_count": 69,
     "metadata": {},
     "output_type": "execute_result"
    }
   ],
   "source": [
    "#4. Insert an element at a specific index in a list.\n",
    "l.insert(2, 'inserted')\n",
    "l"
   ]
  },
  {
   "cell_type": "code",
   "execution_count": null,
   "id": "ce76b7c4-673f-4c71-8ae2-e660849dea78",
   "metadata": {},
   "outputs": [
    {
     "data": {
      "text/plain": [
       "[1, 2, 3, 4, 5, 6, 7, 8, 9, 10, 11]"
      ]
     },
     "execution_count": 70,
     "metadata": {},
     "output_type": "execute_result"
    }
   ],
   "source": [
    "# 5. Remove an element from a list by its value.\n",
    "l.remove('inserted')\n",
    "l"
   ]
  },
  {
   "cell_type": "code",
   "execution_count": null,
   "id": "333e369a-1a22-44aa-a4b5-8290a7baa8f6",
   "metadata": {},
   "outputs": [
    {
     "data": {
      "text/plain": [
       "[1, 2, 3, 4, 5, 6, 7, 8, 9, 10, 11]"
      ]
     },
     "execution_count": 75,
     "metadata": {},
     "output_type": "execute_result"
    }
   ],
   "source": [
    "# 6. Remove an element from a list by its index.\n",
    "l = [1, 2, 'inserted', 3, 4, 5, 6, 7, 8, 9, 10, 11]\n",
    "l.pop(2)\n",
    "l"
   ]
  },
  {
   "cell_type": "code",
   "execution_count": null,
   "id": "967276a4-f011-4a64-a259-3a176d1a1556",
   "metadata": {},
   "outputs": [
    {
     "name": "stdout",
     "output_type": "stream",
     "text": [
      "yes\n"
     ]
    }
   ],
   "source": [
    "#7. Check if an element exists in a list.\n",
    "if 4 in l:\n",
    "    print('yes')\n",
    "else:\n",
    "    print('no')"
   ]
  },
  {
   "cell_type": "code",
   "execution_count": null,
   "id": "3a762a7a-390e-4e5e-abc2-b88d1b169470",
   "metadata": {},
   "outputs": [
    {
     "data": {
      "text/plain": [
       "5"
      ]
     },
     "execution_count": 77,
     "metadata": {},
     "output_type": "execute_result"
    }
   ],
   "source": [
    "# 8. Find the index of the first occurrence of an element in a list.\n",
    "l.index(6)"
   ]
  },
  {
   "cell_type": "code",
   "execution_count": null,
   "id": "3a7e9fd9-7ccd-415b-b66c-41106d68c27f",
   "metadata": {},
   "outputs": [
    {
     "data": {
      "text/plain": [
       "3"
      ]
     },
     "execution_count": 78,
     "metadata": {},
     "output_type": "execute_result"
    }
   ],
   "source": [
    "# 9. Count the occurrences of an element in a list.\n",
    "l =[10, 20, 30, 40, 50, 30, 30, 40, 40, 50]\n",
    "l.count(40)"
   ]
  },
  {
   "cell_type": "code",
   "execution_count": null,
   "id": "dc1078fa-3abf-41ef-824a-5a67888111ad",
   "metadata": {},
   "outputs": [
    {
     "data": {
      "text/plain": [
       "[50, 40, 40, 30, 30, 50, 40, 30, 20, 10]"
      ]
     },
     "execution_count": 79,
     "metadata": {},
     "output_type": "execute_result"
    }
   ],
   "source": [
    "# 10. Reverse the order of elements in a list.\n",
    "l[::-1]"
   ]
  },
  {
   "cell_type": "code",
   "execution_count": null,
   "id": "73ee4e43-6d05-4b89-a718-0d7c5e794697",
   "metadata": {},
   "outputs": [
    {
     "data": {
      "text/plain": [
       "[10, 20, 30, 30, 30, 40, 40, 40, 50, 50]"
      ]
     },
     "execution_count": 81,
     "metadata": {},
     "output_type": "execute_result"
    }
   ],
   "source": [
    "#11. Sort a list in ascending order.\n",
    "sorted(l)"
   ]
  },
  {
   "cell_type": "code",
   "execution_count": null,
   "id": "1aeac404-6a29-43a5-b6f2-434a4305b80b",
   "metadata": {},
   "outputs": [
    {
     "data": {
      "text/plain": [
       "[50, 50, 40, 40, 40, 30, 30, 30, 20, 10]"
      ]
     },
     "execution_count": 83,
     "metadata": {},
     "output_type": "execute_result"
    }
   ],
   "source": [
    "# 12. Sort a list in descending order.\n",
    "sorted(l, reverse=True)"
   ]
  },
  {
   "cell_type": "code",
   "execution_count": null,
   "id": "6bf8a738-b36a-49be-9c04-6bea46022d34",
   "metadata": {},
   "outputs": [
    {
     "data": {
      "text/plain": [
       "[2, 4, 6, 8, 10, 12, 14, 16, 18, 20]"
      ]
     },
     "execution_count": 86,
     "metadata": {},
     "output_type": "execute_result"
    }
   ],
   "source": [
    "# 13. Create a list of even numbers from 1 to 20.\n",
    "[i for i in range(1,21) if i%2==0]"
   ]
  },
  {
   "cell_type": "code",
   "execution_count": null,
   "id": "dda26600-b91e-4037-9a69-523887c107d3",
   "metadata": {},
   "outputs": [
    {
     "data": {
      "text/plain": [
       "[1, 3, 5, 7, 9, 11, 13, 15, 17, 19]"
      ]
     },
     "execution_count": 87,
     "metadata": {},
     "output_type": "execute_result"
    }
   ],
   "source": [
    "# 14. Create a list of odd numbers from 1 to 20.\n",
    "[i for i in range(1, 21) if i%2!=0]"
   ]
  },
  {
   "cell_type": "code",
   "execution_count": null,
   "id": "085e2881-31d0-4a0a-83f4-27cfa0abf208",
   "metadata": {},
   "outputs": [
    {
     "data": {
      "text/plain": [
       "100"
      ]
     },
     "execution_count": 88,
     "metadata": {},
     "output_type": "execute_result"
    }
   ],
   "source": [
    "# 15. Find the sum of all elements in a list.\n",
    "l = [1, 3, 5, 7, 9, 11, 13, 15, 17, 19]\n",
    "sum(l)"
   ]
  },
  {
   "cell_type": "code",
   "execution_count": null,
   "id": "c6e7dba0-8ade-4e66-a423-88795843f96a",
   "metadata": {},
   "outputs": [
    {
     "data": {
      "text/plain": [
       "19"
      ]
     },
     "execution_count": 89,
     "metadata": {},
     "output_type": "execute_result"
    }
   ],
   "source": [
    "# 16. Find the maximum value in a list.\n",
    "max(l)"
   ]
  },
  {
   "cell_type": "code",
   "execution_count": null,
   "id": "cbf61c94-75d0-4ed0-a985-9f857d8c882e",
   "metadata": {},
   "outputs": [
    {
     "data": {
      "text/plain": [
       "1"
      ]
     },
     "execution_count": 90,
     "metadata": {},
     "output_type": "execute_result"
    }
   ],
   "source": [
    "# 17. Find the minimum value in a list.\n",
    "min(l)"
   ]
  },
  {
   "cell_type": "code",
   "execution_count": null,
   "id": "d6dc2ba2-e527-4602-9aa7-e62b2ba2bb71",
   "metadata": {},
   "outputs": [
    {
     "data": {
      "text/plain": [
       "[1, 4, 9, 16, 25, 36, 49, 64, 81, 100]"
      ]
     },
     "execution_count": 91,
     "metadata": {},
     "output_type": "execute_result"
    }
   ],
   "source": [
    "# 18. Create a list of squares of numbers from 1 to 10.\n",
    "[i**2 for i in range(1, 11)]"
   ]
  },
  {
   "cell_type": "code",
   "execution_count": null,
   "id": "2bc32944-da9d-498d-a295-65e0130d4d4a",
   "metadata": {},
   "outputs": [
    {
     "data": {
      "text/plain": [
       "[3, 1, 13, 9, 16]"
      ]
     },
     "execution_count": 93,
     "metadata": {},
     "output_type": "execute_result"
    }
   ],
   "source": [
    "# 19. Create a list of random numbers.\n",
    "import random\n",
    "\n",
    "[random.randint(1, 20) for _ in range(5)]"
   ]
  },
  {
   "cell_type": "code",
   "execution_count": null,
   "id": "d0f49d15-85ad-41ca-b4e7-958351b0b11f",
   "metadata": {},
   "outputs": [
    {
     "data": {
      "text/plain": [
       "[10, 20, 30, 40, 50]"
      ]
     },
     "execution_count": 96,
     "metadata": {},
     "output_type": "execute_result"
    }
   ],
   "source": [
    "# 20. Remove duplicates from a list.\n",
    "l =[10, 20, 30, 40, 50, 30, 30, 40, 40, 50]\n",
    "sorted(list(set(l)))"
   ]
  },
  {
   "cell_type": "code",
   "execution_count": null,
   "id": "24e48227-4364-4b26-8f52-25083aef2543",
   "metadata": {},
   "outputs": [
    {
     "data": {
      "text/plain": [
       "[40, 50, 30]"
      ]
     },
     "execution_count": 102,
     "metadata": {},
     "output_type": "execute_result"
    }
   ],
   "source": [
    "# 21. Find the common elements between two lists.\n",
    "l1 =[10, 20, 30, 40, 50, 30, 30, 40, 40, 50]\n",
    "l2 = [30, 40, 50, 60, 70]\n",
    "[i for i in set(l1) if i in l2]\n"
   ]
  },
  {
   "cell_type": "code",
   "execution_count": null,
   "id": "dcde6645-066c-4874-9590-14a6c0a4418b",
   "metadata": {},
   "outputs": [
    {
     "data": {
      "text/plain": [
       "[10, 20]"
      ]
     },
     "execution_count": 104,
     "metadata": {},
     "output_type": "execute_result"
    }
   ],
   "source": [
    "#22. Find the difference between two lists.\n",
    "\n",
    "l1 =[10, 20, 30, 40, 50, 30, 30, 40, 40, 50]\n",
    "l2 = [30, 40, 50, 60, 70]\n",
    "[i for i in set(l1) if i not in l2]"
   ]
  },
  {
   "cell_type": "code",
   "execution_count": null,
   "id": "d367ba37-a4ed-4a21-baee-2ef3a642640b",
   "metadata": {},
   "outputs": [
    {
     "data": {
      "text/plain": [
       "[10, 20, 30, 40, 50, 60, 70]"
      ]
     },
     "execution_count": 109,
     "metadata": {},
     "output_type": "execute_result"
    }
   ],
   "source": [
    "# 23. Merge two lists.\n",
    "l1 =[10, 20, 30, 40, 50, 30, 30, 40, 40, 50]\n",
    "l2 = [30, 40, 50, 60, 70]\n",
    "sorted(list(set(l1+l2)))"
   ]
  },
  {
   "cell_type": "code",
   "execution_count": null,
   "id": "a73b7f6f-b9ab-4f4d-b120-b6e62bbae6cd",
   "metadata": {},
   "outputs": [
    {
     "data": {
      "text/plain": [
       "[20, 40, 60, 80, 100, 60, 60, 80, 80, 100]"
      ]
     },
     "execution_count": 110,
     "metadata": {},
     "output_type": "execute_result"
    }
   ],
   "source": [
    "# 24. Multiply all elements in a list by 2.\n",
    "l = [10, 20, 30, 40, 50, 30, 30, 40, 40, 50]\n",
    "[i*2 for i in l]"
   ]
  },
  {
   "cell_type": "code",
   "execution_count": null,
   "id": "280ebbeb-b5ec-4598-b232-a3b9d6bae8ae",
   "metadata": {},
   "outputs": [
    {
     "data": {
      "text/plain": [
       "[1, 9, 25, 49, 81]"
      ]
     },
     "execution_count": 112,
     "metadata": {},
     "output_type": "execute_result"
    }
   ],
   "source": [
    "# 25. Filter out all even numbers from a list.\n",
    "l = [1, 4, 9, 16, 25, 36, 49, 64, 81, 100]\n",
    "[i for i in l if i%2!=0]"
   ]
  },
  {
   "cell_type": "code",
   "execution_count": null,
   "id": "dbf1e2c7-66c6-4777-b6fe-81f97a928031",
   "metadata": {},
   "outputs": [
    {
     "data": {
      "text/plain": [
       "[10, 20, 30, 40, 50]"
      ]
     },
     "execution_count": 115,
     "metadata": {},
     "output_type": "execute_result"
    }
   ],
   "source": [
    "# 26. Convert a list of strings to a list of integers.\n",
    "ls = [\"10\", \"20\", \"30\", \"40\", \"50\"]\n",
    "[int(i) for i in ls]"
   ]
  },
  {
   "cell_type": "code",
   "execution_count": null,
   "id": "15e886c7-f617-4a2d-9074-6e65af248df7",
   "metadata": {},
   "outputs": [
    {
     "data": {
      "text/plain": [
       "['10', '20', '30', '40', '50']"
      ]
     },
     "execution_count": 116,
     "metadata": {},
     "output_type": "execute_result"
    }
   ],
   "source": [
    "# 27. Convert a list of integers to a list of strings.\n",
    "li = [10, 20, 30, 40, 50]\n",
    "[str(i) for i in li]"
   ]
  },
  {
   "cell_type": "code",
   "execution_count": null,
   "id": "b28503ee-22d7-47e1-9bcf-80dac1fffb56",
   "metadata": {},
   "outputs": [
    {
     "name": "stdout",
     "output_type": "stream",
     "text": [
      "[1, 2, 3, 4, 5, 6, 7, 8, 9]\n"
     ]
    },
    {
     "data": {
      "text/plain": [
       "[1, 2, 3, 4, 5, 6, 7, 8, 9]"
      ]
     },
     "execution_count": 124,
     "metadata": {},
     "output_type": "execute_result"
    }
   ],
   "source": [
    "# 28. Flatten a nested list.\n",
    "nested_list = [[1, 2, 3], [4, 5], [6, 7, 8, 9]]\n",
    "flattend_list = []\n",
    "for i in nested_list:\n",
    "    if type(i)==list:\n",
    "        for j in i:\n",
    "            flattend_list.append(j)\n",
    "            \n",
    "print(flattend_list)\n",
    "\n",
    "# using list comprehensions\n",
    "\n",
    "[i for j in nested_list if isinstance(j, list) for i in j]"
   ]
  },
  {
   "cell_type": "code",
   "execution_count": null,
   "id": "2729566a-e729-45f1-8c7b-1b1ac4753ea9",
   "metadata": {},
   "outputs": [
    {
     "name": "stdout",
     "output_type": "stream",
     "text": [
      "First 10 Fibonacci numbers:  [0, 1, 1, 2, 3, 5, 8, 13, 21, 34]\n"
     ]
    }
   ],
   "source": [
    "# 29. Create a list of the first 10 Fibonacci numbers.\n",
    "a = 0\n",
    "b = 1\n",
    "l = []\n",
    "l.append(a)\n",
    "for i in range(9):\n",
    "    a,b = b,a +b\n",
    "    l.append(a)\n",
    "print(\"First 10 Fibonacci numbers: \", l)"
   ]
  },
  {
   "cell_type": "code",
   "execution_count": null,
   "id": "29fa40e9-08bb-488e-8758-5838ba7a7f66",
   "metadata": {},
   "outputs": [
    {
     "data": {
      "text/plain": [
       "'Not sorted'"
      ]
     },
     "execution_count": 22,
     "metadata": {},
     "output_type": "execute_result"
    }
   ],
   "source": [
    "# 30. Check if a list is sorted.\n",
    "l = [0,2,1, 1, 2, 3, 5, 8, 13, 21, 34]\n",
    "\n",
    "def is_sorted(l):\n",
    "    for i in range(1,len(l)):\n",
    "        if l[i]<l[i-1]:\n",
    "            return \"Not sorted\"\n",
    "    return \"sorted\"\n",
    "\n",
    "is_sorted(l)\n",
    "    "
   ]
  },
  {
   "cell_type": "code",
   "execution_count": null,
   "id": "235d7b1d-a432-4aac-bbaa-2bb636544cc0",
   "metadata": {},
   "outputs": [
    {
     "data": {
      "text/plain": [
       "[5, 8, 13, 21, 34, 0, 1, 2, 3]"
      ]
     },
     "execution_count": 51,
     "metadata": {},
     "output_type": "execute_result"
    }
   ],
   "source": [
    "# 31. Rotate a list to the left by `n` positions.\n",
    "l = [0, 1, 2, 3, 5, 8, 13, 21, 34]\n",
    "\n",
    "def rotate_left(n):\n",
    "    return l[n:] + l[:n]\n",
    "rotate_left(4)"
   ]
  },
  {
   "cell_type": "code",
   "execution_count": null,
   "id": "a5700cf4-d06b-4ad4-96bc-938d1d8a5656",
   "metadata": {},
   "outputs": [
    {
     "data": {
      "text/plain": [
       "[8, 13, 21, 34, 0, 1, 2, 3, 5]"
      ]
     },
     "execution_count": 73,
     "metadata": {},
     "output_type": "execute_result"
    }
   ],
   "source": [
    "# 32. Rotate a list to the right by `n` positions.\n",
    "l = [0, 1, 2, 3, 5, 8, 13, 21, 34]\n",
    "\n",
    "def rotate_right(n):\n",
    "    return l[-n:] + l[:-n] # same as l[len(l)-n:] + l[:len(l)-n] \n",
    "rotate_right(4)"
   ]
  },
  {
   "cell_type": "code",
   "execution_count": null,
   "id": "6391b3fe-b6a3-45e7-8380-937cd1d8b3d4",
   "metadata": {},
   "outputs": [
    {
     "data": {
      "text/plain": [
       "[2, 3, 5, 7, 11, 13, 17, 19, 23, 29, 31, 37, 41, 43, 47]"
      ]
     },
     "execution_count": 10,
     "metadata": {},
     "output_type": "execute_result"
    }
   ],
   "source": [
    "# 33. Create a list of prime numbers up to 50.\n",
    "\n",
    "n = 7\n",
    "\n",
    "def is_prime(n):\n",
    "    if n<2:\n",
    "        return False\n",
    "    for i in range(2, int(n**0.5) + 1):\n",
    "        if n%i==0:\n",
    "            return False\n",
    "            break\n",
    "    else:\n",
    "        return True\n",
    "         \n",
    "[i for i in range(2,50) if is_prime(i)]"
   ]
  },
  {
   "cell_type": "code",
   "execution_count": null,
   "id": "1a7b5605-6215-458a-9202-d87c5d109c84",
   "metadata": {},
   "outputs": [
    {
     "data": {
      "text/plain": [
       "[[2, 3, 5, 7], [11, 13, 17, 19], [23, 29, 31, 37], [41, 43, 47]]"
      ]
     },
     "execution_count": 27,
     "metadata": {},
     "output_type": "execute_result"
    }
   ],
   "source": [
    "# 34. Split a list into chunks of size `n`.\n",
    "\n",
    "n = 4\n",
    "l = [2, 3, 5, 7, 11, 13, 17, 19, 23, 29, 31, 37, 41, 43, 47]\n",
    "new_list = []\n",
    "\n",
    "for i in range(0, len(l), n):\n",
    "    new_list.append(l[i : i + n])\n",
    "    \n",
    "new_list\n"
   ]
  },
  {
   "cell_type": "code",
   "execution_count": null,
   "id": "817a8af3-f72e-4874-ab26-aa56a78997f6",
   "metadata": {},
   "outputs": [
    {
     "data": {
      "text/plain": [
       "12"
      ]
     },
     "execution_count": 33,
     "metadata": {},
     "output_type": "execute_result"
    }
   ],
   "source": [
    "# 35. Find the second largest number in a list.\n",
    "l = [12,3,4,45,5,6,4,10]\n",
    "\n",
    "l.sort(reverse = True)\n",
    "l[1]"
   ]
  },
  {
   "cell_type": "code",
   "execution_count": null,
   "id": "d136267e-4c3f-4a1d-941e-d809de3ca9ed",
   "metadata": {},
   "outputs": [
    {
     "data": {
      "text/plain": [
       "[4, 16, 36, 64, 100]"
      ]
     },
     "execution_count": 34,
     "metadata": {},
     "output_type": "execute_result"
    }
   ],
   "source": [
    "# 36. Replace every element in a list with its square.\n",
    "l = [2, 4, 6, 8, 10]\n",
    "\n",
    "[i**2 for i in l]"
   ]
  },
  {
   "cell_type": "code",
   "execution_count": null,
   "id": "c513c864-5aa9-4157-ab0d-a56c02f41036",
   "metadata": {},
   "outputs": [
    {
     "data": {
      "text/plain": [
       "{'apple': 0, 'banana': 1, 'cherry': 2, 'date': 3, 'elderberry': 4}"
      ]
     },
     "execution_count": 41,
     "metadata": {},
     "output_type": "execute_result"
    }
   ],
   "source": [
    "# 37. Convert a list to a dictionary where list elements become keys and their indices become values.\n",
    "l =  ['apple', 'banana', 'cherry', 'date', 'elderberry']\n",
    "d = {}\n",
    "\n",
    "for i,j in enumerate(l):\n",
    "    d[j] = i\n",
    "d"
   ]
  },
  {
   "cell_type": "code",
   "execution_count": null,
   "id": "fed77bab-f62e-433e-ba36-2ea35ae4d091",
   "metadata": {},
   "outputs": [
    {
     "data": {
      "text/plain": [
       "['banana', 'elderberry', 'cherry', 'date', 'apple']"
      ]
     },
     "execution_count": 43,
     "metadata": {},
     "output_type": "execute_result"
    }
   ],
   "source": [
    "# 38. Shuffle the elements of a list randomly.\n",
    "import random\n",
    "\n",
    "random.shuffle(l)\n",
    "l"
   ]
  },
  {
   "cell_type": "code",
   "execution_count": null,
   "id": "f81bb14f-85e4-4ce6-83f2-db5bbf7ed7b8",
   "metadata": {},
   "outputs": [
    {
     "data": {
      "text/plain": [
       "[1, 1, 2, 6, 24, 120, 720, 5040, 40320, 362880]"
      ]
     },
     "execution_count": 60,
     "metadata": {},
     "output_type": "execute_result"
    }
   ],
   "source": [
    "# 39. Create a list of the first 10 factorial numbers.\n",
    "def fact(n):\n",
    "    sum = 1\n",
    "    for i in range(1,n +1):\n",
    "        sum = sum * i \n",
    "    return sum\n",
    "\n",
    "[fact(i) for i in range(10)]"
   ]
  },
  {
   "cell_type": "code",
   "execution_count": null,
   "id": "de516903-ce64-4470-aacd-178785b73bb4",
   "metadata": {},
   "outputs": [
    {
     "name": "stdout",
     "output_type": "stream",
     "text": [
      "The two lists have at least one element in common\n"
     ]
    }
   ],
   "source": [
    "# 40. Check if two lists have at least one element in common.\n",
    "l1 = [1, 1, 2, 6, 24, 120, 720, 5040, 40320, 362880]\n",
    "\n",
    "l2 = [2, 4, 6, 8, 10]\n",
    "\n",
    "if len(set(l1).intersection(l2)) > 0:\n",
    "    print(\"The two lists have at least one element in common\" )\n",
    "else:\n",
    "    print(\"The two lists have no element in common\")\n",
    "    "
   ]
  },
  {
   "cell_type": "code",
   "execution_count": null,
   "id": "876e9406-eda8-45c4-9f1d-171aaad2e0fb",
   "metadata": {},
   "outputs": [
    {
     "data": {
      "text/plain": [
       "[]"
      ]
     },
     "execution_count": 68,
     "metadata": {},
     "output_type": "execute_result"
    }
   ],
   "source": [
    "# 41. Remove all elements from a list.\n",
    "l = [2, 4, 6, 8, 10]\n",
    "\n",
    "l.clear()\n",
    "l"
   ]
  },
  {
   "cell_type": "code",
   "execution_count": null,
   "id": "d21e669c-4b48-4fdb-af51-412a9a93ca19",
   "metadata": {},
   "outputs": [
    {
     "data": {
      "text/plain": [
       "[10, 0, 20, 0, 30, 0]"
      ]
     },
     "execution_count": 76,
     "metadata": {},
     "output_type": "execute_result"
    }
   ],
   "source": [
    "# 42. Replace negative numbers in a list with 0.\n",
    "\n",
    "l = [10, -5, 20, -15, 30, -25]\n",
    "for i in l:\n",
    "    if i<0:\n",
    "        l[l.index(i)]= 0 \n",
    "l\n"
   ]
  },
  {
   "cell_type": "code",
   "execution_count": null,
   "id": "210622d2-e1da-4910-a322-3f1eb01086fa",
   "metadata": {},
   "outputs": [
    {
     "data": {
      "text/plain": [
       "['Hello,', 'this', 'is', 'a', 'sample', 'sentence.']"
      ]
     },
     "execution_count": 77,
     "metadata": {},
     "output_type": "execute_result"
    }
   ],
   "source": [
    "# 43. Convert a string into a list of words.\n",
    "s =  \"Hello, this is a sample sentence.\"\n",
    "s.split()"
   ]
  },
  {
   "cell_type": "code",
   "execution_count": null,
   "id": "79241cdd-8e7a-4f1f-bb23-4f86911fb847",
   "metadata": {},
   "outputs": [
    {
     "data": {
      "text/plain": [
       "'Hello, this is a sample sentence.'"
      ]
     },
     "execution_count": 81,
     "metadata": {},
     "output_type": "execute_result"
    }
   ],
   "source": [
    "# 44. Convert a list of words into a string.\n",
    "ls = ['Hello,', 'this', 'is', 'a', 'sample', 'sentence.']\n",
    "\" \".join(ls)"
   ]
  },
  {
   "cell_type": "code",
   "execution_count": null,
   "id": "bf724cf8-ed72-44e5-a3d5-10d6e90271fe",
   "metadata": {},
   "outputs": [
    {
     "data": {
      "text/plain": [
       "[1, 2, 4, 8, 16]"
      ]
     },
     "execution_count": 84,
     "metadata": {},
     "output_type": "execute_result"
    }
   ],
   "source": [
    "# 45. Create a list of the first `n` powers of 2.\n",
    "\n",
    "n = 5\n",
    "[2**i for i in range(n)]"
   ]
  },
  {
   "cell_type": "code",
   "execution_count": null,
   "id": "f29c4dde-67fb-4fa2-afd8-4c2231237eb1",
   "metadata": {},
   "outputs": [
    {
     "data": {
      "text/plain": [
       "'sentence.'"
      ]
     },
     "execution_count": 87,
     "metadata": {},
     "output_type": "execute_result"
    }
   ],
   "source": [
    "# 46. Find the longest string in a list of strings.\n",
    "ls = ['Hello,', 'this', 'is', 'a', 'sample', 'sentence.']\n",
    "\n",
    "max(ls, key=len)"
   ]
  },
  {
   "cell_type": "code",
   "execution_count": null,
   "id": "0a3a4248-443e-493d-b544-6eb74bf72206",
   "metadata": {},
   "outputs": [
    {
     "data": {
      "text/plain": [
       "'a'"
      ]
     },
     "execution_count": 88,
     "metadata": {},
     "output_type": "execute_result"
    }
   ],
   "source": [
    "# 47. Find the shortest string in a list of strings.\n",
    "ls = ['Hello,', 'this', 'is', 'a', 'sample', 'sentence.']\n",
    "\n",
    "min(ls, key=len)"
   ]
  },
  {
   "cell_type": "code",
   "execution_count": null,
   "id": "19ee0eb5-4479-4fbf-9314-e91bd213ce9c",
   "metadata": {},
   "outputs": [
    {
     "data": {
      "text/plain": [
       "[1, 3, 6, 10, 15, 21]"
      ]
     },
     "execution_count": 94,
     "metadata": {},
     "output_type": "execute_result"
    }
   ],
   "source": [
    "# 48. Create a list of the first `n` triangular numbers.\n",
    "\n",
    "def triangular_num(n):\n",
    "    return n*(n+1)//2\n",
    "\n",
    "n = 6\n",
    "\n",
    "[triangular_num(i) for i in range(1, n+1)]\n"
   ]
  },
  {
   "cell_type": "code",
   "execution_count": null,
   "id": "4d58e251-f029-4459-b4c1-8f25bbd31ae0",
   "metadata": {},
   "outputs": [
    {
     "name": "stdout",
     "output_type": "stream",
     "text": [
      "Subsequence Found !!\n"
     ]
    }
   ],
   "source": [
    "# 49. Check if a list contains another list as a subsequence.\n",
    "l1 = [1, 2, 3, 4, 5, 6]\n",
    "l2 = [2, 4, 6]\n",
    "\n",
    "l2_index = 0\n",
    "for i in l1:\n",
    "    if i == l2[l2_index]:\n",
    "        l2_index+=1\n",
    "        if l2_index == len(l2):\n",
    "            print('Subsequence Found !!')\n",
    "            break\n",
    "    \n",
    "\n"
   ]
  },
  {
   "cell_type": "code",
   "execution_count": null,
   "id": "da6f962c-8d24-4900-82f9-60447bda6bb7",
   "metadata": {},
   "outputs": [
    {
     "data": {
      "text/plain": [
       "[10, 20, 30, 40, 50]"
      ]
     },
     "execution_count": 27,
     "metadata": {},
     "output_type": "execute_result"
    }
   ],
   "source": [
    "# 50. Swap two elements in a list by their indices.\n",
    "\n",
    "l1 =[10, 20, 30, 40, 50, 30, 30, 40, 40, 50]\n",
    "l2 = [30, 40, 50, 60, 70]\n",
    "\n",
    "\n",
    "for i,j in enumerate(l1):\n",
    "    if i<len(l2):\n",
    "        l1[i], l2[i] = l2[i], j\n",
    "        \n",
    "l2"
   ]
  },
  {
   "cell_type": "code",
   "execution_count": null,
   "id": "31c0dcf7-3a93-453e-967f-477b582d1d8a",
   "metadata": {},
   "outputs": [],
   "source": []
  },
  {
   "cell_type": "markdown",
   "id": "72fa75d8-1017-48fa-b136-b2f6e0966e18",
   "metadata": {},
   "source": [
    "# Tuple Based Practice Problem \n"
   ]
  },
  {
   "cell_type": "code",
   "execution_count": null,
   "id": "ec77eff2-e57f-4170-8b07-57a1cace0ecd",
   "metadata": {},
   "outputs": [
    {
     "data": {
      "text/plain": [
       "(1, 2, 3, 4, 5)"
      ]
     },
     "execution_count": 1,
     "metadata": {},
     "output_type": "execute_result"
    }
   ],
   "source": [
    "#1. Create a tuple with integers from 1 to 5.\n",
    "tuple(i for i in range(1,6))"
   ]
  },
  {
   "cell_type": "code",
   "execution_count": null,
   "id": "6250f3c9-436c-494a-8743-a4700cd3ef6b",
   "metadata": {},
   "outputs": [
    {
     "data": {
      "text/plain": [
       "3"
      ]
     },
     "execution_count": 34,
     "metadata": {},
     "output_type": "execute_result"
    }
   ],
   "source": [
    "# 2. Access the third element of a tuple.\n",
    "t = (1,2,3,4,5,6)\n",
    "t[2]"
   ]
  },
  {
   "cell_type": "code",
   "execution_count": null,
   "id": "db4b35ed-f8ef-45f3-8ef7-02383c73d347",
   "metadata": {},
   "outputs": [
    {
     "data": {
      "text/plain": [
       "6"
      ]
     },
     "execution_count": 36,
     "metadata": {},
     "output_type": "execute_result"
    }
   ],
   "source": [
    "# 3. Find the length of a tuple without using the `len()` function.\n",
    "t = (1,2,3,4,5,6)\n",
    "length = 0\n",
    "for i in t:\n",
    "    length +=1\n",
    "length\n",
    "    "
   ]
  },
  {
   "cell_type": "code",
   "execution_count": null,
   "id": "3304740f-93b7-4ec0-821e-1a05e32cc901",
   "metadata": {},
   "outputs": [
    {
     "data": {
      "text/plain": [
       "3"
      ]
     },
     "execution_count": 37,
     "metadata": {},
     "output_type": "execute_result"
    }
   ],
   "source": [
    "# 4. Count the occurrences of an element in a tuple.\n",
    "t = (10, 20, 30, 20, 40, 50, 20)\n",
    "\n",
    "def count_occurance(n, t):\n",
    "    count = 0\n",
    "    for i in t:\n",
    "        if i ==n:\n",
    "            count+=1\n",
    "    return count\n",
    "\n",
    "count_occurance(20, t)"
   ]
  },
  {
   "cell_type": "code",
   "execution_count": null,
   "id": "fd974af5-0aca-4873-b9b3-bd710dd6950f",
   "metadata": {},
   "outputs": [
    {
     "data": {
      "text/plain": [
       "'21 not found in tuple'"
      ]
     },
     "execution_count": 56,
     "metadata": {},
     "output_type": "execute_result"
    }
   ],
   "source": [
    "# 5. Find the index of the first occurrence of an element in a tuple.\n",
    "t = (20,10, 20, 30, 20, 40, 50, 20)\n",
    "\n",
    "def find_1st_occurance(n, t):\n",
    "    if n in t:\n",
    "        for i,j in enumerate(t):\n",
    "            if j ==n:\n",
    "                return i\n",
    "    else:\n",
    "        return f\"{n} not found in tuple\"\n",
    "    \n",
    "\n",
    "find_1st_occurance(21, t)"
   ]
  },
  {
   "cell_type": "code",
   "execution_count": null,
   "id": "6ffcb8c6-4f8c-4c53-93dc-b6dd5eaa4679",
   "metadata": {},
   "outputs": [
    {
     "data": {
      "text/plain": [
       "'No, the element 21 does not exists in tuple'"
      ]
     },
     "execution_count": 59,
     "metadata": {},
     "output_type": "execute_result"
    }
   ],
   "source": [
    "# 6. Check if an element exists in a tuple.\n",
    "t = (20,10, 20, 30, 20, 40, 50, 20)\n",
    "\n",
    "def is_exist(n,t):\n",
    "    if n in t:\n",
    "        return f\"yes the element {n} exists in tuple\"\n",
    "    else: \n",
    "        return f\"No, the element {n} does not exists in tuple\"\n",
    "    \n",
    "is_exist(21,t)"
   ]
  },
  {
   "cell_type": "code",
   "execution_count": null,
   "id": "89447328-6b5a-49b9-b5d0-f1f8a89de22d",
   "metadata": {},
   "outputs": [
    {
     "data": {
      "text/plain": [
       "[20, 10, 20, 30, 20, 40, 50, 20]"
      ]
     },
     "execution_count": 61,
     "metadata": {},
     "output_type": "execute_result"
    }
   ],
   "source": [
    "# 7. Convert a tuple to a list.\n",
    "\n",
    "t = (20, 10, 20, 30, 20, 40, 50, 20)\n",
    "list(t)"
   ]
  },
  {
   "cell_type": "code",
   "execution_count": null,
   "id": "ad9cd924-0d13-439a-a898-51eba1525634",
   "metadata": {},
   "outputs": [
    {
     "name": "stdout",
     "output_type": "stream",
     "text": [
      "a: 1\n",
      "b: 2\n",
      "c: 3\n"
     ]
    }
   ],
   "source": [
    "# 9. Unpack the elements of a tuple into variables.\n",
    "\n",
    "my_tuple = (1, 2, 3)\n",
    "\n",
    "a, b, c = my_tuple\n",
    "\n",
    "print(\"a:\", a)\n",
    "print(\"b:\", b)\n",
    "print(\"c:\", c)\n"
   ]
  },
  {
   "cell_type": "code",
   "execution_count": null,
   "id": "ef5344d1-04c8-4061-8378-3d20b61ce6ab",
   "metadata": {},
   "outputs": [
    {
     "data": {
      "text/plain": [
       "(2, 4, 6, 8, 10)"
      ]
     },
     "execution_count": 2,
     "metadata": {},
     "output_type": "execute_result"
    }
   ],
   "source": [
    "# 10. Create a tuple of even numbers from 1 to 10.\n",
    "\n",
    "tuple(i for i in range(1, 11) if i%2==0)\n"
   ]
  },
  {
   "cell_type": "code",
   "execution_count": null,
   "id": "c5ea82f6-4767-4763-afaf-7ad4d2904991",
   "metadata": {},
   "outputs": [
    {
     "data": {
      "text/plain": [
       "(1, 3, 5, 7, 9)"
      ]
     },
     "execution_count": 3,
     "metadata": {},
     "output_type": "execute_result"
    }
   ],
   "source": [
    "# 11. Create a tuple of odd numbers from 1 to 10.\n",
    "tuple(i for i in range(1,11) if i%2!=0)"
   ]
  },
  {
   "cell_type": "code",
   "execution_count": null,
   "id": "b292bdb1-896b-45cf-8ad4-c854ed1b6dac",
   "metadata": {},
   "outputs": [
    {
     "data": {
      "text/plain": [
       "(2, 4, 6, 8, 10, 1, 3, 5, 7, 9)"
      ]
     },
     "execution_count": 4,
     "metadata": {},
     "output_type": "execute_result"
    }
   ],
   "source": [
    "# 12. Concatenate two tuples.\n",
    "t1 = (2, 4, 6, 8, 10)\n",
    "t2 = (1, 3, 5, 7, 9)\n",
    "t1 + t2"
   ]
  },
  {
   "cell_type": "code",
   "execution_count": null,
   "id": "2251673e-0bc7-46ac-95e7-c31a2f1059fc",
   "metadata": {},
   "outputs": [
    {
     "data": {
      "text/plain": [
       "(1, 3, 5, 7, 9, 1, 3, 5, 7, 9, 1, 3, 5, 7, 9)"
      ]
     },
     "execution_count": 5,
     "metadata": {},
     "output_type": "execute_result"
    }
   ],
   "source": [
    "# 13. Repeat a tuple three times.\n",
    "t = (1, 3, 5, 7, 9)\n",
    "t*3"
   ]
  },
  {
   "cell_type": "code",
   "execution_count": null,
   "id": "1293f27f-8335-4e57-a164-ac1afb6f18fa",
   "metadata": {},
   "outputs": [
    {
     "name": "stdout",
     "output_type": "stream",
     "text": [
      "empty\n"
     ]
    }
   ],
   "source": [
    "# 14. Check if a tuple is empty.\n",
    "\n",
    "t = ()\n",
    "if t:\n",
    "    print(\"Not emplty\")\n",
    "else:\n",
    "    print(\"empty\")"
   ]
  },
  {
   "cell_type": "code",
   "execution_count": null,
   "id": "88c4b116-2848-466b-9c48-c77fbb24c5d1",
   "metadata": {},
   "outputs": [
    {
     "data": {
      "text/plain": [
       "((1, 2, 3), ('a', 'b', 'c'), (True, False))"
      ]
     },
     "execution_count": 7,
     "metadata": {},
     "output_type": "execute_result"
    }
   ],
   "source": [
    "# 15. Create a nested tuple.\n",
    "nested_tuple = ((1, 2, 3), ('a', 'b', 'c'), (True, False))\n",
    "nested_tuple"
   ]
  },
  {
   "cell_type": "code",
   "execution_count": null,
   "id": "330a5a69-3a2f-4cd6-930a-35eb8a98d85f",
   "metadata": {},
   "outputs": [
    {
     "data": {
      "text/plain": [
       "(1, 2, 3)"
      ]
     },
     "execution_count": 8,
     "metadata": {},
     "output_type": "execute_result"
    }
   ],
   "source": [
    "# 16. Access the first element of a nested tuple.\n",
    "nested_tuple = ((1, 2, 3), ('a', 'b', 'c'), (True, False))\n",
    "nested_tuple[0]"
   ]
  },
  {
   "cell_type": "code",
   "execution_count": null,
   "id": "e8caeced-a776-4431-afdc-e18576854741",
   "metadata": {},
   "outputs": [
    {
     "data": {
      "text/plain": [
       "2"
      ]
     },
     "execution_count": 9,
     "metadata": {},
     "output_type": "execute_result"
    }
   ],
   "source": [
    "# 17. Create a tuple with a single element.\n",
    "tuple_1 = (2)\n",
    "tuple_1"
   ]
  },
  {
   "cell_type": "code",
   "execution_count": null,
   "id": "86afedca-5c27-4734-945c-dc6d440ab837",
   "metadata": {},
   "outputs": [
    {
     "name": "stdout",
     "output_type": "stream",
     "text": [
      "False\n",
      "True\n"
     ]
    }
   ],
   "source": [
    "# 18. Compare two tuples.\n",
    "t1 = (1, 3, 5, 7, 9, 1, 9)\n",
    "t2 = (1, 3, 5, 7, 9, 1, 1)\n",
    "\n",
    "print(t1==t2)\n",
    "print(t1 >t2)"
   ]
  },
  {
   "cell_type": "code",
   "execution_count": null,
   "id": "8d8d4f01-42f8-4e63-b0fc-4bae76de0118",
   "metadata": {},
   "outputs": [
    {
     "ename": "NameError",
     "evalue": "name 't' is not defined",
     "output_type": "error",
     "traceback": [
      "\u001b[0;31m---------------------------------------------------------------------------\u001b[0m",
      "\u001b[0;31mNameError\u001b[0m                                 Traceback (most recent call last)",
      "Cell \u001b[0;32mIn[11], line 4\u001b[0m\n\u001b[1;32m      2\u001b[0m t \u001b[38;5;241m=\u001b[39m (\u001b[38;5;241m1\u001b[39m, \u001b[38;5;241m3\u001b[39m, \u001b[38;5;241m5\u001b[39m, \u001b[38;5;241m7\u001b[39m, \u001b[38;5;241m9\u001b[39m, \u001b[38;5;241m1\u001b[39m, \u001b[38;5;241m9\u001b[39m)\n\u001b[1;32m      3\u001b[0m \u001b[38;5;28;01mdel\u001b[39;00m t\n\u001b[0;32m----> 4\u001b[0m \u001b[38;5;28mprint\u001b[39m(\u001b[43mt\u001b[49m)\n",
      "\u001b[0;31mNameError\u001b[0m: name 't' is not defined"
     ]
    }
   ],
   "source": [
    "# 19. Delete a tuple.\n",
    "t = (1, 3, 5, 7, 9, 1, 9)\n",
    "del t\n",
    "print(t)"
   ]
  },
  {
   "cell_type": "code",
   "execution_count": null,
   "id": "3e8b2c93-da16-4593-8d3b-aade91e47f2c",
   "metadata": {},
   "outputs": [
    {
     "data": {
      "text/plain": [
       "(1, 3, 5)"
      ]
     },
     "execution_count": 12,
     "metadata": {},
     "output_type": "execute_result"
    }
   ],
   "source": [
    "# 20. Slice a tuple.\n",
    "t = (1, 3, 5, 7, 9, 1, 9) \n",
    "t[:3]"
   ]
  },
  {
   "cell_type": "code",
   "execution_count": null,
   "id": "3faf10e2-9d8f-4827-b37b-c1b9b573359a",
   "metadata": {},
   "outputs": [
    {
     "data": {
      "text/plain": [
       "9"
      ]
     },
     "execution_count": 13,
     "metadata": {},
     "output_type": "execute_result"
    }
   ],
   "source": [
    "# 21. Find the maximum value in a tuple.\n",
    "t = (1, 3, 5, 7, 9, 1, 9) \n",
    "max(t)"
   ]
  },
  {
   "cell_type": "code",
   "execution_count": null,
   "id": "bfe7492e-427c-4dff-a970-20d6cfac585c",
   "metadata": {},
   "outputs": [
    {
     "data": {
      "text/plain": [
       "1"
      ]
     },
     "execution_count": 14,
     "metadata": {},
     "output_type": "execute_result"
    }
   ],
   "source": [
    "# 22. Find the minimum value in a tuple.\n",
    "t = (1, 3, 5, 7, 9, 1, 9) \n",
    "min(t)"
   ]
  },
  {
   "cell_type": "code",
   "execution_count": null,
   "id": "813aaaed-241d-4c0a-87fd-ed6c295fa631",
   "metadata": {},
   "outputs": [
    {
     "data": {
      "text/plain": [
       "('H', 'e', 'l', 'l', 'o', ',', ' ', 'W', 'o', 'r', 'l', 'd', '!')"
      ]
     },
     "execution_count": 15,
     "metadata": {},
     "output_type": "execute_result"
    }
   ],
   "source": [
    "# 23. Convert a string to a tuple of characters.\n",
    "s = \"Hello, World!\"\n",
    "tuple(s)"
   ]
  },
  {
   "cell_type": "code",
   "execution_count": null,
   "id": "306972ec-2e2d-4e27-853e-054f02a6cf6f",
   "metadata": {},
   "outputs": [
    {
     "data": {
      "text/plain": [
       "'H e l l o   W o r l d !'"
      ]
     },
     "execution_count": 16,
     "metadata": {},
     "output_type": "execute_result"
    }
   ],
   "source": [
    "# 24. Convert a tuple of characters to a string.\n",
    "ts  = ('H', 'e', 'l', 'l', 'o', ' ', 'W', 'o', 'r', 'l', 'd', '!')\n",
    "\" \".join(ts)"
   ]
  },
  {
   "cell_type": "code",
   "execution_count": null,
   "id": "7a85b131-965c-4027-aaec-9919d44e4197",
   "metadata": {},
   "outputs": [
    {
     "data": {
      "text/plain": [
       "(10, 'hello', 3.14, True)"
      ]
     },
     "execution_count": 17,
     "metadata": {},
     "output_type": "execute_result"
    }
   ],
   "source": [
    "# 25. Create a tuple from multiple data types.\n",
    "t = (10, \"hello\", 3.14, True)\n",
    "t"
   ]
  },
  {
   "cell_type": "code",
   "execution_count": null,
   "id": "23eb0723-c7c4-4187-9416-6ce3188df55a",
   "metadata": {},
   "outputs": [
    {
     "data": {
      "text/plain": [
       "False"
      ]
     },
     "execution_count": 18,
     "metadata": {},
     "output_type": "execute_result"
    }
   ],
   "source": [
    "# 26. Check if two tuples are identical.\n",
    "t1 = (1,2,3,4)\n",
    "t2 = (2,3,4,1)\n"
   ]
  },
  {
   "cell_type": "code",
   "execution_count": null,
   "id": "9de207ff-b8f7-44f3-9fb8-c652c22d56b5",
   "metadata": {},
   "outputs": [
    {
     "data": {
      "text/plain": [
       "(1, 2, 3, 4)"
      ]
     },
     "execution_count": 23,
     "metadata": {},
     "output_type": "execute_result"
    }
   ],
   "source": [
    "#27. Sort the elements of a tuple.\n",
    "t =  (2,3,4,1)\n",
    "tuple(sorted(t))"
   ]
  },
  {
   "cell_type": "code",
   "execution_count": null,
   "id": "e91881ae-5692-40bf-a910-9c8661306b90",
   "metadata": {},
   "outputs": [
    {
     "data": {
      "text/plain": [
       "('2', '3', '4', '1')"
      ]
     },
     "execution_count": 24,
     "metadata": {},
     "output_type": "execute_result"
    }
   ],
   "source": [
    "# 28. Convert a tuple of integers to a tuple of strings.\n",
    "t =  (2,3,4,1)\n",
    "tuple(str(i) for i in t)"
   ]
  },
  {
   "cell_type": "code",
   "execution_count": null,
   "id": "e979d438-0175-4ba1-a917-86972cb60242",
   "metadata": {},
   "outputs": [
    {
     "data": {
      "text/plain": [
       "(10, 20, 30, 40, 50)"
      ]
     },
     "execution_count": 27,
     "metadata": {},
     "output_type": "execute_result"
    }
   ],
   "source": [
    "# 29. Convert a tuple of strings to a tuple of integers.\n",
    "\n",
    "t1 = ('10', '20', '30', '40', '50')\n",
    "tuple(int(i) for i in t1)"
   ]
  },
  {
   "cell_type": "code",
   "execution_count": null,
   "id": "524dfaf4-8185-4749-8dad-da1d5aa637fe",
   "metadata": {},
   "outputs": [
    {
     "data": {
      "text/plain": [
       "('10', '20', '30', '40', '50', 2, 3, 4, 1)"
      ]
     },
     "execution_count": 30,
     "metadata": {},
     "output_type": "execute_result"
    }
   ],
   "source": [
    "# 30. Merge two tuples.\n",
    "t1 = ('10', '20', '30', '40', '50')\n",
    "t =  (2,3,4,1)\n",
    "t1 + t"
   ]
  },
  {
   "cell_type": "code",
   "execution_count": 45,
   "id": "0a13de56-0e43-4a97-bb5a-95e24c858eec",
   "metadata": {},
   "outputs": [
    {
     "data": {
      "text/plain": [
       "(1, 2, 3, 4, 5, 6, 7, 8)"
      ]
     },
     "execution_count": 45,
     "metadata": {},
     "output_type": "execute_result"
    }
   ],
   "source": [
    "# 31. Flatten a nested tuple.\n",
    "\n",
    "nt = ((1, 2), (3, 4, 5), (6, (7, 8)))\n",
    "\n",
    "\n",
    "def flatten_tuple(t):\n",
    "    ft = [] \n",
    "    for i in t:\n",
    "        if isinstance(i, tuple):\n",
    "            ft.extend(flatten_tuple(i))\n",
    "        else:\n",
    "            ft.append(i)\n",
    "    return ft\n",
    "\n",
    "tuple(flatten_tuple(nt))\n",
    "            \n",
    "        "
   ]
  },
  {
   "cell_type": "code",
   "execution_count": 47,
   "id": "f3962bdf-362b-4dab-9417-8ce6715abd81",
   "metadata": {},
   "outputs": [
    {
     "data": {
      "text/plain": [
       "(2, 3, 5, 7, 11)"
      ]
     },
     "execution_count": 47,
     "metadata": {},
     "output_type": "execute_result"
    }
   ],
   "source": [
    "# 32. Create a tuple of the first 5 prime numbers.\n",
    "\n",
    "def is_prime(n):\n",
    "    if n<=1:\n",
    "        return False\n",
    "    for i in range(2, int(n**0.5) + 1):\n",
    "        if n%i==0:\n",
    "            return False\n",
    "    return True\n",
    "\n",
    "tuple(i for i in range(1, 100) if is_prime(i))[:5]\n",
    "        "
   ]
  },
  {
   "cell_type": "code",
   "execution_count": 49,
   "id": "df55d015-1660-4362-bbe1-409123e097c8",
   "metadata": {},
   "outputs": [
    {
     "name": "stdout",
     "output_type": "stream",
     "text": [
      "Yes, it is a palindrome\n"
     ]
    }
   ],
   "source": [
    "# 33. Check if a tuple is a palindrome.\n",
    "pt =  (1, 2, 3, 2, 1)\n",
    "if pt == pt[::-1]:\n",
    "    print(\"Yes, it is a palindrome\")\n",
    "else :\n",
    "    print(\"Not a palindrome\")"
   ]
  },
  {
   "cell_type": "code",
   "execution_count": 51,
   "id": "c4d8ee64-66df-47b6-83d1-05b4cb618032",
   "metadata": {},
   "outputs": [
    {
     "data": {
      "text/plain": [
       "(1, 4, 9, 16, 25)"
      ]
     },
     "execution_count": 51,
     "metadata": {},
     "output_type": "execute_result"
    }
   ],
   "source": [
    "# 34. Create a tuple of squares of numbers from 1 to 5.\n",
    "tuple(i**2 for i in range(1,6))"
   ]
  },
  {
   "cell_type": "code",
   "execution_count": 53,
   "id": "a55782cb-8365-4021-b347-4675480b6546",
   "metadata": {},
   "outputs": [
    {
     "data": {
      "text/plain": [
       "(1, 3, 5, 7, 9)"
      ]
     },
     "execution_count": 53,
     "metadata": {},
     "output_type": "execute_result"
    }
   ],
   "source": [
    "# 35. Filter out all even numbers from a tuple.\n",
    "t = (1, 2, 3, 4, 5, 6, 7, 8, 9, 10)\n",
    "tuple(i for i in t if i%2!=0)"
   ]
  },
  {
   "cell_type": "code",
   "execution_count": 54,
   "id": "8fb19984-8778-4a30-bc83-fa9a046279cd",
   "metadata": {},
   "outputs": [
    {
     "data": {
      "text/plain": [
       "(2, 4, 6, 8, 10, 12, 14, 16, 18, 20)"
      ]
     },
     "execution_count": 54,
     "metadata": {},
     "output_type": "execute_result"
    }
   ],
   "source": [
    "# 36. Multiply all elements in a tuple by 2.\n",
    "t = (1, 2, 3, 4, 5, 6, 7, 8, 9, 10)\n",
    "tuple(i*2 for i in t)"
   ]
  },
  {
   "cell_type": "code",
   "execution_count": 62,
   "id": "bdf058c8-6856-44df-a1ac-477807feae44",
   "metadata": {},
   "outputs": [
    {
     "data": {
      "text/plain": [
       "(20, 17, 48, 5, 36, 33, 45, 18, 11, 6)"
      ]
     },
     "execution_count": 62,
     "metadata": {},
     "output_type": "execute_result"
    }
   ],
   "source": [
    "# 37. Create a tuple of random numbers.\n",
    "import random\n",
    "\n",
    "tuple(random.randint(1,50)for i in range(10) )"
   ]
  },
  {
   "cell_type": "code",
   "execution_count": 65,
   "id": "a0ebc9c8-9fe9-4d04-a7b7-3fde106172c1",
   "metadata": {},
   "outputs": [
    {
     "data": {
      "text/plain": [
       "False"
      ]
     },
     "execution_count": 65,
     "metadata": {},
     "output_type": "execute_result"
    }
   ],
   "source": [
    "# 38. Check if a tuple is sorted.\n",
    "t = (1,2,3,4,20, 17, 48, 5, 36, 33, 45, 18, 11, 6)\n",
    "\n",
    "def is_sorted(t):\n",
    "    for i in range(len(t) - 1):\n",
    "        if t[i]>t[i+1]:\n",
    "            return False\n",
    "    return True\n",
    "is_sorted(t)\n",
    "\n"
   ]
  },
  {
   "cell_type": "code",
   "execution_count": 67,
   "id": "9f3ff1ca-cc1c-46ee-b318-120f37df5d3d",
   "metadata": {},
   "outputs": [
    {
     "data": {
      "text/plain": [
       "(3, 4, 5, 1, 2)"
      ]
     },
     "execution_count": 67,
     "metadata": {},
     "output_type": "execute_result"
    }
   ],
   "source": [
    "#39. Rotate a tuple to the left by `n` positions.\n",
    "t = (1, 2, 3, 4, 5)\n",
    "\n",
    "def rotate_left(t,n):\n",
    "    return t[n:] + t[:n]\n",
    "rotate_left(t,2)"
   ]
  },
  {
   "cell_type": "code",
   "execution_count": 71,
   "id": "c1fbf91e-383a-40ac-95b4-4cdf74db3d61",
   "metadata": {},
   "outputs": [
    {
     "data": {
      "text/plain": [
       "(4, 5, 1, 2, 3)"
      ]
     },
     "execution_count": 71,
     "metadata": {},
     "output_type": "execute_result"
    }
   ],
   "source": [
    "# 40. Rotate a tuple to the right by `n` positions.\n",
    "t = (1, 2, 3, 4, 5)\n",
    "# (4,5,1,2,3) for n=2\n",
    "\n",
    "def rotate_right(t,n):\n",
    "    return t[n+1:] + t[:n + 1]  # [3:] + [:3] == [4,5] + [1,2,3] \n",
    "rotate_right(t,2)"
   ]
  },
  {
   "cell_type": "code",
   "execution_count": 80,
   "id": "ec1870a0-e3e4-4229-8d0e-9e0fa7165d7a",
   "metadata": {},
   "outputs": [
    {
     "name": "stdout",
     "output_type": "stream",
     "text": [
      "0\n",
      "1\n",
      "1\n",
      "2\n",
      "3\n"
     ]
    }
   ],
   "source": [
    "# 41. Create a tuple of the first 5 Fibonacci numbers.\n",
    "def fib_nums(n):\n",
    "    a=0\n",
    "    b=1\n",
    "    print(a)\n",
    "    for i in range(2, n+1):\n",
    "        a,b = b, b +a\n",
    "        print(a)\n",
    "fib_nums(5)\n",
    "        "
   ]
  },
  {
   "cell_type": "code",
   "execution_count": 3,
   "id": "52aa9eef-c565-4dcc-8fba-c92c0e9c844d",
   "metadata": {},
   "outputs": [
    {
     "name": "stdin",
     "output_type": "stream",
     "text": [
      "Enter a value (enter 'x' to stop):  3\n",
      "Enter a value (enter 'x' to stop):  4\n",
      "Enter a value (enter 'x' to stop):  5\n",
      "Enter a value (enter 'x' to stop):  5\n",
      "Enter a value (enter 'x' to stop):  x\n"
     ]
    },
    {
     "name": "stdout",
     "output_type": "stream",
     "text": [
      "The tuple is: (3, 4, 5, 5)\n"
     ]
    }
   ],
   "source": [
    " # 42. Create a tuple from user input.\n",
    "t = []\n",
    "\n",
    "while True:\n",
    "    user_input = input(\"Enter a value (enter 'x' to stop): \")\n",
    "    \n",
    "    if user_input.lower() == 'x':\n",
    "        break\n",
    "    \n",
    "    # Assuming the user enters individual values separated by commas\n",
    "    try:\n",
    "        input_value = eval(user_input)\n",
    "        t.append(input_value)\n",
    "    except Exception as e:\n",
    "        print(f\"Error: {e}. Please enter a valid value.\")\n",
    "\n",
    "result_tuple = tuple(t)\n",
    "print(\"The tuple is:\" ,result_tuple)\n"
   ]
  },
  {
   "cell_type": "code",
   "execution_count": 13,
   "id": "71d67a30-56af-4e32-865b-77b64930427b",
   "metadata": {},
   "outputs": [
    {
     "data": {
      "text/plain": [
       "(2, 1, 3, 4, 20, 17, 48, 5, 36, 33, 45, 18, 11, 6)"
      ]
     },
     "execution_count": 13,
     "metadata": {},
     "output_type": "execute_result"
    }
   ],
   "source": [
    "# 43. Swap two elements in a tuple.\n",
    "t = (1,2,3,4,20, 17, 48, 5, 36, 33, 45, 18, 11, 6)\n",
    "\n",
    "def swap(t, index_1, index_2):\n",
    "    t = list(t)\n",
    "    t[index_1], t[index_2] = t[index_2], t[index_1]\n",
    "    return tuple(t)\n",
    "    \n",
    "swap(t,0,1)"
   ]
  },
  {
   "cell_type": "code",
   "execution_count": 2,
   "id": "b28972d6-6e34-421e-b6bf-4697ccdb18b0",
   "metadata": {},
   "outputs": [
    {
     "data": {
      "text/plain": [
       "(6, 11, 18, 45, 33, 36, 5, 48, 17, 20, 4, 3, 1, 2)"
      ]
     },
     "execution_count": 2,
     "metadata": {},
     "output_type": "execute_result"
    }
   ],
   "source": [
    "# 44. Reverse the elements of a tuple.\n",
    "t = (2, 1, 3, 4, 20, 17, 48, 5, 36, 33, 45, 18, 11, 6)\n",
    "t[::-1]"
   ]
  },
  {
   "cell_type": "code",
   "execution_count": 3,
   "id": "401d97ab-9c88-4f89-8a1d-2e0c3452746a",
   "metadata": {},
   "outputs": [
    {
     "data": {
      "text/plain": [
       "(2, 4, 8, 16, 32)"
      ]
     },
     "execution_count": 3,
     "metadata": {},
     "output_type": "execute_result"
    }
   ],
   "source": [
    "# 45. Create a tuple of the first `n` powers of 2.\n",
    "\n",
    "def power_of_2(n):\n",
    "    return tuple(2**i for i in range(1,n+1))\n",
    "power_of_2(5)"
   ]
  },
  {
   "cell_type": "code",
   "execution_count": 8,
   "id": "ae161f73-078b-45d4-8d1f-02589c4091a8",
   "metadata": {},
   "outputs": [
    {
     "data": {
      "text/plain": [
       "'watermelon'"
      ]
     },
     "execution_count": 8,
     "metadata": {},
     "output_type": "execute_result"
    }
   ],
   "source": [
    "# 46. Find the longest string in a tuple of strings.\n",
    "s =  (\"apple\", \"banana\", \"grape\", \"kiwi\", \"watermelon\")\n",
    "max(s, key=len)"
   ]
  },
  {
   "cell_type": "code",
   "execution_count": 9,
   "id": "0b60a772-778d-4874-88a0-c1a0c6badcf2",
   "metadata": {},
   "outputs": [
    {
     "data": {
      "text/plain": [
       "'kiwi'"
      ]
     },
     "execution_count": 9,
     "metadata": {},
     "output_type": "execute_result"
    }
   ],
   "source": [
    "# 47. Find the shortest string in a tuple of strings.\n",
    "s =  (\"apple\", \"banana\", \"grape\", \"kiwi\", \"watermelon\")\n",
    "min(s, key=len)"
   ]
  },
  {
   "cell_type": "code",
   "execution_count": 15,
   "id": "f48a3686-7b4c-460c-88f6-12aee726b45e",
   "metadata": {},
   "outputs": [
    {
     "data": {
      "text/plain": [
       "(1, 3, 6, 10, 15)"
      ]
     },
     "execution_count": 15,
     "metadata": {},
     "output_type": "execute_result"
    }
   ],
   "source": [
    "#48. Create a tuple of the first `n` triangular numbers.\n",
    "\n",
    "def triangular_nums(n):\n",
    "    t = []\n",
    "    for i in range(1, n+1):\n",
    "        t.append(i*(i+1)//2)\n",
    "    return tuple(t)\n",
    "triangular_nums(5)"
   ]
  },
  {
   "cell_type": "code",
   "execution_count": 17,
   "id": "870511d0-5942-4e16-9f69-04620edf60f1",
   "metadata": {},
   "outputs": [
    {
     "name": "stdout",
     "output_type": "stream",
     "text": [
      "True\n"
     ]
    }
   ],
   "source": [
    "\n",
    "def contains_subsequence(main_tuple, sub_tuple):\n",
    "    sub_length = len(sub_tuple)\n",
    "    for i in range(len(main_tuple) - sub_length + 1):\n",
    "        if main_tuple[i:i+sub_length] == sub_tuple:\n",
    "            return True\n",
    "    return False\n",
    "\n",
    "main_tuple = (1, 2, 3, 4, 5, 6, 7, 8, 9)\n",
    "\n",
    "sub_tuple = (3, 4, 5)\n",
    "\n",
    "print(contains_subsequence(main_tuple, sub_tuple))\n",
    "\n",
    "\n"
   ]
  },
  {
   "cell_type": "code",
   "execution_count": 19,
   "id": "50291e58-a10c-42e3-b010-02f0efa4b7ba",
   "metadata": {},
   "outputs": [
    {
     "data": {
      "text/plain": [
       "(0, 1, 0, 1, 0, 1, 0, 1, 0, 1, 0, 1)"
      ]
     },
     "execution_count": 19,
     "metadata": {},
     "output_type": "execute_result"
    }
   ],
   "source": [
    "# 50. Create a tuple of alternating 1s and 0s of length `n`.\n",
    "\n",
    "def gen(n):\n",
    "    return tuple(i%2 for i in range(n))\n",
    "\n",
    "gen(12)"
   ]
  },
  {
   "cell_type": "markdown",
   "id": "a48c5ae1-577f-4c26-abfa-88cccb3149e7",
   "metadata": {},
   "source": [
    "# Set Based Practice Problem "
   ]
  },
  {
   "cell_type": "code",
   "execution_count": 20,
   "id": "51278a2c-5128-44d2-9b99-5880525cddbd",
   "metadata": {},
   "outputs": [
    {
     "data": {
      "text/plain": [
       "{1, 2, 3, 4, 5}"
      ]
     },
     "execution_count": 20,
     "metadata": {},
     "output_type": "execute_result"
    }
   ],
   "source": [
    "# 1. Create a set with integers from 1 to 5.\n",
    "set(i for i in range(1,6))"
   ]
  },
  {
   "cell_type": "code",
   "execution_count": 23,
   "id": "2a5e8864-614d-4cfe-9f02-f5ac6b78d698",
   "metadata": {},
   "outputs": [
    {
     "data": {
      "text/plain": [
       "{1, 2, 3, 4, 5, 6}"
      ]
     },
     "execution_count": 23,
     "metadata": {},
     "output_type": "execute_result"
    }
   ],
   "source": [
    "# 2. Add an element to a set.\n",
    "s = {1,2,3,4,5}\n",
    "s.add(6)\n",
    "s"
   ]
  },
  {
   "cell_type": "code",
   "execution_count": 25,
   "id": "97039722-5921-4a80-a7f4-8de5d221b7ab",
   "metadata": {},
   "outputs": [
    {
     "data": {
      "text/plain": [
       "{1, 2, 3, 4, 5}"
      ]
     },
     "execution_count": 25,
     "metadata": {},
     "output_type": "execute_result"
    }
   ],
   "source": [
    "# 3. Remove an element from a set.\n",
    "s = {1, 2, 3, 4, 5, 6}\n",
    "s.remove(6)\n",
    "s"
   ]
  },
  {
   "cell_type": "code",
   "execution_count": 31,
   "id": "81a7f665-8d47-4e19-ae65-68c732b9f6b1",
   "metadata": {},
   "outputs": [
    {
     "data": {
      "text/plain": [
       "'Yes'"
      ]
     },
     "execution_count": 31,
     "metadata": {},
     "output_type": "execute_result"
    }
   ],
   "source": [
    "#4. Check if an element exists in a set.\n",
    "def check_element(n):\n",
    "    if n in s:\n",
    "        return \"Yes\"\n",
    "    else:\n",
    "        return \"No\"\n",
    "    \n",
    "check_element(2)"
   ]
  },
  {
   "cell_type": "code",
   "execution_count": 32,
   "id": "b71c5f23-2cb6-4026-b2cd-14a3e9f7134a",
   "metadata": {},
   "outputs": [
    {
     "data": {
      "text/plain": [
       "6"
      ]
     },
     "execution_count": 32,
     "metadata": {},
     "output_type": "execute_result"
    }
   ],
   "source": [
    "# 5. Find the length of a set without using the `len()` function.\n",
    "s = {1, 2, 3, 4, 5, 6}\n",
    "\n",
    "def find_len(s):\n",
    "    length = 0\n",
    "    for _ in s:\n",
    "        length+=1\n",
    "    return length\n",
    "find_len(s)"
   ]
  },
  {
   "cell_type": "code",
   "execution_count": 34,
   "id": "9d0da594-10f4-489f-8fd5-777de4bb73e0",
   "metadata": {},
   "outputs": [
    {
     "data": {
      "text/plain": [
       "set()"
      ]
     },
     "execution_count": 34,
     "metadata": {},
     "output_type": "execute_result"
    }
   ],
   "source": [
    "# 6. Clear all elements from a set.\n",
    "s.clear()\n",
    "s"
   ]
  },
  {
   "cell_type": "code",
   "execution_count": 36,
   "id": "a0ff60f1-1e55-4065-a64f-786b97badcba",
   "metadata": {},
   "outputs": [
    {
     "data": {
      "text/plain": [
       "{2, 4, 6, 8, 10}"
      ]
     },
     "execution_count": 36,
     "metadata": {},
     "output_type": "execute_result"
    }
   ],
   "source": [
    "# 7. Create a set of even numbers from 1 to 10.\n",
    "set(i for i in range(1,11) if i%2==0)"
   ]
  },
  {
   "cell_type": "code",
   "execution_count": 37,
   "id": "bf6a4973-80cc-444d-ac0d-5259e4e2413d",
   "metadata": {},
   "outputs": [
    {
     "data": {
      "text/plain": [
       "{1, 3, 5, 7, 9}"
      ]
     },
     "execution_count": 37,
     "metadata": {},
     "output_type": "execute_result"
    }
   ],
   "source": [
    "# 8. Create a set of odd numbers from 1 to 10.\n",
    "set(i for i in range(1,11) if i%2!=0)"
   ]
  },
  {
   "cell_type": "code",
   "execution_count": 38,
   "id": "894ae6d4-ff41-4614-93c1-3de040de93f4",
   "metadata": {},
   "outputs": [
    {
     "data": {
      "text/plain": [
       "{1, 2, 3, 4, 5, 6, 7, 8, 9, 10}"
      ]
     },
     "execution_count": 38,
     "metadata": {},
     "output_type": "execute_result"
    }
   ],
   "source": [
    "s1 = {2, 4, 6, 8, 10}\n",
    "s2 = {1, 3, 5, 7, 9}\n",
    "s1.union(s2)"
   ]
  },
  {
   "cell_type": "code",
   "execution_count": 39,
   "id": "789a9e06-ae1f-4761-b0b5-f7b31a100cfd",
   "metadata": {},
   "outputs": [
    {
     "data": {
      "text/plain": [
       "set()"
      ]
     },
     "execution_count": 39,
     "metadata": {},
     "output_type": "execute_result"
    }
   ],
   "source": [
    "# 10. Find the intersection of two sets.\n",
    "s1 = {2, 4, 6, 8, 10}\n",
    "s2 = {1, 3, 5, 7, 9}\n",
    "s1.intersection(s2)"
   ]
  },
  {
   "cell_type": "code",
   "execution_count": 40,
   "id": "8023c3b4-a41b-4e7a-80eb-9f6cc3202ebf",
   "metadata": {},
   "outputs": [
    {
     "data": {
      "text/plain": [
       "{2, 4, 6, 8, 10}"
      ]
     },
     "execution_count": 40,
     "metadata": {},
     "output_type": "execute_result"
    }
   ],
   "source": [
    "# 11. Find the difference between two sets.\n",
    "s1 = {2, 4, 6, 8, 10}\n",
    "s2 = {1, 3, 5, 7, 9}\n",
    "s1.difference(s2)"
   ]
  },
  {
   "cell_type": "code",
   "execution_count": 41,
   "id": "63f2a2a5-326e-4e4f-8395-445b8ea266d8",
   "metadata": {},
   "outputs": [
    {
     "data": {
      "text/plain": [
       "False"
      ]
     },
     "execution_count": 41,
     "metadata": {},
     "output_type": "execute_result"
    }
   ],
   "source": [
    "# 12. Check if a set is a subset of another set.\n",
    "s1 = {2, 4, 6, 8, 10}\n",
    "s2 = {1, 3, 5, 7, 9}\n",
    "s1.issubset(s2)"
   ]
  },
  {
   "cell_type": "code",
   "execution_count": 42,
   "id": "a1fe96c8-bdcc-4af2-a4fe-055417be7a0f",
   "metadata": {},
   "outputs": [
    {
     "data": {
      "text/plain": [
       "False"
      ]
     },
     "execution_count": 42,
     "metadata": {},
     "output_type": "execute_result"
    }
   ],
   "source": [
    "# 13. Check if a set is a superset of another set.\n",
    "s1 = {2, 4, 6, 8, 10}\n",
    "s2 = {1, 3, 5, 7, 9}\n",
    "\n",
    "s1.issuperset(s2)"
   ]
  },
  {
   "cell_type": "code",
   "execution_count": 1,
   "id": "f0fbe3f0-4d7a-4557-adb1-b735d52c7aae",
   "metadata": {},
   "outputs": [
    {
     "data": {
      "text/plain": [
       "{1, 2, 3, 4, 5, 6}"
      ]
     },
     "execution_count": 1,
     "metadata": {},
     "output_type": "execute_result"
    }
   ],
   "source": [
    "# 14. Create a set from a list.\n",
    "\n",
    "l = [1,2,3,4,5,4,5,6]\n",
    "set(l)"
   ]
  },
  {
   "cell_type": "code",
   "execution_count": 2,
   "id": "2174bfb5-a973-4543-b6ca-c1ccdd828dc2",
   "metadata": {},
   "outputs": [
    {
     "data": {
      "text/plain": [
       "[1, 2, 3, 4, 5, 6]"
      ]
     },
     "execution_count": 2,
     "metadata": {},
     "output_type": "execute_result"
    }
   ],
   "source": [
    "# 15. Convert a set to a list.\n",
    "s = {1, 2, 3, 4, 5, 6}\n",
    "list(s)"
   ]
  },
  {
   "cell_type": "code",
   "execution_count": 5,
   "id": "4a6b25a2-ecb8-438c-8639-4716b9f7cc67",
   "metadata": {},
   "outputs": [
    {
     "data": {
      "text/plain": [
       "{1, 2, 3, 4, 5, 6, 7, 8, 10}"
      ]
     },
     "execution_count": 5,
     "metadata": {},
     "output_type": "execute_result"
    }
   ],
   "source": [
    "# 16. Remove a random element from a set.\n",
    "import random\n",
    "s = {1, 2, 3, 4, 5, 6,7,8,9,10}\n",
    "s.remove(random.randint(1,10))\n",
    "s\n"
   ]
  },
  {
   "cell_type": "code",
   "execution_count": 10,
   "id": "8b6b7235-4680-4d1b-9d2e-862e93c84c97",
   "metadata": {},
   "outputs": [
    {
     "data": {
      "text/plain": [
       "{2, 3, 4, 5, 6, 7, 8, 9, 10}"
      ]
     },
     "execution_count": 10,
     "metadata": {},
     "output_type": "execute_result"
    }
   ],
   "source": [
    "#17. Pop an element from a set.\n",
    "s = {1, 2, 3, 4, 5, 6,7,8,9,10}\n",
    "s.pop()\n",
    "s"
   ]
  },
  {
   "cell_type": "code",
   "execution_count": 13,
   "id": "6f1100d3-020d-4a38-b155-09c4ad3ff8f3",
   "metadata": {},
   "outputs": [
    {
     "name": "stdout",
     "output_type": "stream",
     "text": [
      "The common elements are: {3, 5}\n"
     ]
    }
   ],
   "source": [
    "# 18. Check if two sets have no elements in common.\n",
    "s = {1,2,3,4,5}\n",
    "s1 = {3,5,6,7,89,9,10}\n",
    "com_elements = s.intersection(s1)\n",
    "\n",
    "if not com_elements:\n",
    "    print(\"No element in commom\")\n",
    "else:\n",
    "    print(\"The common elements are:\", com_elements )"
   ]
  },
  {
   "cell_type": "code",
   "execution_count": 19,
   "id": "cb42563b-2579-4865-a577-be91c91f39d3",
   "metadata": {},
   "outputs": [
    {
     "name": "stdout",
     "output_type": "stream",
     "text": [
      "The symmetric difference between the two sets: {1, 2, 4, 6, 7, 9, 10, 89}\n"
     ]
    }
   ],
   "source": [
    "# 19. Find the symmetric difference between two sets.\n",
    "s = {1,2,3,4,5}\n",
    "s1 = {3,5,6,7,89,9,10}\n",
    "\n",
    "print(\"The symmetric difference between the two sets:\", s^s1)"
   ]
  },
  {
   "cell_type": "code",
   "execution_count": 22,
   "id": "5bc96f4e-6bb3-4c41-9d6d-f815544f45e5",
   "metadata": {},
   "outputs": [
    {
     "data": {
      "text/plain": [
       "{1, 2, 3, 4, 5, 6, 7, 9, 10, 89}"
      ]
     },
     "execution_count": 22,
     "metadata": {},
     "output_type": "execute_result"
    }
   ],
   "source": [
    "# 20. Update a set with elements from another set.\n",
    "s = {1,2,3,4,5}\n",
    "s1 = {3,5,6,7,89,9,10}\n",
    "s.update(s1)\n",
    "s"
   ]
  },
  {
   "cell_type": "code",
   "execution_count": 28,
   "id": "b471b5e3-229e-4847-a50f-88ecc0021d9c",
   "metadata": {},
   "outputs": [
    {
     "data": {
      "text/plain": [
       "{2, 3, 5, 7, 11}"
      ]
     },
     "execution_count": 28,
     "metadata": {},
     "output_type": "execute_result"
    }
   ],
   "source": [
    "# 21. Create a set of the first 5 prime numbers.\n",
    "\n",
    "def gen_prime(n):\n",
    "    if n<=1:\n",
    "        return False\n",
    "    for i in range(2, int(n**0.5) +1 ):\n",
    "        if n%i==0:\n",
    "            return False\n",
    "    return True\n",
    "set(list((i for i in range(1,50) if gen_prime(i)))[:5])\n",
    "        "
   ]
  },
  {
   "cell_type": "code",
   "execution_count": 30,
   "id": "22731d21-4463-44dd-9299-87632eb1befa",
   "metadata": {},
   "outputs": [
    {
     "data": {
      "text/plain": [
       "'No, the sets are not identical'"
      ]
     },
     "execution_count": 30,
     "metadata": {},
     "output_type": "execute_result"
    }
   ],
   "source": [
    "# 22. Check if two sets are identical.\n",
    "s = {1,2,3,4,5}\n",
    "s1 = {3,5,6,7,89,9,10}\n",
    "\n",
    "def is_identical(s1, s2):\n",
    "    if s1==s2:\n",
    "        return \"Yes, the sets are identical\"\n",
    "    else:\n",
    "        return \"No, the sets are not identical\"\n",
    "    \n",
    "is_identical(s,s1)"
   ]
  },
  {
   "cell_type": "code",
   "execution_count": 32,
   "id": "1cd97566-8dc0-48d3-b306-c33f50d8ceaf",
   "metadata": {},
   "outputs": [
    {
     "data": {
      "text/plain": [
       "frozenset({1, 2, 3, 4, 5, 6, 7})"
      ]
     },
     "execution_count": 32,
     "metadata": {},
     "output_type": "execute_result"
    }
   ],
   "source": [
    "# 23. Create a frozen set.\n",
    "s = {1,2,3,4,5,6,7}\n",
    "frozen_set = frozenset(s)\n",
    "frozen_set"
   ]
  },
  {
   "cell_type": "code",
   "execution_count": 36,
   "id": "e2744050-22e3-49c2-af4f-8815c757e1b7",
   "metadata": {},
   "outputs": [
    {
     "data": {
      "text/plain": [
       "True"
      ]
     },
     "execution_count": 36,
     "metadata": {},
     "output_type": "execute_result"
    }
   ],
   "source": [
    "# 24. Check if a set is disjoint with another set.\n",
    "s = {99,98}\n",
    "s1 = {3,5,6,7,89,9,10}\n",
    "s.isdisjoint(s1)"
   ]
  },
  {
   "cell_type": "code",
   "execution_count": 37,
   "id": "719dcf6a-4af5-4566-b3fc-6db3c152a019",
   "metadata": {},
   "outputs": [
    {
     "data": {
      "text/plain": [
       "{1, 4, 9, 16, 25}"
      ]
     },
     "execution_count": 37,
     "metadata": {},
     "output_type": "execute_result"
    }
   ],
   "source": [
    "# 25. Create a set of squares of numbers from 1 to 5.\n",
    "set (i**2 for i in range(1,6))"
   ]
  },
  {
   "cell_type": "code",
   "execution_count": 38,
   "id": "6355033b-aa7e-4d81-acaa-73ac381fa22b",
   "metadata": {},
   "outputs": [
    {
     "data": {
      "text/plain": [
       "{1, 3, 5, 7, 9, 89}"
      ]
     },
     "execution_count": 38,
     "metadata": {},
     "output_type": "execute_result"
    }
   ],
   "source": [
    "s = {1,2,3,4,5,6,7, 3,5,6,7,89,9,10}\n",
    "set(i for i in s if i%2!=0)"
   ]
  },
  {
   "cell_type": "code",
   "execution_count": 39,
   "id": "1c39da8d-dd37-41e6-9d3a-10a43ad99a6a",
   "metadata": {},
   "outputs": [
    {
     "data": {
      "text/plain": [
       "{2, 4, 6, 8, 10, 12, 14, 18, 20, 178}"
      ]
     },
     "execution_count": 39,
     "metadata": {},
     "output_type": "execute_result"
    }
   ],
   "source": [
    "# 27. Multiply all elements in a set by 2.\n",
    "set(i*2 for i in s)"
   ]
  },
  {
   "cell_type": "code",
   "execution_count": 40,
   "id": "b1b6b3e9-f9db-405c-96f7-807227dd3734",
   "metadata": {},
   "outputs": [
    {
     "data": {
      "text/plain": [
       "{8, 26, 37, 38, 44, 51, 54, 56, 64, 67, 74, 79, 96}"
      ]
     },
     "execution_count": 40,
     "metadata": {},
     "output_type": "execute_result"
    }
   ],
   "source": [
    "# 28. Create a set of random numbers.\n",
    "\n",
    "set(random.randint(1, 100) for _ in range(15))"
   ]
  },
  {
   "cell_type": "code",
   "execution_count": 43,
   "id": "44c2abd0-a548-4437-8691-eee3f28ec177",
   "metadata": {},
   "outputs": [
    {
     "name": "stdout",
     "output_type": "stream",
     "text": [
      "No, the set is not empty\n"
     ]
    }
   ],
   "source": [
    "# 29. Check if a set is empty.\n",
    "s = {8, 26, 37, 38, 44, 51, 54, 56, 64, 67, 74, 79, 96}\n",
    "if not s:\n",
    "    print(\"Yes, the set is empty\")\n",
    "else:\n",
    "    print(\"No, the set is not empty\")"
   ]
  },
  {
   "cell_type": "code",
   "execution_count": 51,
   "id": "cf49bb1f-b2c4-4349-815e-83cc2aaae292",
   "metadata": {},
   "outputs": [
    {
     "data": {
      "text/plain": [
       "{frozenset({3, 5, 6, 7, 9, 10, 89}),\n",
       " frozenset({8, 26, 37, 38, 44, 51, 54, 56, 64, 67, 74, 79, 96})}"
      ]
     },
     "execution_count": 51,
     "metadata": {},
     "output_type": "execute_result"
    }
   ],
   "source": [
    "# 30. Create a nested set (hint: use frozenset).\n",
    "f1 = frozenset(s)\n",
    "f2 = frozenset(s1)\n",
    "nested_set = {f1,f2}\n",
    "nested_set"
   ]
  },
  {
   "cell_type": "code",
   "execution_count": 54,
   "id": "bd6e33c5-47a1-44db-99a2-c5b2e3321865",
   "metadata": {},
   "outputs": [
    {
     "data": {
      "text/plain": [
       "{26, 37, 38, 44, 51, 54, 56, 64, 67, 74, 79, 96}"
      ]
     },
     "execution_count": 54,
     "metadata": {},
     "output_type": "execute_result"
    }
   ],
   "source": [
    "# 31. Remove an element from a set using the discard method.\n",
    "s = {8, 26, 37, 38, 44, 51, 54, 56, 64, 67, 74, 79, 96}\n",
    "s.discard(8)\n",
    "s"
   ]
  },
  {
   "cell_type": "code",
   "execution_count": 56,
   "id": "0eff5dc9-805c-4139-8d47-01766635fbfd",
   "metadata": {},
   "outputs": [
    {
     "name": "stdout",
     "output_type": "stream",
     "text": [
      "No\n"
     ]
    }
   ],
   "source": [
    "# 32. Compare two sets.\n",
    "s = {99,98}\n",
    "s1 = {3,5,6,7,89,9,10}\n",
    "if s>s1:\n",
    "    print(\"yes\")\n",
    "else:\n",
    "    print(\"No\")"
   ]
  },
  {
   "cell_type": "code",
   "execution_count": 57,
   "id": "2cb639b2-14ed-400f-9519-d8571b783fc6",
   "metadata": {},
   "outputs": [
    {
     "data": {
      "text/plain": [
       "{'i', 'k', 'l', 'p', 's', 'w'}"
      ]
     },
     "execution_count": 57,
     "metadata": {},
     "output_type": "execute_result"
    }
   ],
   "source": [
    "# 33. Create a set from a string.\n",
    "\n",
    "x=\"pwskills\"\n",
    "set(x)"
   ]
  },
  {
   "cell_type": "code",
   "execution_count": 58,
   "id": "5e138b54-1652-4148-b481-fdb32b18687f",
   "metadata": {},
   "outputs": [
    {
     "data": {
      "text/plain": [
       "{123, 456, 789}"
      ]
     },
     "execution_count": 58,
     "metadata": {},
     "output_type": "execute_result"
    }
   ],
   "source": [
    "# 34. Convert a set of strings to a set of integers.\n",
    "string_set = {\"123\", \"456\", \"789\"}\n",
    "\n",
    "set(int(i) for i in string_set)"
   ]
  },
  {
   "cell_type": "code",
   "execution_count": 59,
   "id": "9c796196-ed0b-40f7-a561-a59ef6539cdb",
   "metadata": {},
   "outputs": [
    {
     "data": {
      "text/plain": [
       "{'123', '456', '789'}"
      ]
     },
     "execution_count": 59,
     "metadata": {},
     "output_type": "execute_result"
    }
   ],
   "source": [
    "# 35. Convert a set of integers to a set of strings.\n",
    "integer_set = {123, 456, 789}\n",
    "set(str(i) for i in integer_set)"
   ]
  },
  {
   "cell_type": "code",
   "execution_count": 60,
   "id": "cda580da-276f-41cc-8ce8-e409c5e1fd8e",
   "metadata": {},
   "outputs": [
    {
     "data": {
      "text/plain": [
       "{1, 2, 3, 4, 5}"
      ]
     },
     "execution_count": 60,
     "metadata": {},
     "output_type": "execute_result"
    }
   ],
   "source": [
    "# 36. Create a set from a tuple.\n",
    "t = (1, 2, 3, 2, 4, 5, 1)\n",
    "set(t)"
   ]
  },
  {
   "cell_type": "code",
   "execution_count": 1,
   "id": "ba0d141a-5e48-45bf-b757-e3b6e9b1c54f",
   "metadata": {},
   "outputs": [
    {
     "data": {
      "text/plain": [
       "(89, 3, 5, 6, 7, 9, 10)"
      ]
     },
     "execution_count": 1,
     "metadata": {},
     "output_type": "execute_result"
    }
   ],
   "source": [
    "# 37. Convert a set to a tuple.\n",
    "s = {3,5,6,7,89,9,10}\n",
    "tuple(s)"
   ]
  },
  {
   "cell_type": "code",
   "execution_count": 5,
   "id": "18c2585f-8340-4f2b-b287-b0c6c2b7499c",
   "metadata": {},
   "outputs": [
    {
     "data": {
      "text/plain": [
       "89"
      ]
     },
     "execution_count": 5,
     "metadata": {},
     "output_type": "execute_result"
    }
   ],
   "source": [
    "# 38. Find the maximum value in a set.\n",
    "s = {3,5,6,7,89,9,10}\n",
    "max(s, key=lambda x:len(str(x)))"
   ]
  },
  {
   "cell_type": "code",
   "execution_count": 7,
   "id": "74f3c78e-bb0b-4d90-afe8-b6f9b32a8b87",
   "metadata": {},
   "outputs": [
    {
     "data": {
      "text/plain": [
       "3"
      ]
     },
     "execution_count": 7,
     "metadata": {},
     "output_type": "execute_result"
    }
   ],
   "source": [
    "# 39. Find the minimum value in a set.\n",
    "s = {3,5,6,7,89,9,10}\n",
    "min(s, key=lambda x:len(str(x)))"
   ]
  },
  {
   "cell_type": "code",
   "execution_count": 3,
   "id": "0026b665-0297-4aef-a1ef-baa75ec6a032",
   "metadata": {},
   "outputs": [
    {
     "name": "stdin",
     "output_type": "stream",
     "text": [
      "Enter a number, press 'x' to exit:  3\n",
      "Enter a number, press 'x' to exit:  4\n",
      "Enter a number, press 'x' to exit:  5\n",
      "Enter a number, press 'x' to exit:  2\n",
      "Enter a number, press 'x' to exit:  f\n",
      "Enter a number, press 'x' to exit:  g\n",
      "Enter a number, press 'x' to exit:  5\n",
      "Enter a number, press 'x' to exit:  x\n",
      "Are you sure you want to exit? (y/n):  n\n",
      "Enter a number, press 'x' to exit:  rr\n",
      "Enter a number, press 'x' to exit:  e\n",
      "Enter a number, press 'x' to exit:  w\n",
      "Enter a number, press 'x' to exit:  4\n",
      "Enter a number, press 'x' to exit:  5\n",
      "Enter a number, press 'x' to exit:  7\n",
      "Enter a number, press 'x' to exit:  8\n",
      "Enter a number, press 'x' to exit:  x\n",
      "Are you sure you want to exit? (y/n):  y\n"
     ]
    },
    {
     "name": "stdout",
     "output_type": "stream",
     "text": [
      "Final set: {'5', 'x', 'g', 'f', '2', 'rr', '7', '8', '4', 'e', 'w', '3'}\n"
     ]
    }
   ],
   "source": [
    "## 40. Create a set from user input.\n",
    "s = set()\n",
    "\n",
    "while True:\n",
    "    user_input = input(\"Enter a number, press 'x' to exit: \")\n",
    "    \n",
    "    if user_input.lower()=='x':\n",
    "        ans = input(\"Are you sure you want to exit? (y/n): \")\n",
    "        if ans.lower()=='y':\n",
    "            break\n",
    "        elif ans.lower()=='n':\n",
    "            pass\n",
    "        else:\n",
    "            print(\"Invalid input\")\n",
    "            break\n",
    "    \n",
    "        \n",
    "    \n",
    "    s.add(user_input)\n",
    "print(\"Final set:\", s)"
   ]
  },
  {
   "cell_type": "code",
   "execution_count": 7,
   "id": "98c8e1ec-ba3b-4617-8041-5a7b2b3eabb9",
   "metadata": {},
   "outputs": [
    {
     "name": "stdout",
     "output_type": "stream",
     "text": [
      "Intersection is not empty\n"
     ]
    }
   ],
   "source": [
    "# 41. Check if the intersection of two sets is empty.\n",
    "s = {1,2,3,4,5,5,6,6,43,7}\n",
    "s1 = {21,2,3,4,55,332,4,12,45,3,5}\n",
    "\n",
    "if not s.intersection(s1):\n",
    "    print(\"Intersection is empty\")\n",
    "else:\n",
    "    print(\"Intersection is not empty\")"
   ]
  },
  {
   "cell_type": "code",
   "execution_count": 19,
   "id": "fc963916-7bde-4510-b85a-ba0290cb4652",
   "metadata": {},
   "outputs": [
    {
     "data": {
      "text/plain": [
       "{0, 1, 2, 3}"
      ]
     },
     "execution_count": 19,
     "metadata": {},
     "output_type": "execute_result"
    }
   ],
   "source": [
    "# 42. Create a set of the first 5 Fibonacci numbers\n",
    "\n",
    "def gen_fib(n):\n",
    "    a,b = 0,1\n",
    "    s = set()\n",
    "    for _ in range(n):\n",
    "        s.add(a)\n",
    "        a,b = b, a+b\n",
    "    return s\n",
    "gen_fib(5)"
   ]
  },
  {
   "cell_type": "code",
   "execution_count": 21,
   "id": "f94bb719-d34a-4886-925a-a66148cdd15f",
   "metadata": {},
   "outputs": [
    {
     "data": {
      "text/plain": [
       "[2, 4, 6, 8, 10, 12, 14]"
      ]
     },
     "execution_count": 21,
     "metadata": {},
     "output_type": "execute_result"
    }
   ],
   "source": [
    "# 43. Remove duplicates from a list using sets.\n",
    "l =  [2, 4, 6, 8, 4, 10, 6, 12, 14, 8]\n",
    "list(set(l))"
   ]
  },
  {
   "cell_type": "code",
   "execution_count": 24,
   "id": "6d7a344d-b703-44bc-9b5d-f0201cf3d706",
   "metadata": {},
   "outputs": [
    {
     "name": "stdout",
     "output_type": "stream",
     "text": [
      "The sets do not have the same element\n"
     ]
    }
   ],
   "source": [
    "# 44. Check if two sets have the same elements, regardless of their count.\n",
    "\n",
    "set1 = {1, 2, 3, 2, 1}\n",
    "set2 = {3, 1, 2,9}\n",
    "\n",
    "if set1==set2:\n",
    "    print('The sets have the same element')\n",
    "else:\n",
    "    print(\"The sets do not have the same element\")"
   ]
  },
  {
   "cell_type": "code",
   "execution_count": 26,
   "id": "8c55d20c-41d4-42b2-9de4-9f78a553b203",
   "metadata": {},
   "outputs": [
    {
     "data": {
      "text/plain": [
       "{2, 4, 8, 16, 32, 64, 128, 256}"
      ]
     },
     "execution_count": 26,
     "metadata": {},
     "output_type": "execute_result"
    }
   ],
   "source": [
    "# 45. Create a set of the first `n` powers of 2.\n",
    "\n",
    "def gen_power_of_2(n):\n",
    "    return set(2**i for i in range(1,n+1))\n",
    "\n",
    "gen_power_of_2(8)"
   ]
  },
  {
   "cell_type": "code",
   "execution_count": 27,
   "id": "a23f4806-f68a-4e8a-a8f4-3707dca65534",
   "metadata": {},
   "outputs": [
    {
     "data": {
      "text/plain": [
       "{7, 9, 12}"
      ]
     },
     "execution_count": 27,
     "metadata": {},
     "output_type": "execute_result"
    }
   ],
   "source": [
    "# 46. Find the common elements between a set and a list.\n",
    "\n",
    "my_set = {3, 7, 9, 12, 15}\n",
    "my_list = [7, 12, 5, 9]\n",
    "\n",
    "my_set.intersection(set(my_list))"
   ]
  },
  {
   "cell_type": "code",
   "execution_count": 6,
   "id": "aa930e5f-464c-4130-a967-e7098eb298d8",
   "metadata": {},
   "outputs": [
    {
     "data": {
      "text/plain": [
       "'Set of triangular numbers: {1, 3, 6, 10, 15, 21}'"
      ]
     },
     "execution_count": 6,
     "metadata": {},
     "output_type": "execute_result"
    }
   ],
   "source": [
    "# 47. Create a set of the first `n` triangular numbers.\n",
    "\n",
    "def gen_set_of_triangular_numbers(n):\n",
    "    return f\"Set of triangular numbers: {set(i*(i+1)//2 for i in range(1, n+1))}\"\n",
    "\n",
    "gen_set_of_triangular_numbers(6)"
   ]
  },
  {
   "cell_type": "code",
   "execution_count": 10,
   "id": "5683ab54-bf0c-48ee-aa41-8a9fa5342ca3",
   "metadata": {},
   "outputs": [
    {
     "name": "stdout",
     "output_type": "stream",
     "text": [
      "True\n",
      "False\n"
     ]
    }
   ],
   "source": [
    "# 48. Check if a set contains another set as a subset.\n",
    "\n",
    "set1 = {1, 2, 3, 2, 1}\n",
    "set2 = {3, 1, 2,2,5,6}\n",
    "\n",
    "print(set1.issubset(set2))\n",
    "print(set2.issubset(set1))"
   ]
  },
  {
   "cell_type": "code",
   "execution_count": 12,
   "id": "a77ce9b1-cd50-4430-a53a-bf90405927b8",
   "metadata": {},
   "outputs": [
    {
     "data": {
      "text/plain": [
       "{0, 1}"
      ]
     },
     "execution_count": 12,
     "metadata": {},
     "output_type": "execute_result"
    }
   ],
   "source": [
    "# 49. Create a set of alternating 1s and 0s of length `n`.\n",
    "def gen_binary(n):\n",
    "    return set(i%2 for i in range(1, n))\n",
    "\n",
    "gen_binary(10)"
   ]
  },
  {
   "cell_type": "code",
   "execution_count": 13,
   "id": "30fdece7-c4a0-4274-ba48-5891b05c3fcd",
   "metadata": {},
   "outputs": [
    {
     "data": {
      "text/plain": [
       "{1, 2, 3, 5, 6, 7, 9, 10, 12, 15, 21}"
      ]
     },
     "execution_count": 13,
     "metadata": {},
     "output_type": "execute_result"
    }
   ],
   "source": [
    "# 50. Merge multiple sets into one.\n",
    "s1 = {1, 2, 3, 2, 1}\n",
    "s2 = {3, 1, 2,2,5,6}\n",
    "s3 = {7, 9, 12}\n",
    "s4 = {1, 3, 6, 10, 15, 21}\n",
    "\n",
    "s1.union(s2,s3,s4)"
   ]
  },
  {
   "cell_type": "code",
   "execution_count": null,
   "id": "6a59d032-2a85-4d8b-a334-7e49584b0f13",
   "metadata": {},
   "outputs": [],
   "source": []
  }
 ],
 "metadata": {
  "kernelspec": {
   "display_name": "Python 3 (ipykernel)",
   "language": "python",
   "name": "python3"
  },
  "language_info": {
   "codemirror_mode": {
    "name": "ipython",
    "version": 3
   },
   "file_extension": ".py",
   "mimetype": "text/x-python",
   "name": "python",
   "nbconvert_exporter": "python",
   "pygments_lexer": "ipython3",
   "version": "3.10.8"
  }
 },
 "nbformat": 4,
 "nbformat_minor": 5
}
