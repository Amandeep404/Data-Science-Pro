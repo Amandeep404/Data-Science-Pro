{
 "cells": [
  {
   "cell_type": "markdown",
   "id": "39813eb3-3183-4b43-a429-79909ba43d19",
   "metadata": {},
   "source": [
    "## TOPIC: Python Basics Variable"
   ]
  },
  {
   "cell_type": "markdown",
   "id": "d98115a7-6b11-4371-bae5-09c8bf742bde",
   "metadata": {},
   "source": [
    "1. Declare two variables, `x` and `y`, and assign them integer values. Swap the\n",
    "values of these variables without using any temporary variable.\n"
   ]
  },
  {
   "cell_type": "code",
   "execution_count": 9,
   "id": "ea131f29-e51e-49b9-979c-6ac694fe5d32",
   "metadata": {},
   "outputs": [
    {
     "name": "stdout",
     "output_type": "stream",
     "text": [
      "2 34\n"
     ]
    }
   ],
   "source": [
    "x = 34\n",
    "y = 2\n",
    "x = x-y\n",
    "y = x+y\n",
    "x = y-x\n",
    "print(x,y)"
   ]
  },
  {
   "cell_type": "markdown",
   "id": "599179fb-0262-4d02-9f2a-73070ecba8d7",
   "metadata": {},
   "source": [
    "\n",
    "2. Create a program that calculates the area of a rectangle. Take the length and\n",
    "width as inputs from the user and store them in variables. Calculate and\n",
    "display the area.\n"
   ]
  },
  {
   "cell_type": "code",
   "execution_count": 12,
   "id": "a8957894-83a2-44b5-8493-44668dc0bb11",
   "metadata": {},
   "outputs": [
    {
     "name": "stdin",
     "output_type": "stream",
     "text": [
      "Length of rectangle 2\n",
      "width of rectangle 3\n"
     ]
    },
    {
     "name": "stdout",
     "output_type": "stream",
     "text": [
      "Area of rectangle:  6\n"
     ]
    }
   ],
   "source": [
    "x = int(input(\"Length of rectangle\"))\n",
    "y = int(input(\"width of rectangle\"))\n",
    "area = x*y\n",
    "print(\"Area of rectangle: \", area)"
   ]
  },
  {
   "cell_type": "markdown",
   "id": "572f3b01-3e31-4885-87df-0ddf80387413",
   "metadata": {},
   "source": [
    "3. Write a Python program that converts temperatures from Celsius to\n",
    "Fahrenheit. Take the temperature in Celsius as input, store it in a variable,\n",
    "convert it to Fahrenheit, and display the result.\n"
   ]
  },
  {
   "cell_type": "code",
   "execution_count": 15,
   "id": "5d96582f-422a-4ca2-a1d8-82d744ec717e",
   "metadata": {},
   "outputs": [
    {
     "name": "stdin",
     "output_type": "stream",
     "text": [
      "Enter temperature:  100\n"
     ]
    },
    {
     "name": "stdout",
     "output_type": "stream",
     "text": [
      "Temperature in Fahrenheit:  212.0\n"
     ]
    }
   ],
   "source": [
    "temp = int(input(\"Enter temperature: \"))\n",
    "temp = (temp * 9/5) + 32.0\n",
    "print(\"Temperature in Fahrenheit: \", temp)"
   ]
  },
  {
   "cell_type": "markdown",
   "id": "00725763-171e-4d0d-b60c-fa636e6c187a",
   "metadata": {},
   "source": [
    "## TOPIC: String Based Questions"
   ]
  },
  {
   "cell_type": "code",
   "execution_count": 2,
   "id": "613c5d97-80d2-4751-ad59-fb1af1a4532c",
   "metadata": {},
   "outputs": [
    {
     "name": "stdin",
     "output_type": "stream",
     "text": [
      "Enter String:  abc\n"
     ]
    },
    {
     "name": "stdout",
     "output_type": "stream",
     "text": [
      "Length of String 3\n"
     ]
    }
   ],
   "source": [
    "#1. Write a Python program that takes a string as input and prints the length of the string.\n",
    "x = input(\"Enter String: \")\n",
    "print(\"Length of String\",len(x))"
   ]
  },
  {
   "cell_type": "code",
   "execution_count": 6,
   "id": "286dc607-7ae4-418e-8024-cac03d608f7b",
   "metadata": {},
   "outputs": [
    {
     "name": "stdin",
     "output_type": "stream",
     "text": [
      "Enter String:  vowel\n"
     ]
    },
    {
     "name": "stdout",
     "output_type": "stream",
     "text": [
      "2\n"
     ]
    }
   ],
   "source": [
    "# 2. Create a program that takes a sentence from the user and counts the number of vowels (a, e, i, o, u) in the string.\n",
    "x = input(\"Enter String: \")\n",
    "count = 0\n",
    "vowels = \"aeiou\"\n",
    "for i in x:\n",
    "    if i.lower() in vowels:\n",
    "        count+=1\n",
    "    \n",
    "print(count)"
   ]
  },
  {
   "cell_type": "code",
   "execution_count": 7,
   "id": "200f3d30-239a-45e1-ad46-a8c50da7b477",
   "metadata": {},
   "outputs": [
    {
     "data": {
      "text/plain": [
       "'dcba'"
      ]
     },
     "execution_count": 7,
     "metadata": {},
     "output_type": "execute_result"
    }
   ],
   "source": [
    "#3. Given a string, reverse the order of characters using string slicing and print the reversed string.\n",
    "\n",
    "x = \"abcd\"\n",
    "x[::-1]"
   ]
  },
  {
   "cell_type": "code",
   "execution_count": 13,
   "id": "3ce7f411-01dd-4717-9407-4a8f36393bec",
   "metadata": {},
   "outputs": [
    {
     "name": "stdin",
     "output_type": "stream",
     "text": [
      "Enter String:  eed\n"
     ]
    },
    {
     "name": "stdout",
     "output_type": "stream",
     "text": [
      "No, Not a Palindrome\n"
     ]
    }
   ],
   "source": [
    "# 4. Write a program that takes a string as input and checks if it is a palindrome\n",
    "x = input(\"Enter String: \")\n",
    "if x[::-1]==x:\n",
    "    print(\"Yes, Palindrome\")\n",
    "else:\n",
    "    print(\"No, Not a Palindrome\")"
   ]
  },
  {
   "cell_type": "code",
   "execution_count": 15,
   "id": "f9fb52ff-b0a2-4a63-a402-8ce8b50ecd23",
   "metadata": {},
   "outputs": [
    {
     "name": "stdin",
     "output_type": "stream",
     "text": [
      "Enter String:  eff ff\n"
     ]
    },
    {
     "ename": "AttributeError",
     "evalue": "'str' object has no attribute 'trim'",
     "output_type": "error",
     "traceback": [
      "\u001b[0;31m---------------------------------------------------------------------------\u001b[0m",
      "\u001b[0;31mAttributeError\u001b[0m                            Traceback (most recent call last)",
      "Cell \u001b[0;32mIn[15], line 4\u001b[0m\n\u001b[1;32m      1\u001b[0m \u001b[38;5;66;03m#5 Create a program that takes a string as input and removes all the spaces from it. Print the modified string without spaces.\u001b[39;00m\n\u001b[1;32m      3\u001b[0m x \u001b[38;5;241m=\u001b[39m \u001b[38;5;28minput\u001b[39m(\u001b[38;5;124m\"\u001b[39m\u001b[38;5;124mEnter String: \u001b[39m\u001b[38;5;124m\"\u001b[39m)\n\u001b[0;32m----> 4\u001b[0m \u001b[43mx\u001b[49m\u001b[38;5;241;43m.\u001b[39;49m\u001b[43mtrim\u001b[49m()\n",
      "\u001b[0;31mAttributeError\u001b[0m: 'str' object has no attribute 'trim'"
     ]
    }
   ],
   "source": [
    "#5 Create a program that takes a string as input and removes all the spaces from it. Print the modified string without spaces.\n",
    "\n",
    "x = input(\"Enter String: \")\n",
    "x.trim()\n"
   ]
  },
  {
   "cell_type": "code",
   "execution_count": null,
   "id": "ad3689c4-4847-4743-8e60-5ebb0eb38230",
   "metadata": {},
   "outputs": [],
   "source": []
  }
 ],
 "metadata": {
  "kernelspec": {
   "display_name": "Python 3 (ipykernel)",
   "language": "python",
   "name": "python3"
  },
  "language_info": {
   "codemirror_mode": {
    "name": "ipython",
    "version": 3
   },
   "file_extension": ".py",
   "mimetype": "text/x-python",
   "name": "python",
   "nbconvert_exporter": "python",
   "pygments_lexer": "ipython3",
   "version": "3.10.8"
  }
 },
 "nbformat": 4,
 "nbformat_minor": 5
}
