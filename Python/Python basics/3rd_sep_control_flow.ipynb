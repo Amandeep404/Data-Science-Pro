{
 "cells": [
  {
   "cell_type": "markdown",
   "id": "6b613ad0-5f95-49e2-80a7-f0c02fc414e2",
   "metadata": {},
   "source": [
    "# Basic If-Else Statements:"
   ]
  },
  {
   "cell_type": "code",
   "execution_count": 18,
   "id": "f53bdc27-5eeb-4ba3-8bfe-8590fb83e752",
   "metadata": {},
   "outputs": [
    {
     "data": {
      "text/plain": [
       "'Positive'"
      ]
     },
     "execution_count": 18,
     "metadata": {},
     "output_type": "execute_result"
    }
   ],
   "source": [
    "#1 \n",
    "def isPositive(n):\n",
    "    if n>1:\n",
    "        return 'Positive'\n",
    "    else:\n",
    "        return 'Negative'\n",
    "    \n",
    "isPositive(12)\n"
   ]
  },
  {
   "cell_type": "code",
   "execution_count": 3,
   "id": "658e5086-1562-4cd5-8821-80e957903a8b",
   "metadata": {},
   "outputs": [
    {
     "name": "stdout",
     "output_type": "stream",
     "text": [
      "Eligible\n"
     ]
    }
   ],
   "source": [
    "#2\n",
    "age = 19\n",
    "if age >= 18:\n",
    "    print(\"Eligible\")\n",
    "else:\n",
    "    print(\"Not Eligible\")"
   ]
  },
  {
   "cell_type": "code",
   "execution_count": 5,
   "id": "fdbcd4d8-871c-4e4f-97a2-a65f4dcd98d6",
   "metadata": {},
   "outputs": [
    {
     "data": {
      "text/plain": [
       "13"
      ]
     },
     "execution_count": 5,
     "metadata": {},
     "output_type": "execute_result"
    }
   ],
   "source": [
    "#3\n",
    "def find_max(n1, n2):\n",
    "    max = n1\n",
    "    if n2>n1:\n",
    "        max = n2\n",
    "    return max\n",
    "find_max(12,13)"
   ]
  },
  {
   "cell_type": "code",
   "execution_count": 8,
   "id": "703e52f8-dbb0-4333-b421-61afa4500b7b",
   "metadata": {},
   "outputs": [
    {
     "data": {
      "text/plain": [
       "False"
      ]
     },
     "execution_count": 8,
     "metadata": {},
     "output_type": "execute_result"
    }
   ],
   "source": [
    "#4 \n",
    "def checkLeapYear(year):\n",
    "    if (year%4==0 and year%100!=0) or year%400==0:\n",
    "        return True\n",
    "    else:\n",
    "        return False\n",
    "    \n",
    "checkLeapYear(2021)"
   ]
  },
  {
   "cell_type": "code",
   "execution_count": 16,
   "id": "40042df4-2ad9-4c15-b08a-3bcac3129201",
   "metadata": {},
   "outputs": [
    {
     "data": {
      "text/plain": [
       "\"Invalid input: 'da' !! Enter only a single character\""
      ]
     },
     "execution_count": 16,
     "metadata": {},
     "output_type": "execute_result"
    }
   ],
   "source": [
    "#5 \n",
    "def check_vowel_or_consonant(char):\n",
    "\n",
    "    if len(char)==1:\n",
    "        char_lower = char.lower()\n",
    "        vowels = ['a', 'e', 'i', 'o', 'u']\n",
    "\n",
    "        if char_lower in vowels :\n",
    "            return f\"{char} is a vowel.\"\n",
    "        elif char_lower.isalpha():\n",
    "            return f\"{char} is a consonant.\"\n",
    "        else:\n",
    "            return f\"{char} is not a valid alphabet character.\"\n",
    "    else:\n",
    "        return f\"Invalid input: '{char}' !! Enter only a single character\"\n",
    "check_vowel_or_consonant('da')\n"
   ]
  },
  {
   "cell_type": "code",
   "execution_count": 19,
   "id": "c0727f7b-c72d-4f61-b2aa-eb2ba16f1ecc",
   "metadata": {},
   "outputs": [
    {
     "data": {
      "text/plain": [
       "True"
      ]
     },
     "execution_count": 19,
     "metadata": {},
     "output_type": "execute_result"
    }
   ],
   "source": [
    "#6\n",
    "def isEven(n):\n",
    "    if n%2==0:\n",
    "        return True\n",
    "    else:\n",
    "        return False\n",
    "    \n",
    "isEven(12)"
   ]
  },
  {
   "cell_type": "code",
   "execution_count": 21,
   "id": "f924a37c-6dde-42c2-82da-99ec53534f43",
   "metadata": {},
   "outputs": [
    {
     "data": {
      "text/plain": [
       "3"
      ]
     },
     "execution_count": 21,
     "metadata": {},
     "output_type": "execute_result"
    }
   ],
   "source": [
    "#7\n",
    "def absolute_value(n):\n",
    "    if n>=0:\n",
    "        return n\n",
    "    else:\n",
    "        return -n\n",
    "    \n",
    "absolute_value(3)"
   ]
  },
  {
   "cell_type": "code",
   "execution_count": 29,
   "id": "d89a199d-c0c1-45b2-acaf-63b3ca0af02d",
   "metadata": {},
   "outputs": [
    {
     "data": {
      "text/plain": [
       "33"
      ]
     },
     "execution_count": 29,
     "metadata": {},
     "output_type": "execute_result"
    }
   ],
   "source": [
    "#8\n",
    "def find_max_of_3(n1, n2, n3):\n",
    "    max = n1\n",
    "    if n2>max:\n",
    "        max = n2\n",
    "    elif n3>max:\n",
    "        max = n3\n",
    "    return max\n",
    "find_max_of_3(1,33,21)"
   ]
  },
  {
   "cell_type": "code",
   "execution_count": 31,
   "id": "0763976a-0d8d-4e03-97fe-d66739f7e9e5",
   "metadata": {},
   "outputs": [
    {
     "data": {
      "text/plain": [
       "'Palindrome'"
      ]
     },
     "execution_count": 31,
     "metadata": {},
     "output_type": "execute_result"
    }
   ],
   "source": [
    "#9\n",
    "def isPal(s):\n",
    "    if s==s[::-1]:\n",
    "        return \"Palindrome\"\n",
    "    else:\n",
    "        return \"Not a Palindrome\"\n",
    "    \n",
    "s = 'racecar'\n",
    "isPal(s)"
   ]
  },
  {
   "cell_type": "code",
   "execution_count": 32,
   "id": "d7823ce8-cefc-470f-bc74-78749e8d6f4a",
   "metadata": {},
   "outputs": [
    {
     "name": "stdout",
     "output_type": "stream",
     "text": [
      "The student's grade is: C\n"
     ]
    }
   ],
   "source": [
    "#10\n",
    "def calculate_grade(score):\n",
    "    if 90 <= score <= 100:\n",
    "        return 'A'\n",
    "    elif 80 <= score < 90:\n",
    "        return 'B'\n",
    "    elif 70 <= score < 80:\n",
    "        return 'C'\n",
    "    elif 60 <= score < 70:\n",
    "        return 'D'\n",
    "    elif 0 <= score < 60:\n",
    "        return 'F'\n",
    "    else:\n",
    "        return 'Invalid score'\n",
    "\n",
    "user_score = 75\n",
    "\n",
    "if 0 <= user_score <= 100:\n",
    "    user_grade = calculate_grade(user_score)\n",
    "    print(f\"The student's grade is: {user_grade}\")\n",
    "else:\n",
    "    print(\"Invalid score. Please enter a score between 0 and 100.\")\n"
   ]
  },
  {
   "cell_type": "markdown",
   "id": "0fbd817b-0080-4efb-8216-79bf5aa91120",
   "metadata": {},
   "source": [
    "# Nested If-Else Statements:"
   ]
  },
  {
   "cell_type": "code",
   "execution_count": 2,
   "id": "b357a431-bccb-4761-93ee-b5fdcbcf7a9f",
   "metadata": {},
   "outputs": [
    {
     "name": "stdout",
     "output_type": "stream",
     "text": [
      "The largest number is: 10\n"
     ]
    }
   ],
   "source": [
    "11.\n",
    "\n",
    "def find_largest(a, b, c):\n",
    "    if a >= b:\n",
    "        if a >= c:\n",
    "            return a\n",
    "        else:\n",
    "            return c\n",
    "    else:\n",
    "        if b >= c:\n",
    "            return b\n",
    "        else:\n",
    "            return c\n",
    "\n",
    "result = find_largest(5, 10, 3)\n",
    "print(\"The largest number is:\", result)\n",
    "\n"
   ]
  },
  {
   "cell_type": "code",
   "execution_count": 5,
   "id": "4ebbf694-41ae-4a4d-b9be-9612d4d014b2",
   "metadata": {},
   "outputs": [
    {
     "name": "stdout",
     "output_type": "stream",
     "text": [
      "The triangle is: Equilateral\n"
     ]
    }
   ],
   "source": [
    "12. \n",
    "def triangle_type(side1, side2, side3):\n",
    "    if side1 == side2 == side3:\n",
    "        return \"Equilateral\"\n",
    "    elif side1 == side2 or side1 == side3 or side2 == side3:\n",
    "        return \"Isosceles\"\n",
    "    else:\n",
    "        return \"Scalene\"\n",
    "\n",
    "\n",
    "triangle_result = triangle_type(5, 5, 5)\n",
    "print(\"The triangle is:\", triangle_result)\n"
   ]
  },
  {
   "cell_type": "code",
   "execution_count": 6,
   "id": "4fba3823-7e8a-4a18-8425-8e3f3b7bd27f",
   "metadata": {},
   "outputs": [
    {
     "name": "stdout",
     "output_type": "stream",
     "text": [
      "2024 is a leap year\n"
     ]
    }
   ],
   "source": [
    "# 13\n",
    "def is_leap_year(year):\n",
    "    if (year % 4 == 0 and year % 100 != 0) or (year % 400 == 0):\n",
    "        return True\n",
    "    else:\n",
    "        return False\n",
    "\n",
    "\n",
    "year = 2024\n",
    "if is_leap_year(year):\n",
    "    print(f\"{year} is a leap year\")\n",
    "else:\n",
    "    print(f\"{year} is not a leap year\")\n"
   ]
  },
  {
   "cell_type": "code",
   "execution_count": 8,
   "id": "08a875ae-3101-429b-8a3f-aa7cfcb87c86",
   "metadata": {},
   "outputs": [
    {
     "name": "stdout",
     "output_type": "stream",
     "text": [
      "The number is: Negative\n"
     ]
    }
   ],
   "source": [
    "#14\n",
    "def check_number(num):\n",
    "    if num > 0:\n",
    "        return \"Positive\"\n",
    "    elif num < 0:\n",
    "        return \"Negative\"\n",
    "    else:\n",
    "        return \"Zero\"\n",
    "\n",
    "number_result = check_number(-7)\n",
    "print(\"The number is:\", number_result)\n"
   ]
  },
  {
   "cell_type": "code",
   "execution_count": 9,
   "id": "c2afe724-9b14-473e-a51f-1e36df955237",
   "metadata": {},
   "outputs": [
    {
     "name": "stdout",
     "output_type": "stream",
     "text": [
      "The person is a teenager\n"
     ]
    }
   ],
   "source": [
    "# 15\n",
    "def is_teenager(age):\n",
    "    if 13 <= age <= 19:\n",
    "        return True\n",
    "    else:\n",
    "        return False\n",
    "\n",
    "\n",
    "person_age = 16\n",
    "if is_teenager(person_age):\n",
    "    print(\"The person is a teenager\")\n",
    "else:\n",
    "    print(\"The person is not a teenager\")\n"
   ]
  },
  {
   "cell_type": "code",
   "execution_count": 10,
   "id": "8edd3563-88f7-4b35-bc0f-b68799b8b054",
   "metadata": {},
   "outputs": [
    {
     "name": "stdout",
     "output_type": "stream",
     "text": [
      "The angle is: Obtuse Angle\n"
     ]
    }
   ],
   "source": [
    "#16\n",
    "def angle_type(angle):\n",
    "    if angle < 90:\n",
    "        return \"Acute Angle\"\n",
    "    elif angle == 90:\n",
    "        return \"Right Angle\"\n",
    "    else:\n",
    "        return \"Obtuse Angle\"\n",
    "\n",
    "\n",
    "angle_measure = 120\n",
    "print(\"The angle is:\", angle_type(angle_measure))\n"
   ]
  },
  {
   "cell_type": "code",
   "execution_count": 12,
   "id": "1359fc80-e596-4d8d-b8c1-e1eab31b2669",
   "metadata": {},
   "outputs": [
    {
     "name": "stdout",
     "output_type": "stream",
     "text": [
      "The roots are: (2.0, 1.0)\n"
     ]
    }
   ],
   "source": [
    "#17\n",
    "def quadratic_roots(a, b, c):\n",
    "    discriminant = b**2 - 4*a*c\n",
    "\n",
    "    if discriminant > 0:\n",
    "        root1 = (-b + (discriminant**0.5)) / (2*a)\n",
    "        root2 = (-b - (discriminant**0.5)) / (2*a)\n",
    "        return root1, root2\n",
    "    elif discriminant == 0:\n",
    "        root = -b / (2*a)\n",
    "        return root,\n",
    "    else:\n",
    "        return \"Complex roots\"\n",
    "\n",
    "# Example usage\n",
    "coefficients = (1, -3, 2)\n",
    "print(\"The roots are:\", quadratic_roots(*coefficients))\n"
   ]
  },
  {
   "cell_type": "code",
   "execution_count": 13,
   "id": "b11f35aa-80cd-456d-9037-56fe31df56f2",
   "metadata": {},
   "outputs": [
    {
     "name": "stdout",
     "output_type": "stream",
     "text": [
      "The day is: Wednesday\n"
     ]
    }
   ],
   "source": [
    "#18\n",
    "def day_of_week(day_number):\n",
    "    days = [\"Monday\", \"Tuesday\", \"Wednesday\", \"Thursday\", \"Friday\", \"Saturday\", \"Sunday\"]\n",
    "\n",
    "    if 1 <= day_number <= 7:\n",
    "        return days[day_number - 1]\n",
    "    else:\n",
    "        return \"Invalid day number\"\n",
    "\n",
    "user_day = 3\n",
    "print(\"The day is:\", day_of_week(user_day))\n"
   ]
  },
  {
   "cell_type": "code",
   "execution_count": 14,
   "id": "62fdeb70-a307-4f82-85f2-e468c448dd31",
   "metadata": {},
   "outputs": [
    {
     "name": "stdout",
     "output_type": "stream",
     "text": [
      "2000 is a leap year (extended check)\n"
     ]
    }
   ],
   "source": [
    "#19\n",
    "def is_leap_year_extended(year):\n",
    "    if (year % 4 == 0 and year % 100 != 0) or (year % 400 == 0):\n",
    "        return True\n",
    "    else:\n",
    "        return False\n",
    "\n",
    "year_extended = 2000\n",
    "if is_leap_year_extended(year_extended):\n",
    "    print(f\"{year_extended} is a leap year (extended check)\")\n",
    "else:\n",
    "    print(f\"{year_extended} is not a leap year (extended check)\")\n"
   ]
  },
  {
   "cell_type": "code",
   "execution_count": 18,
   "id": "b0297daa-98af-46e5-824e-953988adbe4a",
   "metadata": {},
   "outputs": [
    {
     "data": {
      "text/plain": [
       "True"
      ]
     },
     "execution_count": 18,
     "metadata": {},
     "output_type": "execute_result"
    }
   ],
   "source": [
    "#20\n",
    "def is_prime(n):\n",
    "    if n<2:\n",
    "        return False\n",
    "    for i in range(2, int(n**0.5) +1):\n",
    "        if n%i!=0:\n",
    "            return True\n",
    "    return False\n",
    "\n",
    "is_prime(17)\n",
    "        "
   ]
  },
  {
   "cell_type": "markdown",
   "id": "6ec09738-a091-40ab-9f7c-a50f1684937a",
   "metadata": {},
   "source": [
    "# Elif Statements:"
   ]
  },
  {
   "cell_type": "code",
   "execution_count": 30,
   "id": "86aed333-5b6f-428e-91d2-59c8c587ec5d",
   "metadata": {},
   "outputs": [
    {
     "name": "stdout",
     "output_type": "stream",
     "text": [
      "Grade: B\n"
     ]
    }
   ],
   "source": [
    "#21\n",
    "score = 85\n",
    "\n",
    "if 90 <= score <= 100:\n",
    "    print(\"Grade: A\")\n",
    "elif 80 <= score < 90:\n",
    "    print(\"Grade: B\")\n",
    "elif 70 <= score < 80:\n",
    "    print(\"Grade: C\")\n",
    "elif 60 <= score < 70:\n",
    "    print(\"Grade: D\")\n",
    "else:\n",
    "    print(\"Grade: F\")\n"
   ]
  },
  {
   "cell_type": "code",
   "execution_count": 32,
   "id": "cc69a184-0903-4933-9978-b830b0df01d3",
   "metadata": {},
   "outputs": [
    {
     "name": "stdout",
     "output_type": "stream",
     "text": [
      "Triangle: Equilateral\n"
     ]
    }
   ],
   "source": [
    "#22\n",
    "angle1 = 60\n",
    "angle2 = 60\n",
    "angle3 = 60\n",
    "\n",
    "if angle1 + angle2 + angle3 == 180:\n",
    "    if angle1 == angle2 == angle3:\n",
    "        print(\"Triangle: Equilateral\")\n",
    "    elif angle1 == angle2 or angle1 == angle3 or angle2 == angle3:\n",
    "        print(\"Triangle: Isosceles\")\n",
    "    else:\n",
    "        print(\"Triangle: Scalene\")\n",
    "else:\n",
    "    print(\"Invalid triangle angles\")\n"
   ]
  },
  {
   "cell_type": "code",
   "execution_count": 33,
   "id": "38750ab4-adc9-401a-8598-2486b3f3f6ed",
   "metadata": {},
   "outputs": [
    {
     "name": "stdout",
     "output_type": "stream",
     "text": [
      "BMI Category: Normal\n"
     ]
    }
   ],
   "source": [
    "#23\n",
    "weight = 65  # in kilograms\n",
    "height = 1.75  # in meters\n",
    "\n",
    "bmi = weight / (height ** 2)\n",
    "\n",
    "if bmi < 18.5:\n",
    "    print(\"BMI Category: Underweight\")\n",
    "elif 18.5 <= bmi < 24.9:\n",
    "    print(\"BMI Category: Normal\")\n",
    "elif 25 <= bmi < 29.9:\n",
    "    print(\"BMI Category: Overweight\")\n",
    "else:\n",
    "    print(\"BMI Category: Obese\")\n"
   ]
  },
  {
   "cell_type": "code",
   "execution_count": 34,
   "id": "90956990-078f-4c83-8d2b-aed5f1a9e335",
   "metadata": {},
   "outputs": [
    {
     "name": "stdout",
     "output_type": "stream",
     "text": [
      "Number is negative\n"
     ]
    }
   ],
   "source": [
    "#24\n",
    "number = -7\n",
    "\n",
    "if number > 0:\n",
    "    print(\"Number is positive\")\n",
    "elif number < 0:\n",
    "    print(\"Number is negative\")\n",
    "else:\n",
    "    print(\"Number is zero\")\n"
   ]
  },
  {
   "cell_type": "code",
   "execution_count": 35,
   "id": "12916fd2-949c-49f8-a4a7-75b7920108b7",
   "metadata": {},
   "outputs": [
    {
     "name": "stdout",
     "output_type": "stream",
     "text": [
      "Character is uppercase\n"
     ]
    }
   ],
   "source": [
    "#25\n",
    "char = 'A'\n",
    "\n",
    "if char.isupper():\n",
    "    print(\"Character is uppercase\")\n",
    "elif char.islower():\n",
    "    print(\"Character is lowercase\")\n",
    "else:\n",
    "    print(\"Character is special\")\n"
   ]
  },
  {
   "cell_type": "code",
   "execution_count": 36,
   "id": "18108d58-f831-44b9-9c1f-15358dc3dbf2",
   "metadata": {},
   "outputs": [
    {
     "name": "stdout",
     "output_type": "stream",
     "text": [
      "Discounted Price: 712.5\n"
     ]
    }
   ],
   "source": [
    "#26\n",
    "purchase_amount = 750  # in dollars\n",
    "\n",
    "if purchase_amount >= 1000:\n",
    "    discount = 0.1\n",
    "elif purchase_amount >= 500:\n",
    "    discount = 0.05\n",
    "else:\n",
    "    discount = 0\n",
    "\n",
    "discounted_price = purchase_amount - (purchase_amount * discount)\n",
    "print(\"Discounted Price:\", discounted_price)\n"
   ]
  },
  {
   "cell_type": "code",
   "execution_count": 37,
   "id": "6849c5a2-00af-4db5-ae16-6209d06db066",
   "metadata": {},
   "outputs": [
    {
     "name": "stdout",
     "output_type": "stream",
     "text": [
      "Electricity Bill: 124.0\n"
     ]
    }
   ],
   "source": [
    "#27\n",
    "consumption = 120  # in kWh\n",
    "\n",
    "if consumption <= 50:\n",
    "    bill = consumption * 0.5\n",
    "elif 50 < consumption <= 100:\n",
    "    bill = 50 + (consumption - 50) * 0.75\n",
    "elif 100 < consumption <= 200:\n",
    "    bill = 50 + 50 + (consumption - 100) * 1.20\n",
    "else:\n",
    "    bill = 50 + 50 + 100 + (consumption - 200) * 1.50\n",
    "\n",
    "print(\"Electricity Bill:\", bill)\n"
   ]
  },
  {
   "cell_type": "code",
   "execution_count": 39,
   "id": "98e84cf7-a36c-474a-87dd-35d847881a42",
   "metadata": {},
   "outputs": [
    {
     "name": "stdout",
     "output_type": "stream",
     "text": [
      "Quadrilateral: Parallelogram\n"
     ]
    }
   ],
   "source": [
    "#28\n",
    "num_of_sides = 4\n",
    "angle_sum = (num_of_sides - 2) * 180\n",
    "side_lengths = [4, 4, 5, 5]  # Assuming sides of a quadrilateral\n",
    "\n",
    "if num_of_sides == 4:\n",
    "    if angle_sum == 360:\n",
    "        if all(side_lengths[i] == side_lengths[(i + 1) % 4] for i in range(4)):\n",
    "            print(\"Quadrilateral: Square\")\n",
    "        elif side_lengths[0] == side_lengths[2] and side_lengths[1] == side_lengths[3]:\n",
    "            print(\"Quadrilateral: Rectangle\")\n",
    "        else:\n",
    "            print(\"Quadrilateral: Parallelogram\")\n",
    "    else:\n",
    "        print(\"Invalid quadrilateral angles\")\n",
    "else:\n",
    "    print(\"Not a quadrilateral\")\n"
   ]
  },
  {
   "cell_type": "code",
   "execution_count": 40,
   "id": "76267193-27c9-4695-ae4b-770d5c5afc4a",
   "metadata": {},
   "outputs": [
    {
     "name": "stdout",
     "output_type": "stream",
     "text": [
      "Season: Summer\n"
     ]
    }
   ],
   "source": [
    "#29\n",
    "month = 7\n",
    "\n",
    "if 1 <= month <= 12:\n",
    "    if 3 <= month <= 5:\n",
    "        print(\"Season: Spring\")\n",
    "    elif 6 <= month <= 8:\n",
    "        print(\"Season: Summer\")\n",
    "    elif 9 <= month <= 11:\n",
    "        print(\"Season: Autumn\")\n",
    "    else:\n",
    "        print(\"Season: Winter\")\n",
    "else:\n",
    "    print(\"Invalid month\")\n"
   ]
  },
  {
   "cell_type": "code",
   "execution_count": 41,
   "id": "24fdecf8-553a-4914-8f9a-c54394968c52",
   "metadata": {},
   "outputs": [
    {
     "name": "stdout",
     "output_type": "stream",
     "text": [
      "Year Type: Common\n",
      "Month Days: 30\n"
     ]
    }
   ],
   "source": [
    "#30\n",
    "year = 2023\n",
    "month = 4\n",
    "\n",
    "if 1 <= month <= 12:\n",
    "    if (month == 4 or month == 6 or month == 9 or month == 11):\n",
    "        days = 30\n",
    "    elif month == 2:\n",
    "        if (year % 4 == 0 and year % 100 != 0) or (year % 400 == 0):\n",
    "            days = 29\n",
    "        else:\n",
    "            days = 28\n",
    "    else:\n",
    "        days = 31\n",
    "\n",
    "    print(f\"Year Type: {'Leap' if (year % 4 == 0 and year % 100 != 0) or (year % 400 == 0) else 'Common'}\")\n",
    "    print(f\"Month Days: {days}\")\n",
    "else:\n",
    "    print(\"Invalid month\")\n"
   ]
  },
  {
   "cell_type": "markdown",
   "id": "7c6d0a50-7d08-4062-928e-9078bcec33bf",
   "metadata": {},
   "source": [
    "# Basic Level"
   ]
  },
  {
   "cell_type": "code",
   "execution_count": 53,
   "id": "7b451704-36a3-42bf-9e71-d3865bacdf7e",
   "metadata": {},
   "outputs": [
    {
     "name": "stdout",
     "output_type": "stream",
     "text": [
      "Number is positive\n"
     ]
    }
   ],
   "source": [
    "#1\n",
    "number = 7\n",
    "\n",
    "if number > 0:\n",
    "    print(\"Number is positive\")\n",
    "elif number < 0:\n",
    "    print(\"Number is negative\")\n",
    "else:\n",
    "    print(\"Number is zero\")\n"
   ]
  },
  {
   "cell_type": "code",
   "execution_count": 54,
   "id": "8dd16ba5-54dc-4fe5-a47d-52abde6d6b4e",
   "metadata": {},
   "outputs": [
    {
     "name": "stdout",
     "output_type": "stream",
     "text": [
      "You are eligible to vote\n"
     ]
    }
   ],
   "source": [
    "#2\n",
    "age = 25\n",
    "\n",
    "if age >= 18:\n",
    "    print(\"You are eligible to vote\")\n",
    "else:\n",
    "    print(\"You are not eligible to vote\")\n"
   ]
  },
  {
   "cell_type": "code",
   "execution_count": 55,
   "id": "8a9c62d2-b288-4855-a2bf-b6df7b7fefa8",
   "metadata": {},
   "outputs": [
    {
     "name": "stdout",
     "output_type": "stream",
     "text": [
      "The maximum number is: 15\n"
     ]
    }
   ],
   "source": [
    "#3\n",
    "num1 = 15\n",
    "num2 = 8\n",
    "\n",
    "if num1 > num2:\n",
    "    print(f\"The maximum number is: {num1}\")\n",
    "else:\n",
    "    print(f\"The maximum number is: {num2}\")\n"
   ]
  },
  {
   "cell_type": "code",
   "execution_count": 56,
   "id": "6b15aced-9ea8-43c3-bc67-38cca4db1461",
   "metadata": {},
   "outputs": [
    {
     "name": "stdout",
     "output_type": "stream",
     "text": [
      "Grade: C\n"
     ]
    }
   ],
   "source": [
    "#4\n",
    "exam_score = 78\n",
    "\n",
    "if 90 <= exam_score <= 100:\n",
    "    print(\"Grade: A\")\n",
    "elif 80 <= exam_score < 90:\n",
    "    print(\"Grade: B\")\n",
    "elif 70 <= exam_score < 80:\n",
    "    print(\"Grade: C\")\n",
    "elif 60 <= exam_score < 70:\n",
    "    print(\"Grade: D\")\n",
    "else:\n",
    "    print(\"Grade: F\")\n"
   ]
  },
  {
   "cell_type": "code",
   "execution_count": 57,
   "id": "f824892d-8ac7-4904-8c9a-2ce19a5a0b18",
   "metadata": {},
   "outputs": [
    {
     "name": "stdout",
     "output_type": "stream",
     "text": [
      "2024 is a leap year\n"
     ]
    }
   ],
   "source": [
    "#5\n",
    "\n",
    "year = 2024\n",
    "\n",
    "if (year % 4 == 0 and year % 100 != 0) or (year % 400 == 0):\n",
    "    print(f\"{year} is a leap year\")\n",
    "else:\n",
    "    print(f\"{year} is not a leap year\")\n"
   ]
  },
  {
   "cell_type": "code",
   "execution_count": 58,
   "id": "24b3690c-e8e7-4e69-8673-4910e0816c76",
   "metadata": {},
   "outputs": [
    {
     "name": "stdout",
     "output_type": "stream",
     "text": [
      "Triangle: Scalene\n"
     ]
    }
   ],
   "source": [
    "#6\n",
    "side1 = 3\n",
    "side2 = 4\n",
    "side3 = 5\n",
    "\n",
    "if side1 == side2 == side3:\n",
    "    print(\"Triangle: Equilateral\")\n",
    "elif side1 == side2 or side1 == side3 or side2 == side3:\n",
    "    print(\"Triangle: Isosceles\")\n",
    "else:\n",
    "    print(\"Triangle: Scalene\")\n"
   ]
  },
  {
   "cell_type": "code",
   "execution_count": 59,
   "id": "627140e8-2ab1-4b1a-aff2-6b09e4c2f243",
   "metadata": {},
   "outputs": [
    {
     "name": "stdout",
     "output_type": "stream",
     "text": [
      "The largest number is: 15\n"
     ]
    }
   ],
   "source": [
    "#7\n",
    "num1 = 12\n",
    "num2 = 7\n",
    "num3 = 15\n",
    "\n",
    "max_number = max(num1, num2, num3)\n",
    "print(f\"The largest number is: {max_number}\")\n"
   ]
  },
  {
   "cell_type": "code",
   "execution_count": 60,
   "id": "bb902dff-175c-457a-934b-5af21084aa54",
   "metadata": {},
   "outputs": [
    {
     "name": "stdout",
     "output_type": "stream",
     "text": [
      "The character is a vowel\n"
     ]
    }
   ],
   "source": [
    "#8\n",
    "char = 'E'\n",
    "\n",
    "if char.lower() in 'aeiou':\n",
    "    print(\"The character is a vowel\")\n",
    "else:\n",
    "    print(\"The character is a consonant\")\n"
   ]
  },
  {
   "cell_type": "code",
   "execution_count": 62,
   "id": "da23f36a-6d17-4b44-b392-ecc9301cab59",
   "metadata": {},
   "outputs": [
    {
     "name": "stdout",
     "output_type": "stream",
     "text": [
      "Discounted Cost: 108.0\n"
     ]
    }
   ],
   "source": [
    "#9\n",
    "total_cost = 120 \n",
    "\n",
    "if total_cost >= 100:\n",
    "    discount = 0.1\n",
    "else:\n",
    "    discount = 0\n",
    "\n",
    "discounted_cost = total_cost - (total_cost * discount)\n",
    "print(f\"Discounted Cost: {discounted_cost}\")\n"
   ]
  },
  {
   "cell_type": "code",
   "execution_count": 63,
   "id": "cf7374d0-259d-4166-9052-3a59516f21a7",
   "metadata": {},
   "outputs": [
    {
     "name": "stdout",
     "output_type": "stream",
     "text": [
      "The number is odd\n"
     ]
    }
   ],
   "source": [
    "#10\n",
    "number = 17\n",
    "\n",
    "if number % 2 == 0:\n",
    "    print(\"The number is even\")\n",
    "else:\n",
    "    print(\"The number is odd\")\n"
   ]
  },
  {
   "cell_type": "markdown",
   "id": "c313c9f3-e84a-4055-ad2b-dc5a924b7e7d",
   "metadata": {},
   "source": [
    "# Intermediate Level:"
   ]
  },
  {
   "cell_type": "code",
   "execution_count": 67,
   "id": "606a04e2-f55b-4ac1-a72e-f90c06eec5be",
   "metadata": {},
   "outputs": [
    {
     "name": "stdout",
     "output_type": "stream",
     "text": [
      "The roots are: (2.0, -1.0)\n"
     ]
    }
   ],
   "source": [
    "#11\n",
    "\n",
    "def quad_equation(a,b,c):\n",
    "    d = (b**2 - 4*a*c)**0.5\n",
    "    root1 = (-b+d)/(2*a)\n",
    "    root2 = (+b + d) /(2*a)\n",
    "    return root1, root2\n",
    "    \n",
    "coefficients = (1, -3, 2)\n",
    "print(\"The roots are:\", quad_equation(*coefficients))\n",
    "    "
   ]
  },
  {
   "cell_type": "code",
   "execution_count": 68,
   "id": "d9c1c056-0d82-4b57-bcda-46854c9fe99f",
   "metadata": {},
   "outputs": [
    {
     "name": "stdout",
     "output_type": "stream",
     "text": [
      "The day is: Wednesday\n"
     ]
    }
   ],
   "source": [
    "# 12\n",
    "def day_of_week(day_number):\n",
    "    days = [\"Monday\", \"Tuesday\", \"Wednesday\", \"Thursday\", \"Friday\", \"Saturday\", \"Sunday\"]\n",
    "\n",
    "    if 1 <= day_number <= 7:\n",
    "        return days[day_number - 1]\n",
    "    else:\n",
    "        return \"Invalid day number\"\n",
    "\n",
    "# Example usage\n",
    "user_day = 3\n",
    "print(\"The day is:\", day_of_week(user_day))\n"
   ]
  },
  {
   "cell_type": "code",
   "execution_count": 69,
   "id": "0f906718-bd6a-423f-938d-aade2fff6a61",
   "metadata": {},
   "outputs": [
    {
     "name": "stdout",
     "output_type": "stream",
     "text": [
      "The factorial of 5 is: 120\n"
     ]
    }
   ],
   "source": [
    "#13\n",
    "def factorial(n):\n",
    "    if n == 0 or n == 1:\n",
    "        return 1\n",
    "    else:\n",
    "        return n * factorial(n - 1)\n",
    "\n",
    "# Example usage\n",
    "number = 5\n",
    "print(f\"The factorial of {number} is:\", factorial(number))\n"
   ]
  },
  {
   "cell_type": "code",
   "execution_count": 70,
   "id": "c6d4bc0c-305c-4c12-b7d8-d2edb4149a14",
   "metadata": {},
   "outputs": [
    {
     "name": "stdout",
     "output_type": "stream",
     "text": [
      "The largest number is: 10\n"
     ]
    }
   ],
   "source": [
    "#14\n",
    "def find_largest(a, b, c):\n",
    "    if a >= b:\n",
    "        if a >= c:\n",
    "            return a\n",
    "        else:\n",
    "            return c\n",
    "    else:\n",
    "        if b >= c:\n",
    "            return b\n",
    "        else:\n",
    "            return c\n",
    "\n",
    "# Example usage\n",
    "result = find_largest(5, 10, 3)\n",
    "print(\"The largest number is:\", result)\n"
   ]
  },
  {
   "cell_type": "code",
   "execution_count": 79,
   "id": "51624142-1f8e-411b-8f82-af2041b1b93c",
   "metadata": {},
   "outputs": [
    {
     "name": "stdout",
     "output_type": "stream",
     "text": [
      "1. Check Balance\n",
      "2. Withdraw Money\n",
      "3. Deposit Money\n",
      "4. Exit\n"
     ]
    },
    {
     "name": "stdin",
     "output_type": "stream",
     "text": [
      "Enter your choice:  1\n"
     ]
    },
    {
     "name": "stdout",
     "output_type": "stream",
     "text": [
      "Your balance is: $1000\n",
      "1. Check Balance\n",
      "2. Withdraw Money\n",
      "3. Deposit Money\n",
      "4. Exit\n"
     ]
    },
    {
     "name": "stdin",
     "output_type": "stream",
     "text": [
      "Enter your choice:  4\n"
     ]
    },
    {
     "name": "stdout",
     "output_type": "stream",
     "text": [
      "Exiting ATM. Thank you!\n"
     ]
    }
   ],
   "source": [
    "#15\n",
    "balance = 1000\n",
    "\n",
    "def display_menu():\n",
    "    print(\"1. Check Balance\")\n",
    "    print(\"2. Withdraw Money\")\n",
    "    print(\"3. Deposit Money\")\n",
    "    print(\"4. Exit\")\n",
    "\n",
    "def atm_menu():\n",
    "    global balance\n",
    "    \n",
    "    while True:\n",
    "        display_menu()\n",
    "        choice = int(input(\"Enter your choice: \"))\n",
    "\n",
    "        if choice == 1:\n",
    "            print(f\"Your balance is: ${balance}\")\n",
    "        elif choice == 2:\n",
    "            amount = float(input(\"Enter the amount to withdraw: \"))\n",
    "            if amount <= balance:\n",
    "                balance -= amount\n",
    "                print(f\"Withdrawal successful. Remaining balance: ${balance}\")\n",
    "            else:\n",
    "                print(\"Insufficient funds!\")\n",
    "        elif choice == 3:\n",
    "            amount = float(input(\"Enter the amount to deposit: \"))\n",
    "            balance += amount\n",
    "            print(f\"Deposit successful. Updated balance: ${balance}\")\n",
    "        elif choice == 4:\n",
    "            print(\"Exiting ATM. Thank you!\")\n",
    "            break\n",
    "        else:\n",
    "            print(\"Invalid choice. Please select a valid option.\")\n",
    "\n",
    "# Example usage\n",
    "atm_menu()\n"
   ]
  },
  {
   "cell_type": "code",
   "execution_count": 101,
   "id": "e3900b76-f436-4074-b5a4-f99b9e54c2c8",
   "metadata": {},
   "outputs": [
    {
     "name": "stdout",
     "output_type": "stream",
     "text": [
      "level is a palindrome\n"
     ]
    }
   ],
   "source": [
    "#16\n",
    "def is_palindrome(s):\n",
    "    s = s.lower()\n",
    "    s = ''.join(c for c in s if c.isalnum())\n",
    "    return s == s[::-1]\n",
    "\n",
    "# Example usage\n",
    "word = \"level\"\n",
    "if is_palindrome(word):\n",
    "    print(f\"{word} is a palindrome\")\n",
    "else:\n",
    "    print(f\"{word} is not a palindrome\")\n"
   ]
  },
  {
   "cell_type": "code",
   "execution_count": 102,
   "id": "83f6d50f-3abf-4c63-9d0e-720ab361acc7",
   "metadata": {},
   "outputs": [
    {
     "name": "stdout",
     "output_type": "stream",
     "text": [
      "The average is: 6.0\n"
     ]
    }
   ],
   "source": [
    "#17\n",
    "def average_without_extremes(numbers):\n",
    "    if len(numbers) < 3:\n",
    "        return \"Not enough elements to calculate average\"\n",
    "\n",
    "    numbers.sort()\n",
    "    numbers = numbers[1:-1]  # Exclude the smallest and largest values\n",
    "    return sum(numbers) / len(numbers)\n",
    "\n",
    "# Example usage\n",
    "numbers_list = [4, 8, 2, 6, 10]\n",
    "print(\"The average is:\", average_without_extremes(numbers_list))\n"
   ]
  },
  {
   "cell_type": "code",
   "execution_count": 103,
   "id": "68b20c6d-60dc-4579-adc7-9a6fa944aaec",
   "metadata": {},
   "outputs": [
    {
     "name": "stdout",
     "output_type": "stream",
     "text": [
      "25 degrees Celsius is 77.0 degrees Fahrenheit\n"
     ]
    }
   ],
   "source": [
    "#18\n",
    "def celsius_to_fahrenheit(celsius):\n",
    "    return (celsius * 9/5) + 32\n",
    "\n",
    "# Example usage\n",
    "temperature_celsius = 25\n",
    "print(f\"{temperature_celsius} degrees Celsius is {celsius_to_fahrenheit(temperature_celsius)} degrees Fahrenheit\")\n"
   ]
  },
  {
   "cell_type": "code",
   "execution_count": 104,
   "id": "8f00bd20-38b0-40b5-b80f-65a4e84893f1",
   "metadata": {},
   "outputs": [
    {
     "name": "stdin",
     "output_type": "stream",
     "text": [
      "Enter the first number:  1\n",
      "Enter the operator (+, -, *, /):  -\n",
      "Enter the second number:  1\n"
     ]
    },
    {
     "name": "stdout",
     "output_type": "stream",
     "text": [
      "The result is: 0.0\n"
     ]
    }
   ],
   "source": [
    "#19\n",
    "def calculator():\n",
    "    num1 = float(input(\"Enter the first number: \"))\n",
    "    operator = input(\"Enter the operator (+, -, *, /): \")\n",
    "    num2 = float(input(\"Enter the second number: \"))\n",
    "\n",
    "    if operator == '+':\n",
    "        result = num1 + num2\n",
    "    elif operator == '-':\n",
    "        result = num1 - num2\n",
    "    elif operator == '*':\n",
    "        result = num1 * num2\n",
    "    elif operator == '/':\n",
    "        if num2 != 0:\n",
    "            result = num1 / num2\n",
    "        else:\n",
    "            return \"Cannot divide by zero\"\n",
    "    else:\n",
    "        return \"Invalid operator\"\n",
    "\n",
    "    return f\"The result is: {result}\"\n",
    "\n",
    "# Example usage\n",
    "print(calculator())\n"
   ]
  },
  {
   "cell_type": "code",
   "execution_count": 105,
   "id": "40745e63-5ed5-434c-ac95-b8d0bfb85680",
   "metadata": {},
   "outputs": [
    {
     "name": "stdout",
     "output_type": "stream",
     "text": [
      "The roots are: ((3.1371580426032573+0j), (1.2577728010314413-0j), (1.6050691563653008+0j))\n"
     ]
    }
   ],
   "source": [
    "# 20\n",
    "import cmath\n",
    "\n",
    "def cubic_roots(a, b, c, d):\n",
    "    # Calculate intermediate values\n",
    "    p = c / a - (b**2) / (3*a**2)\n",
    "    q = 2 * (b**3) / (27*a**3) - b*c / (3*a**2) + d / a\n",
    "\n",
    "    # Calculate discriminant\n",
    "    delta = (q**2) / 4 + (p**3) / 27\n",
    "\n",
    "    if delta > 0:\n",
    "        # Three real roots\n",
    "        root1 = (-q/2 + cmath.sqrt(delta))**(1/3) + (-q/2 - cmath.sqrt(delta))**(1/3) - b / (3*a)\n",
    "        return root1,\n",
    "    elif delta == 0:\n",
    "        # One real root and two complex conjugate roots\n",
    "        root1 = -2 * (q / 2)**(1/3) - b / (3*a)\n",
    "        root2 = (q / 2)**(1/3) - b / (3*a) + 1j * cmath.sqrt(3) / 2 * (q / 2)**(1/3)\n",
    "        root3 = (q / 2)**(1/3) - b / (3*a) - 1j * cmath.sqrt(3) / 2 * (q / 2)**(1/3)\n",
    "        return root1, root2, root3\n",
    "    else:\n",
    "        # One real root and two complex conjugate roots\n",
    "        phi = cmath.phase((-q/2 + cmath.sqrt(delta))**(1/3))\n",
    "        root1 = 2 * cmath.sqrt(-p/3) * cmath.cos(phi/3) - b / (3*a)\n",
    "        root2 = 2 * cmath.sqrt(-p/3) * cmath.cos((phi + 2*cmath.pi)/3) - b / (3*a)\n",
    "        root3 = 2 * cmath.sqrt(-p/3) * cmath.cos((phi + 4*cmath.pi)/3) - b / (3*a)\n",
    "        return root1, root2, root3\n",
    "\n",
    "# Example usage\n",
    "coefficients = (1, -6, 11, -6)\n",
    "roots = cubic_roots(*coefficients)\n",
    "print(\"The roots are:\", roots)\n"
   ]
  },
  {
   "cell_type": "markdown",
   "id": "dce40b46-8fc2-49bc-b5f5-f11becb99ac3",
   "metadata": {},
   "source": [
    "# Advanced Level:"
   ]
  },
  {
   "cell_type": "code",
   "execution_count": 7,
   "id": "2ef9c792-3860-45e7-b8e6-d71659c7b650",
   "metadata": {},
   "outputs": [
    {
     "name": "stdout",
     "output_type": "stream",
     "text": [
      "Tax amount to be paid: 1800000\n"
     ]
    }
   ],
   "source": [
    "# Create a program that calculates the income tax based on the user's income and tax brackets.\n",
    "\n",
    "def calculate_income_tax(income):\n",
    "    brackets = [700000, 1200000, 3000000, float('inf')]\n",
    "    rates = [0.1, 0.2, 0.3, 0.4]\n",
    "\n",
    "    if income < brackets[0]:\n",
    "        return \"No need to pay tax\"\n",
    "    \n",
    "    for i in range(1, len(brackets)):\n",
    "        if income <= brackets[i]:\n",
    "            tax = (income - brackets[i - 1]) * rates[i - 1]\n",
    "            return f\"Tax amount to be paid: {int(tax)}\"\n",
    "\n",
    "\n",
    "user_income = 9000000\n",
    "\n",
    "\n",
    "income_tax_result = calculate_income_tax(user_income)\n",
    "print(income_tax_result)\n",
    "\n",
    "    \n"
   ]
  },
  {
   "cell_type": "code",
   "execution_count": 7,
   "id": "285f7b14-f07b-4a7b-a327-e0a105b1f957",
   "metadata": {},
   "outputs": [
    {
     "name": "stdin",
     "output_type": "stream",
     "text": [
      "Enter your move (rock/paper/scissor) or 'quit' to end:  rock\n"
     ]
    },
    {
     "name": "stdout",
     "output_type": "stream",
     "text": [
      "Your move: rock\n",
      "Computer's move: rock\n",
      "It's a tie!\n",
      "Your points: 0\n",
      "Computer points: 0\n"
     ]
    },
    {
     "name": "stdin",
     "output_type": "stream",
     "text": [
      "Enter your move (rock/paper/scissor) or 'quit' to end:  quit\n"
     ]
    },
    {
     "name": "stdout",
     "output_type": "stream",
     "text": [
      "Your Score: 0 \n",
      "Computers Score: 0\n"
     ]
    }
   ],
   "source": [
    "import random\n",
    "\n",
    "moves = ['rock', 'paper', 'scissor']\n",
    "\n",
    "# Define the winning conditions\n",
    "winning_conditions = {\n",
    "    ('rock', 'paper'): (0, 1),\n",
    "    ('rock', 'scissor'): (1, 0),\n",
    "    ('scissor', 'paper'): (1, 0),\n",
    "}\n",
    "\n",
    "user_points = 0\n",
    "computer_points = 0\n",
    "\n",
    "while True:\n",
    "    # Get user input\n",
    "    user_choice = input(\"Enter your move (rock/paper/scissor) or 'quit' to end: \").lower()\n",
    "\n",
    "    # Check for valid input or end the game\n",
    "    if user_choice == 'quit':\n",
    "        break\n",
    "    elif user_choice not in moves:\n",
    "        print(\"Invalid move. Please enter rock, paper, or scissor.\")\n",
    "        continue\n",
    "\n",
    "    # Generate computer's move\n",
    "    computer_choice = random.choice(moves)\n",
    "\n",
    "    # Display moves\n",
    "    print(f\"Your move: {user_choice}\")\n",
    "    print(f\"Computer's move: {computer_choice}\")\n",
    "\n",
    "    # Determine the winner and update points\n",
    "    if (user_choice, computer_choice) in winning_conditions:\n",
    "        user_points += winning_conditions[(user_choice, computer_choice)][0]\n",
    "        computer_points += winning_conditions[(user_choice, computer_choice)][1]\n",
    "        print(\"You win!\")\n",
    "    elif (computer_choice, user_choice) in winning_conditions:\n",
    "        user_points += winning_conditions[(computer_choice, user_choice)][1]\n",
    "        computer_points += winning_conditions[(computer_choice, user_choice)][0]\n",
    "        print(\"Computer wins!\")\n",
    "    else:\n",
    "        print(\"It's a tie!\")\n",
    "\n",
    "    # Display current score\n",
    "    print(f\"Your points: {user_points}\")\n",
    "    print(f\"Computer points: {computer_points}\")\n",
    "    \n",
    "    \n",
    "print(f'Your Score: {user_points} \\nComputers Score: {computer_points}')"
   ]
  },
  {
   "cell_type": "code",
   "execution_count": 18,
   "id": "c66dc482-811d-42f5-a79f-834972402323",
   "metadata": {},
   "outputs": [
    {
     "name": "stdout",
     "output_type": "stream",
     "text": [
      "Welcome to the Random Password Generator!\n"
     ]
    },
    {
     "name": "stdin",
     "output_type": "stream",
     "text": [
      "Enter the desired password length:  12\n",
      "Enter the desired complexity (low/medium/high):  high\n"
     ]
    },
    {
     "name": "stdout",
     "output_type": "stream",
     "text": [
      "Generated Password: X{8`/ZSt/PF~\n"
     ]
    }
   ],
   "source": [
    "# 23. Develop a program that generates a random password based on user preferences (length, complexity).\n",
    "import random, string\n",
    "\n",
    "def gen_password(length , complexity):\n",
    "    \n",
    "    if complexity=='low':\n",
    "        characters = string.ascii_letters + string.digits\n",
    "    elif complexity=='medium':\n",
    "        characters = string.ascii_letters + string.digits + string.ascii_uppercase\n",
    "    elif complexity=='high':\n",
    "        characters = string.ascii_letters + string.digits + string.ascii_uppercase + string.punctuation\n",
    "        \n",
    "    password = ''.join(random.choice(characters) for _ in range(length))\n",
    "    return password\n",
    "\n",
    "def user_preferences():\n",
    "    try:\n",
    "        length = int(input(\"Enter the desired password length: \"))\n",
    "        complexity = input(\"Enter the desired complexity (low/medium/high): \").lower()\n",
    "        \n",
    "        if complexity not in ['low', 'medium', 'high']:\n",
    "            raise ValueError(\"Invalid complexity. Please choose low, medium, or high.\")\n",
    "            \n",
    "        return length, complexity\n",
    "    \n",
    "    except ValueError as e:\n",
    "        print(f'Error {e}')\n",
    "        return None, None\n",
    "    \n",
    "def main():\n",
    "    print(\"Welcome to the Random Password Generator!\")\n",
    "\n",
    "    preferences = user_preferences()\n",
    "\n",
    "    if preferences:\n",
    "        length, complexity = preferences\n",
    "        password = gen_password(length, complexity)\n",
    "        print(f\"Generated Password: {password}\")\n",
    "main()\n"
   ]
  },
  {
   "cell_type": "code",
   "execution_count": 26,
   "id": "c3c722ff-ddaa-464f-8ee6-867b2a0c8ff7",
   "metadata": {},
   "outputs": [
    {
     "name": "stdout",
     "output_type": "stream",
     "text": [
      "Welcome to the Text Adventure Game!\n",
      "\n",
      "You find yourself standing in front of a mysterious cave.\n",
      "Do you want to enter the cave or walk away?\n",
      "1. Enter the cave\n",
      "2. Walk away\n"
     ]
    },
    {
     "name": "stdin",
     "output_type": "stream",
     "text": [
      "Enter the number of your choice:  2\n"
     ]
    },
    {
     "name": "stdout",
     "output_type": "stream",
     "text": [
      "\n",
      "You decide to walk away.\n",
      "The adventure ends.\n"
     ]
    }
   ],
   "source": [
    "import time\n",
    "\n",
    "def print_slow(text, delay=0.05):\n",
    "    for char in text:\n",
    "        print(char, end='', flush=True)\n",
    "        time.sleep(delay)\n",
    "    print()\n",
    "\n",
    "def get_valid_choice(options):\n",
    "    while True:\n",
    "        try:\n",
    "            choice = int(input(\"Enter the number of your choice: \"))\n",
    "            if 1 <= choice <= len(options):\n",
    "                return choice\n",
    "            else:\n",
    "                print(\"Invalid choice. Please enter a valid number.\")\n",
    "        except ValueError:\n",
    "            print(\"Invalid input. Please enter a number.\")\n",
    "\n",
    "def make_choice(prompt, options):\n",
    "    print_slow(prompt)\n",
    "    for i, option in enumerate(options, 1):\n",
    "        print(f\"{i}. {option}\")\n",
    "\n",
    "    return get_valid_choice(options)\n",
    "\n",
    "def start_adventure():\n",
    "    print_slow(\"Welcome to the Text Adventure Game!\")\n",
    "\n",
    "    print_slow(\"\\nYou find yourself standing in front of a mysterious cave.\")\n",
    "    \n",
    "    choice = make_choice(\"Do you want to enter the cave or walk away?\", [\"Enter the cave\", \"Walk away\"])\n",
    "\n",
    "    if choice == 1:\n",
    "        print_slow(\"\\nAs you enter the cave, you see two tunnels.\")\n",
    "        choice = make_choice(\"Do you want to go left or right?\", [\"Go left\", \"Go right\"])\n",
    "\n",
    "        if choice == 1:\n",
    "            print(\"\\nYou find a treasure chest! \")\n",
    "            print_slow('Congratulations, you win!\"')\n",
    "        else:\n",
    "            print(\"\\nUh-oh! You encounter a dragon.\")\n",
    "            print_slow(' Game over!')\n",
    "    else:\n",
    "        print(\"\\nYou decide to walk away.\")\n",
    "        print_slow('The adventure ends.')\n",
    "        \n",
    "\n",
    "start_adventure()\n"
   ]
  },
  {
   "cell_type": "code",
   "execution_count": 29,
   "id": "e20dae83-7d91-4ef9-bc99-0a72def865c8",
   "metadata": {},
   "outputs": [
    {
     "name": "stdout",
     "output_type": "stream",
     "text": [
      "Linear Equation Solver\n",
      "Ax + B = 0\n"
     ]
    },
    {
     "name": "stdin",
     "output_type": "stream",
     "text": [
      "Enter the value of A:  1\n",
      "Enter the value of B:  1\n"
     ]
    },
    {
     "name": "stdout",
     "output_type": "stream",
     "text": [
      "The solution for x is: -1.0\n"
     ]
    }
   ],
   "source": [
    "def solve_linear_equation(a, b):\n",
    "    if a == 0:\n",
    "        if b == 0:\n",
    "            return \"Infinite solutions (identity equation)\"\n",
    "        else:\n",
    "            return \"No solution (contradictory equation)\"\n",
    "    else:\n",
    "        x = -b / a\n",
    "        return f\"The solution for x is: {x}\"\n",
    "\n",
    "def main():\n",
    "    print(\"Linear Equation Solver\")\n",
    "    print(\"Ax + B = 0\")\n",
    "\n",
    "    try:\n",
    "        a = float(input(\"Enter the value of A: \"))\n",
    "        b = float(input(\"Enter the value of B: \"))\n",
    "    except ValueError:\n",
    "        print(\"Invalid input. Please enter valid numerical values.\")\n",
    "        return\n",
    "\n",
    "    result = solve_linear_equation(a, b)\n",
    "    print(result)\n",
    "\n",
    "main()\n"
   ]
  },
  {
   "cell_type": "code",
   "execution_count": 30,
   "id": "d518880a-0cdf-4eaa-b610-cc6192436839",
   "metadata": {},
   "outputs": [
    {
     "name": "stdout",
     "output_type": "stream",
     "text": [
      "What is the capital of France?\n",
      "1. Paris\n",
      "2. Berlin\n",
      "3. London\n"
     ]
    },
    {
     "name": "stdin",
     "output_type": "stream",
     "text": [
      "Enter the number of your answer:  1\n"
     ]
    },
    {
     "name": "stdout",
     "output_type": "stream",
     "text": [
      "Correct!\n",
      "\n",
      "Which planet is known as the Red Planet?\n",
      "1. Mars\n",
      "2. Jupiter\n",
      "3. Venus\n"
     ]
    },
    {
     "name": "stdin",
     "output_type": "stream",
     "text": [
      "Enter the number of your answer:  1\n"
     ]
    },
    {
     "name": "stdout",
     "output_type": "stream",
     "text": [
      "Correct!\n",
      "\n",
      "What is the largest mammal in the world?\n",
      "1. Elephant\n",
      "2. Blue Whale\n",
      "3. Giraffe\n"
     ]
    },
    {
     "name": "stdin",
     "output_type": "stream",
     "text": [
      "Enter the number of your answer:  2\n"
     ]
    },
    {
     "name": "stdout",
     "output_type": "stream",
     "text": [
      "Correct!\n",
      "\n",
      "Quiz completed! Your final score is: 3/3\n"
     ]
    }
   ],
   "source": [
    "import random\n",
    "\n",
    "class QuizGame:\n",
    "    def __init__(self, questions):\n",
    "        self.questions = questions\n",
    "        self.score = 0\n",
    "\n",
    "    def display_question(self, question):\n",
    "        print(question[\"text\"])\n",
    "        for i, option in enumerate(question[\"options\"], 1):\n",
    "            print(f\"{i}. {option}\")\n",
    "        return int(input(\"Enter the number of your answer: \"))\n",
    "\n",
    "    def play(self):\n",
    "        random.shuffle(self.questions)\n",
    "        for question in self.questions:\n",
    "            user_answer = self.display_question(question)\n",
    "            correct_answer = question[\"correct\"]\n",
    "            if user_answer == correct_answer:\n",
    "                print(\"Correct!\\n\")\n",
    "                self.score += 1\n",
    "            else:\n",
    "                print(f\"Wrong! The correct answer is {correct_answer}: {question['options'][correct_answer-1]}\\n\")\n",
    "        print(f\"Quiz completed! Your final score is: {self.score}/{len(self.questions)}\")\n",
    "\n",
    "\n",
    "quiz_questions = [\n",
    "        {\"text\": \"What is the capital of France?\", \"options\": [\"Paris\", \"Berlin\", \"London\"], \"correct\": 1},\n",
    "        {\"text\": \"Which planet is known as the Red Planet?\", \"options\": [\"Mars\", \"Jupiter\", \"Venus\"], \"correct\": 1},\n",
    "        {\"text\": \"What is the largest mammal in the world?\", \"options\": [\"Elephant\", \"Blue Whale\", \"Giraffe\"], \"correct\": 2},\n",
    "    ]\n",
    "\n",
    "quiz = QuizGame(quiz_questions)\n",
    "quiz.play()\n"
   ]
  },
  {
   "cell_type": "code",
   "execution_count": 33,
   "id": "7f909758-de52-4af6-8f1d-85617df8e690",
   "metadata": {},
   "outputs": [
    {
     "name": "stdin",
     "output_type": "stream",
     "text": [
      "Enter a year to check if it's a prime number:  2111\n"
     ]
    },
    {
     "name": "stdout",
     "output_type": "stream",
     "text": [
      "2111 is a prime number.\n"
     ]
    }
   ],
   "source": [
    "# 27. Develop a program that determines whether a given year is a prime number or not.\n",
    "\n",
    "def is_prime(year):\n",
    "    if year < 2:\n",
    "        return False\n",
    "    for i in range(2, int(year**0.5) + 1):\n",
    "        if year % i == 0:\n",
    "            return False\n",
    "    return True\n",
    "\n",
    "def main():\n",
    "    try:\n",
    "        year = int(input(\"Enter a year to check if it's a prime number: \"))\n",
    "    except ValueError:\n",
    "        print(\"Invalid input. Please enter a valid integer.\")\n",
    "        return\n",
    "\n",
    "    result = \"is\" if is_prime(year) else \"is not\"\n",
    "    print(f\"{year} {result} a prime number.\")\n",
    "\n",
    "\n",
    "main()"
   ]
  },
  {
   "cell_type": "code",
   "execution_count": 1,
   "id": "684e2cf9-3bc3-4a08-9b68-83feedf8b1f8",
   "metadata": {},
   "outputs": [
    {
     "name": "stdin",
     "output_type": "stream",
     "text": [
      "Enter the first number:  21\n",
      "Enter the second number:  22\n",
      "Enter the third number:  11\n"
     ]
    },
    {
     "name": "stdout",
     "output_type": "stream",
     "text": [
      "The sorted numbers in ascending order: (11, 21, 22)\n"
     ]
    }
   ],
   "source": [
    "# 28. Create a program that sorts three numbers in ascending order using conditional statements.\n",
    "\n",
    "def sort_numbers(a, b, c):\n",
    "    if a <= b <= c:\n",
    "        return a, b, c\n",
    "    elif a <= c <= b:\n",
    "        return a, c, b\n",
    "    elif b <= a <= c:\n",
    "        return b, a, c\n",
    "    elif b <= c <= a:\n",
    "        return b, c, a\n",
    "    elif c <= a <= b:\n",
    "        return c, a, b\n",
    "    else:\n",
    "        return c, b, a\n",
    "\n",
    "def main():\n",
    "    try:\n",
    "        num1 = int(input(\"Enter the first number: \"))\n",
    "        num2 = int(input(\"Enter the second number: \"))\n",
    "        num3 = int(input(\"Enter the third number: \"))\n",
    "    except ValueError:\n",
    "        print(\"Invalid input. Please enter valid numerical values.\")\n",
    "        return\n",
    "\n",
    "    sorted_nums = sort_numbers(num1, num2, num3)\n",
    "    print(f\"The sorted numbers in ascending order: {sorted_nums}\")\n",
    "\n",
    "\n",
    "main()\n"
   ]
  },
  {
   "cell_type": "code",
   "execution_count": 1,
   "id": "946ad594-9545-4be7-8e73-01e91bbc7c91",
   "metadata": {},
   "outputs": [
    {
     "name": "stdout",
     "output_type": "stream",
     "text": [
      "Quartic Equation Solver: ax^4 + bx^3 + cx^2 + dx + e = 0\n"
     ]
    },
    {
     "name": "stdin",
     "output_type": "stream",
     "text": [
      "Enter coefficient a:  12\n",
      "Enter coefficient b:  22\n",
      "Enter coefficient c:  12\n",
      "Enter coefficient d:  1\n",
      "Enter coefficient e:  2\n",
      "Enter an initial guess for the root:  32\n"
     ]
    },
    {
     "name": "stdout",
     "output_type": "stream",
     "text": [
      "The Newton-Raphson method did not converge within the maximum iterations.\n"
     ]
    }
   ],
   "source": [
    "## 29. Build a program that determines the roots of a quartic equation using numerical methods.\n",
    "\n",
    "def quartic_equation(x, coefficients):\n",
    "    return sum(c * x**i for i, c in enumerate(coefficients))\n",
    "\n",
    "def derivative_quartic(x, coefficients):\n",
    "    return sum(i * c * x**(i-1) for i, c in enumerate(coefficients) if i > 0)\n",
    "\n",
    "def newton_raphson_quartic(coefficients, initial_guess, tolerance=1e-6, max_iterations=100):\n",
    "    x = initial_guess\n",
    "    for _ in range(max_iterations):\n",
    "        f_x = quartic_equation(x, coefficients)\n",
    "        f_prime_x = derivative_quartic(x, coefficients)\n",
    "        x -= f_x / f_prime_x\n",
    "        if abs(f_x) < tolerance:\n",
    "            return x\n",
    "    return None  \n",
    "\n",
    "def main():\n",
    "    print(\"Quartic Equation Solver: ax^4 + bx^3 + cx^2 + dx + e = 0\")\n",
    "\n",
    "    try:\n",
    "        coefficients = [float(input(f\"Enter coefficient a: \")),\n",
    "                        float(input(f\"Enter coefficient b: \")),\n",
    "                        float(input(f\"Enter coefficient c: \")),\n",
    "                        float(input(f\"Enter coefficient d: \")),\n",
    "                        float(input(f\"Enter coefficient e: \"))]\n",
    "    except ValueError:\n",
    "        print(\"Invalid input. Please enter valid numerical values.\")\n",
    "        return\n",
    "    \n",
    "    try:\n",
    "        initial_guess = float(input(\"Enter an initial guess for the root: \"))\n",
    "    except ValueError:\n",
    "        print(\"Invalid input for the initial guess. Please enter a valid numerical value.\")\n",
    "        return\n",
    "\n",
    "    root = newton_raphson_quartic(coefficients, initial_guess)\n",
    "\n",
    "    if root is not None:\n",
    "        print(f\"The approximate root of the quartic equation is: {root}\")\n",
    "    else:\n",
    "        print(\"The Newton-Raphson method did not converge within the maximum iterations.\")\n",
    "\n",
    "\n",
    "main()"
   ]
  },
  {
   "cell_type": "code",
   "execution_count": 2,
   "id": "cb049bc4-4170-463d-a29a-b9f7efefffab",
   "metadata": {},
   "outputs": [
    {
     "name": "stdout",
     "output_type": "stream",
     "text": [
      "BMI Calculator and Health Recommendations\n"
     ]
    },
    {
     "name": "stdin",
     "output_type": "stream",
     "text": [
      "Enter your weight (in kilograms):  23\n",
      "Enter your height (in meters):  2\n"
     ]
    },
    {
     "name": "stdout",
     "output_type": "stream",
     "text": [
      "\n",
      "Your BMI is: 5.75\n",
      "You are categorized as: Underweight\n",
      "Consider consulting with a healthcare professional to ensure a balanced diet and proper nutrition.\n"
     ]
    }
   ],
   "source": [
    "# 30. Write a program that calculates the BMI (Body Mass Index) and provides health recommendations based on \n",
    "# the user's input. \n",
    "\n",
    "def calculate_bmi(weight, height):\n",
    "    return weight / (height**2)\n",
    "\n",
    "def interpret_bmi(bmi):\n",
    "    if bmi < 18.5:\n",
    "        return \"Underweight\"\n",
    "    elif 18.5 <= bmi < 24.9:\n",
    "        return \"Normal weight\"\n",
    "    elif 25 <= bmi < 29.9:\n",
    "        return \"Overweight\"\n",
    "    else:\n",
    "        return \"Obese\"\n",
    "\n",
    "def health_recommendations(bmi_category):\n",
    "    if bmi_category == \"Underweight\":\n",
    "        return \"Consider consulting with a healthcare professional to ensure a balanced diet and proper nutrition.\"\n",
    "    elif bmi_category == \"Normal weight\":\n",
    "        return \"Maintain a healthy lifestyle with regular exercise and a balanced diet.\"\n",
    "    elif bmi_category == \"Overweight\":\n",
    "        return \"Consider incorporating regular exercise and a balanced diet to achieve a healthy weight.\"\n",
    "    else:\n",
    "        return \"Consult with a healthcare professional to discuss weight management and potential health risks.\"\n",
    "\n",
    "def main():\n",
    "    print(\"BMI Calculator and Health Recommendations\")\n",
    "\n",
    "    try:\n",
    "        weight = float(input(\"Enter your weight (in kilograms): \"))\n",
    "        height = float(input(\"Enter your height (in meters): \"))\n",
    "    except ValueError:\n",
    "        print(\"Invalid input. Please enter valid numerical values.\")\n",
    "        return\n",
    "\n",
    "    bmi = calculate_bmi(weight, height)\n",
    "    bmi_category = interpret_bmi(bmi)\n",
    "\n",
    "    print(f\"\\nYour BMI is: {bmi:.2f}\")\n",
    "    print(f\"You are categorized as: {bmi_category}\")\n",
    "    print(health_recommendations(bmi_category))\n",
    "\n",
    "\n",
    "main()"
   ]
  },
  {
   "cell_type": "code",
   "execution_count": null,
   "id": "75a00a99-d5cd-4852-b297-695454fd31e5",
   "metadata": {},
   "outputs": [],
   "source": []
  },
  {
   "cell_type": "markdown",
   "id": "ef8ae692-dfcf-4991-a0a5-4bff1ee1f92d",
   "metadata": {},
   "source": [
    "### Challenge Level:"
   ]
  },
  {
   "cell_type": "markdown",
   "id": "f37c3665-010e-4b5f-9056-2934373b1288",
   "metadata": {},
   "source": [
    "31. Create a program that validates a password based on complexity rules (length, characters, etc.)."
   ]
  },
  {
   "cell_type": "code",
   "execution_count": 2,
   "id": "7bd8ebfc-2b8b-4f5d-82b3-0eb97af77472",
   "metadata": {},
   "outputs": [
    {
     "name": "stdin",
     "output_type": "stream",
     "text": [
      "Enter your password:  dewdqwdqw12312~\n"
     ]
    },
    {
     "name": "stdout",
     "output_type": "stream",
     "text": [
      "Password Length: 15\n",
      "Password Complexity: Medium (missing uppercase or lowercase)\n"
     ]
    }
   ],
   "source": [
    "def analyze_password(password):\n",
    "    # Check length\n",
    "    length = len(password)\n",
    "\n",
    "    # Check for only alphabets\n",
    "    if password.isalpha():\n",
    "        complexity = \"Low (only alphabets)\"\n",
    "    elif password.isnumeric():\n",
    "        complexity = \"Low (only numeric)\"\n",
    "    else:\n",
    "        # Check for both uppercase and lowercase letters\n",
    "        if any(c.isupper() for c in password) and any(c.islower() for c in password):\n",
    "            # Check for at least one special character\n",
    "            special_characters = \"!@#$%^&*(),.?\\\":{}|<>\"\n",
    "            if any(c in special_characters for c in password):\n",
    "                complexity = \"High\"\n",
    "            else:\n",
    "                complexity = \"Medium (no special character)\"\n",
    "        else:\n",
    "            complexity = \"Medium (missing uppercase or lowercase)\"\n",
    "\n",
    "    return length, complexity\n",
    "\n",
    "# Example usage\n",
    "user_password = input(\"Enter your password: \")\n",
    "length, complexity = analyze_password(user_password)\n",
    "\n",
    "print(f\"Password Length: {length}\")\n",
    "print(f\"Password Complexity: {complexity}\")\n"
   ]
  },
  {
   "cell_type": "markdown",
   "id": "e46c0e6d-e8ed-4309-93b4-d0e4bf4ff108",
   "metadata": {},
   "source": [
    "32. Develop a program that performs matrix addition and subtraction based on user input."
   ]
  },
  {
   "cell_type": "code",
   "execution_count": 8,
   "id": "31091a0a-96e8-4349-b6db-b26b920a2567",
   "metadata": {},
   "outputs": [
    {
     "name": "stdout",
     "output_type": "stream",
     "text": [
      "\n",
      "Results:\n",
      "Sum:\n",
      "10 10 10\n",
      "10 10 10\n",
      "10 10 10\n",
      "Difference:\n",
      "-8 -6 -4\n",
      "-2 0 2\n",
      "4 6 8\n"
     ]
    }
   ],
   "source": [
    "def add_matrices(matrix1, matrix2):\n",
    "    result = [[matrix1[i][j] + matrix2[i][j] for j in range(len(matrix1[0]))] for i in range(len(matrix1))]\n",
    "    return result\n",
    "\n",
    "def subtract_matrices(matrix1, matrix2):\n",
    "    result = [[matrix1[i][j] - matrix2[i][j] for j in range(len(matrix1[0]))] for i in range(len(matrix1))]\n",
    "    return result\n",
    "\n",
    "def print_matrix(matrix, label=\"Matrix\"):\n",
    "    print(f\"{label}:\")\n",
    "    for row in matrix:\n",
    "        print(\" \".join(map(str, row)))\n",
    "\n",
    "# Matrix input in code\n",
    "matrix1 = [\n",
    "    [1, 2, 3],\n",
    "    [4, 5, 6],\n",
    "    [7, 8, 9]\n",
    "]\n",
    "\n",
    "matrix2 = [\n",
    "    [9, 8, 7],\n",
    "    [6, 5, 4],\n",
    "    [3, 2, 1]\n",
    "]\n",
    "\n",
    "# Perform addition and subtraction\n",
    "sum_matrix = add_matrices(matrix1, matrix2)\n",
    "difference_matrix = subtract_matrices(matrix1, matrix2)\n",
    "\n",
    "# Display results\n",
    "print(\"\\nResults:\")\n",
    "print_matrix(sum_matrix, \"Sum\")\n",
    "print_matrix(difference_matrix, \"Difference\")\n"
   ]
  },
  {
   "cell_type": "markdown",
   "id": "9f1d77c6-049a-41a9-9180-02287a215316",
   "metadata": {},
   "source": [
    "33. Write a program that calculates the greatest common divisor (GCD) of two numbers using the Euclidean\n",
    "algorithm."
   ]
  },
  {
   "cell_type": "code",
   "execution_count": 10,
   "id": "97feac6b-f52e-4926-8894-e2251e90630e",
   "metadata": {},
   "outputs": [
    {
     "name": "stdout",
     "output_type": "stream",
     "text": [
      "18 12\n",
      "12 6\n",
      "6 0\n",
      "The Greatest Common Divisor (GCD) of 48 and 18 is: 6\n"
     ]
    }
   ],
   "source": [
    "def calculate_gcd(a, b):\n",
    "    while b:\n",
    "        a, b = b, a % b\n",
    "        print(a,b)\n",
    "    return a\n",
    "\n",
    "n1 = 48\n",
    "n2 = 18\n",
    "\n",
    "gcd = calculate_gcd(n1, n2)\n",
    "print(f\"The Greatest Common Divisor (GCD) of {n1} and {n2} is: {gcd}\")\n"
   ]
  },
  {
   "cell_type": "markdown",
   "id": "c4a030ab-f010-4f6f-9365-fd89155b24ca",
   "metadata": {},
   "source": [
    "34. Build a program that performs matrix multiplication using nested loops and conditional statements."
   ]
  },
  {
   "cell_type": "code",
   "execution_count": 19,
   "id": "202e9558-58b3-463f-8cfc-ca46a12f8e03",
   "metadata": {},
   "outputs": [
    {
     "name": "stdout",
     "output_type": "stream",
     "text": [
      "[30, 24, 18]\n",
      "[84, 69, 54]\n",
      "[138, 114, 90]\n"
     ]
    }
   ],
   "source": [
    "matrix1 = [\n",
    "    [1, 2, 3],\n",
    "    [4, 5, 6],\n",
    "    [7, 8, 9]\n",
    "]\n",
    "\n",
    "matrix2 = [\n",
    "    [9, 8, 7],\n",
    "    [6, 5, 4],\n",
    "    [3, 2, 1]\n",
    "]\n",
    "\n",
    "result_matrix = [[0 for _ in range(len(matrix2[0]))] for _ in range(len(matrix1))]\n",
    "\n",
    "for i in range(len(matrix1)):\n",
    "    for j in range(len(matrix1[0])):\n",
    "        for k in range(len(matrix2)):\n",
    "            result_matrix[i][j] += matrix1[i][k] * matrix2[k][j] \n",
    "            \n",
    "for i in result_matrix:\n",
    "    print(i)\n",
    "    \n",
    "        \n",
    "    "
   ]
  },
  {
   "cell_type": "markdown",
   "id": "77eb7216-4da6-45b2-9007-8965f13ad0b0",
   "metadata": {},
   "source": [
    "35. Create a program that simulates a basic text-based tic-tac-toe game against the computer."
   ]
  },
  {
   "cell_type": "code",
   "execution_count": 8,
   "id": "e604d52c-82fe-4e0f-a79a-5f6d5643c02b",
   "metadata": {},
   "outputs": [
    {
     "name": "stdout",
     "output_type": "stream",
     "text": [
      "Welcome to Tic-Tac-Toe!\n",
      "  |   |  \n",
      "---------\n",
      "  |   |  \n",
      "---------\n",
      "  |   |  \n",
      "---------\n"
     ]
    },
    {
     "name": "stdin",
     "output_type": "stream",
     "text": [
      "Enter the row (0, 1, or 2):  1\n",
      "Enter the column (0, 1, or 2):  1\n"
     ]
    },
    {
     "name": "stdout",
     "output_type": "stream",
     "text": [
      "  |   |  \n",
      "---------\n",
      "  | X |  \n",
      "---------\n",
      "  |   |  \n",
      "---------\n",
      "Computer's turn:\n",
      "  |   |  \n",
      "---------\n",
      "  | X |  \n",
      "---------\n",
      "  | O |  \n",
      "---------\n"
     ]
    },
    {
     "name": "stdin",
     "output_type": "stream",
     "text": [
      "Enter the row (0, 1, or 2):  0\n",
      "Enter the column (0, 1, or 2):  0\n"
     ]
    },
    {
     "name": "stdout",
     "output_type": "stream",
     "text": [
      "X |   |  \n",
      "---------\n",
      "  | X |  \n",
      "---------\n",
      "  | O |  \n",
      "---------\n",
      "Computer's turn:\n",
      "X |   |  \n",
      "---------\n",
      "O | X |  \n",
      "---------\n",
      "  | O |  \n",
      "---------\n"
     ]
    },
    {
     "name": "stdin",
     "output_type": "stream",
     "text": [
      "Enter the row (0, 1, or 2):  2\n",
      "Enter the column (0, 1, or 2):  2\n"
     ]
    },
    {
     "name": "stdout",
     "output_type": "stream",
     "text": [
      "X |   |  \n",
      "---------\n",
      "O | X |  \n",
      "---------\n",
      "  | O | X\n",
      "---------\n",
      "X wins! Congratulations!\n"
     ]
    }
   ],
   "source": [
    "import random\n",
    "\n",
    "def print_board(board):\n",
    "    for row in board:\n",
    "        print(\" | \".join(row))\n",
    "        print(\"-\" * 9)\n",
    "\n",
    "def check_winner(board, player):\n",
    "    # Check rows, columns, and diagonals for a win\n",
    "    for row in board:\n",
    "        if all(cell == player for cell in row):\n",
    "            return True\n",
    "\n",
    "    for col in range(3):\n",
    "        if all(board[row][col] == player for row in range(3)):\n",
    "            return True\n",
    "\n",
    "    if all(board[i][i] == player for i in range(3)) or all(board[i][2 - i] == player for i in range(3)):\n",
    "        return True\n",
    "\n",
    "    return False\n",
    "\n",
    "def is_board_full(board):\n",
    "    return all(cell != \" \" for row in board for cell in row)\n",
    "\n",
    "def get_empty_cells(board):\n",
    "    empty_cells = []\n",
    "    for row in range(3):\n",
    "        for col in range(3):\n",
    "            if board[row][col] == \" \":\n",
    "                empty_cells.append((row, col))\n",
    "    return empty_cells\n",
    "\n",
    "def player_move(board):\n",
    "    while True:\n",
    "        try:\n",
    "            row = int(input(\"Enter the row (0, 1, or 2): \"))\n",
    "            col = int(input(\"Enter the column (0, 1, or 2): \"))\n",
    "            if 0 <= row <= 2 and 0 <= col <= 2 and board[row][col] == \" \":\n",
    "                return row, col\n",
    "            else:\n",
    "                print(\"Invalid move. Try again.\")\n",
    "        except ValueError:\n",
    "            print(\"Invalid input. Please enter a number.\")\n",
    "\n",
    "def computer_move(board):\n",
    "    empty_cells = get_empty_cells(board)\n",
    "    return random.choice(empty_cells)\n",
    "\n",
    "def play_tic_tac_toe():\n",
    "    board = [[\" \" for _ in range(3)] for _ in range(3)]\n",
    "    players = [\"X\", \"O\"]\n",
    "    current_player = random.choice(players)\n",
    "\n",
    "    print(\"Welcome to Tic-Tac-Toe!\")\n",
    "    print_board(board)\n",
    "\n",
    "    while True:\n",
    "        if current_player == \"X\":\n",
    "            row, col = player_move(board)\n",
    "        else:\n",
    "            print(\"Computer's turn:\")\n",
    "            row, col = computer_move(board)\n",
    "\n",
    "        board[row][col] = current_player\n",
    "        print_board(board)\n",
    "\n",
    "        if check_winner(board, current_player):\n",
    "            print(f\"{current_player} wins! Congratulations!\")\n",
    "            break\n",
    "        elif is_board_full(board):\n",
    "            print(\"It's a tie! The board is full.\")\n",
    "            break\n",
    "\n",
    "        current_player = \"O\" if current_player == \"X\" else \"X\"\n",
    "\n",
    "if __name__ == \"__main__\":\n",
    "    play_tic_tac_toe()\n"
   ]
  },
  {
   "cell_type": "markdown",
   "id": "552e6c37-9016-4f85-9f09-6444003d75a0",
   "metadata": {},
   "source": [
    "36. Write a program that generates Fibonacci numbers up to a specified term using iterative methods."
   ]
  },
  {
   "cell_type": "code",
   "execution_count": 52,
   "id": "e34b2ddc-7743-4d0e-8046-1fe84ef14e6e",
   "metadata": {},
   "outputs": [
    {
     "name": "stdout",
     "output_type": "stream",
     "text": [
      "0\n",
      "1\n",
      "1\n",
      "2\n",
      "3\n",
      "5\n"
     ]
    }
   ],
   "source": [
    "def fibonacci_num(limit):\n",
    "    if limit<0:\n",
    "        print('No negative numbers allowed')\n",
    "    else:\n",
    "        a,b = 0,1\n",
    "    \n",
    "        while a<=limit:\n",
    "            print(a)\n",
    "            a,b= b,a+b\n",
    "            \n",
    "        \n",
    "fibonacci_num(5)"
   ]
  },
  {
   "cell_type": "markdown",
   "id": "24da1128-33ab-4043-8aa0-02b9208004d4",
   "metadata": {},
   "source": [
    "37. Develop a program that calculates the nth term of the Fibonacci sequence using memoization."
   ]
  },
  {
   "cell_type": "code",
   "execution_count": 62,
   "id": "59f07019-f4b4-4c98-8484-e1ebc7003e99",
   "metadata": {},
   "outputs": [
    {
     "data": {
      "text/plain": [
       "5"
      ]
     },
     "execution_count": 62,
     "metadata": {},
     "output_type": "execute_result"
    }
   ],
   "source": [
    "def fibonacci_memo(nth_term, memo={}):\n",
    "    if nth_term<2:\n",
    "        return nth_term\n",
    "    \n",
    "    if nth_term not in memo:\n",
    "        memo[nth_term] = fibonacci_memo(nth_term-1, memo) + fibonacci_memo(nth_term-2,memo)\n",
    "        \n",
    "    return memo[nth_term]\n",
    "        \n",
    "fibonacci_memo(5)  "
   ]
  },
  {
   "cell_type": "markdown",
   "id": "2ebbf34a-547b-44e0-925e-2478e174695c",
   "metadata": {},
   "source": [
    "38. Create a program that generates a calendar for a given month and year using conditional statements."
   ]
  },
  {
   "cell_type": "code",
   "execution_count": 12,
   "id": "781115e3-2455-4efc-820c-16d9e57124a8",
   "metadata": {},
   "outputs": [
    {
     "name": "stdout",
     "output_type": "stream",
     "text": [
      "Calendar for February 2024\n",
      "Mo Tu We Th Fr Sa Su\n",
      "          1  2  3  4 \n",
      " 5  6  7  8  9 10 11 \n",
      "12 13 14 15 16 17 18 \n",
      "19 20 21 22 23 24 25 \n",
      "26 27 28 29          \n"
     ]
    }
   ],
   "source": [
    "import calendar\n",
    "\n",
    "def generate_calendar(year, month):\n",
    "    cal = calendar.monthcalendar(year, month)\n",
    "\n",
    "    print(f\"Calendar for {calendar.month_name[month]} {year}\")\n",
    "    print(\"Mo Tu We Th Fr Sa Su\")\n",
    "\n",
    "    for week in cal:\n",
    "        for day in week:\n",
    "            if day == 0:\n",
    "                print(\"  \", end=\" \")\n",
    "            else:\n",
    "                print(f\"{day:2d}\", end=\" \")\n",
    "        print()\n",
    "\n",
    "if __name__ == \"__main__\":\n",
    "    try:\n",
    "        year = 2024\n",
    "        month = 2\n",
    "\n",
    "        if 1 <= month <= 12:\n",
    "            generate_calendar(year, month)\n",
    "        else:\n",
    "            print(\"Invalid month. Please enter a number between 1 and 12.\")\n",
    "    except ValueError:\n",
    "        print(\"Invalid input. Please enter valid numbers for year and month.\")\n"
   ]
  },
  {
   "cell_type": "markdown",
   "id": "37845e51-52b0-4f0f-a9b4-55f08af17eba",
   "metadata": {},
   "source": [
    "39. Build a program that simulates a basic text-based blackjack game against the computer."
   ]
  },
  {
   "cell_type": "code",
   "execution_count": 14,
   "id": "55999cb8-7b9a-45d3-bae1-b4bc7d32ace1",
   "metadata": {},
   "outputs": [
    {
     "name": "stdout",
     "output_type": "stream",
     "text": [
      "Welcome to Blackjack!\n",
      "Your cards: [6, 6], current score: 12\n",
      "Computer's first card: 11\n"
     ]
    },
    {
     "name": "stdin",
     "output_type": "stream",
     "text": [
      "Type 'y' to get another card, 'n' to pass:  y\n"
     ]
    },
    {
     "name": "stdout",
     "output_type": "stream",
     "text": [
      "Your cards: [6, 6, 6], current score: 18\n",
      "Computer's first card: 11\n"
     ]
    },
    {
     "name": "stdin",
     "output_type": "stream",
     "text": [
      "Type 'y' to get another card, 'n' to pass:  y\n"
     ]
    },
    {
     "name": "stdout",
     "output_type": "stream",
     "text": [
      "Your cards: [6, 6, 6, 2], current score: 20\n",
      "Computer's first card: 11\n"
     ]
    },
    {
     "name": "stdin",
     "output_type": "stream",
     "text": [
      "Type 'y' to get another card, 'n' to pass:  y\n"
     ]
    },
    {
     "name": "stdout",
     "output_type": "stream",
     "text": [
      "Your cards: [6, 6, 6, 2, 3], current score: 23\n",
      "Computer's first card: 11\n",
      "Your final hand: [6, 6, 6, 2, 3], final score: 23\n",
      "Computer's final hand: [11, 8], final score: 19\n",
      "You went over. You lose!\n"
     ]
    }
   ],
   "source": [
    "import random\n",
    "\n",
    "def deal_card():\n",
    "    cards = [11, 2, 3, 4, 5, 6, 7, 8, 9, 10, 10, 10, 10]\n",
    "    return random.choice(cards)\n",
    "\n",
    "def calculate_score(cards):\n",
    "    if sum(cards) == 21 and len(cards) == 2:\n",
    "        return 0  # Blackjack\n",
    "    if 11 in cards and sum(cards) > 21:\n",
    "        cards.remove(11)\n",
    "        cards.append(1)\n",
    "    return sum(cards)\n",
    "\n",
    "def compare(user_score, computer_score):\n",
    "    if user_score > 21 and computer_score > 21:\n",
    "        return \"You went over. You lose!\"\n",
    "    if user_score == computer_score:\n",
    "        return \"It's a draw!\"\n",
    "    elif computer_score == 0:\n",
    "        return \"Computer has Blackjack. You lose!\"\n",
    "    elif user_score == 0:\n",
    "        return \"Blackjack! You win!\"\n",
    "    elif user_score > 21:\n",
    "        return \"You went over. You lose!\"\n",
    "    elif computer_score > 21:\n",
    "        return \"Computer went over. You win!\"\n",
    "    elif user_score > computer_score:\n",
    "        return \"You win!\"\n",
    "    else:\n",
    "        return \"You lose!\"\n",
    "\n",
    "def play_blackjack():\n",
    "    user_cards = []\n",
    "    computer_cards = []\n",
    "    game_over = False\n",
    "\n",
    "    for _ in range(2):\n",
    "        user_cards.append(deal_card())\n",
    "        computer_cards.append(deal_card())\n",
    "\n",
    "    while not game_over:\n",
    "        user_score = calculate_score(user_cards)\n",
    "        computer_score = calculate_score(computer_cards)\n",
    "\n",
    "        print(f\"Your cards: {user_cards}, current score: {user_score}\")\n",
    "        print(f\"Computer's first card: {computer_cards[0]}\")\n",
    "\n",
    "        if user_score == 0 or computer_score == 0 or user_score > 21:\n",
    "            game_over = True\n",
    "        else:\n",
    "            should_continue = input(\"Type 'y' to get another card, 'n' to pass: \").lower()\n",
    "            if should_continue == 'y':\n",
    "                user_cards.append(deal_card())\n",
    "            else:\n",
    "                game_over = True\n",
    "\n",
    "    while computer_score != 0 and computer_score < 17:\n",
    "        computer_cards.append(deal_card())\n",
    "        computer_score = calculate_score(computer_cards)\n",
    "\n",
    "    print(f\"Your final hand: {user_cards}, final score: {user_score}\")\n",
    "    print(f\"Computer's final hand: {computer_cards}, final score: {computer_score}\")\n",
    "    print(compare(user_score, computer_score))\n",
    "\n",
    "if __name__ == \"__main__\":\n",
    "    print(\"Welcome to Blackjack!\")\n",
    "    play_blackjack()\n"
   ]
  },
  {
   "cell_type": "markdown",
   "id": "a3187282-a74d-4a1d-9781-0ab0529924a8",
   "metadata": {},
   "source": [
    "40. Write a program that generates the prime factors of a given number using trial division."
   ]
  },
  {
   "cell_type": "code",
   "execution_count": 22,
   "id": "5e3af663-291d-44a1-8971-29a99ac7cb92",
   "metadata": {},
   "outputs": [
    {
     "name": "stdout",
     "output_type": "stream",
     "text": [
      "The prime factors of 56 are: [2, 2, 2, 7]\n"
     ]
    }
   ],
   "source": [
    "def prime_factors(n):\n",
    "    factors = []\n",
    "    divisor = 2\n",
    "\n",
    "    while divisor <= n:\n",
    "        if n % divisor == 0:\n",
    "            factors.append(divisor)\n",
    "            n = n // divisor\n",
    "        else:\n",
    "            divisor += 1\n",
    "\n",
    "    return factors\n",
    "\n",
    "\n",
    "number = 56\n",
    "\n",
    "if number < 2:\n",
    "    print(\"Prime factors are only defined for integers greater than 1.\")\n",
    "else:\n",
    "    result = prime_factors(number)\n",
    "    print(f\"The prime factors of {number} are: {result}\")\n"
   ]
  },
  {
   "cell_type": "code",
   "execution_count": null,
   "id": "1d1feb70-2b9d-41b4-af91-d5e7fe021a0e",
   "metadata": {},
   "outputs": [],
   "source": []
  }
 ],
 "metadata": {
  "kernelspec": {
   "display_name": "Python 3 (ipykernel)",
   "language": "python",
   "name": "python3"
  },
  "language_info": {
   "codemirror_mode": {
    "name": "ipython",
    "version": 3
   },
   "file_extension": ".py",
   "mimetype": "text/x-python",
   "name": "python",
   "nbconvert_exporter": "python",
   "pygments_lexer": "ipython3",
   "version": "3.10.8"
  }
 },
 "nbformat": 4,
 "nbformat_minor": 5
}
