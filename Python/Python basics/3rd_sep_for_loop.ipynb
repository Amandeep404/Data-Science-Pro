{
 "cells": [
  {
   "cell_type": "markdown",
   "id": "3ad0e6c0-2440-4666-b1c5-7c170e9adc20",
   "metadata": {},
   "source": [
    "# Basic Level"
   ]
  },
  {
   "cell_type": "code",
   "execution_count": 8,
   "id": "749e9136-cf1d-4f61-a5e5-16df7fff27be",
   "metadata": {},
   "outputs": [
    {
     "name": "stdout",
     "output_type": "stream",
     "text": [
      "1\n",
      "2\n",
      "3\n",
      "4\n",
      "5\n",
      "6\n",
      "7\n",
      "8\n",
      "9\n",
      "10\n"
     ]
    }
   ],
   "source": [
    "# 1. Write a Python program to print the numbers from 1 to 10 using a `for` loop.\n",
    "\n",
    "for i in range(1,11):\n",
    "    print(i)\n"
   ]
  },
  {
   "cell_type": "code",
   "execution_count": 13,
   "id": "9b623e7d-e953-4634-9c49-d747050457d1",
   "metadata": {},
   "outputs": [
    {
     "data": {
      "text/plain": [
       "55"
      ]
     },
     "execution_count": 13,
     "metadata": {},
     "output_type": "execute_result"
    }
   ],
   "source": [
    "# 2. Create a program that calculates the sum of all numbers in a list using a `for` loop.\n",
    "l = [1, 2, 3, 4, 5, 6, 7, 8, 9, 10]\n",
    "\n",
    "sum = 0\n",
    "for i in l:\n",
    "    sum+=i\n",
    "sum"
   ]
  },
  {
   "cell_type": "code",
   "execution_count": 28,
   "id": "74026efd-cfb8-47e3-9da1-44758a86c8c5",
   "metadata": {},
   "outputs": [
    {
     "data": {
      "text/plain": [
       "['o', 'h', 'e', 'l', 'l']"
      ]
     },
     "execution_count": 28,
     "metadata": {},
     "output_type": "execute_result"
    }
   ],
   "source": [
    "# 3. Write a program to print the characters of a string in reverse order using a `for` loop.\n",
    "\n",
    "l = 'hello'\n",
    "for i in range(len(l)):\n",
    "    l[i] == l[i-1]\n",
    "\n",
    "l1   "
   ]
  },
  {
   "cell_type": "code",
   "execution_count": 3,
   "id": "e6cd6e61-5b9e-4b53-a206-012379d5190f",
   "metadata": {},
   "outputs": [
    {
     "name": "stdout",
     "output_type": "stream",
     "text": [
      "0\n",
      "1\n",
      "2\n",
      "3\n",
      "4\n"
     ]
    }
   ],
   "source": [
    "# 4. Develop a program that finds the factorial of a given number using a `for` loop.\n",
    "\n",
    "def find_fact(n):\n",
    "    a = 0\n",
    "    b =1\n",
    "    print(a)\n",
    "    for i in range(2, n+1):\n",
    "        a,b = b,b+1\n",
    "        print(a)\n",
    "        \n",
    "find_fact(5)"
   ]
  },
  {
   "cell_type": "code",
   "execution_count": 9,
   "id": "3c4ad621-b03a-41c4-b301-696faa3572bf",
   "metadata": {},
   "outputs": [
    {
     "name": "stdout",
     "output_type": "stream",
     "text": [
      "Table of 4 :\n",
      "4 x 1 = 4\n",
      "4 x 2 = 8\n",
      "4 x 3 = 12\n",
      "4 x 4 = 16\n",
      "4 x 5 = 20\n",
      "4 x 6 = 24\n",
      "4 x 7 = 28\n",
      "4 x 8 = 32\n",
      "4 x 9 = 36\n",
      "4 x 10 = 40\n"
     ]
    }
   ],
   "source": [
    "# 5. Create a program to print the multiplication table of a given number using a `for` loop.\n",
    "\n",
    "def mul_table(n):\n",
    "    print(\"Table of\", n,\":\")\n",
    "    for i in range(1,11):\n",
    "        print(f\"{n} x {i} = {n*i}\")\n",
    "mul_table(4)"
   ]
  },
  {
   "cell_type": "code",
   "execution_count": 10,
   "id": "5ccd295c-6cbb-4a55-b173-eb0235520a89",
   "metadata": {},
   "outputs": [
    {
     "data": {
      "text/plain": [
       "{'even': 8, 'odd': 13}"
      ]
     },
     "execution_count": 10,
     "metadata": {},
     "output_type": "execute_result"
    }
   ],
   "source": [
    "# 6. Write a program that counts the number of even and odd numbers in a list using a `for` loop.\n",
    "count = {\"even\":0, \"odd\":0}\n",
    "l = [1,2,3,4,5,5,6,7,7,8,8,9,9,10,23,45,3,223,4,452,11]\n",
    "\n",
    "for i in l:\n",
    "    if i%2==0:\n",
    "        count['even'] +=1\n",
    "    else:\n",
    "        count['odd'] +=1\n",
    "count"
   ]
  },
  {
   "cell_type": "code",
   "execution_count": 11,
   "id": "07701bf1-348a-49d6-950b-c00b50a2d050",
   "metadata": {},
   "outputs": [
    {
     "name": "stdout",
     "output_type": "stream",
     "text": [
      "1\n",
      "4\n",
      "9\n",
      "16\n",
      "25\n"
     ]
    }
   ],
   "source": [
    "# 7. Develop a program that prints the squares of numbers from 1 to 5 using a `for` loop.\n",
    "for i in range(1,6):\n",
    "    print(i**2)"
   ]
  },
  {
   "cell_type": "code",
   "execution_count": 19,
   "id": "2cefed47-d301-4f5b-8e15-1b138e84e755",
   "metadata": {},
   "outputs": [
    {
     "data": {
      "text/plain": [
       "11"
      ]
     },
     "execution_count": 19,
     "metadata": {},
     "output_type": "execute_result"
    }
   ],
   "source": [
    "#8. Create a program to find the length of a string without using the `len()` function.\n",
    "s = \"Hello world\"\n",
    "\n",
    "sum(1 for i in s )"
   ]
  },
  {
   "cell_type": "code",
   "execution_count": 20,
   "id": "50be9b8f-97ab-438a-bcba-16410809257e",
   "metadata": {},
   "outputs": [
    {
     "name": "stdout",
     "output_type": "stream",
     "text": [
      "Average: 40\n"
     ]
    }
   ],
   "source": [
    "# 9. Write a program that calculates the average of a list of numbers using a `for` loop.\n",
    "l = [1,2,3,4,5,5,6,7,7,8,8,9,9,10,23,45,3,223,4,452,11]\n",
    "count = 0\n",
    "for i in l:\n",
    "    count+=i\n",
    "print(\"Average:\", count//len(l))"
   ]
  },
  {
   "cell_type": "code",
   "execution_count": 26,
   "id": "43676729-02b7-49c8-abbb-950f6712b52f",
   "metadata": {},
   "outputs": [
    {
     "name": "stdout",
     "output_type": "stream",
     "text": [
      "0\n",
      "1\n",
      "1\n",
      "2\n",
      "3\n",
      "5\n",
      "8\n",
      "13\n"
     ]
    }
   ],
   "source": [
    "# 10. Develop a program that prints the first `n` Fibonacci numbers using a `for` loop.\n",
    "def print_fibb(n):\n",
    "    a,b = 0,1\n",
    "    for i in range(n):\n",
    "        print(a)\n",
    "        a,b = b, a+b\n",
    "print_fibb(8)"
   ]
  },
  {
   "cell_type": "markdown",
   "id": "d10b3ce1-4d9e-4308-936e-73fef8a5a020",
   "metadata": {},
   "source": [
    "# Intermediate Level:"
   ]
  },
  {
   "cell_type": "code",
   "execution_count": 28,
   "id": "3e1c75b2-b262-4ee5-b652-3a842d45713f",
   "metadata": {},
   "outputs": [],
   "source": [
    "# 11. Write a program to check if a given list contains any duplicates using a `for` loop.\n",
    "l = [1,2,3,4,5,5,6,7,7,8,8,9,9,10,23,45,3,223,4,452,11]\n",
    "l1 = []\n",
    "for i in l:\n",
    "    if i in l1:\n",
    "        print(\"Yes, the list contains duplicate\")\n",
    "        break\n",
    "    else:\n",
    "        l1.append(i)\n",
    "\n",
    "    "
   ]
  },
  {
   "cell_type": "code",
   "execution_count": 33,
   "id": "79dade15-e5d6-450e-b0ce-4dd30cec92f8",
   "metadata": {},
   "outputs": [
    {
     "name": "stdout",
     "output_type": "stream",
     "text": [
      "2\n",
      "3\n",
      "5\n",
      "7\n",
      "11\n",
      "13\n"
     ]
    }
   ],
   "source": [
    "# 12. Create a program that prints the prime numbers in a given range using a `for` loop.\n",
    "def print_prime(n):\n",
    "    for i in range(1, n+1):\n",
    "        if i >1:\n",
    "            for j in range(2, int(i**0.5)+1):\n",
    "                if i%j==0:\n",
    "                    break\n",
    "            else:\n",
    "                print(i)\n",
    "print_prime(13)\n",
    "            "
   ]
  },
  {
   "cell_type": "code",
   "execution_count": 4,
   "id": "d55fe170-7063-47f7-936f-7514a8b9b0c1",
   "metadata": {},
   "outputs": [
    {
     "data": {
      "text/plain": [
       "10"
      ]
     },
     "execution_count": 4,
     "metadata": {},
     "output_type": "execute_result"
    }
   ],
   "source": [
    "# 13. Develop a program that counts the number of vowels in a string using a `for` loop.\n",
    "s = \"absADeeFnDquHTiErIUnAFfB\"\n",
    "vowels = \"aeiou\"\n",
    "count = 0\n",
    "for i in s:\n",
    "    if i.lower() in vowels:\n",
    "        count+=1\n",
    "count\n"
   ]
  },
  {
   "cell_type": "code",
   "execution_count": 7,
   "id": "9ca1eee3-4d9c-486a-8204-ba7beaaf08e3",
   "metadata": {},
   "outputs": [
    {
     "data": {
      "text/plain": [
       "452"
      ]
     },
     "execution_count": 7,
     "metadata": {},
     "output_type": "execute_result"
    }
   ],
   "source": [
    "# 14. Write a program to find the maximum element in a 2D list using a nested `for` loop.\n",
    "\n",
    "l = [1,2,3,4,5,5,6,7,7,8,8,9,9,10,23,45,3,223,4,452,11]\n",
    "max = l[0]\n",
    "\n",
    "for i in range(len(l)):\n",
    "    for j in range(i+1, len(l)):\n",
    "        if l[i]>l[j]:\n",
    "            max = l[i]\n",
    "        else:\n",
    "            max = l[j]\n",
    "            \n",
    "max"
   ]
  },
  {
   "cell_type": "code",
   "execution_count": 25,
   "id": "397a9a60-5d0f-4252-b552-42b5c831af30",
   "metadata": {},
   "outputs": [
    {
     "data": {
      "text/plain": [
       "[1, 2, 3, 4, 6, 7, 7, 8, 8, 9, 9, 10, 23, 45, 3, 223, 4, 452, 11]"
      ]
     },
     "execution_count": 25,
     "metadata": {},
     "output_type": "execute_result"
    }
   ],
   "source": [
    "#15.Create a program that removes all occurrences of a specific element from a list using a `for` loop.\n",
    "l = [1,2,3,4,5,5,6,7,7,5,8,8,9,9,10,23,45,3,223,4,452,11, 5]\n",
    "\n",
    "def remove_element(n):\n",
    "    for i in l[:]:\n",
    "        if i==n:\n",
    "            l.remove(i)\n",
    "    return l\n",
    "remove_element(5)\n"
   ]
  },
  {
   "cell_type": "code",
   "execution_count": 1,
   "id": "d9da5cd4-c284-4119-bfbf-6dc0a29f0115",
   "metadata": {},
   "outputs": [
    {
     "name": "stdout",
     "output_type": "stream",
     "text": [
      "1 x 1 = 1\n",
      "1 x 2 = 2\n",
      "1 x 3 = 3\n",
      "1 x 4 = 4\n",
      "1 x 5 = 5\n",
      "1 x 6 = 6\n",
      "1 x 7 = 7\n",
      "1 x 8 = 8\n",
      "1 x 9 = 9\n",
      "1 x 10 = 10\n",
      "2 x 1 = 2\n",
      "2 x 2 = 4\n",
      "2 x 3 = 6\n",
      "2 x 4 = 8\n",
      "2 x 5 = 10\n",
      "2 x 6 = 12\n",
      "2 x 7 = 14\n",
      "2 x 8 = 16\n",
      "2 x 9 = 18\n",
      "2 x 10 = 20\n",
      "3 x 1 = 3\n",
      "3 x 2 = 6\n",
      "3 x 3 = 9\n",
      "3 x 4 = 12\n",
      "3 x 5 = 15\n",
      "3 x 6 = 18\n",
      "3 x 7 = 21\n",
      "3 x 8 = 24\n",
      "3 x 9 = 27\n",
      "3 x 10 = 30\n",
      "4 x 1 = 4\n",
      "4 x 2 = 8\n",
      "4 x 3 = 12\n",
      "4 x 4 = 16\n",
      "4 x 5 = 20\n",
      "4 x 6 = 24\n",
      "4 x 7 = 28\n",
      "4 x 8 = 32\n",
      "4 x 9 = 36\n",
      "4 x 10 = 40\n",
      "5 x 1 = 5\n",
      "5 x 2 = 10\n",
      "5 x 3 = 15\n",
      "5 x 4 = 20\n",
      "5 x 5 = 25\n",
      "5 x 6 = 30\n",
      "5 x 7 = 35\n",
      "5 x 8 = 40\n",
      "5 x 9 = 45\n",
      "5 x 10 = 50\n"
     ]
    }
   ],
   "source": [
    "# 16. Develop a program that generates a multiplication table for numbers from 1 to 5 using a nested `for` loop.\n",
    "\n",
    "for i in range(1,6):\n",
    "    for j in range(1,11):\n",
    "        print(f\"{i} x {j} = {i*j}\")"
   ]
  },
  {
   "cell_type": "code",
   "execution_count": 5,
   "id": "0d9242c3-9b13-46dd-9c47-f08486e4d3cf",
   "metadata": {},
   "outputs": [
    {
     "data": {
      "text/plain": [
       "[0, 20, 40, 100]"
      ]
     },
     "execution_count": 5,
     "metadata": {},
     "output_type": "execute_result"
    }
   ],
   "source": [
    "# 17. Write a program that converts a list of Fahrenheit temperatures to Celsius using a `for` loop.\n",
    "l =  [32, 68, 104, 212]\n",
    "l1 = []\n",
    "\n",
    "for i in l:\n",
    "    l1.append((i-32)*5//9)\n",
    "    \n",
    "l1"
   ]
  },
  {
   "cell_type": "code",
   "execution_count": 11,
   "id": "3ffaa676-9bbb-419f-a019-253cdbdb893d",
   "metadata": {},
   "outputs": [
    {
     "name": "stdout",
     "output_type": "stream",
     "text": [
      "Common elements: \n",
      "20\n",
      "32\n",
      "100\n",
      "68\n"
     ]
    }
   ],
   "source": [
    "# 18. Create a program to print the common elements from two lists using a `for` loop.\n",
    "l = [0, 20,32,  40, 100, 68]\n",
    "l1 = [32, 68, 104, 212, 20, 30, 100]\n",
    "\n",
    "print(\"Common elements: \")\n",
    "for i in l:\n",
    "    if i in l1:\n",
    "        print(i)\n",
    "\n",
    "    "
   ]
  },
  {
   "cell_type": "code",
   "execution_count": 18,
   "id": "b60fd53a-840a-443c-a1e2-bb947db2a6ea",
   "metadata": {},
   "outputs": [
    {
     "name": "stdout",
     "output_type": "stream",
     "text": [
      "*\n",
      "**\n",
      "***\n",
      "****\n"
     ]
    }
   ],
   "source": [
    "# 19. Develop a program that prints the pattern of right-angled triangles using a `for` loop. Use ‘*’ to draw the pattern\n",
    "\n",
    "for i in range(1,5):\n",
    "    print('*'*i)"
   ]
  },
  {
   "cell_type": "code",
   "execution_count": 6,
   "id": "ec76bd95-2543-4ffb-bb47-7cfebf97abb7",
   "metadata": {},
   "outputs": [
    {
     "name": "stdout",
     "output_type": "stream",
     "text": [
      "The GCD of 48 and 18 is: 6\n"
     ]
    }
   ],
   "source": [
    "# 20. Write a program to find the greatest common divisor (GCD) of two numbers using a `for` loop.\n",
    "\n",
    "def find_gcd(a, b):\n",
    "    smaller = min(a, b)\n",
    "    gcd = 1\n",
    "\n",
    "    for i in range(1, smaller + 1):\n",
    "        if a % i == 0 and b % i == 0:\n",
    "            gcd = i\n",
    "\n",
    "    return gcd\n",
    "\n",
    "num1= 48\n",
    "num2 = 18\n",
    "\n",
    "result = find_gcd(num1, num2)\n",
    "print(f\"The GCD of {num1} and {num2} is: {result}\")\n"
   ]
  },
  {
   "cell_type": "markdown",
   "id": "a56728cc-bb8c-4a42-b74f-34be468a2709",
   "metadata": {},
   "source": [
    "# Advance Level"
   ]
  },
  {
   "cell_type": "code",
   "execution_count": 11,
   "id": "557bff2f-0d69-449f-88e0-e9e67c7a57e1",
   "metadata": {},
   "outputs": [
    {
     "data": {
      "text/plain": [
       "[85]"
      ]
     },
     "execution_count": 11,
     "metadata": {},
     "output_type": "execute_result"
    }
   ],
   "source": [
    "# 21. Create a program that calculates the sum of the digits of numbers in a list using a list comprehension.\n",
    "\n",
    "l = [1,2,3,5,56,7,8,3]\n",
    "[sum(i for i in l) ]"
   ]
  },
  {
   "cell_type": "code",
   "execution_count": 37,
   "id": "da22fa80-0383-4555-a6f9-318251346386",
   "metadata": {},
   "outputs": [
    {
     "data": {
      "text/plain": [
       "[1, 13]"
      ]
     },
     "execution_count": 37,
     "metadata": {},
     "output_type": "execute_result"
    }
   ],
   "source": [
    "# 22. Write a program to find the prime factors of a given number using a `for` loop and list comprehension.\n",
    "\n",
    "\n",
    "def gen_prime_factors(n):\n",
    "    return [i for i in range(1, n+1) if n%i==0 and all(i%j!=0 for j in range(2, int(i**0.5)+1))]\n",
    "\n",
    "gen_prime_factors(169)"
   ]
  },
  {
   "cell_type": "code",
   "execution_count": 36,
   "id": "5d49bc62-1b1e-491e-b4a1-03fde57c52e4",
   "metadata": {},
   "outputs": [
    {
     "name": "stdout",
     "output_type": "stream",
     "text": [
      "Number is not prime\n"
     ]
    }
   ],
   "source": [
    "def is_prime(n):\n",
    "    if all(n%i!=0 for i in range(2, int(n**0.5)+1)):\n",
    "        print(\"Number is prime\")\n",
    "    else:\n",
    "        print(\"Number is not prime\")\n",
    "            \n",
    "is_prime(15)"
   ]
  },
  {
   "cell_type": "code",
   "execution_count": 54,
   "id": "cddc5437-705e-4396-9e1b-c44b26d8d96a",
   "metadata": {},
   "outputs": [
    {
     "name": "stdout",
     "output_type": "stream",
     "text": [
      "[1, 3, 5, 7]\n"
     ]
    }
   ],
   "source": [
    "# 23. Develop a program that extracts unique elements from a list and stores them in a new list using a list comprehension.\n",
    "\n",
    "l = [1, 2, 2, 3, 4, 4, 5, 6, 6, 7]\n",
    "def find_unique_occurances(l):\n",
    "    element_count = {}\n",
    "    for i in l:\n",
    "        element_count[i] = element_count.get(i, 0) + 1\n",
    "    return [element for element,count in element_count.items() if count==1]\n",
    "\n",
    "unique_occurance_list = find_unique_occurances(l)\n",
    "print(unique_occurance_list)"
   ]
  },
  {
   "cell_type": "code",
   "execution_count": 57,
   "id": "fb1a3070-fc4b-4a6d-9856-f95da46ec701",
   "metadata": {},
   "outputs": [
    {
     "data": {
      "text/plain": [
       "[11, 22, 33, 44, 55, 66, 77, 88, 99]"
      ]
     },
     "execution_count": 57,
     "metadata": {},
     "output_type": "execute_result"
    }
   ],
   "source": [
    "# 24. Create a program that generates a list of all palindromic numbers up to a specified limit using a list comprehension.\n",
    "\n",
    "def gen_palindrome(n):\n",
    "    return [i for i in range(1, n+1) if str(i)==str(i)[::-1] and i>9]\n",
    "gen_palindrome(100)"
   ]
  },
  {
   "cell_type": "code",
   "execution_count": 80,
   "id": "e639c71d-0989-4dac-bc8e-0d3017963e2d",
   "metadata": {},
   "outputs": [
    {
     "name": "stdout",
     "output_type": "stream",
     "text": [
      "Flattend list: [1, 2, 3, 4, 5, 6, 7, 8, 9, 9, 10, 11]\n"
     ]
    }
   ],
   "source": [
    "# 25. Write a program to flatten a nested list using list comprehension.\n",
    "l = [1,2 ,3 ,[4,5,6, [7,8,9]], 9, 10,11]\n",
    "\n",
    "def flatten_list(l):\n",
    "    return [i for sublist in l for i in (flatten_list(sublist) if isinstance(sublist, list) else [sublist]) ]\n",
    "print(\"Flattend list:\", flat_lists(l))"
   ]
  },
  {
   "cell_type": "code",
   "execution_count": 85,
   "id": "56de00c8-880d-48db-84df-6c9fa672fd41",
   "metadata": {},
   "outputs": [
    {
     "name": "stdout",
     "output_type": "stream",
     "text": [
      "Sum of even numbers: 30\n",
      "Sum of odd numbers: 45\n"
     ]
    }
   ],
   "source": [
    "# 26. Develop a program that computes the sum of even and odd numbers in a list separately using list comprehension.\n",
    "l = [1, 2, 3, 4, 5, 6, 7, 8, 9, 9, 10, 11]\n",
    "\n",
    "result = [sum(i for i in l if i%2==0) , sum(i for i in l if i%2!=0)]\n",
    "print(\"Sum of even numbers:\",result[0])\n",
    "print(\"Sum of odd numbers:\", result[1])"
   ]
  },
  {
   "cell_type": "code",
   "execution_count": 86,
   "id": "79972d59-8aaf-42d7-99fa-5266552147d4",
   "metadata": {},
   "outputs": [
    {
     "data": {
      "text/plain": [
       "[1, 9, 25, 49, 81]"
      ]
     },
     "execution_count": 86,
     "metadata": {},
     "output_type": "execute_result"
    }
   ],
   "source": [
    "# 27. Create a program that generates a list of squares of odd numbers between 1 and 10 using list comprehension.\n",
    "\n",
    "[i**2 for i in range(1,11) if i%2!=0]"
   ]
  },
  {
   "cell_type": "code",
   "execution_count": 96,
   "id": "c91aa4f7-01fc-4d14-94e1-fce458058031",
   "metadata": {},
   "outputs": [
    {
     "data": {
      "text/plain": [
       "{1: 1, 3: 9, 5: 25, 7: 49, 9: 81}"
      ]
     },
     "execution_count": 96,
     "metadata": {},
     "output_type": "execute_result"
    }
   ],
   "source": [
    "# 28. Write a program that combines two lists into a dictionary using list comprehension.\n",
    "l = [1, 3, 5, 7, 9]\n",
    "l1 = [1, 9, 25, 49, 81]\n",
    "{l[i]: l1[i] for i in range(len(l))}"
   ]
  },
  {
   "cell_type": "code",
   "execution_count": 104,
   "id": "049a63f9-7a12-4068-8887-7fd68aed9f8b",
   "metadata": {},
   "outputs": [
    {
     "data": {
      "text/plain": [
       "['a', 'e', 'o', 'o', 'i', 'e', 'e', 'i', 'u', 'a', 'a']"
      ]
     },
     "execution_count": 104,
     "metadata": {},
     "output_type": "execute_result"
    }
   ],
   "source": [
    "# 29. Develop a program that extracts the vowels from a string and stores them in a list using list comprehension.\n",
    "s = \"adsdfergkoowirewnftheiurhfasda\"\n",
    "vowels = \"aeiou\"\n",
    "\n",
    "l = [i for i in s if i in vowels]\n",
    "l"
   ]
  },
  {
   "cell_type": "code",
   "execution_count": 2,
   "id": "0e6b77be-3b28-4de7-9700-465f22b8d542",
   "metadata": {},
   "outputs": [
    {
     "data": {
      "text/plain": [
       "['123', '456', '789', '10']"
      ]
     },
     "execution_count": 2,
     "metadata": {},
     "output_type": "execute_result"
    }
   ],
   "source": [
    "# 30. Create a program that removes all non-numeric characters from a list of strings using list comprehension.\n",
    "l =[\"abc123\", \"456def\", \"789ghi\", \"jkl10mno\"] \n",
    "[''.join(i for i in string if i.isdigit()) for string in l]\n"
   ]
  },
  {
   "cell_type": "markdown",
   "id": "64ccae6f-e319-4acd-8c9d-05e32d9ec5d3",
   "metadata": {},
   "source": [
    "# Challenge Level:"
   ]
  },
  {
   "cell_type": "code",
   "execution_count": 5,
   "id": "c8e3d30e-ecf1-42c2-b3c4-128757329931",
   "metadata": {},
   "outputs": [
    {
     "name": "stdout",
     "output_type": "stream",
     "text": [
      "[2, 3, 5, 7, 11, 13, 17, 19, 23, 29]\n"
     ]
    }
   ],
   "source": [
    "# 31. Write a program to generate a list of prime numbers using the Sieve of Eratosthenes algorithm and list comprehension.\n",
    "\n",
    "def sieve_of_eratosthenes(n):\n",
    "    is_prime = [True] * (n + 1)\n",
    "    for i in range(2, int(n**0.5) + 1):\n",
    "        if is_prime[i]:\n",
    "            is_prime[i**2 : n + 1 : i] = [False] * len(is_prime[i**2 : n + 1 : i])\n",
    "    return [i for i in range(2, n + 1) if is_prime[i]]\n",
    "\n",
    "limit = 30\n",
    "result = sieve_of_eratosthenes(limit)\n",
    "print(result)\n"
   ]
  },
  {
   "cell_type": "code",
   "execution_count": 6,
   "id": "86d1c41a-629d-4512-9b70-f850d3203bbb",
   "metadata": {},
   "outputs": [
    {
     "data": {
      "text/plain": [
       "[[3, 4, 5], [8, 6, 10]]"
      ]
     },
     "execution_count": 6,
     "metadata": {},
     "output_type": "execute_result"
    }
   ],
   "source": [
    "# 32. Create a program that generates a list of all Pythagorean triplets up to a specified limit using list comprehension.\n",
    "\n",
    "def gen_triplets(input_range):\n",
    "    l = []\n",
    "    c = 0\n",
    "    m = 2\n",
    "    while c<input_range:\n",
    "        for n in range(1,m):\n",
    "            a = m**2 - n**2 \n",
    "            b = 2*m*n\n",
    "            c = m**2 + n**2\n",
    "            if c>input_range:\n",
    "                break\n",
    "            l.append([a,b,c])\n",
    "        m+=1\n",
    "    return l\n",
    "\n",
    "gen_triplets(10)"
   ]
  },
  {
   "cell_type": "code",
   "execution_count": 8,
   "id": "f147bae0-df6a-478c-bb75-fb9e4bbfb3a5",
   "metadata": {},
   "outputs": [
    {
     "data": {
      "text/plain": [
       "[[3, 4, 5], [5, 12, 13]]"
      ]
     },
     "execution_count": 8,
     "metadata": {},
     "output_type": "execute_result"
    }
   ],
   "source": [
    "# 32. Create a program that generates a list of all Pythagorean triplets up to a specified limit using list comprehension.\n",
    "import math\n",
    "\n",
    "def gen_pythagoran_triplets(limit):\n",
    "    return [\n",
    "        [m**2 - n**2, 2*m*n, m**2+n**2] for m in range(2,int(limit**0.5)+1) for n in range(1, m)\n",
    "        if (m-n)%2!=0 and math.gcd(m,n)==1\n",
    "    ]\n",
    "\n",
    "gen_pythagoran_triplets(10)"
   ]
  },
  {
   "cell_type": "code",
   "execution_count": 15,
   "id": "fea3fcdc-6761-494c-a2b2-5f8f76a90fb2",
   "metadata": {},
   "outputs": [
    {
     "data": {
      "text/plain": [
       "[[1, 'a'],\n",
       " [1, 'b'],\n",
       " [1, 'c'],\n",
       " [2, 'a'],\n",
       " [2, 'b'],\n",
       " [2, 'c'],\n",
       " [3, 'a'],\n",
       " [3, 'b'],\n",
       " [3, 'c'],\n",
       " [4, 'a'],\n",
       " [4, 'b'],\n",
       " [4, 'c']]"
      ]
     },
     "execution_count": 15,
     "metadata": {},
     "output_type": "execute_result"
    }
   ],
   "source": [
    "# 33. Develop a program that generates a list of all possible combinations of two lists using list comprehension.\n",
    "\n",
    "l1 = [1,2,3,4]\n",
    "l2 = ['a', 'b', 'c']\n",
    "\n",
    "[[x,y] for x in l1 for y in l2]"
   ]
  },
  {
   "cell_type": "code",
   "execution_count": 17,
   "id": "1e7f6f89-242e-4794-8821-0ffe0c40c9af",
   "metadata": {},
   "outputs": [
    {
     "data": {
      "text/plain": [
       "[3.6666666666666665, 5, 4]"
      ]
     },
     "execution_count": 17,
     "metadata": {},
     "output_type": "execute_result"
    }
   ],
   "source": [
    "# 34. Write a program that calculates the mean, median, and mode of a list of numbers using list comprehension.\n",
    "import statistics\n",
    "\n",
    "l = [1, 2, 2, 3, 4, 5, 5, 5, 6]\n",
    "[statistics.mean(l), statistics.mode(l), statistics.median(l)]"
   ]
  },
  {
   "cell_type": "code",
   "execution_count": 29,
   "id": "ca1cd7d7-1094-4335-b946-9ecb4199eae7",
   "metadata": {},
   "outputs": [
    {
     "name": "stdout",
     "output_type": "stream",
     "text": [
      "1\n",
      "1 1\n",
      "1 2 1\n",
      "1 3 3 1\n",
      "1 4 6 4 1\n"
     ]
    }
   ],
   "source": [
    "# 35. Create a program that generates Pascal's triangle up to a specified number of rows using list comprehension.\n",
    "\n",
    "def pascal_triangle(num_rows):\n",
    "    triangle = [[1]]\n",
    "    for _ in range(1, num_rows):\n",
    "        prev_row = triangle[-1]\n",
    "        new_row = [1] + [prev_row[i] + prev_row[i + 1] for i in range(len(prev_row) - 1)] + [1]\n",
    "        triangle.append(new_row)\n",
    "    return triangle\n",
    "\n",
    "num_rows = 5\n",
    "for row in pascal_triangle(num_rows):\n",
    "    print(*row)\n",
    "\n",
    "\n",
    "\n"
   ]
  },
  {
   "cell_type": "code",
   "execution_count": 20,
   "id": "12436544-27f1-438b-8d86-2b9f32c3154f",
   "metadata": {},
   "outputs": [
    {
     "name": "stdout",
     "output_type": "stream",
     "text": [
      "18\n"
     ]
    }
   ],
   "source": [
    "# 36. Develop a program that calculates the sum of the digits of a factorial of numbers from 1 to 5 using list comprehension.\n",
    "\n",
    "def gen_fact_list(limit):\n",
    "    l = []\n",
    "    def gen_fact(n):\n",
    "        return 1 if n==0 else n*gen_fact(n-1)\n",
    "    for i in range(1, limit+1):\n",
    "        l.append(gen_fact(i))\n",
    "    return l\n",
    "\n",
    "x = [(map(int, str(i))) for i in gen_fact_list(5)]\n",
    "print(sum(sum(i) for i in x))\n"
   ]
  },
  {
   "cell_type": "code",
   "execution_count": 27,
   "id": "e3dd3a63-7d6a-4abf-ba1e-120995d32233",
   "metadata": {},
   "outputs": [
    {
     "data": {
      "text/plain": [
       "'sentence'"
      ]
     },
     "execution_count": 27,
     "metadata": {},
     "output_type": "execute_result"
    }
   ],
   "source": [
    "# 37. Write a program that finds the longest word in a sentence using list comprehension.\n",
    "s = \"hello this is a sentence\"\n",
    "max((i for i in s.split()), key=len)"
   ]
  },
  {
   "cell_type": "code",
   "execution_count": 35,
   "id": "77a32628-8ed1-43a4-b60c-97e9fb5a7f50",
   "metadata": {},
   "outputs": [
    {
     "data": {
      "text/plain": [
       "['aeiou', 'soulese']"
      ]
     },
     "execution_count": 35,
     "metadata": {},
     "output_type": "execute_result"
    }
   ],
   "source": [
    "# 38. Create a program that filters a list of strings to include only those with more than three vowels using list comprehension.\n",
    "\n",
    "l =  [\"hello\", \"world\", \"programming\", \"python\", \"example\", \"aeiou\", \"soulese\"]\n",
    "vowels = \"aeiou\"\n",
    "[i for i in l if sum(1 for j in i if j.lower() in vowels)>3]"
   ]
  },
  {
   "cell_type": "code",
   "execution_count": 37,
   "id": "7b4f7b01-d425-42f1-a020-7f7e988a4373",
   "metadata": {},
   "outputs": [
    {
     "data": {
      "text/plain": [
       "13501"
      ]
     },
     "execution_count": 37,
     "metadata": {},
     "output_type": "execute_result"
    }
   ],
   "source": [
    "# 39. Develop a program that calculates the sum of the digits of numbers from 1 to 1000 using list comprehension.\n",
    "\n",
    "sum(int(digit) for i in range(1, 1001) for digit in str(i))"
   ]
  },
  {
   "cell_type": "code",
   "execution_count": 41,
   "id": "fac09e97-d87a-4c5b-9606-e2f3738b8425",
   "metadata": {},
   "outputs": [
    {
     "data": {
      "text/plain": [
       "[11, 22, 33, 44, 55, 66, 77, 88, 99]"
      ]
     },
     "execution_count": 41,
     "metadata": {},
     "output_type": "execute_result"
    }
   ],
   "source": [
    "# 40. Write a program that generates a list of prime palindromic numbers using list comprehension.\n",
    "\n",
    "def is_prime(n):\n",
    "    if n<1 :\n",
    "        return False\n",
    "    for i in range(2, int(n**0.5) + 1):\n",
    "        if n%i!=0:\n",
    "            return True\n",
    "[i for i in range(10, 100) if is_prime(i) and str(i)==str(i)[::-1]]"
   ]
  },
  {
   "cell_type": "code",
   "execution_count": null,
   "id": "6daff7ae-d6f6-45b1-a28f-888a8ca91a27",
   "metadata": {},
   "outputs": [],
   "source": []
  }
 ],
 "metadata": {
  "kernelspec": {
   "display_name": "Python 3 (ipykernel)",
   "language": "python",
   "name": "python3"
  },
  "language_info": {
   "codemirror_mode": {
    "name": "ipython",
    "version": 3
   },
   "file_extension": ".py",
   "mimetype": "text/x-python",
   "name": "python",
   "nbconvert_exporter": "python",
   "pygments_lexer": "ipython3",
   "version": "3.10.8"
  }
 },
 "nbformat": 4,
 "nbformat_minor": 5
}
