{
 "cells": [
  {
   "cell_type": "markdown",
   "id": "d9301348-24be-4d27-ad7f-102b8aeecb3c",
   "metadata": {},
   "source": [
    "## For Loop"
   ]
  },
  {
   "cell_type": "code",
   "execution_count": 3,
   "id": "ec134444-2deb-497e-afd1-dde3d4da0e81",
   "metadata": {},
   "outputs": [
    {
     "name": "stdout",
     "output_type": "stream",
     "text": [
      "1\n",
      "2\n",
      "3\n",
      "4\n",
      "5\n",
      "6\n",
      "7\n",
      "8\n",
      "9\n",
      "10\n"
     ]
    }
   ],
   "source": [
    "#1 \n",
    "for i in range(1, 11):\n",
    "    print(i)\n"
   ]
  },
  {
   "cell_type": "markdown",
   "id": "8f116c19-d86d-4e2e-aa22-084da91a200e",
   "metadata": {},
   "source": [
    "Difference between for loop and while loop in Python:\n",
    "\n",
    "for loop is used for iterating over a sequence (that is either a list, tuple, dictionary, string, or range).\n",
    "while loop is used to repeatedly execute a block of code as long as the given condition is true."
   ]
  },
  {
   "cell_type": "code",
   "execution_count": 4,
   "id": "4d169719-0f5e-4fe5-9b02-fd98160dea31",
   "metadata": {},
   "outputs": [
    {
     "name": "stdout",
     "output_type": "stream",
     "text": [
      "Sum: 5050\n"
     ]
    }
   ],
   "source": [
    "#3\n",
    "total_sum = 0\n",
    "for i in range(1, 101):\n",
    "    total_sum += i\n",
    "print(\"Sum:\", total_sum)\n"
   ]
  },
  {
   "cell_type": "code",
   "execution_count": 5,
   "id": "ae9ced7d-ddec-48fb-abc3-5728cc8d145b",
   "metadata": {},
   "outputs": [
    {
     "name": "stdout",
     "output_type": "stream",
     "text": [
      "1\n",
      "2\n",
      "3\n",
      "4\n",
      "5\n"
     ]
    }
   ],
   "source": [
    "#4 \n",
    "my_list = [1, 2, 3, 4, 5]\n",
    "for element in my_list:\n",
    "    print(element)\n"
   ]
  },
  {
   "cell_type": "code",
   "execution_count": 6,
   "id": "a26d06f6-805b-4386-8e7a-000e4f9638ec",
   "metadata": {},
   "outputs": [
    {
     "name": "stdout",
     "output_type": "stream",
     "text": [
      "Product: 120\n"
     ]
    }
   ],
   "source": [
    "#5 \n",
    "product = 1\n",
    "my_list = [2, 3, 4, 5]\n",
    "for num in my_list:\n",
    "    product *= num\n",
    "print(\"Product:\", product)\n"
   ]
  },
  {
   "cell_type": "code",
   "execution_count": 7,
   "id": "7a4971b4-6749-4e77-b603-949a00a61fc7",
   "metadata": {},
   "outputs": [
    {
     "name": "stdout",
     "output_type": "stream",
     "text": [
      "2\n",
      "4\n",
      "6\n",
      "8\n",
      "10\n",
      "12\n",
      "14\n",
      "16\n",
      "18\n",
      "20\n"
     ]
    }
   ],
   "source": [
    "#6\n",
    "for i in range(2, 21, 2):\n",
    "    print(i)\n"
   ]
  },
  {
   "cell_type": "code",
   "execution_count": 8,
   "id": "dcfdd285-d74e-4876-863f-8ab06aa66cc8",
   "metadata": {},
   "outputs": [
    {
     "name": "stdout",
     "output_type": "stream",
     "text": [
      "Factorial: 120\n"
     ]
    }
   ],
   "source": [
    "#7\n",
    "num = 5\n",
    "factorial = 1\n",
    "for i in range(1, num + 1):\n",
    "    factorial *= i\n",
    "print(\"Factorial:\", factorial)\n"
   ]
  },
  {
   "cell_type": "code",
   "execution_count": 9,
   "id": "5217b52c-93ce-4ee0-84f0-94bf7f71e493",
   "metadata": {},
   "outputs": [
    {
     "name": "stdout",
     "output_type": "stream",
     "text": [
      "H\n",
      "e\n",
      "l\n",
      "l\n",
      "o\n"
     ]
    }
   ],
   "source": [
    "#8 \n",
    "my_string = \"Hello\"\n",
    "for char in my_string:\n",
    "    print(char)\n"
   ]
  },
  {
   "cell_type": "code",
   "execution_count": 10,
   "id": "c2b08b02-258e-4428-908a-ab3e7d4cbbb2",
   "metadata": {},
   "outputs": [
    {
     "name": "stdout",
     "output_type": "stream",
     "text": [
      "Largest Number: 14\n"
     ]
    }
   ],
   "source": [
    "#9 \n",
    "my_list = [8, 2, 11, 5, 14]\n",
    "max_num = my_list[0]\n",
    "for num in my_list:\n",
    "    if num > max_num:\n",
    "        max_num = num\n",
    "print(\"Largest Number:\", max_num)\n"
   ]
  },
  {
   "cell_type": "code",
   "execution_count": 11,
   "id": "612b11e2-d60f-4e27-821a-d945bca48fbf",
   "metadata": {},
   "outputs": [
    {
     "name": "stdout",
     "output_type": "stream",
     "text": [
      "0 1 1 2 3 5 8 13 21 34 "
     ]
    }
   ],
   "source": [
    "#10\n",
    "limit = 10\n",
    "a, b = 0, 1\n",
    "for _ in range(limit):\n",
    "    print(a, end=\" \")\n",
    "    a, b = b, a + b\n"
   ]
  },
  {
   "cell_type": "code",
   "execution_count": 12,
   "id": "c83025f6-e3be-4b33-8558-2dcc4f81c687",
   "metadata": {},
   "outputs": [
    {
     "name": "stdout",
     "output_type": "stream",
     "text": [
      "Number of vowels: 3\n"
     ]
    }
   ],
   "source": [
    "#11\n",
    "input_string = \"Hello, World!\"\n",
    "vowels = \"aeiouAEIOU\"\n",
    "count = 0\n",
    "\n",
    "for char in input_string:\n",
    "    if char in vowels:\n",
    "        count += 1\n",
    "\n",
    "print(\"Number of vowels:\", count)\n"
   ]
  },
  {
   "cell_type": "code",
   "execution_count": 13,
   "id": "eeab9651-64b8-4b8e-96aa-3617724b8dba",
   "metadata": {},
   "outputs": [
    {
     "name": "stdout",
     "output_type": "stream",
     "text": [
      "5 x 1 = 5\n",
      "5 x 2 = 10\n",
      "5 x 3 = 15\n",
      "5 x 4 = 20\n",
      "5 x 5 = 25\n",
      "5 x 6 = 30\n",
      "5 x 7 = 35\n",
      "5 x 8 = 40\n",
      "5 x 9 = 45\n",
      "5 x 10 = 50\n"
     ]
    }
   ],
   "source": [
    "#12\n",
    "num = 5\n",
    "\n",
    "for i in range(1, 11):\n",
    "    print(f\"{num} x {i} = {num * i}\")\n"
   ]
  },
  {
   "cell_type": "code",
   "execution_count": 14,
   "id": "60b893c2-aec4-4dab-8ded-5f2176c71017",
   "metadata": {},
   "outputs": [
    {
     "name": "stdout",
     "output_type": "stream",
     "text": [
      "Reversed List: [5, 4, 3, 2, 1]\n"
     ]
    }
   ],
   "source": [
    "#13\n",
    "original_list = [1, 2, 3, 4, 5]\n",
    "reversed_list = []\n",
    "\n",
    "for i in range(len(original_list) - 1, -1, -1):\n",
    "    reversed_list.append(original_list[i])\n",
    "\n",
    "print(\"Reversed List:\", reversed_list)\n"
   ]
  },
  {
   "cell_type": "code",
   "execution_count": 15,
   "id": "173aa47b-4479-4b54-82b6-bff92c3af37c",
   "metadata": {},
   "outputs": [
    {
     "name": "stdout",
     "output_type": "stream",
     "text": [
      "Common Elements: [3, 4, 5]\n"
     ]
    }
   ],
   "source": [
    "#14\n",
    "list1 = [1, 2, 3, 4, 5]\n",
    "list2 = [3, 4, 5, 6, 7]\n",
    "common_elements = []\n",
    "\n",
    "for element in list1:\n",
    "    if element in list2:\n",
    "        common_elements.append(element)\n",
    "\n",
    "print(\"Common Elements:\", common_elements)\n",
    "\n"
   ]
  },
  {
   "cell_type": "code",
   "execution_count": 17,
   "id": "fd14746f-ba29-4132-b849-542f152fa97b",
   "metadata": {},
   "outputs": [
    {
     "name": "stdout",
     "output_type": "stream",
     "text": [
      "Key: a, Value: 1\n",
      "Key: b, Value: 2\n",
      "Key: c, Value: 3\n"
     ]
    }
   ],
   "source": [
    "# 15\n",
    "my_dict = {\"a\": 1, \"b\": 2, \"c\": 3}\n",
    "\n",
    "for key, value in my_dict.items():\n",
    "    print(f\"Key: {key}, Value: {value}\")\n"
   ]
  },
  {
   "cell_type": "code",
   "execution_count": 18,
   "id": "dafb551e-d8b5-41e7-88ee-28519cc5f7d1",
   "metadata": {},
   "outputs": [
    {
     "name": "stdout",
     "output_type": "stream",
     "text": [
      "GCD: 6\n"
     ]
    }
   ],
   "source": [
    "#16\n",
    "def find_gcd(x, y):\n",
    "    while y:\n",
    "        x, y = y, x % y\n",
    "    return x\n",
    "\n",
    "num1, num2 = 48, 18\n",
    "gcd = find_gcd(num1, num2)\n",
    "print(\"GCD:\", gcd)\n"
   ]
  },
  {
   "cell_type": "code",
   "execution_count": 19,
   "id": "386159e1-11e0-4ef7-b56f-0a83948c68ec",
   "metadata": {},
   "outputs": [
    {
     "name": "stdout",
     "output_type": "stream",
     "text": [
      "Is Palindrome: True\n"
     ]
    }
   ],
   "source": [
    "#17\n",
    "input_string = \"level\"\n",
    "is_palindrome = True\n",
    "\n",
    "for i in range(len(input_string) // 2):\n",
    "    if input_string[i] != input_string[-(i + 1)]:\n",
    "        is_palindrome = False\n",
    "        break\n",
    "\n",
    "print(\"Is Palindrome:\", is_palindrome)\n"
   ]
  },
  {
   "cell_type": "code",
   "execution_count": 20,
   "id": "6454fab9-4fc4-4e5d-8447-e23dfd9a414c",
   "metadata": {},
   "outputs": [
    {
     "name": "stdout",
     "output_type": "stream",
     "text": [
      "List without duplicates: [1, 2, 3, 4, 5]\n"
     ]
    }
   ],
   "source": [
    "#18\n",
    "original_list = [1, 2, 2, 3, 4, 4, 5]\n",
    "unique_list = []\n",
    "\n",
    "for num in original_list:\n",
    "    if num not in unique_list:\n",
    "        unique_list.append(num)\n",
    "\n",
    "print(\"List without duplicates:\", unique_list)\n"
   ]
  },
  {
   "cell_type": "code",
   "execution_count": 21,
   "id": "8ce6053d-1993-43f4-983a-88f0fc63c6fa",
   "metadata": {},
   "outputs": [
    {
     "name": "stdout",
     "output_type": "stream",
     "text": [
      "Number of words: 5\n"
     ]
    }
   ],
   "source": [
    "#19\n",
    "sentence = \"This is a sample sentence.\"\n",
    "words = sentence.split()\n",
    "word_count = len(words)\n",
    "\n",
    "print(\"Number of words:\", word_count)\n"
   ]
  },
  {
   "cell_type": "code",
   "execution_count": 22,
   "id": "1ab3e4f0-6f26-47ba-8fe2-8001e6bb032b",
   "metadata": {},
   "outputs": [
    {
     "name": "stdout",
     "output_type": "stream",
     "text": [
      "Sum of odd numbers: 625\n"
     ]
    }
   ],
   "source": [
    "#20\n",
    "odd_sum = 0\n",
    "\n",
    "for i in range(1, 51, 2):\n",
    "    odd_sum += i\n",
    "\n",
    "print(\"Sum of odd numbers:\", odd_sum)\n"
   ]
  },
  {
   "cell_type": "code",
   "execution_count": 23,
   "id": "031b2440-2968-4a1b-af29-b6d6845eb1c2",
   "metadata": {},
   "outputs": [
    {
     "name": "stdout",
     "output_type": "stream",
     "text": [
      "2024 is a leap year.\n"
     ]
    }
   ],
   "source": [
    "#21\n",
    "year = 2024\n",
    "\n",
    "if (year % 4 == 0 and year % 100 != 0) or (year % 400 == 0):\n",
    "    print(f\"{year} is a leap year.\")\n",
    "else:\n",
    "    print(f\"{year} is not a leap year.\")\n"
   ]
  },
  {
   "cell_type": "code",
   "execution_count": 24,
   "id": "14f0a04c-d974-4300-87b6-725f154434f0",
   "metadata": {},
   "outputs": [
    {
     "name": "stdout",
     "output_type": "stream",
     "text": [
      "Square root of 25 is: 5.0\n"
     ]
    }
   ],
   "source": [
    "#22\n",
    "num = 25\n",
    "square_root = num ** 0.5\n",
    "\n",
    "print(f\"Square root of {num} is: {square_root}\")\n"
   ]
  },
  {
   "cell_type": "code",
   "execution_count": 25,
   "id": "316cd27c-bc42-4d56-b45d-4ca8022baf9c",
   "metadata": {},
   "outputs": [
    {
     "name": "stdout",
     "output_type": "stream",
     "text": [
      "LCM: 36\n"
     ]
    }
   ],
   "source": [
    "#23\n",
    "def find_lcm(x, y):\n",
    "    lcm = max(x, y)\n",
    "    while True:\n",
    "        if lcm % x == 0 and lcm % y == 0:\n",
    "            break\n",
    "        lcm += 1\n",
    "    return lcm\n",
    "\n",
    "num1, num2 = 12, 18\n",
    "lcm = find_lcm(num1, num2)\n",
    "print(\"LCM:\", lcm)\n"
   ]
  },
  {
   "cell_type": "markdown",
   "id": "8525b445-a47c-459f-99d1-9254c0f1949d",
   "metadata": {},
   "source": [
    "## IF-ELSE"
   ]
  },
  {
   "cell_type": "code",
   "execution_count": 29,
   "id": "82e08dba-190f-4928-88b3-40532ee75d28",
   "metadata": {},
   "outputs": [
    {
     "name": "stdout",
     "output_type": "stream",
     "text": [
      "Negative number\n"
     ]
    }
   ],
   "source": [
    "#1\n",
    "num = -5\n",
    "if num > 0:\n",
    "    print(\"Positive number\")\n",
    "elif num == 0:\n",
    "    print(\"Zero\")\n",
    "else:\n",
    "    print(\"Negative number\")\n"
   ]
  },
  {
   "cell_type": "code",
   "execution_count": 30,
   "id": "7f8b43b9-39af-4ebc-9bb2-f34d047682d4",
   "metadata": {},
   "outputs": [
    {
     "name": "stdout",
     "output_type": "stream",
     "text": [
      "Odd number\n"
     ]
    }
   ],
   "source": [
    "#2\n",
    "num = 7\n",
    "if num % 2 == 0:\n",
    "    print(\"Even number\")\n",
    "else:\n",
    "    print(\"Odd number\")\n",
    "\n"
   ]
  },
  {
   "cell_type": "code",
   "execution_count": 31,
   "id": "9d705123-e8d8-4d7e-b64f-29c6df6d2102",
   "metadata": {},
   "outputs": [
    {
     "name": "stdout",
     "output_type": "stream",
     "text": [
      "x is greater than y\n",
      "x is also even\n"
     ]
    }
   ],
   "source": [
    "#3\n",
    "x = 10\n",
    "y = 5\n",
    "if x > y:\n",
    "    print(\"x is greater than y\")\n",
    "    if x % 2 == 0:\n",
    "        print(\"x is also even\")\n",
    "    else:\n",
    "        print(\"x is odd\")\n",
    "else:\n",
    "    print(\"y is greater than or equal to x\")\n"
   ]
  },
  {
   "cell_type": "code",
   "execution_count": 32,
   "id": "dc35ec2d-34de-4d00-88cd-fdd1e434abd6",
   "metadata": {},
   "outputs": [
    {
     "name": "stdout",
     "output_type": "stream",
     "text": [
      "The largest number is: 30\n"
     ]
    }
   ],
   "source": [
    "#4\n",
    "num1 = 25\n",
    "num2 = 18\n",
    "num3 = 30\n",
    "\n",
    "if num1 >= num2 and num1 >= num3:\n",
    "    print(\"The largest number is:\", num1)\n",
    "elif num2 >= num1 and num2 >= num3:\n",
    "    print(\"The largest number is:\", num2)\n",
    "else:\n",
    "    print(\"The largest number is:\", num3)\n"
   ]
  },
  {
   "cell_type": "code",
   "execution_count": 33,
   "id": "44adfde5-cc9e-4ee7-8ec6-443b18bd882b",
   "metadata": {},
   "outputs": [
    {
     "name": "stdout",
     "output_type": "stream",
     "text": [
      "The absolute value is: 7\n"
     ]
    }
   ],
   "source": [
    "#5\n",
    "num = -7\n",
    "if num < 0:\n",
    "    num = -num\n",
    "print(\"The absolute value is:\", num)\n"
   ]
  },
  {
   "cell_type": "code",
   "execution_count": 34,
   "id": "62fcc507-1503-4d9a-bfc2-214ca3385aa8",
   "metadata": {},
   "outputs": [
    {
     "name": "stdout",
     "output_type": "stream",
     "text": [
      "Vowel\n"
     ]
    }
   ],
   "source": [
    "#6\n",
    "char = 'A'\n",
    "char = char.lower()\n",
    "if char.isalpha():\n",
    "    if char in 'aeiou':\n",
    "        print(\"Vowel\")\n",
    "    else:\n",
    "        print(\"Consonant\")\n",
    "else:\n",
    "    print(\"Not a valid character\")\n"
   ]
  },
  {
   "cell_type": "code",
   "execution_count": 35,
   "id": "9424b9db-0aa1-4109-9484-2333f1b7efef",
   "metadata": {},
   "outputs": [
    {
     "name": "stdout",
     "output_type": "stream",
     "text": [
      "You are eligible to vote\n"
     ]
    }
   ],
   "source": [
    "#7\n",
    "age = 22\n",
    "if age >= 18:\n",
    "    print(\"You are eligible to vote\")\n",
    "else:\n",
    "    print(\"You are not eligible to vote\")\n"
   ]
  },
  {
   "cell_type": "code",
   "execution_count": 36,
   "id": "27bb6f1a-e7c6-4724-8f9e-f8b5541db335",
   "metadata": {},
   "outputs": [
    {
     "name": "stdout",
     "output_type": "stream",
     "text": [
      "Discount amount: 12.0\n"
     ]
    }
   ],
   "source": [
    "#8\n",
    "purchase_amount = 120\n",
    "if purchase_amount > 100:\n",
    "    discount = 0.1 * purchase_amount\n",
    "    print(\"Discount amount:\", discount)\n",
    "else:\n",
    "    print(\"No discount applied\")\n"
   ]
  },
  {
   "cell_type": "code",
   "execution_count": 37,
   "id": "0d5b37c1-31fd-4662-90b5-71d9951db05e",
   "metadata": {},
   "outputs": [
    {
     "name": "stdout",
     "output_type": "stream",
     "text": [
      "Number is within the specified range.\n"
     ]
    }
   ],
   "source": [
    "#9\n",
    "num = 30\n",
    "lower_limit = 10\n",
    "upper_limit = 50\n",
    "if lower_limit <= num <= upper_limit:\n",
    "    print(\"Number is within the specified range.\")\n",
    "else:\n",
    "    print(\"Number is outside the specified range.\")\n"
   ]
  },
  {
   "cell_type": "code",
   "execution_count": 38,
   "id": "8e1f57a6-5e6f-42c2-8211-1b1c921d33c0",
   "metadata": {},
   "outputs": [
    {
     "name": "stdout",
     "output_type": "stream",
     "text": [
      "Grade: B\n"
     ]
    }
   ],
   "source": [
    "#10\n",
    "score = 85\n",
    "if 90 <= score <= 100:\n",
    "    print(\"Grade: A\")\n",
    "elif 80 <= score < 90:\n",
    "    print(\"Grade: B\")\n",
    "elif 70 <= score < 80:\n",
    "    print(\"Grade: C\")\n",
    "elif 60 <= score < 70:\n",
    "    print(\"Grade: D\")\n",
    "else:\n",
    "    print(\"Grade: F\")\n"
   ]
  },
  {
   "cell_type": "code",
   "execution_count": 39,
   "id": "bd0e23c2-8da9-4243-8446-801cf7a09f6f",
   "metadata": {},
   "outputs": [
    {
     "name": "stdout",
     "output_type": "stream",
     "text": [
      "The string is empty.\n"
     ]
    }
   ],
   "source": [
    "#11\n",
    "my_string = \"\"\n",
    "if not my_string:\n",
    "    print(\"The string is empty.\")\n",
    "else:\n",
    "    print(\"The string is not empty.\")\n"
   ]
  },
  {
   "cell_type": "code",
   "execution_count": 2,
   "id": "a27fa935-6d1a-4414-9e3e-818685f75591",
   "metadata": {},
   "outputs": [
    {
     "name": "stdout",
     "output_type": "stream",
     "text": [
      "Equilateral triangle\n"
     ]
    }
   ],
   "source": [
    "#12\n",
    "side1 = 5\n",
    "side2 = 5\n",
    "side3 = 5\n",
    "\n",
    "if side1 == side2 == side3:\n",
    "    print(\"Equilateral triangle\")\n",
    "elif side1 == side2 or side1 == side3 or side2 == side3:\n",
    "    print(\"Isosceles triangle\")\n",
    "else:\n",
    "    print(\"Scalene triangle\")\n"
   ]
  },
  {
   "cell_type": "code",
   "execution_count": 5,
   "id": "3dfae98c-9f8b-4fcc-b872-73ad5d6cb766",
   "metadata": {},
   "outputs": [
    {
     "name": "stdout",
     "output_type": "stream",
     "text": [
      "Day of the week: Thursday\n"
     ]
    }
   ],
   "source": [
    "#13\n",
    "day_number = 4\n",
    "\n",
    "if 1 <= day_number <= 7:\n",
    "    days_of_week = [\"Monday\", \"Tuesday\", \"Wednesday\", \"Thursday\", \"Friday\", \"Saturday\", \"Sunday\"]\n",
    "    print(\"Day of the week:\", days_of_week[day_number - 1])\n",
    "else:\n",
    "    print(\"Invalid day number\")\n",
    "\n"
   ]
  },
  {
   "cell_type": "code",
   "execution_count": 6,
   "id": "34e50e85-6784-47f1-b980-d79a5530aae4",
   "metadata": {},
   "outputs": [
    {
     "name": "stdout",
     "output_type": "stream",
     "text": [
      "2024 is a leap year.\n"
     ]
    }
   ],
   "source": [
    "#14\n",
    "def is_leap_year(year):\n",
    "    if (year % 4 == 0 and year % 100 != 0) or (year % 400 == 0):\n",
    "        return True\n",
    "    else:\n",
    "        return False\n",
    "\n",
    "year_to_check = 2024\n",
    "\n",
    "if is_leap_year(year_to_check):\n",
    "    print(f\"{year_to_check} is a leap year.\")\n",
    "else:\n",
    "    print(f\"{year_to_check} is not a leap year.\")\n",
    "\n"
   ]
  },
  {
   "cell_type": "code",
   "execution_count": 7,
   "id": "d47b8714-61de-4fa6-9fa0-d12ecbcfb038",
   "metadata": {},
   "outputs": [
    {
     "name": "stdout",
     "output_type": "stream",
     "text": [
      "Assertion passed\n"
     ]
    }
   ],
   "source": [
    "#15\n",
    "x = 10\n",
    "y = 5\n",
    "assert x > y, \"x should be greater than y\"\n",
    "print(\"Assertion passed\")\n"
   ]
  },
  {
   "cell_type": "code",
   "execution_count": 8,
   "id": "a488262f-86b8-459f-939b-7f52941e5fb3",
   "metadata": {},
   "outputs": [
    {
     "name": "stdout",
     "output_type": "stream",
     "text": [
      "You are eligible for a senior citizen discount.\n"
     ]
    }
   ],
   "source": [
    "#16\n",
    "age = 65\n",
    "\n",
    "if age >= 60:\n",
    "    print(\"You are eligible for a senior citizen discount.\")\n",
    "else:\n",
    "    print(\"You are not eligible for a senior citizen discount.\")\n"
   ]
  },
  {
   "cell_type": "code",
   "execution_count": 9,
   "id": "cdf58532-7d39-430b-b471-abd1b7db1180",
   "metadata": {},
   "outputs": [
    {
     "name": "stdout",
     "output_type": "stream",
     "text": [
      "Uppercase character\n"
     ]
    }
   ],
   "source": [
    "#17\n",
    "char = 'A'\n",
    "\n",
    "if char.isalpha():\n",
    "    if char.isupper():\n",
    "        print(\"Uppercase character\")\n",
    "    else:\n",
    "        print(\"Lowercase character\")\n",
    "else:\n",
    "    print(\"Neither uppercase nor lowercase\")\n"
   ]
  },
  {
   "cell_type": "code",
   "execution_count": 10,
   "id": "a19093d4-6cfd-497d-978f-3bf2abcf23af",
   "metadata": {},
   "outputs": [
    {
     "name": "stdout",
     "output_type": "stream",
     "text": [
      "Two distinct real roots\n"
     ]
    }
   ],
   "source": [
    "#18\n",
    "a, b, c = 1, -3, 2\n",
    "\n",
    "discriminant = b**2 - 4*a*c\n",
    "\n",
    "if discriminant > 0:\n",
    "    print(\"Two distinct real roots\")\n",
    "elif discriminant == 0:\n",
    "    print(\"One real root\")\n",
    "else:\n",
    "    print(\"No real roots\")\n"
   ]
  },
  {
   "cell_type": "code",
   "execution_count": 11,
   "id": "30320794-ff3c-40fb-8c73-7b8df8a12d02",
   "metadata": {},
   "outputs": [
    {
     "name": "stdout",
     "output_type": "stream",
     "text": [
      "1900 is a century year.\n"
     ]
    }
   ],
   "source": [
    "#19\n",
    "year = 1900\n",
    "\n",
    "if year % 100 == 0:\n",
    "    print(f\"{year} is a century year.\")\n",
    "else:\n",
    "    print(f\"{year} is not a century year.\")\n"
   ]
  },
  {
   "cell_type": "code",
   "execution_count": 12,
   "id": "0dbaa9df-e744-466e-a59d-9b1626f82287",
   "metadata": {},
   "outputs": [
    {
     "name": "stdout",
     "output_type": "stream",
     "text": [
      "25 is a perfect square.\n"
     ]
    }
   ],
   "source": [
    "#20\n",
    "num = 25\n",
    "\n",
    "if num > 0 and (num**0.5).is_integer():\n",
    "    print(f\"{num} is a perfect square.\")\n",
    "else:\n",
    "    print(f\"{num} is not a perfect square.\")\n"
   ]
  },
  {
   "cell_type": "markdown",
   "id": "945d69df-f0a4-41cf-910c-5d787b6caa55",
   "metadata": {},
   "source": [
    "21.\n",
    "Explain the purpose of the \"continue\" and \"break\" statements within if-else loops:\n",
    "\n",
    "```\n",
    " - The \"continue\" statement is used to skip the rest of the code inside a loop and move to the next iteration.\n",
    " - The \"break\" statement is used to exit the loop prematurely.\n",
    "```"
   ]
  },
  {
   "cell_type": "code",
   "execution_count": 13,
   "id": "b46c763d-dad1-4f6c-afb2-d4d87c1c0bef",
   "metadata": {},
   "outputs": [
    {
     "name": "stdout",
     "output_type": "stream",
     "text": [
      "Your BMI is 22.86. You are in the normal weight range.\n"
     ]
    }
   ],
   "source": [
    "#22\n",
    "weight, height = 70, 1.75\n",
    "\n",
    "bmi = weight / (height**2)\n",
    "\n",
    "if 18.5 <= bmi < 25:\n",
    "    print(f\"Your BMI is {bmi:.2f}. You are in the normal weight range.\")\n",
    "else:\n",
    "    print(f\"Your BMI is {bmi:.2f}. You are not in the normal weight range.\")\n"
   ]
  },
  {
   "cell_type": "code",
   "execution_count": 14,
   "id": "232b8561-7dfd-4d85-8c67-6169c6109d59",
   "metadata": {},
   "outputs": [
    {
     "name": "stdout",
     "output_type": "stream",
     "text": [
      "Filtered even numbers: [2, 4, 6, 8, 10]\n"
     ]
    }
   ],
   "source": [
    "#23\n",
    "numbers = [1, 2, 3, 4, 5, 6, 7, 8, 9, 10]\n",
    "\n",
    "filtered_numbers = list(filter(lambda x: x % 2 == 0, numbers))\n",
    "\n",
    "if filtered_numbers:\n",
    "    print(\"Filtered even numbers:\", filtered_numbers)\n",
    "else:\n",
    "    print(\"No even numbers found.\")\n"
   ]
  },
  {
   "cell_type": "code",
   "execution_count": 15,
   "id": "8ba78ecc-67c2-42b6-ad2f-fe6903b191bf",
   "metadata": {},
   "outputs": [
    {
     "name": "stdout",
     "output_type": "stream",
     "text": [
      "11 is a prime number.\n"
     ]
    }
   ],
   "source": [
    "#24\n",
    "num = 11\n",
    "\n",
    "if num > 1:\n",
    "    for i in range(2, int(num**0.5) + 1):\n",
    "        if num % i == 0:\n",
    "            print(f\"{num} is not a prime number.\")\n",
    "            break\n",
    "    else:\n",
    "        print(f\"{num} is a prime number.\")\n",
    "else:\n",
    "    print(f\"{num} is not a prime number.\")\n"
   ]
  },
  {
   "cell_type": "markdown",
   "id": "ccf246bc-f3c0-4cd4-be97-3452aff2d767",
   "metadata": {},
   "source": [
    "# MAP"
   ]
  },
  {
   "cell_type": "markdown",
   "id": "fd762681-f656-4420-b267-4db3993ed33e",
   "metadata": {},
   "source": [
    "1. \n",
    "\n",
    "The map() function in Python is a built-in function that is used to apply a specified function to all the items in an iterable (e.g., a list, tuple, or string) and return an iterator that produces the results. The basic syntax of the map() function is as follows:\n",
    "```\n",
    "map(function, iterable, ...)\n",
    "\n",
    "```\n",
    "\n",
    "#### Example :\n",
    "```\n",
    "# Define a function to square a number\n",
    "def square(x):\n",
    "    return x ** 2\n",
    "\n",
    "# Create a list of numbers\n",
    "numbers = [1, 2, 3, 4, 5]\n",
    "\n",
    "# Use map() to apply the square function to each element in the list\n",
    "squared_numbers = map(square, numbers)\n",
    "\n",
    "# Convert the result to a list for visualization\n",
    "result_list = list(squared_numbers)\n",
    "\n",
    "# Print the original and squared numbers\n",
    "print(\"Original numbers:\", numbers)\n",
    "print(\"Squared numbers:\", result_list)\n",
    "\n",
    "```"
   ]
  },
  {
   "cell_type": "code",
   "execution_count": 18,
   "id": "26f3ddf8-787f-444d-b653-f7446ea13a3e",
   "metadata": {},
   "outputs": [
    {
     "name": "stdout",
     "output_type": "stream",
     "text": [
      "[1, 4, 9, 16, 25]\n"
     ]
    }
   ],
   "source": [
    "#2\n",
    "def square(n):\n",
    "    return n**2\n",
    "\n",
    "ans = list(map(square, [1,2,3,4,5]))\n",
    "print(ans)\n"
   ]
  },
  {
   "cell_type": "markdown",
   "id": "dfed66f5-8e5a-4819-b96e-bb9171929d64",
   "metadata": {},
   "source": [
    "3.\n",
    "\n",
    "map() Function:\n",
    " - Applies a specified function to each element in an iterable.\n",
    " - Returns an iterator and requires conversion to a list or another iterable.\n",
    " - Suitable for complex transformations and when you have an existing function.\n",
    "\n",
    "List Comprehension:\n",
    " - Concise syntax for generating a new list by applying an expression to each element in an iterable.\n",
    " - Directly produces a list.\n",
    " - Preferred for simple operations and considered more readable in many cases.\n"
   ]
  },
  {
   "cell_type": "code",
   "execution_count": 30,
   "id": "1e3b3cc7-46dc-4300-8f53-04a2d5e7853e",
   "metadata": {},
   "outputs": [
    {
     "data": {
      "text/plain": [
       "['PW', 'SKILLS', 'AMAN', 'DEEP', 'SINGH']"
      ]
     },
     "execution_count": 30,
     "metadata": {},
     "output_type": "execute_result"
    }
   ],
   "source": [
    "#4\n",
    "l = ['pw', 'skills','aman', 'deep', 'singh']\n",
    "def to_uppercase(name):\n",
    "    return name.upper()\n",
    "    \n",
    "ans = list(map(to_uppercase, l))\n",
    "ans"
   ]
  },
  {
   "cell_type": "code",
   "execution_count": 31,
   "id": "9e3d0ee2-f13a-49d1-a85a-8a23aca9fbe9",
   "metadata": {},
   "outputs": [
    {
     "data": {
      "text/plain": [
       "[2, 6, 4, 4, 5]"
      ]
     },
     "execution_count": 31,
     "metadata": {},
     "output_type": "execute_result"
    }
   ],
   "source": [
    "#5\n",
    "\n",
    "ans = list(map(len, l))\n",
    "ans"
   ]
  },
  {
   "cell_type": "code",
   "execution_count": 33,
   "id": "7412e609-83b6-4ec8-9a3b-9e266f1bc128",
   "metadata": {},
   "outputs": [
    {
     "name": "stdout",
     "output_type": "stream",
     "text": [
      "Full names: ['Alice Smith', 'Bob Johnson', 'Charlie Williams']\n"
     ]
    }
   ],
   "source": [
    "#6\n",
    "# Custom function to concatenate elements from multiple lists\n",
    "def concatenate_names(first_name, last_name):\n",
    "    return f\"{first_name} {last_name}\"\n",
    "\n",
    "first_names = [\"Alice\", \"Bob\", \"Charlie\"]\n",
    "last_names = [\"Smith\", \"Johnson\", \"Williams\"]\n",
    "\n",
    "full_names = list(map(concatenate_names, first_names, last_names))\n",
    "\n",
    "print(\"Full names:\", full_names)\n"
   ]
  },
  {
   "cell_type": "code",
   "execution_count": 39,
   "id": "6bfbc8f3-c2ac-421b-90be-4affff7e2965",
   "metadata": {},
   "outputs": [
    {
     "data": {
      "text/plain": [
       "[73.4, 93.2, 113.0]"
      ]
     },
     "execution_count": 39,
     "metadata": {},
     "output_type": "execute_result"
    }
   ],
   "source": [
    "#7\n",
    "\n",
    "def convert_temp(celsius):\n",
    "    return (celsius * 9/5) + 32\n",
    "\n",
    "list(map(convert_temp, [23,34,45]))"
   ]
  },
  {
   "cell_type": "code",
   "execution_count": null,
   "id": "6d5dd11f-b9e0-4f8d-92cc-30c68fd13514",
   "metadata": {},
   "outputs": [
    {
     "data": {
      "text/plain": [
       "[23, 4, 44]"
      ]
     },
     "execution_count": 40,
     "metadata": {},
     "output_type": "execute_result"
    }
   ],
   "source": [
    "# 8\n",
    "\n",
    "def return_int(f):\n",
    "    return int(f)\n",
    "\n",
    "list(map(return_int, [23.4, 4.2, 44.2]))"
   ]
  },
  {
   "cell_type": "markdown",
   "id": "88d5a714-cf77-4339-ae78-fab5a2bd1f78",
   "metadata": {},
   "source": [
    "# REDUCE"
   ]
  },
  {
   "cell_type": "markdown",
   "id": "a431e5f6-cd22-4409-a47c-e421ec41dfed",
   "metadata": {},
   "source": [
    "1.\n",
    "In Python, the reduce() function is part of the functools module, and it is used for reducing a sequence of elements to a single value by successively applying a specified binary function. The general syntax is:\n",
    "```\n",
    "functools.reduce(function, sequence[, initial])\n",
    "```\n",
    "\n",
    "#### Example :\n",
    "```\n",
    "from functools import reduce\n",
    "\n",
    "numbers = [2, 3, 5, 7, 11]\n",
    "\n",
    "product = reduce(lambda x, y: x * y, numbers)\n",
    "print(product)\n",
    "```"
   ]
  },
  {
   "cell_type": "code",
   "execution_count": 4,
   "id": "713c1071-a1f8-4a3c-9b73-039650ec7c4a",
   "metadata": {},
   "outputs": [
    {
     "data": {
      "text/plain": [
       "5040"
      ]
     },
     "execution_count": 4,
     "metadata": {},
     "output_type": "execute_result"
    }
   ],
   "source": [
    "2.\n",
    "from functools import reduce\n",
    "nums = [1,2,3,4,5,6,7]\n",
    "product = reduce(lambda x,y : x*y, nums)\n",
    "product"
   ]
  },
  {
   "cell_type": "code",
   "execution_count": 7,
   "id": "096ac990-fd7b-42ee-aed6-1f21554d1019",
   "metadata": {},
   "outputs": [
    {
     "data": {
      "text/plain": [
       "56"
      ]
     },
     "execution_count": 7,
     "metadata": {},
     "output_type": "execute_result"
    }
   ],
   "source": [
    "3.\n",
    "nums = [1,2,3,4,5,6,7,6,32,56,24,6,2,1]\n",
    "ans = reduce(lambda x,y:x if x>y else y, nums)\n",
    "ans"
   ]
  },
  {
   "cell_type": "code",
   "execution_count": 11,
   "id": "aa05ce29-ee51-4f4c-9408-020b0d14b5dd",
   "metadata": {},
   "outputs": [
    {
     "data": {
      "text/plain": [
       "'afrtedw'"
      ]
     },
     "execution_count": 11,
     "metadata": {},
     "output_type": "execute_result"
    }
   ],
   "source": [
    "4.\n",
    "l = ['a', 'f', 'r', 't', 'edw']\n",
    "ans = reduce(lambda x,y : x + y, l)\n",
    "ans"
   ]
  },
  {
   "cell_type": "code",
   "execution_count": 13,
   "id": "d3e39106-00e1-4c4a-a799-9f40b3ddbda5",
   "metadata": {},
   "outputs": [
    {
     "data": {
      "text/plain": [
       "120"
      ]
     },
     "execution_count": 13,
     "metadata": {},
     "output_type": "execute_result"
    }
   ],
   "source": [
    "5.\n",
    "def fact(n):\n",
    "    return reduce(lambda x,y : x*y, range(1, n+1), 1 )\n",
    "\n",
    "fact(5)"
   ]
  },
  {
   "cell_type": "code",
   "execution_count": 16,
   "id": "c37bd9fa-72f4-4821-9e1f-75414a05da8f",
   "metadata": {},
   "outputs": [
    {
     "data": {
      "text/plain": [
       "6"
      ]
     },
     "execution_count": 16,
     "metadata": {},
     "output_type": "execute_result"
    }
   ],
   "source": [
    "6. \n",
    "def gcd(a,b):\n",
    "    return reduce(lambda x,y:x if y==0 else gcd(y, x%y), [a,b])\n",
    "\n",
    "gcd(12,18)"
   ]
  },
  {
   "cell_type": "code",
   "execution_count": 21,
   "id": "fd9b1b14-9e6b-4afc-9f86-9fba211c84c9",
   "metadata": {},
   "outputs": [
    {
     "name": "stdout",
     "output_type": "stream",
     "text": [
      "The sum of the digits of 12345 is: 15\n"
     ]
    }
   ],
   "source": [
    "7.\n",
    "\n",
    "def sum_of_digits(number):\n",
    "   \n",
    "    digits = [int(digit) for digit in str(abs(number))]\n",
    "    \n",
    "    return reduce(lambda x, y: x + y, digits, 0)\n",
    "    \n",
    "given_number = 12345\n",
    "result = sum_of_digits(given_number)\n",
    "print(f\"The sum of the digits of {given_number} is: {result}\")\n"
   ]
  },
  {
   "cell_type": "markdown",
   "id": "b4192a0d-f4e5-482e-b95d-f457f5568fff",
   "metadata": {},
   "source": [
    "# FILTER"
   ]
  },
  {
   "cell_type": "markdown",
   "id": "028ecded-6bc2-4eb4-86ba-8acb907c04cc",
   "metadata": {},
   "source": [
    "1. \n",
    "The filter() function in Python is used to filter elements of an iterable based on a function (or None, which indicates a default behavior of filtering out elements that are considered false).\n",
    "\n",
    "The syntax of the filter() function is as follows:\n",
    "```\n",
    "filter(function, iterable)\n",
    "```\n",
    "\n",
    "#### Example :\n",
    "```\n",
    "# Define a function to check if a number is even\n",
    "def is_even(num):\n",
    "    return num % 2 == 0\n",
    "\n",
    "# List of numbers\n",
    "numbers = [1, 2, 3, 4, 5, 6, 7, 8, 9, 10]\n",
    "\n",
    "# Use filter() to get only even numbers\n",
    "filtered_numbers = list(filter(is_even, numbers))\n",
    "\n",
    "# Print the result\n",
    "print(filtered_numbers)\n",
    "```"
   ]
  },
  {
   "cell_type": "code",
   "execution_count": 1,
   "id": "10edecb9-d5f6-4eac-bd61-c487ced438a9",
   "metadata": {},
   "outputs": [
    {
     "data": {
      "text/plain": [
       "[2, 4, 6, 8, 10]"
      ]
     },
     "execution_count": 1,
     "metadata": {},
     "output_type": "execute_result"
    }
   ],
   "source": [
    "2. \n",
    "def is_even(n):\n",
    "    return n%2==0\n",
    "l = [1,2,3,4,5,6,7,8,9,10]\n",
    "\n",
    "list(filter(is_even, l))"
   ]
  },
  {
   "cell_type": "code",
   "execution_count": 7,
   "id": "5a753d5f-fbb9-41a3-94b2-4804912bc1a6",
   "metadata": {},
   "outputs": [
    {
     "data": {
      "text/plain": [
       "['Charlie']"
      ]
     },
     "execution_count": 7,
     "metadata": {},
     "output_type": "execute_result"
    }
   ],
   "source": [
    "3.\n",
    "def start_with(string, char):\n",
    "    if string.lower().startswith(char.lower()):\n",
    "        return string\n",
    "    \n",
    "names = [\"Alice\", \"Bob\", \"Charlie\", \"David\", \"Eva\", \"Frank\"]\n",
    "list(filter(lambda x: start_with(x,'c'), names))"
   ]
  },
  {
   "cell_type": "code",
   "execution_count": 14,
   "id": "ae279f9b-701d-4625-8b48-ac856a0a0b06",
   "metadata": {},
   "outputs": [
    {
     "data": {
      "text/plain": [
       "[2, 3, 5, 7, 11, 13, 17, 19]"
      ]
     },
     "execution_count": 14,
     "metadata": {},
     "output_type": "execute_result"
    }
   ],
   "source": [
    "4.\n",
    "\n",
    "def is_prime(n):\n",
    "    if n<2:\n",
    "        return False\n",
    "    for i in range(2, int(n**0.5)+1):\n",
    "        if n%i==0:\n",
    "            return False\n",
    "    return True\n",
    "l = [0, 1, 2, 3, 4, 5, 6, 7, 8, 9, 10, 11, 12, 13, 14, 15, 16, 17, 18, 19]\n",
    "list(filter(is_prime, l))"
   ]
  },
  {
   "cell_type": "code",
   "execution_count": 15,
   "id": "1407f11f-255e-46bb-85af-5d0a4826dfe1",
   "metadata": {},
   "outputs": [
    {
     "name": "stdout",
     "output_type": "stream",
     "text": [
      "[1, 'apple', 5, 'orange', 7]\n"
     ]
    }
   ],
   "source": [
    "5.\n",
    "mixed_values = [1, None, \"apple\", None, 5, \"orange\", None, 7, None]\n",
    "\n",
    "filtered_values = list(filter(lambda x: x is not None, mixed_values))\n",
    "\n",
    "print(filtered_values)\n"
   ]
  },
  {
   "cell_type": "code",
   "execution_count": 16,
   "id": "482ac9a0-6e9e-4aaa-a4da-c4fbfa3834c1",
   "metadata": {},
   "outputs": [
    {
     "data": {
      "text/plain": [
       "['banana', 'orange', 'strawberry']"
      ]
     },
     "execution_count": 16,
     "metadata": {},
     "output_type": "execute_result"
    }
   ],
   "source": [
    "6.\n",
    "\n",
    "words = [\"apple\", \"banana\", \"kiwi\", \"orange\", \"grape\", \"strawberry\"]\n",
    "\n",
    "list(filter(lambda x:len(x)>5, words))"
   ]
  },
  {
   "cell_type": "code",
   "execution_count": 18,
   "id": "f7afb3f5-ed9c-4ba0-9106-0e3aeb3ecf44",
   "metadata": {},
   "outputs": [
    {
     "data": {
      "text/plain": [
       "[25, 30, 15, 20]"
      ]
     },
     "execution_count": 18,
     "metadata": {},
     "output_type": "execute_result"
    }
   ],
   "source": [
    "7. \n",
    "numbers = [10, 25, 5, 30, 15, 8, 20]\n",
    "threshold_value = 15\n",
    "\n",
    "list(filter(lambda x: x>=15, numbers))"
   ]
  },
  {
   "cell_type": "markdown",
   "id": "563fdaa1-a5b7-4235-85ae-ab29834baef7",
   "metadata": {},
   "source": [
    "# RECURSION"
   ]
  },
  {
   "cell_type": "markdown",
   "id": "c3dffa91-13ed-4f19-9763-23623ad41d80",
   "metadata": {},
   "source": [
    "1. \n",
    "\n",
    "**Recursion:**\n",
    "- Involves a function calling itself to solve a problem by breaking it into smaller instances.\n",
    "- Often relies on a base case to stop the recursion.\n",
    "- Can lead to a stack overflow for large inputs due to the function call stack.\n",
    "\n",
    "**Iteration:**\n",
    "- Uses explicit loop structures (e.g., `for` or `while`) to repeatedly execute a set of statements.\n",
    "- Typically involves a clear termination condition.\n",
    "- Tends to use less memory compared to recursion.\n"
   ]
  },
  {
   "cell_type": "code",
   "execution_count": 20,
   "id": "3a1e5219-66c4-4019-813a-ebf4fbf6b32c",
   "metadata": {},
   "outputs": [
    {
     "data": {
      "text/plain": [
       "120"
      ]
     },
     "execution_count": 20,
     "metadata": {},
     "output_type": "execute_result"
    }
   ],
   "source": [
    "2.\n",
    "def fact(n):\n",
    "    if n==0:\n",
    "        return 1\n",
    "    return n*fact(n-1)\n",
    "\n",
    "fact(5)"
   ]
  },
  {
   "cell_type": "code",
   "execution_count": 25,
   "id": "7d4c5bf9-dd4d-4dfa-a084-5e87f76b75a4",
   "metadata": {},
   "outputs": [
    {
     "data": {
      "text/plain": [
       "13"
      ]
     },
     "execution_count": 25,
     "metadata": {},
     "output_type": "execute_result"
    }
   ],
   "source": [
    "3.\n",
    "\n",
    "def fib(n, a=0,b=1):\n",
    "    if n==0:\n",
    "        return a\n",
    "    \n",
    "    return fib(n-1, b, a+b)\n",
    "    \n",
    "    \n",
    "fib(7)"
   ]
  },
  {
   "cell_type": "code",
   "execution_count": 30,
   "id": "1d29d684-f18b-4b76-98f1-4b31c6c2af0e",
   "metadata": {},
   "outputs": [
    {
     "data": {
      "text/plain": [
       "37"
      ]
     },
     "execution_count": 30,
     "metadata": {},
     "output_type": "execute_result"
    }
   ],
   "source": [
    "4.\n",
    "l= [1,2,4,5,6,7,7,3,2]\n",
    "\n",
    "def sumOf(l):\n",
    "    if not l:\n",
    "        return 0\n",
    "    \n",
    "    return l[0] + sumOf(l[1:])\n",
    "\n",
    "sumOf(l)\n"
   ]
  },
  {
   "cell_type": "markdown",
   "id": "d9e5f4b5-616b-4ae2-857a-7a15414b3597",
   "metadata": {},
   "source": [
    "5.\n",
    "##### We can prevent a recursive function from running indefinitely by :\n",
    "1. **Base Case:**\n",
    "   - Define a condition under which the recursive function stops calling itself.\n",
    "   - Ensure this base case is reached after a finite number of recursive calls.\n",
    "\n",
    "2. **Progress Towards Base Case:**\n",
    "   - Each recursive call should bring the function closer to the base case.\n",
    "   - Ensure that inputs or conditions are changing with each recursive call.\n",
    "\n",
    "3. **Input Validation:**\n",
    "   - Check inputs or conditions before making recursive calls to prevent unexpected behavior.\n",
    "\n",
    "4. **Debugging and Testing:**\n",
    "   - Debug the recursive function to understand its behavior.\n",
    "   - Test with various inputs, including edge cases, to verify correctness.\n"
   ]
  },
  {
   "cell_type": "code",
   "execution_count": 32,
   "id": "70bca836-e7c0-4304-8363-5a10db9c1548",
   "metadata": {},
   "outputs": [
    {
     "data": {
      "text/plain": [
       "4"
      ]
     },
     "execution_count": 32,
     "metadata": {},
     "output_type": "execute_result"
    }
   ],
   "source": [
    "6.\n",
    "\n",
    "def gcd(a,b):\n",
    "    if b == 0:\n",
    "        return a\n",
    "    return gcd(b, a%b)\n",
    "\n",
    "gcd(12,8)"
   ]
  },
  {
   "cell_type": "code",
   "execution_count": 45,
   "id": "4f24e8b3-1313-4bd6-93c9-ff2dc3a90212",
   "metadata": {},
   "outputs": [
    {
     "data": {
      "text/plain": [
       "'rac'"
      ]
     },
     "execution_count": 45,
     "metadata": {},
     "output_type": "execute_result"
    }
   ],
   "source": [
    "7.\n",
    "\n",
    "def reverse(s):\n",
    "    if not s:\n",
    "        return s\n",
    "    \n",
    "    return reverse(s[1:]) + s[0]\n",
    "\n",
    "reverse('car')"
   ]
  },
  {
   "cell_type": "code",
   "execution_count": 54,
   "id": "875af23a-2323-4ac1-a575-8d694e97f427",
   "metadata": {},
   "outputs": [
    {
     "data": {
      "text/plain": [
       "0.015625"
      ]
     },
     "execution_count": 54,
     "metadata": {},
     "output_type": "execute_result"
    }
   ],
   "source": [
    "8. \n",
    "\n",
    "def power(x,n):\n",
    "    if n==0:\n",
    "        return 1\n",
    "    if n==1:\n",
    "        return x\n",
    "    if n==-1:\n",
    "        return 1/x\n",
    "    \n",
    "    mid = n//2\n",
    "    temp = power(x, mid)\n",
    "    result = temp * temp\n",
    "    \n",
    "    return result*power(x, n%2)\n",
    "    \n",
    "\n",
    "power(2,-6)"
   ]
  },
  {
   "cell_type": "code",
   "execution_count": 59,
   "id": "454a81fa-046e-45b1-99dc-56eaa04b7b83",
   "metadata": {},
   "outputs": [
    {
     "name": "stdout",
     "output_type": "stream",
     "text": [
      "Total number of permutations: 40320\n"
     ]
    }
   ],
   "source": [
    "9.\n",
    "s = 'amandeep'\n",
    "\n",
    "def permut(s):\n",
    "    if len(s) == 1:\n",
    "        return [s], 1\n",
    "    \n",
    "    all_permutations = []\n",
    "    total_permutations = 0\n",
    "    \n",
    "    for i in range(len(s)):\n",
    "        first_char = s[i]\n",
    "        remaining_char = s[:i] + s[i+1:]\n",
    "        \n",
    "        permutation_of_remaining, count = permut(remaining_char)\n",
    "        total_permutations += count\n",
    "        \n",
    "        for perm in permutation_of_remaining:\n",
    "            all_permutations.append(first_char + perm)\n",
    "    \n",
    "    return all_permutations, total_permutations\n",
    "\n",
    "result, total_permutations = permut(s)\n",
    "#print(\"All permutations:\", result)\n",
    "print(\"Total number of permutations:\", total_permutations)\n"
   ]
  },
  {
   "cell_type": "code",
   "execution_count": 65,
   "id": "16708e66-2ef2-4b6b-b584-e157a11ef830",
   "metadata": {},
   "outputs": [
    {
     "data": {
      "text/plain": [
       "True"
      ]
     },
     "execution_count": 65,
     "metadata": {},
     "output_type": "execute_result"
    }
   ],
   "source": [
    "10.\n",
    "\n",
    "def check_palindrome(s):\n",
    "    if len(s)<=1:\n",
    "        return True\n",
    "    \n",
    "    if s[0]==s[-1]:\n",
    "        return check_palindrome(s[1:-1])\n",
    "    return False\n",
    "\n",
    "check_palindrome('racecar')"
   ]
  },
  {
   "cell_type": "code",
   "execution_count": 1,
   "id": "94fcdf33-5858-4ffc-aedc-9f26d1f59a12",
   "metadata": {},
   "outputs": [
    {
     "name": "stdout",
     "output_type": "stream",
     "text": [
      "[[], [1], [2], [2, 1], [3], [3, 1], [3, 2], [3, 2, 1]]\n"
     ]
    }
   ],
   "source": [
    "l = [1, 2, 3]\n",
    "\n",
    "def combinations(l):\n",
    "    if len(l) == 0:\n",
    "        return [[]]\n",
    "    \n",
    "    combos = []\n",
    "    for combo in combinations(l[1:]):\n",
    "        combos += [combo, combo + [l[0]]]\n",
    "    \n",
    "    return combos\n",
    "\n",
    "result = combinations(l)\n",
    "print(result)\n"
   ]
  },
  {
   "cell_type": "code",
   "execution_count": null,
   "id": "a6050834-9d23-4b60-b9f4-65f1dd5a2cf9",
   "metadata": {},
   "outputs": [],
   "source": []
  },
  {
   "cell_type": "markdown",
   "id": "b3f9f0ee-ea3d-49db-8260-6eeb88a8894b",
   "metadata": {},
   "source": [
    "# Basics of Functions"
   ]
  },
  {
   "cell_type": "markdown",
   "id": "b72e67d1-6827-4812-ad2c-876596854e1c",
   "metadata": {},
   "source": [
    "1 . In Python, a function is a block of reusable code that performs a specific task or set of tasks. Functions are defined using the def keyword, followed by the function name, parameters (if any), and a colon. The body of the function is indented and contains the code that specifies what the function does."
   ]
  },
  {
   "cell_type": "markdown",
   "id": "d270a1b8-1bac-4019-9326-bcd5631ecfd0",
   "metadata": {},
   "source": [
    "2 .  \n",
    "In Python, you can define a function using the def keyword. Here's a simple example:\n",
    "```\n",
    "def add_numbers(a, b):\n",
    "    \"\"\"This function adds two numbers and returns the result.\"\"\"\n",
    "    result = a + b\n",
    "    return result\n",
    "\n",
    "# Calling the function\n",
    "sum_result = add_numbers(5, 3)\n",
    "print(f\"The sum is: {sum_result}\")\n",
    "```"
   ]
  },
  {
   "cell_type": "markdown",
   "id": "e493a51f-2bd9-44b3-a550-383c0e9e77b3",
   "metadata": {},
   "source": [
    "3. \n",
    "A function definition is the process of creating a function. It involves using the def keyword followed by the function name, parameters (if any), a colon, and the function body.\n",
    "\n",
    "A function call is the act of invoking or executing a function that has been previously defined."
   ]
  },
  {
   "cell_type": "code",
   "execution_count": 1,
   "id": "6f09635b-aa59-49a1-9622-1263ea35969c",
   "metadata": {},
   "outputs": [
    {
     "data": {
      "text/plain": [
       "20"
      ]
     },
     "execution_count": 1,
     "metadata": {},
     "output_type": "execute_result"
    }
   ],
   "source": [
    "4. \n",
    "def add(a, b):\n",
    "    return a + b\n",
    "add(12,8)"
   ]
  },
  {
   "cell_type": "code",
   "execution_count": 2,
   "id": "75008af7-ea84-4d90-9f3f-8ac85eea21a7",
   "metadata": {},
   "outputs": [
    {
     "data": {
      "text/plain": [
       "8"
      ]
     },
     "execution_count": 2,
     "metadata": {},
     "output_type": "execute_result"
    }
   ],
   "source": [
    "6.\n",
    "def mul(a,b):\n",
    "    return a*b\n",
    "\n",
    "mul(4,2)"
   ]
  },
  {
   "cell_type": "markdown",
   "id": "97d970a4-6188-4c98-8195-50546fa73b78",
   "metadata": {},
   "source": [
    "# Function Parameters and Argument"
   ]
  },
  {
   "cell_type": "markdown",
   "id": "0207a5a1-7146-44da-9a72-419ae84a818b",
   "metadata": {},
   "source": [
    "1.\n",
    "\n",
    "Formal parameters- Formal parameters are placeholders or variables listed in the function definition. They act as local variables within the function and are used to receive values when the function is called.\n",
    "\n",
    "Actual parameters - Actual arguments, also known as arguments or parameters, are the values passed to the function during a function call. These values are substituted for the formal parameters in the function definition."
   ]
  },
  {
   "cell_type": "code",
   "execution_count": 3,
   "id": "4c5d6c24-5b0a-42b3-ab23-4bcb736d24dc",
   "metadata": {},
   "outputs": [
    {
     "name": "stdout",
     "output_type": "stream",
     "text": [
      "Hello, Aman!\n",
      "Hi, Alice!\n"
     ]
    }
   ],
   "source": [
    "2. \n",
    "def greet(name, greeting=\"Hello\"):\n",
    "    print(f\"{greeting}, {name}!\")\n",
    "\n",
    "greet('Aman')\n",
    "\n",
    "greet(\"Alice\", greeting=\"Hi\") \n"
   ]
  },
  {
   "cell_type": "code",
   "execution_count": 6,
   "id": "6346ac54-b9d7-46ca-aaa4-0978c270a67d",
   "metadata": {},
   "outputs": [
    {
     "name": "stdout",
     "output_type": "stream",
     "text": [
      "Name: John, Age: 25, Gender: Male\n",
      "Name: Alice, Age: 30, Gender: Female\n",
      "Name: Bob, Age: 22, Gender: Non-binary\n"
     ]
    }
   ],
   "source": [
    "3. \n",
    "'''In Python, you can use keyword arguments in function calls by explicitly specifying the parameter names and their corresponding values. This allows you to provide arguments in a different order, skip optional arguments, or even mix positional and keyword arguments.'''\n",
    "def describe_person(name, age, gender):\n",
    "    print(f\"Name: {name}, Age: {age}, Gender: {gender}\")\n",
    "\n",
    "describe_person(name=\"John\", age=25, gender=\"Male\")\n",
    "\n",
    "describe_person(gender=\"Female\", name=\"Alice\", age=30)\n",
    "\n",
    "describe_person(\"Bob\", gender=\"Non-binary\", age=22)\n"
   ]
  },
  {
   "cell_type": "code",
   "execution_count": 12,
   "id": "a609aaa0-8bf3-423a-aff9-45e071853ec3",
   "metadata": {},
   "outputs": [
    {
     "data": {
      "text/plain": [
       "1"
      ]
     },
     "execution_count": 12,
     "metadata": {},
     "output_type": "execute_result"
    }
   ],
   "source": [
    "4. \n",
    "def add(a,*numbers):\n",
    "    total_sum = a\n",
    "    for num in numbers:\n",
    "        total_sum+=num\n",
    "    return total_sum\n",
    "\n",
    "add(1)"
   ]
  },
  {
   "cell_type": "markdown",
   "id": "0b31cdb6-f1ae-4de1-ba00-4cb516fb72c0",
   "metadata": {},
   "source": [
    "5. \n",
    "\n",
    "*args - The *args syntax allows a function to accept any number of positional arguments. It collects these arguments into a tuple.\n",
    "\n",
    "**kwargs - The **kwargs syntax allows a function to accept any number of keyword arguments. It collects these arguments into a dictionary."
   ]
  },
  {
   "cell_type": "markdown",
   "id": "cb144206-55d0-426f-827e-35bc5d79e487",
   "metadata": {},
   "source": [
    "# Return Values and Scoping"
   ]
  },
  {
   "cell_type": "markdown",
   "id": "5fc91692-7a0e-45bb-bb06-bd40460a7b1c",
   "metadata": {},
   "source": [
    "1. \n",
    "In Python, the return statement is used to exit a function and return a value to the caller. When a function is called, the code within the function is executed, and if a return statement is encountered, the function terminates, and the specified value is sent back to the caller.\n"
   ]
  },
  {
   "cell_type": "markdown",
   "id": "2c5a4a4c-688b-4bcf-856a-acfafdc962bf",
   "metadata": {},
   "source": [
    "2.\n",
    "\n",
    "In Python, variable scope refers to the region of the code where a variable is accessible or can be modified. Understanding variable scope is crucial for writing maintainable and error-free code. There are two main types of variable scope in Python: local and global.\n",
    "* Local Variable- A local variable is a variable declared within a function or a block of code. It is only accessible within that specific function or block.\n",
    "* Global Variable - A global variable is declared outside of any function or block of code, making it accessible throughout the entire program."
   ]
  },
  {
   "cell_type": "code",
   "execution_count": 15,
   "id": "ad57aaf9-f674-4371-894d-7ca1b46ae9e9",
   "metadata": {},
   "outputs": [
    {
     "data": {
      "text/plain": [
       "60"
      ]
     },
     "execution_count": 15,
     "metadata": {},
     "output_type": "execute_result"
    }
   ],
   "source": [
    "3.\n",
    "amount = 10\n",
    "def add(money):\n",
    "    global amount \n",
    "    amount += money\n",
    "    return amount\n",
    "    \n",
    "add(50)"
   ]
  },
  {
   "cell_type": "code",
   "execution_count": 16,
   "id": "b5ad9d65-b2c3-44d1-869f-f0d17dd0a74c",
   "metadata": {},
   "outputs": [
    {
     "data": {
      "text/plain": [
       "120"
      ]
     },
     "execution_count": 16,
     "metadata": {},
     "output_type": "execute_result"
    }
   ],
   "source": [
    "4. \n",
    "def fact(n):\n",
    "    if n==0:\n",
    "        return 1\n",
    "    return n*fact(n-1)\n",
    "\n",
    "fact(5)"
   ]
  },
  {
   "cell_type": "markdown",
   "id": "69f2324a-9055-43be-93ba-cb499bc196cc",
   "metadata": {},
   "source": [
    "5.\n",
    "\n",
    "To access variables defined outside a function from within the function in Python, we can use the global keyword. The global keyword allows you to indicate that a variable is a global variable, making it accessible both inside and outside the function. Here's an example:\n",
    "```\n",
    "# Global variable\n",
    "global_variable = 10\n",
    "\n",
    "def access_global_variable():\n",
    "    # Accessing the global variable\n",
    "    global global_variable\n",
    "    print(f\"Inside function: Global variable = {global_variable}\")\n",
    "\n",
    "# Calling the function\n",
    "access_global_variable()\n",
    "\n",
    "print(f\"Outside function: Global variable = {global_variable}\")\n",
    "\n",
    "```"
   ]
  },
  {
   "cell_type": "markdown",
   "id": "4d7925cd-3b5d-4e9d-836f-5d279a444fdb",
   "metadata": {},
   "source": [
    "# Lambda Functions and Higher-Order Functions"
   ]
  },
  {
   "cell_type": "markdown",
   "id": "08d8d224-d3aa-48ed-aa06-f3e9c7b1e831",
   "metadata": {},
   "source": [
    "1. \n",
    "Lambda functions in Python are anonymous, one-line functions created using the lambda keyword. They are also known as lambda expressions. Lambda functions are a concise way to create small, throwaway functions without formally defining them using the def keyword."
   ]
  },
  {
   "cell_type": "code",
   "execution_count": 1,
   "id": "f97cd400-dbc4-4759-90fb-98db5fa2531f",
   "metadata": {},
   "outputs": [
    {
     "data": {
      "text/plain": [
       "[(4, 1), (2, 3), (1, 5), (3, 8)]"
      ]
     },
     "execution_count": 1,
     "metadata": {},
     "output_type": "execute_result"
    }
   ],
   "source": [
    "2.\n",
    "pairs = [(1, 5), (2, 3), (4, 1), (3, 8)]\n",
    "\n",
    "sorted(pairs, key = lambda x:x[1])"
   ]
  },
  {
   "cell_type": "markdown",
   "id": "fa316d55-f5d3-40fe-82b4-3c55b0bedb49",
   "metadata": {},
   "source": [
    "3. \n",
    "In Python, a higher-order function is a function that takes one or more functions as arguments and/or returns a function as its result. This concept is a fundamental part of functional programming and allows for the abstraction and manipulation of functions as first-class citizens.\n",
    "\n",
    "Here's a brief explanation of higher-order functions:\n",
    "\n",
    "1. **Takes Functions as Arguments:** A higher-order function can take one or more functions as arguments. These functions are often referred to as callbacks or function parameters.\n",
    "\n",
    "2. **Returns a Function:** A higher-order function can also return a function as its result. This returned function can be used or executed later in the program.\n",
    "\n",
    "Higher-order functions are powerful because they enable the creation of more abstract and reusable code. They allow you to pass behavior (functions) as data, leading to more flexible and modular code structures.\n",
    "\n",
    "Here's a simple example of a higher-order function in Python:\n",
    "\n",
    "```python\n",
    "def operate_on_numbers(numbers, operation):\n",
    "    \"\"\"This higher-order function applies the specified operation to each element in the list.\"\"\"\n",
    "    result = []\n",
    "    for number in numbers:\n",
    "        result.append(operation(number))\n",
    "    return result\n",
    "\n",
    "# Example usage: Squaring each number in a list\n",
    "numbers_list = [1, 2, 3, 4, 5]\n",
    "\n",
    "# Define a function for squaring\n",
    "def square(x):\n",
    "    return x ** 2\n",
    "\n",
    "# Using the higher-order function to apply the square function to each element\n",
    "squared_numbers = operate_on_numbers(numbers_list, square)\n",
    "\n",
    "# Displaying the result\n",
    "print(\"Original List:\", numbers_list)\n",
    "print(\"Squared List:\", squared_numbers)\n",
    "```\n",
    "\n",
    "In this example:\n",
    "\n",
    "- The `operate_on_numbers` function is a higher-order function that takes a list of numbers and a function (`operation`) as arguments. It applies the specified operation to each element in the list and returns the result.\n",
    "- The `square` function is a simple function that squares its input.\n",
    "- The higher-order function is used to square each number in the `numbers_list`.\n",
    "\n",
    "Output:\n",
    "```\n",
    "Original List: [1, 2, 3, 4, 5]\n",
    "Squared List: [1, 4, 9, 16, 25]\n",
    "```\n",
    "\n",
    "This demonstrates the use of a higher-order function to abstract away the operation (function) applied to each element in a list."
   ]
  },
  {
   "cell_type": "code",
   "execution_count": 4,
   "id": "a3edecba-3dde-4552-a545-717b2fd7294a",
   "metadata": {},
   "outputs": [
    {
     "name": "stdout",
     "output_type": "stream",
     "text": [
      "[1, 4, 9, 16, 25, 36]\n",
      "[1, 8, 27, 64, 125, 216]\n"
     ]
    }
   ],
   "source": [
    "4. \n",
    "def apply_function(numbers_list, function):\n",
    "    result = []\n",
    "    for num in numbers_list:\n",
    "        result.append(function(num))\n",
    "    return result\n",
    "        \n",
    "def square(n):\n",
    "    return n**2\n",
    "def cube(n):\n",
    "    return n**3\n",
    "\n",
    "l = [1,2,3,4,5,6]\n",
    "print(apply_function(l, square))\n",
    "print(apply_function(l, cube))"
   ]
  },
  {
   "cell_type": "markdown",
   "id": "7a8f21f4-ab05-4efd-bea7-0e1916f3033b",
   "metadata": {},
   "source": [
    "# Built-in Functions"
   ]
  },
  {
   "cell_type": "markdown",
   "id": "3cc2e8b1-b221-46cf-ac75-3310fa9b3778",
   "metadata": {},
   "source": [
    "1.\n",
    "Built-in functions like `len()`, `max()`, and `min()` play essential roles in Python for performing common operations on data structures. Here's a brief description of each:\n",
    "\n",
    "1. **`len(iterable)` function:**\n",
    "   - **Role:** The `len()` function is used to get the length or the number of elements in a given iterable (sequence or collection).\n",
    "   \n",
    "2. **`max(iterable, *args, key, default)` function:**\n",
    "   - **Role:** The `max()` function returns the largest item from an iterable or the largest of two or more arguments.\n",
    "\n",
    "3. **`min(iterable, *args, key, default)` function:**\n",
    "   - **Role:** The `min()` function returns the smallest item from an iterable or the smallest of two or more arguments.\n",
    "     ```\n"
   ]
  },
  {
   "cell_type": "code",
   "execution_count": 6,
   "id": "7ffde674-1ba2-4f74-bf0a-1192dbbbcb4a",
   "metadata": {},
   "outputs": [
    {
     "data": {
      "text/plain": [
       "[1, 4, 9, 16, 25]"
      ]
     },
     "execution_count": 6,
     "metadata": {},
     "output_type": "execute_result"
    }
   ],
   "source": [
    "2. \n",
    "l = [1,2,3,4,5]\n",
    "def square(n):\n",
    "    return n**2\n",
    "list(map(square, l))"
   ]
  },
  {
   "cell_type": "markdown",
   "id": "f0cfff9c-a22d-4b48-a052-a750e5ace535",
   "metadata": {},
   "source": [
    "3. The filter() function in Python is a built-in function that is used to filter elements of an iterable (such as a list) based on a specified condition. It returns an iterator containing only the elements that satisfy the given condition.\n",
    "\n",
    "Use cases for filter():\n",
    "\n",
    "* Filtering Data: When you need to extract elements from a collection that meet specific criteria.\n",
    "* Removing None or Empty Values: Filtering out None or empty values from a list.\n",
    "* Data Cleaning: Removing outliers or invalid data points from a dataset.\n"
   ]
  },
  {
   "cell_type": "code",
   "execution_count": 11,
   "id": "51d243e4-455a-405c-8fcf-bef285412982",
   "metadata": {},
   "outputs": [
    {
     "data": {
      "text/plain": [
       "120"
      ]
     },
     "execution_count": 11,
     "metadata": {},
     "output_type": "execute_result"
    }
   ],
   "source": [
    "4. \n",
    "from functools import reduce\n",
    "l = [2, 3, 4, 5]\n",
    "\n",
    "def mul(a,b):\n",
    "    return a*b\n",
    "\n",
    "reduce(mul,l)"
   ]
  },
  {
   "cell_type": "markdown",
   "id": "a641fdc8-329c-4cfe-a189-1d038b6316cd",
   "metadata": {},
   "source": [
    "# Function Documentation and Best Practices:\n"
   ]
  },
  {
   "cell_type": "markdown",
   "id": "7a03c3a5-98c5-4f33-bfc3-71c7ec415204",
   "metadata": {},
   "source": [
    "1. \n",
    "Docstrings in Python are used to document functions, classes, modules, or methods, providing a concise and standardized way to describe their purpose, usage, and parameters. They serve as documentation and help developers, including yourself and others, understand how to use the code effectively.\n",
    "\n",
    "```\n",
    "def example_function(parameter1, parameter2):\n",
    "    \"\"\"\n",
    "    This is a brief description of the function.\n",
    "    \"\"\"\n",
    "    \n",
    "```"
   ]
  },
  {
   "cell_type": "markdown",
   "id": "20cb1587-5c9e-4af9-a62b-522baac76897",
   "metadata": {},
   "source": [
    "2. \n",
    "Naming functions and variables in Python according to consistent conventions is crucial for writing readable and maintainable code. Following PEP 8, the official Python style guide, can help maintain a consistent and clean codebase. Here are some best practices for naming functions and variables in Python:\n",
    "\n",
    "### Functions:\n",
    "1. **Use Descriptive Names:** Choose names that reflect the purpose or functionality of the function. A function name should be clear and easily understandable.\n",
    "   ```python\n",
    "   # Good\n",
    "   def calculate_total_price():\n",
    "       pass\n",
    "\n",
    "   # Avoid\n",
    "   def calc():\n",
    "       pass\n",
    "   ```\n",
    "\n",
    "2. **Use Snake Case:** Use lowercase letters and underscores to separate words in function names.\n",
    "   ```python\n",
    "   # Good\n",
    "   def process_data():\n",
    "       pass\n",
    "\n",
    "   # Avoid\n",
    "   def processData():\n",
    "       pass\n",
    "   ```\n",
    "\n",
    "3. **Verb-Noun Naming:** Prefer using a verb followed by a noun to indicate an action performed by the function.\n",
    "   ```python\n",
    "   # Good\n",
    "   def calculate_salary():\n",
    "       pass\n",
    "\n",
    "   # Avoid\n",
    "   def salary_calculator():\n",
    "       pass\n",
    "   ```\n",
    "\n",
    "### Variables:\n",
    "1. **Use Descriptive Names:** Similar to functions, choose names that clearly convey the purpose or content of the variable.\n",
    "   ```python\n",
    "   # Good\n",
    "   total_sales = 1000\n",
    "\n",
    "   # Avoid\n",
    "   ts = 1000\n",
    "   ```\n",
    "\n",
    "2. **Use Snake Case:** Stick to lowercase letters and underscores for variable names.\n",
    "   ```python\n",
    "   # Good\n",
    "   user_age = 25\n",
    "\n",
    "   # Avoid\n",
    "   userAge = 25\n",
    "   ```\n",
    "\n",
    "3. **Avoid Single-letter Names:** Unless the variable represents an iterator in a short loop or a well-known convention like `i`, avoid single-letter variable names.\n",
    "   ```python\n",
    "   # Good\n",
    "   index = 0\n",
    "\n",
    "   # Avoid\n",
    "   i = 0\n",
    "   ```\n",
    "\n",
    "4. **Be Consistent:** Maintain consistency in naming conventions throughout your codebase. If you choose a certain style, stick to it.\n",
    "   ```python\n",
    "   # Good\n",
    "   customer_name = \"John Doe\"\n",
    "   order_total = 50.00\n",
    "\n",
    "   # Avoid mixing styles\n",
    "   CustomerName = \"John Doe\"\n",
    "   orderTotal = 50.00\n",
    "   ```\n",
    "\n",
    "5. **Avoid Reserved Words:** Avoid using Python reserved words as variable names to prevent confusion and potential errors.\n",
    "   ```python\n",
    "   # Good\n",
    "   result_value = 42\n",
    "\n",
    "   # Avoid\n",
    "   class = 42\n",
    "   ```\n",
    "\n"
   ]
  },
  {
   "cell_type": "code",
   "execution_count": null,
   "id": "3e5832ab-2355-4a98-b022-b2fd1d2314d8",
   "metadata": {},
   "outputs": [],
   "source": []
  }
 ],
 "metadata": {
  "kernelspec": {
   "display_name": "Python 3 (ipykernel)",
   "language": "python",
   "name": "python3"
  },
  "language_info": {
   "codemirror_mode": {
    "name": "ipython",
    "version": 3
   },
   "file_extension": ".py",
   "mimetype": "text/x-python",
   "name": "python",
   "nbconvert_exporter": "python",
   "pygments_lexer": "ipython3",
   "version": "3.10.8"
  }
 },
 "nbformat": 4,
 "nbformat_minor": 5
}
