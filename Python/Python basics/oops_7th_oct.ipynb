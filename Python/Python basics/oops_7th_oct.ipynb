{
 "cells": [
  {
   "cell_type": "markdown",
   "id": "96d9bb45-f616-44b4-9838-2c6b339c679e",
   "metadata": {},
   "source": [
    "`Problem 1: Bank Account` Create a class representing a bank account with attributes like account number, account holder name, and balance. Implement methods to deposit and withdraw money from the account.\n"
   ]
  },
  {
   "cell_type": "code",
   "execution_count": 11,
   "id": "de8d0ef3-e775-4295-a798-57e4e3c6cc6f",
   "metadata": {},
   "outputs": [
    {
     "data": {
      "text/plain": [
       "'Successfull!! Your current balance: 800'"
      ]
     },
     "execution_count": 11,
     "metadata": {},
     "output_type": "execute_result"
    }
   ],
   "source": [
    "class BankAccount():\n",
    "    def __init__(self,holder_name, acc_number, balance=0):\n",
    "        self.name= holder_name\n",
    "        self.acc_num = acc_number\n",
    "        self.balance = balance\n",
    "        \n",
    "    def deposit(self, amount):\n",
    "        self.balance+=amount\n",
    "        return f\"Successfull!! Your current balance: {self.balance}\"\n",
    "    \n",
    "    def withdraw(self, amount):\n",
    "        if amount<=self.balance:\n",
    "            self.balance-=amount\n",
    "            return f\"Successfull!! Your current balance: {self.balance}\"\n",
    "        else:\n",
    "            return \"Insufficient balance\"\n",
    "\n",
    "axis = BankAccount(\"xyz\", 122, 100)\n",
    "axis.deposit(900)\n",
    "axis.withdraw(200)\n"
   ]
  },
  {
   "cell_type": "markdown",
   "id": "287eba9d-a81a-49de-91fc-b917331e595b",
   "metadata": {},
   "source": [
    "`Problem 2: Employee Management` Create a class representing an employee with attributes like employee ID, name, and salary. Implement methods to calculate the yearly bonus and display employee details."
   ]
  },
  {
   "cell_type": "code",
   "execution_count": 16,
   "id": "52ad9a7f-03b4-457c-97ae-e502277a482f",
   "metadata": {},
   "outputs": [
    {
     "name": "stdout",
     "output_type": "stream",
     "text": [
      "Employee ID: E001\n",
      "Name: John Doe\n",
      "Salary: $60000\n",
      "--------------------\n",
      "Yearly Bonus: $6000.0\n"
     ]
    }
   ],
   "source": [
    "class Employee:\n",
    "    def __init__(self, emp_id, name, salary):\n",
    "        self.emp_id = emp_id\n",
    "        self.name = name\n",
    "        self.salary = salary\n",
    "\n",
    "    def calculate_yearly_bonus(self, bonus_percentage):\n",
    "        bonus_amount = (bonus_percentage / 100) * self.salary\n",
    "        return bonus_amount\n",
    "\n",
    "    def display_details(self):\n",
    "        print(f\"Employee ID: {self.emp_id}\")\n",
    "        print(f\"Name: {self.name}\")\n",
    "        print(f\"Salary: ${self.salary}\")\n",
    "        print(\"-\"*20)\n",
    "\n",
    "\n",
    "\n",
    "employee1 = Employee(emp_id=\"E001\", name=\"John Doe\", salary=60000)\n",
    "employee1.display_details()\n",
    "\n",
    "bonus_percentage = 10\n",
    "yearly_bonus = employee1.calculate_yearly_bonus(bonus_percentage)\n",
    "print(f\"Yearly Bonus: ${yearly_bonus}\")\n"
   ]
  },
  {
   "cell_type": "markdown",
   "id": "112c8fb3-3750-4668-8311-8bed0b74e6f5",
   "metadata": {},
   "source": [
    "`Problem 3: Vehicle Rental` Create a class representing a vehicle rental system. Implement methods to rent a vehicle, return a vehicle, and display available vehicles."
   ]
  },
  {
   "cell_type": "code",
   "execution_count": 34,
   "id": "023ebc26-9e41-45ef-b553-2d0ab5e521a5",
   "metadata": {},
   "outputs": [],
   "source": [
    "class VehicleRentalSystem():\n",
    "    def __init__(self):\n",
    "        self.available_vehicles = set()\n",
    "        \n",
    "    def add_vehicle(self,vehicle):\n",
    "        self.available_vehicles.add(vehicle)\n",
    "    \n",
    "    def rent_vehicle(self,vehicle):\n",
    "        if vehicle in self.available_vehicles:\n",
    "            self.available_vehicles.remove(vehicle)\n",
    "            print(\"Vehicle rented succesfully\")\n",
    "        else:\n",
    "            print(\"Vehicle not available for rent\")\n",
    "    \n",
    "    def return_vehicle(self,vehicle):\n",
    "        self.available_vehicles.add(vehicle)\n",
    "        print(\"Vehichle returned successfully\")\n",
    "        \n",
    "    def show_available_vehicles(self):\n",
    "        for i in self.available_vehicles:\n",
    "            print(i)\n",
    "        print(\"-\"*20)\n",
    "    \n",
    "class Vehicle:\n",
    "    def __init__(self, vehicle_id, model):\n",
    "        self.id = vehicle_id\n",
    "        self.model = model\n",
    "        \n",
    "    def __str__(self):\n",
    "        return f\"Vehicle ID: {self.id}, Model: {self.model}\""
   ]
  },
  {
   "cell_type": "code",
   "execution_count": 35,
   "id": "3bdd4e54-4706-48b4-8f24-55d380d2afc1",
   "metadata": {},
   "outputs": [
    {
     "name": "stdout",
     "output_type": "stream",
     "text": [
      "Vehicle ID: V002, Model: SUV\n",
      "Vehicle ID: V001, Model: Sedan\n",
      "--------------------\n"
     ]
    }
   ],
   "source": [
    "rental_system = VehicleRentalSystem()\n",
    "\n",
    "vehicle1 = Vehicle(vehicle_id=\"V001\", model=\"Sedan\")\n",
    "vehicle2 = Vehicle(vehicle_id=\"V002\", model=\"SUV\")\n",
    "\n",
    "rental_system.add_vehicle(vehicle1)\n",
    "rental_system.add_vehicle(vehicle2)\n",
    "\n",
    "rental_system.show_available_vehicles()\n"
   ]
  },
  {
   "cell_type": "markdown",
   "id": "a2d7634d-ac8d-4641-b01f-31065cbe09b1",
   "metadata": {},
   "source": [
    "`Problem 4: Library` Catalog Create classes representing a library and a book. Implement methods to add books to the library, borrow books, and display available books."
   ]
  },
  {
   "cell_type": "code",
   "execution_count": 7,
   "id": "cef76e0f-4f1a-47ff-9258-609bcc625e11",
   "metadata": {},
   "outputs": [
    {
     "name": "stdout",
     "output_type": "stream",
     "text": [
      "Available Books: \n",
      "--------------------\n",
      "The Great Gatsby by F. Scott Fitzgerald (B001)\n",
      "To Kill a Mockingbird by Harper Lee (B002)\n",
      "1984 by George Orwell (B003)\n"
     ]
    }
   ],
   "source": [
    "class Book:\n",
    "    def __init__(self, book_id, title, author):\n",
    "        self.title = title\n",
    "        self.id = book_id\n",
    "        self.author = author\n",
    "        self.available  = True\n",
    "    def __str__(self):\n",
    "        return f\"{self.title} by {self.author} ({self.id})\"\n",
    "\n",
    "class Library():\n",
    "    def __init__(self):\n",
    "        self.books = []\n",
    "    \n",
    "    def add_book(self, book):\n",
    "        self.books.append(book)\n",
    "    \n",
    "    def borrow_book(self, book_id):\n",
    "        book = next((book for book in self.books if book.id==book_id and book.available), None)\n",
    "        if book:\n",
    "            self.available = False\n",
    "            print(f\"{book.title} borrowed succesffully !!\")\n",
    "        else:\n",
    "            print(f\"Invalid book id: {book.id}\")\n",
    "            \n",
    "    def display_books(self):\n",
    "        print(\"Available Books: \")\n",
    "        print('-'*20)\n",
    "        for book in (book for book in self.books):\n",
    "            print(book)\n",
    "        \n",
    "book1 = Book(book_id=\"B001\", title=\"The Great Gatsby\", author=\"F. Scott Fitzgerald\")\n",
    "book2 = Book(book_id=\"B002\", title=\"To Kill a Mockingbird\", author=\"Harper Lee\")\n",
    "book3 = Book(book_id=\"B003\", title=\"1984\", author=\"George Orwell\")\n",
    "\n",
    "library = Library()\n",
    "library.add_book(book1)\n",
    "library.add_book(book2)\n",
    "library.add_book(book3)\n",
    "\n",
    "library.display_books()"
   ]
  },
  {
   "cell_type": "markdown",
   "id": "0a63d0f3-eb31-403f-86cf-a784eccc1387",
   "metadata": {},
   "source": [
    "`Problem 5: Product Inventory` Create classes representing a product and an inventory system. Implement methods to add products to the inventory, update product quantity, and display available products."
   ]
  },
  {
   "cell_type": "code",
   "execution_count": 25,
   "id": "3918456f-ee14-4fc3-b961-f413a0ce88bd",
   "metadata": {},
   "outputs": [
    {
     "name": "stdout",
     "output_type": "stream",
     "text": [
      "Laptop: 1200 (P001) [Quantity: 1]\n",
      "Smartphone: 800 (P002) [Quantity: 16]\n",
      "Headphones: 100 (P003) [Quantity: 1]\n"
     ]
    }
   ],
   "source": [
    "class Product:\n",
    "    def __init__(self, product_id, name, price):\n",
    "        self.id = product_id\n",
    "        self.name = name\n",
    "        self.price = price\n",
    "        self.quantity = 1\n",
    "        \n",
    "    def __str__(self):\n",
    "        return f\"{self.name}: {self.price} ({self.id}) [Quantity: {self.quantity}]\"\n",
    "    \n",
    "class Inventory():\n",
    "    def __init__(self):\n",
    "        self.inventory = {}\n",
    "    \n",
    "    def add_product(self, product):\n",
    "        self.inventory[product] = self.inventory.get(product, 0)+1\n",
    "    \n",
    "    def update_quantity(self, product_id, quantity):\n",
    "        for product in self.inventory:\n",
    "            if product_id==product.id:\n",
    "                product.quantity+=quantity\n",
    "            \n",
    "            \n",
    "    def display_products(self):\n",
    "        p = [i for i in self.inventory]\n",
    "        for i in p:\n",
    "            print(i)\n",
    "\n",
    "product1 = Product(product_id=\"P001\", name=\"Laptop\", price=1200)\n",
    "product2 = Product(product_id=\"P002\", name=\"Smartphone\", price=800)\n",
    "product3 = Product(product_id=\"P003\", name=\"Headphones\", price=100)\n",
    "\n",
    "inventory = Inventory()\n",
    "inventory.add_product(product1)\n",
    "inventory.add_product(product2)\n",
    "inventory.add_product(product3)\n",
    "\n",
    "\n",
    "\n",
    "inventory.update_quantity(product_id=\"P002\", quantity=15)\n",
    "inventory.display_products()"
   ]
  },
  {
   "cell_type": "markdown",
   "id": "206ca282-8527-406d-8fcb-d04dfe45c677",
   "metadata": {},
   "source": [
    "`Problem 6: Shape Calculation` Create a class representing a shape with attributes like length, width, and height. Implement methods to calculate the area and perimeter of the shape."
   ]
  },
  {
   "cell_type": "code",
   "execution_count": 27,
   "id": "788cef27-e6d2-4d9e-88d2-a681b2466992",
   "metadata": {},
   "outputs": [
    {
     "name": "stdout",
     "output_type": "stream",
     "text": [
      "Rectangle Area: 24\n",
      "Rectangle Perimeter: 20\n",
      "Square Area: 25\n",
      "Square Perimeter: 20\n",
      "Triangle Area: 6.0\n",
      "Triangle Perimeter: 12\n"
     ]
    }
   ],
   "source": [
    "class Shape:\n",
    "    def __init__(self, length=0, width=0, height=0):\n",
    "        self.length = length\n",
    "        self.width = width\n",
    "        self.height = height\n",
    "\n",
    "    def calculate_area(self):\n",
    "        pass\n",
    "\n",
    "    def calculate_perimeter(self):\n",
    "        pass\n",
    "\n",
    "class Rectangle(Shape):\n",
    "    def calculate_area(self):\n",
    "        return self.length * self.width\n",
    "\n",
    "    def calculate_perimeter(self):\n",
    "        return 2 * (self.length + self.width)\n",
    "\n",
    "class Square(Rectangle):\n",
    "    def __init__(self, side):\n",
    "        super().__init__(length=side, width=side)\n",
    "\n",
    "class Triangle(Shape):\n",
    "    def calculate_area(self):\n",
    "        s = (self.length + self.width + self.height) / 2\n",
    "        return (s * (s - self.length) * (s - self.width) * (s - self.height)) ** 0.5\n",
    "\n",
    "    def calculate_perimeter(self):\n",
    "        return self.length + self.width + self.height\n",
    "\n",
    "\n",
    "rectangle = Rectangle(length=4, width=6)\n",
    "print(\"Rectangle Area:\", rectangle.calculate_area())\n",
    "print(\"Rectangle Perimeter:\", rectangle.calculate_perimeter())\n",
    "\n",
    "square = Square(side=5)\n",
    "print(\"Square Area:\", square.calculate_area())\n",
    "print(\"Square Perimeter:\", square.calculate_perimeter())\n",
    "\n",
    "triangle = Triangle(length=3, width=4, height=5)\n",
    "print(\"Triangle Area:\", triangle.calculate_area())\n",
    "print(\"Triangle Perimeter:\", triangle.calculate_perimeter())\n"
   ]
  },
  {
   "cell_type": "markdown",
   "id": "f9148045-a64e-492c-9880-c95904d4cae4",
   "metadata": {},
   "source": [
    "`Problem 7: Student Management` Create a class representing a student with attributes like student ID, name, and grades. Implement methods to calculate the average grade and display student details."
   ]
  },
  {
   "cell_type": "code",
   "execution_count": 35,
   "id": "5c99f3d1-ee1e-4aec-98f1-2ad51188b16a",
   "metadata": {},
   "outputs": [
    {
     "name": "stdout",
     "output_type": "stream",
     "text": [
      "Student ID: 12\n",
      "Name: abx\n",
      "Grades: {'maths': 90, 'english': 94, 'physics': 70, 'biology': 91}\n",
      "Average Grade: 86\n"
     ]
    },
    {
     "data": {
      "text/plain": [
       "86"
      ]
     },
     "execution_count": 35,
     "metadata": {},
     "output_type": "execute_result"
    }
   ],
   "source": [
    "class Student():\n",
    "    def __init__(self, student_id, name, grades:dict):\n",
    "        self.id = student_id\n",
    "        self.name = name\n",
    "        self.grades = grades\n",
    "    \n",
    "    def avg_grade(self):\n",
    "        return sum( i for i in self.grades.values())//len(self.grades)\n",
    "    \n",
    "    def display_student_details(self):\n",
    "        print(f\"Student ID: {self.id}\")\n",
    "        print(f\"Name: {self.name}\")\n",
    "        print(f\"Grades: {self.grades}\")\n",
    "        print(f\"Average Grade: {self.avg_grade()}\")\n",
    "        \n",
    "sd1 = Student(12,\"abx\", {\"maths\":90, \"english\":94, \"physics\":70, \"biology\":91})\n",
    "sd1.display_student_details()\n",
    "sd1.avg_grade()\n",
    "            "
   ]
  },
  {
   "cell_type": "markdown",
   "id": "97077f34-fb9a-48ad-b5f5-f5b07c59f4b8",
   "metadata": {},
   "source": [
    "`Problem 8: Email Management` Create a class representing an email with attributes like sender, recipient, and subject. Implement methods to send an email and display email details."
   ]
  },
  {
   "cell_type": "code",
   "execution_count": 38,
   "id": "bb3e591d-c003-4a73-8976-48ad90e1225f",
   "metadata": {},
   "outputs": [
    {
     "name": "stdout",
     "output_type": "stream",
     "text": [
      "Email Details:\n",
      "Sender: john@example.com\n",
      "Recipient: jane@example.com\n",
      "Subject: Meeting Tomorrow\n",
      "Status: Not Sent\n",
      "------------------------------\n",
      "Email sent from john@example.com to jane@example.com with subject: 'Meeting Tomorrow'\n",
      "------------------------------\n",
      "Email Details:\n",
      "Sender: john@example.com\n",
      "Recipient: jane@example.com\n",
      "Subject: Meeting Tomorrow\n",
      "Status: Sent\n",
      "------------------------------\n"
     ]
    }
   ],
   "source": [
    "class Email:\n",
    "    def __init__(self, sender, recipient, subject):\n",
    "        self.sender = sender\n",
    "        self.recipient = recipient\n",
    "        self.subject = subject\n",
    "        self.is_sent = False\n",
    "\n",
    "    def send_email(self):\n",
    "        print(f\"Email sent from {self.sender} to {self.recipient} with subject: '{self.subject}'\")\n",
    "        self.is_sent = True\n",
    "        print('-'*30)\n",
    "\n",
    "    def display_email_details(self):\n",
    "        print(\"Email Details:\")\n",
    "        print(f\"Sender: {self.sender}\")\n",
    "        print(f\"Recipient: {self.recipient}\")\n",
    "        print(f\"Subject: {self.subject}\")\n",
    "        print(f\"Status: {'Sent' if self.is_sent else 'Not Sent'}\")\n",
    "        print('-'*30)\n",
    "\n",
    "email1 = Email(sender=\"john@example.com\", recipient=\"jane@example.com\", subject=\"Meeting Tomorrow\")\n",
    "\n",
    "email1.display_email_details()\n",
    "\n",
    "email1.send_email()\n",
    "\n",
    "email1.display_email_details()\n"
   ]
  },
  {
   "cell_type": "markdown",
   "id": "b16fa32c-cd0b-4be3-b703-2e73f7b611bc",
   "metadata": {},
   "source": [
    "`Problem 9: Social Media Profile` Create a class representing a social media profile with attributes like username and posts. Implement methods to add posts, display posts, and search for posts by keyword."
   ]
  },
  {
   "cell_type": "code",
   "execution_count": 47,
   "id": "bcf2efe3-b526-48b9-8571-3822452342c5",
   "metadata": {},
   "outputs": [
    {
     "name": "stdout",
     "output_type": "stream",
     "text": [
      "Post uploaded: hello there, how are you?\n",
      "Post uploaded: wow!! I am good\n",
      "Post uploaded: wow!! that's great\n",
      "wow!! I am good\n",
      "wow!! that's great\n"
     ]
    }
   ],
   "source": [
    "class SocialMediaProfile:\n",
    "    def __init__(self, username):\n",
    "        self.username = username\n",
    "        self.posts = []\n",
    "\n",
    "    def add_post(self, post):\n",
    "        self.posts.append(post)\n",
    "        print(f\"Post uploaded: {post}\")\n",
    "\n",
    "    def display_posts(self):\n",
    "        if self.posts:\n",
    "            print(\"\\n\".join(self.posts))\n",
    "        else:\n",
    "            print(\"No posts yet !!\")\n",
    "\n",
    "    def search_posts(self, keyword):\n",
    "        matching_posts = [post for post in self.posts if keyword.lower() in post.lower()]\n",
    "        if matching_posts:\n",
    "            print(\"\\n\".join(matching_posts))\n",
    "        else:\n",
    "            print(\"No matching posts found.\")\n",
    "\n",
    "\n",
    "annie = SocialMediaProfile('annie@123')\n",
    "annie.add_post('hello there, how are you?')\n",
    "annie.add_post('wow!! I am good')\n",
    "annie.add_post('wow!! that\\'s great')\n",
    "annie.search_posts('WOW')\n"
   ]
  },
  {
   "cell_type": "markdown",
   "id": "857a5f08-4209-40c1-b1ff-2261df55c07d",
   "metadata": {},
   "source": [
    "`Problem 10: ToDo List `Create a class representing a ToDo list with attributes like tasks and due dates. Implement methods to add tasks, mark tasks as completed, and display pending tasks."
   ]
  },
  {
   "cell_type": "code",
   "execution_count": 52,
   "id": "f82c2bf7-872a-4d2a-bd76-8cc101d358c3",
   "metadata": {},
   "outputs": [
    {
     "name": "stdout",
     "output_type": "stream",
     "text": [
      "------------------------------\n",
      "------------------------------\n",
      "Task 1: Complete assignment | Due date: 2022-12-31 | Status : Pending\n",
      "Task 2: Submit project | Due date: 2023-01-15 | Status : Pending\n",
      "------------------------------\n",
      "Task 'Task 1' marked as completed.\n",
      "Task 2: Submit project | Due date: 2023-01-15 | Status : Pending\n",
      "------------------------------\n"
     ]
    }
   ],
   "source": [
    "class TodoList():\n",
    "    def __init__(self):\n",
    "        self.tasks = []\n",
    "        \n",
    "    def add_task(self, task):\n",
    "        self.tasks.append(task)\n",
    "        print('-'*30)\n",
    "        \n",
    "    def complete_task(self, task_title):\n",
    "        for task in self.tasks:\n",
    "            if task_title==task.title:\n",
    "                task.completed = True\n",
    "                print(f\"Task '{task_title}' marked as completed.\")\n",
    "                return\n",
    "            else:\n",
    "                print(f\"Could not find the task: {task_title}\")\n",
    "        print('-'*30)\n",
    "    def display_pending_tasks(self):\n",
    "        pending = [task for task in self.tasks if not task.completed]\n",
    "        for i in pending:\n",
    "            print(i)\n",
    "        print('-'*30)\n",
    "class TODO:\n",
    "    def __init__(self, task_title, task, due_date):\n",
    "        self.title= task_title\n",
    "        self.task = task\n",
    "        self.date= due_date\n",
    "        self.completed = False\n",
    "    def __str__(self):\n",
    "        status = \"Completed\" if self.completed==True else \"Pending\"\n",
    "        return f\"{self.title}: {self.task} | Due date: {self.date} | Status : {status}\"\n",
    "    \n",
    "task1 = TODO(task_title=\"Task 1\", task=\"Complete assignment\", due_date=\"2022-12-31\")\n",
    "task2 = TODO(task_title=\"Task 2\", task=\"Submit project\", due_date=\"2023-01-15\")\n",
    "\n",
    "\n",
    "todo_list = TodoList()\n",
    "\n",
    "todo_list.add_task(task1)\n",
    "todo_list.add_task(task2)\n",
    "\n",
    "todo_list.display_pending_tasks()\n",
    "todo_list.complete_task(task_title=\"Task 1\")\n",
    "\n",
    "todo_list.display_pending_tasks()\n",
    "        "
   ]
  },
  {
   "cell_type": "code",
   "execution_count": null,
   "id": "cce870c1-0187-41f6-8fce-09a683759345",
   "metadata": {},
   "outputs": [],
   "source": []
  }
 ],
 "metadata": {
  "kernelspec": {
   "display_name": "Python 3 (ipykernel)",
   "language": "python",
   "name": "python3"
  },
  "language_info": {
   "codemirror_mode": {
    "name": "ipython",
    "version": 3
   },
   "file_extension": ".py",
   "mimetype": "text/x-python",
   "name": "python",
   "nbconvert_exporter": "python",
   "pygments_lexer": "ipython3",
   "version": "3.10.8"
  }
 },
 "nbformat": 4,
 "nbformat_minor": 5
}
