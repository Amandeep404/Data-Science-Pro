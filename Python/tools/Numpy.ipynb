{
 "cells": [
  {
   "cell_type": "markdown",
   "id": "ae5d55ce-a66d-4b62-a267-debc4dcbb8f8",
   "metadata": {},
   "source": [
    "#### 1. What is a Python library? Why do we use Python libraries?\n",
    "\n",
    "A Python library is a collection of pre-written code modules that extend Python's functionality, promoting code reusability and efficiency. They cover various domains, providing ready-made solutions for tasks like data analysis, machine learning, web development, and more."
   ]
  },
  {
   "cell_type": "markdown",
   "id": "4eff07b3-4132-471f-9dbc-8044575f3081",
   "metadata": {},
   "source": [
    "#### 2. What is the difference between Numpy array and List?\n",
    "\n",
    "* Array:\n",
    "    - Array is faster as it stores only homogenous data\n",
    "    - Each NumPy array has a fixed data type, and the memory allocation is done accordingly. \n",
    "    \n",
    "* Lists:\n",
    "    - Python lists can store elements of different data types, making them heterogeneous. This flexibility comes at a cost in terms of memory efficiency \n",
    "    - Lists in Python support dynamic typing, meaning you can change the data type of elements dynamically."
   ]
  },
  {
   "cell_type": "markdown",
   "id": "2f6004e8-8a25-45b1-8d84-309dc3dbc9ab",
   "metadata": {},
   "source": [
    "3. Find the shape, size and dimension of the following array?\n",
    "\n",
    "```\n",
    "[[1, 2, 3, 4]\n",
    "[5, 6, 7, 8],\n",
    "[9, 10, 11, 12]]\n",
    "```"
   ]
  },
  {
   "cell_type": "code",
   "execution_count": 10,
   "id": "4bf3d899-6954-4df1-bebb-68411604b984",
   "metadata": {},
   "outputs": [
    {
     "name": "stdout",
     "output_type": "stream",
     "text": [
      "Array shape: (3, 4)\n",
      "Array size: 12\n",
      "Array dimension: 2\n"
     ]
    }
   ],
   "source": [
    "import numpy as np\n",
    "\n",
    "arr = np.array([[1, 2, 3, 4],[5, 6, 7, 8],[9, 10, 11, 12]])\n",
    "print(f'Array shape: {arr.shape}')\n",
    "print(f'Array size: {arr.size}')\n",
    "print(f'Array dimension: {arr.ndim}')"
   ]
  },
  {
   "cell_type": "markdown",
   "id": "1c78e4db-b3e8-4e5e-ae73-dd33d8a63e05",
   "metadata": {},
   "source": [
    "4. Write python code to access the first row of the following array?\n",
    "```\n",
    "[[1, 2, 3, 4]\n",
    "[5, 6, 7, 8],\n",
    "[9, 10, 11, 12]]\n",
    "\n",
    "```"
   ]
  },
  {
   "cell_type": "code",
   "execution_count": 13,
   "id": "b0f69971-4cb7-426b-82e5-a2e05f599a04",
   "metadata": {},
   "outputs": [
    {
     "data": {
      "text/plain": [
       "array([1, 2, 3, 4])"
      ]
     },
     "execution_count": 13,
     "metadata": {},
     "output_type": "execute_result"
    }
   ],
   "source": [
    "arr = np.array([[1, 2, 3, 4],[5, 6, 7, 8],[9, 10, 11, 12]])\n",
    "arr[0]"
   ]
  },
  {
   "cell_type": "markdown",
   "id": "2b642be3-dfcd-4373-b269-25bcb0c4994d",
   "metadata": {},
   "source": [
    "5. How do you access the element at the third row and fourth column from the given numpy array?\n",
    "```\n",
    "[[1, 2, 3, 4]\n",
    "[5, 6, 7, 8],\n",
    "[9, 10, 11, 12]]\n",
    "\n",
    "```"
   ]
  },
  {
   "cell_type": "code",
   "execution_count": 14,
   "id": "1c0b1ad1-75b2-4074-90ed-1db31575e487",
   "metadata": {},
   "outputs": [
    {
     "data": {
      "text/plain": [
       "12"
      ]
     },
     "execution_count": 14,
     "metadata": {},
     "output_type": "execute_result"
    }
   ],
   "source": [
    "arr = np.array([[1, 2, 3, 4],[5, 6, 7, 8],[9, 10, 11, 12]])\n",
    "arr[2][3]"
   ]
  },
  {
   "cell_type": "markdown",
   "id": "33c8eda2-d2da-4a19-a521-8760a22e367d",
   "metadata": {},
   "source": [
    "6. Write code to extract all odd-indexed elements from the given numpy array?\n",
    "```\n",
    "[[1, 2, 3, 4]\n",
    "[5, 6, 7, 8],\n",
    "[9, 10, 11, 12]]\n",
    "\n",
    "```"
   ]
  },
  {
   "cell_type": "code",
   "execution_count": 16,
   "id": "4405842a-7aa8-4e4a-85a7-c87feeab279e",
   "metadata": {},
   "outputs": [
    {
     "data": {
      "text/plain": [
       "array([ 2,  4,  6,  8, 10, 12])"
      ]
     },
     "execution_count": 16,
     "metadata": {},
     "output_type": "execute_result"
    }
   ],
   "source": [
    "odd_indexed_elements = arr[:, 1::2].flatten()\n",
    "odd_indexed_elements"
   ]
  },
  {
   "cell_type": "code",
   "execution_count": 24,
   "id": "59710996-69f7-4f09-9707-016323d07dad",
   "metadata": {},
   "outputs": [
    {
     "data": {
      "text/plain": [
       "array([[0.44499733, 0.67050978, 0.26957374],\n",
       "       [0.78689607, 0.45397292, 0.36550455],\n",
       "       [0.40293291, 0.74176656, 0.96688678]])"
      ]
     },
     "execution_count": 24,
     "metadata": {},
     "output_type": "execute_result"
    }
   ],
   "source": [
    "# 7. How can you generate a ran^om 3x3 matrix with values between 0 an^ 1?\n",
    "\n",
    "np.random.rand(3,3)"
   ]
  },
  {
   "cell_type": "markdown",
   "id": "bca20454-d524-4778-8021-56a38f3c0e6d",
   "metadata": {},
   "source": [
    "#### 8\n",
    "1. np.random.rand:\n",
    "\n",
    "Generates random numbers from a uniform distribution over the interval [0, 1).\n",
    "\n",
    "2. np.random.randn:\n",
    "\n",
    "Generates random numbers from a standard normal distribution (mean=0, standard deviation=1)."
   ]
  },
  {
   "cell_type": "code",
   "execution_count": 28,
   "id": "a46d8fb2-5704-458b-a460-01b966a6690c",
   "metadata": {},
   "outputs": [
    {
     "name": "stdout",
     "output_type": "stream",
     "text": [
      "[[ 1  2  3  4]\n",
      " [ 5  6  7  8]\n",
      " [ 9 10 11 12]]\n",
      "[[[ 1  2  3  4]\n",
      "  [ 5  6  7  8]\n",
      "  [ 9 10 11 12]]]\n"
     ]
    }
   ],
   "source": [
    "# 9. Write code to increase the dimension of the following array?\n",
    "\n",
    "arr = np.array([[1, 2, 3, 4],[5, 6, 7, 8],[9, 10, 11, 12]])\n",
    "print(arr)\n",
    "new_arr = np.expand_dims(arr,axis=0)\n",
    "print(new_arr)"
   ]
  },
  {
   "cell_type": "code",
   "execution_count": 31,
   "id": "fd6ac808-5fc8-4038-a714-9a04a70ac9e6",
   "metadata": {},
   "outputs": [
    {
     "name": "stdout",
     "output_type": "stream",
     "text": [
      "[[ 1  2  3  4]\n",
      " [ 5  6  7  8]\n",
      " [ 9 10 11 12]]\n",
      "[[ 1  5  9]\n",
      " [ 2  6 10]\n",
      " [ 3  7 11]\n",
      " [ 4  8 12]]\n"
     ]
    }
   ],
   "source": [
    "# 10. How to transpose the following array in NumPy?\n",
    "\n",
    "arr_T = np.transpose(arr)\n",
    "print(arr)\n",
    "print(arr_T)"
   ]
  },
  {
   "cell_type": "code",
   "execution_count": 34,
   "id": "a14d4608-46f4-444d-bf87-1ded58eb8e8e",
   "metadata": {},
   "outputs": [
    {
     "name": "stdout",
     "output_type": "stream",
     "text": [
      "Matrix A:\n",
      "[[ 1  2  3  4]\n",
      " [ 5  6  7  8]\n",
      " [ 9 10 11 12]]\n",
      "\n",
      "Matrix B:\n",
      "[[ 1  2  3  4]\n",
      " [ 5  6  7  8]\n",
      " [ 9 10 11 12]]\n",
      "\n",
      "Index-wise Multiplication (A * B):\n",
      "[[  1   4   9  16]\n",
      " [ 25  36  49  64]\n",
      " [ 81 100 121 144]]\n",
      "\n",
      "Matrix Addition (A + B):\n",
      "[[ 2  4  6  8]\n",
      " [10 12 14 16]\n",
      " [18 20 22 24]]\n",
      "\n",
      "Matrix Multiplication (A * B):\n",
      "[[ 30  70 110]\n",
      " [ 70 174 278]\n",
      " [110 278 446]]\n",
      "\n",
      "Matrix Subtraction (A - B):\n",
      "[[0 0 0 0]\n",
      " [0 0 0 0]\n",
      " [0 0 0 0]]\n",
      "\n",
      "Matrix Division (B / A):\n",
      "[[1. 1. 1. 1.]\n",
      " [1. 1. 1. 1.]\n",
      " [1. 1. 1. 1.]]\n"
     ]
    }
   ],
   "source": [
    "# 11\n",
    "\n",
    "# Given Matrices A and B\n",
    "matrix_A = np.array([[1, 2, 3, 4], [5, 6, 7, 8], [9, 10, 11, 12]])\n",
    "matrix_B = np.array([[1, 2, 3, 4], [5, 6, 7, 8], [9, 10, 11, 12]])\n",
    "\n",
    "index_wise_multiplication_result = matrix_A * matrix_B\n",
    "\n",
    "# Matrix addition\n",
    "addition_result = matrix_A + matrix_B\n",
    "\n",
    "# Matrix multiplication (dot product)\n",
    "multiplication_result = matrix_A @ matrix_B.T  # Transpose of matrix_B to perform matrix multiplication\n",
    "\n",
    "# Matrix subtraction\n",
    "subtraction_result = matrix_A - matrix_B\n",
    "\n",
    "# Matrix division\n",
    "division_result = np.divide(matrix_B, matrix_A)\n",
    "\n",
    "# Displaying the results\n",
    "print(\"Matrix A:\")\n",
    "print(matrix_A)\n",
    "print(\"\\nMatrix B:\")\n",
    "print(matrix_B)\n",
    "print(\"\\nIndex-wise Multiplication (A * B):\")\n",
    "print(index_wise_multiplication_result)\n",
    "print(\"\\nMatrix Addition (A + B):\")\n",
    "print(addition_result)\n",
    "print(\"\\nMatrix Multiplication (A * B):\")\n",
    "print(multiplication_result)\n",
    "print(\"\\nMatrix Subtraction (A - B):\")\n",
    "print(subtraction_result)\n",
    "print(\"\\nMatrix Division (B / A):\")\n",
    "print(division_result)\n"
   ]
  },
  {
   "cell_type": "code",
   "execution_count": 39,
   "id": "60936a08-ded4-407f-8e6f-f06d2ffc482c",
   "metadata": {},
   "outputs": [
    {
     "name": "stdout",
     "output_type": "stream",
     "text": [
      "Original Array: [  1 256]\n",
      "Swapped Array: [256   1]\n"
     ]
    }
   ],
   "source": [
    "# 12\n",
    "arr1 = np.array([1, 256], dtype=np.int16)\n",
    "swapped_arr = arr1.byteswap()\n",
    "\n",
    "print(\"Original Array:\", arr1)\n",
    "print(\"Swapped Array:\", swapped_arr)"
   ]
  },
  {
   "cell_type": "markdown",
   "id": "c4222122-07df-42ce-8a70-11ee2cd326ee",
   "metadata": {},
   "source": [
    "#### 13. What is the significance of the np.linalg.inv function?\n",
    "\n",
    "The np.linalg.inv function in NumPy is used to compute the inverse of a matrix. This is significant in various mathematical and scientific applications, such as solving systems of linear equations"
   ]
  },
  {
   "cell_type": "code",
   "execution_count": 41,
   "id": "84daa045-f86a-4e90-ac56-960f6313d71e",
   "metadata": {},
   "outputs": [
    {
     "name": "stdout",
     "output_type": "stream",
     "text": [
      "Original Matrix A:\n",
      "[[4 7]\n",
      " [2 6]]\n",
      "\n",
      "Inverse of Matrix A:\n",
      "[[ 0.6 -0.7]\n",
      " [-0.2  0.4]]\n"
     ]
    }
   ],
   "source": [
    "# Define a 2x2 matrix\n",
    "matrix_A = np.array([[4, 7], [2, 6]])\n",
    "\n",
    "# Compute the inverse of the matrix\n",
    "inverse_A = np.linalg.inv(matrix_A)\n",
    "\n",
    "\n",
    "print(\"Original Matrix A:\")\n",
    "print(matrix_A)\n",
    "print(\"\\nInverse of Matrix A:\")\n",
    "print(inverse_A)\n",
    "\n"
   ]
  },
  {
   "cell_type": "markdown",
   "id": "0c521b76-a7de-4a6c-9ad6-b5ba5e2d2609",
   "metadata": {},
   "source": [
    "#### 14. What does the np.reshape function do, and how is it used?\n",
    "\n",
    "The np.reshape function in NumPy is used to change the shape of an array without changing its data. It returns a new array with the specified shape. "
   ]
  },
  {
   "cell_type": "code",
   "execution_count": 42,
   "id": "6b4aedb9-ec25-4fc6-90fd-ccc23c25a6a8",
   "metadata": {},
   "outputs": [
    {
     "name": "stdout",
     "output_type": "stream",
     "text": [
      "Original Array: [1 2 3 4 5 6]\n",
      "Reshaped Array:\n",
      "[[1 2 3]\n",
      " [4 5 6]]\n"
     ]
    }
   ],
   "source": [
    "arr = np.array([1, 2, 3, 4, 5, 6])\n",
    "reshaped_arr = np.reshape(arr, (2, 3))\n",
    "\n",
    "print(\"Original Array:\", arr)\n",
    "print(\"Reshaped Array:\")\n",
    "print(reshaped_arr)\n"
   ]
  },
  {
   "cell_type": "markdown",
   "id": "1ad9f385-5676-4601-9b67-750520187e1e",
   "metadata": {},
   "source": [
    "#### 15. What is broadcasting in NumPy?\n",
    "\n",
    "Broadcasting is a powerful feature in NumPy that allows arrays of different shapes to be combined, making it possible to perform operations on them. In broadcasting, smaller arrays are \"broadcast\" to the shape of larger arrays during arithmetic operations, without the need for explicit replication of the smaller array."
   ]
  },
  {
   "cell_type": "code",
   "execution_count": 43,
   "id": "1e41e084-9e61-435f-a921-aa5249764f82",
   "metadata": {},
   "outputs": [
    {
     "name": "stdout",
     "output_type": "stream",
     "text": [
      "Result: [2 4 6]\n"
     ]
    }
   ],
   "source": [
    "a = np.array([1, 2, 3])\n",
    "b = 2\n",
    "\n",
    "result = a * b  # Broadcasting: b is broadcasted to [2, 2, 2] before multiplication\n",
    "\n",
    "print(\"Result:\", result)\n"
   ]
  },
  {
   "cell_type": "code",
   "execution_count": null,
   "id": "8970692a-4809-4984-aca0-8d908aad1b51",
   "metadata": {},
   "outputs": [],
   "source": []
  }
 ],
 "metadata": {
  "kernelspec": {
   "display_name": "Python 3 (ipykernel)",
   "language": "python",
   "name": "python3"
  },
  "language_info": {
   "codemirror_mode": {
    "name": "ipython",
    "version": 3
   },
   "file_extension": ".py",
   "mimetype": "text/x-python",
   "name": "python",
   "nbconvert_exporter": "python",
   "pygments_lexer": "ipython3",
   "version": "3.10.8"
  }
 },
 "nbformat": 4,
 "nbformat_minor": 5
}
